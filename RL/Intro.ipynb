{
 "cells": [
  {
   "cell_type": "code",
   "execution_count": 15,
   "id": "5809ed06",
   "metadata": {},
   "outputs": [],
   "source": [
    "import gymnasium as gym\n",
    "import pygame\n",
    "import matplotlib.pyplot as plt\n",
    "import matplotlib.animation as animation\n",
    "from IPython.display import HTML\n",
    "from gymnasium.wrappers import RecordVideo\n",
    "import imageio"
   ]
  },
  {
   "cell_type": "code",
   "execution_count": 16,
   "id": "7b97ecf8",
   "metadata": {},
   "outputs": [],
   "source": [
    "env = gym.make(\"CartPole-v1\", render_mode=\"rgb_array\")"
   ]
  },
  {
   "cell_type": "code",
   "execution_count": 27,
   "id": "882bd224",
   "metadata": {},
   "outputs": [
    {
     "data": {
      "text/plain": [
       "Box([-4.8               -inf -0.41887903        -inf], [4.8               inf 0.41887903        inf], (4,), float32)"
      ]
     },
     "execution_count": 27,
     "metadata": {},
     "output_type": "execute_result"
    }
   ],
   "source": [
    "env.observation_space"
   ]
  },
  {
   "cell_type": "code",
   "execution_count": 26,
   "id": "9fda10f0",
   "metadata": {},
   "outputs": [
    {
     "name": "stdout",
     "output_type": "stream",
     "text": [
      "Observation Space: Box([-4.8               -inf -0.41887903        -inf], [4.8               inf 0.41887903        inf], (4,), float32)\n",
      "Shape: (4,)\n",
      "Sample Observation: [ 3.227361  -0.7684407 -0.1528828  0.7884545]\n"
     ]
    }
   ],
   "source": [
    "print(f\"Observation Space: {env.observation_space}\")\n",
    "print(f\"Shape: {env.observation_space.shape}\")\n",
    "print(f\"Sample Observation: {env.observation_space.sample()}\")"
   ]
  },
  {
   "cell_type": "code",
   "execution_count": 28,
   "id": "e5839126",
   "metadata": {},
   "outputs": [
    {
     "name": "stdout",
     "output_type": "stream",
     "text": [
      "Action space: Discrete(2)\n",
      "Sample action: 0\n"
     ]
    }
   ],
   "source": [
    "print(f\"Action space: {env.action_space}\")  # Discrete(2) - left or right\n",
    "print(f\"Sample action: {env.action_space.sample()}\")  # 0 or 1"
   ]
  },
  {
   "cell_type": "code",
   "execution_count": 17,
   "id": "2ab92f03",
   "metadata": {},
   "outputs": [
    {
     "data": {
      "text/plain": [
       "<TimeLimit<OrderEnforcing<PassiveEnvChecker<CartPoleEnv<CartPole-v1>>>>>"
      ]
     },
     "execution_count": 17,
     "metadata": {},
     "output_type": "execute_result"
    }
   ],
   "source": [
    "env"
   ]
  },
  {
   "cell_type": "code",
   "execution_count": 19,
   "id": "29426733",
   "metadata": {},
   "outputs": [],
   "source": [
    "observation,info=env.reset()"
   ]
  },
  {
   "cell_type": "code",
   "execution_count": 20,
   "id": "cfd39024",
   "metadata": {},
   "outputs": [],
   "source": [
    "frames=[]"
   ]
  },
  {
   "cell_type": "code",
   "execution_count": 21,
   "id": "b0043aeb",
   "metadata": {},
   "outputs": [
    {
     "data": {
      "application/vnd.microsoft.datawrangler.viewer.v0+json": {
       "columns": [
        {
         "name": "index",
         "rawType": "int64",
         "type": "integer"
        },
        {
         "name": "0",
         "rawType": "float32",
         "type": "float"
        }
       ],
       "ref": "1db6d418-7454-43a1-a5b5-60459e57806f",
       "rows": [
        [
         "0",
         "0.022542564"
        ],
        [
         "1",
         "-0.030785542"
        ],
        [
         "2",
         "0.012457337"
        ],
        [
         "3",
         "0.040284853"
        ]
       ],
       "shape": {
        "columns": 1,
        "rows": 4
       }
      },
      "text/plain": [
       "array([ 0.02254256, -0.03078554,  0.01245734,  0.04028485], dtype=float32)"
      ]
     },
     "execution_count": 21,
     "metadata": {},
     "output_type": "execute_result"
    }
   ],
   "source": [
    "observation"
   ]
  },
  {
   "cell_type": "code",
   "execution_count": 22,
   "id": "78f39c12",
   "metadata": {},
   "outputs": [
    {
     "data": {
      "text/plain": [
       "{}"
      ]
     },
     "execution_count": 22,
     "metadata": {},
     "output_type": "execute_result"
    }
   ],
   "source": [
    "info"
   ]
  },
  {
   "cell_type": "code",
   "execution_count": 23,
   "id": "c98b5e1d",
   "metadata": {},
   "outputs": [
    {
     "name": "stdout",
     "output_type": "stream",
     "text": [
      "[ 0.02254256 -0.03078554  0.01245734  0.04028485]\n"
     ]
    }
   ],
   "source": [
    "print(observation)\n",
    "#cart position, cart velocity, pole angle, pole angular velocity"
   ]
  },
  {
   "cell_type": "code",
   "execution_count": 24,
   "id": "08f45ffb",
   "metadata": {},
   "outputs": [],
   "source": [
    "all_frames = []"
   ]
  },
  {
   "cell_type": "code",
   "execution_count": null,
   "id": "09cb73da",
   "metadata": {},
   "outputs": [
    {
     "name": "stdout",
     "output_type": "stream",
     "text": [
      "Episode finished! Total reward: 23.0\n",
      "Episode finished! Total reward: 14.0\n",
      "Episode finished! Total reward: 15.0\n",
      "Episode finished! Total reward: 14.0\n",
      "Episode finished! Total reward: 13.0\n",
      "Episode finished! Total reward: 12.0\n",
      "Episode finished! Total reward: 27.0\n",
      "Episode finished! Total reward: 20.0\n",
      "Episode finished! Total reward: 16.0\n",
      "Episode finished! Total reward: 35.0\n",
      "Episode finished! Total reward: 12.0\n",
      "Episode finished! Total reward: 17.0\n",
      "Episode finished! Total reward: 33.0\n",
      "Episode finished! Total reward: 19.0\n",
      "Episode finished! Total reward: 10.0\n",
      "Episode finished! Total reward: 14.0\n",
      "Episode finished! Total reward: 9.0\n",
      "Episode finished! Total reward: 20.0\n",
      "Episode finished! Total reward: 26.0\n",
      "Episode finished! Total reward: 14.0\n",
      "Episode finished! Total reward: 30.0\n",
      "Episode finished! Total reward: 44.0\n",
      "Episode finished! Total reward: 18.0\n",
      "Episode finished! Total reward: 19.0\n",
      "Episode finished! Total reward: 19.0\n",
      "Episode finished! Total reward: 22.0\n",
      "Episode finished! Total reward: 35.0\n",
      "Episode finished! Total reward: 16.0\n",
      "Episode finished! Total reward: 11.0\n",
      "Episode finished! Total reward: 17.0\n",
      "Episode finished! Total reward: 27.0\n",
      "Episode finished! Total reward: 39.0\n",
      "Episode finished! Total reward: 13.0\n",
      "Episode finished! Total reward: 14.0\n",
      "Episode finished! Total reward: 16.0\n",
      "Episode finished! Total reward: 29.0\n",
      "Episode finished! Total reward: 18.0\n",
      "Episode finished! Total reward: 22.0\n",
      "Episode finished! Total reward: 14.0\n",
      "Episode finished! Total reward: 14.0\n",
      "Episode finished! Total reward: 14.0\n",
      "Episode finished! Total reward: 30.0\n",
      "Episode finished! Total reward: 29.0\n",
      "Episode finished! Total reward: 16.0\n",
      "Episode finished! Total reward: 20.0\n",
      "Episode finished! Total reward: 10.0\n",
      "Episode finished! Total reward: 27.0\n",
      "Episode finished! Total reward: 14.0\n",
      "Episode finished! Total reward: 12.0\n",
      "Episode finished! Total reward: 45.0\n"
     ]
    },
    {
     "name": "stderr",
     "output_type": "stream",
     "text": [
      "IMAGEIO FFMPEG_WRITER WARNING: input image is not divisible by macro_block_size=16, resizing from (600, 400) to (608, 400) to ensure video compatibility with most codecs and players. To prevent resizing, make your input image divisible by the macro_block_size or set the macro_block_size to 1 (risking incompatibility).\n"
     ]
    },
    {
     "name": "stdout",
     "output_type": "stream",
     "text": [
      "\n",
      "Saving video of all episodes...\n",
      "Video 'all_episodes.mp4' saved successfully!\n"
     ]
    }
   ],
   "source": [
    "for _ in range(50):\n",
    "    observation,info=env.reset()#resets the environment and gets the first obsv and info\n",
    "    episode_over=False\n",
    "    total_reward=0\n",
    "    while not episode_over:\n",
    "        # Choose an action: 0 = push cart left, 1 = push cart right\n",
    "        action = env.action_space.sample()  # Random action for now - real agents will be smarter!\n",
    "\n",
    "        # Take the action and see what happens\n",
    "        observation, reward, terminated, truncated, info = env.step(action)\n",
    "\n",
    "        # reward: +1 for each step the pole stays upright\n",
    "        # terminated: True if pole falls too far (agent failed)\n",
    "        # truncated: True if we hit the time limit (500 steps)\n",
    "        \n",
    "        frame=env.render()\n",
    "        frames.append(frame)\n",
    "        total_reward += reward\n",
    "        all_frames.append(env.render())\n",
    "        episode_over = terminated or truncated\n",
    "\n",
    "    print(f\"Episode finished! Total reward: {total_reward}\")\n",
    "env.close()\n",
    "print(\"\\nSaving video of all episodes...\")\n",
    "imageio.mimsave('all_episodes.mp4', all_frames, fps=30)\n",
    "print(\"Video 'all_episodes.mp4' saved successfully!\")"
   ]
  },
  {
   "cell_type": "code",
   "execution_count": null,
   "id": "1d35a074",
   "metadata": {},
   "outputs": [],
   "source": []
  },
  {
   "cell_type": "code",
   "execution_count": null,
   "id": "002ed293",
   "metadata": {},
   "outputs": [],
   "source": []
  }
 ],
 "metadata": {
  "kernelspec": {
   "display_name": "jupytorch",
   "language": "python",
   "name": "python3"
  },
  "language_info": {
   "codemirror_mode": {
    "name": "ipython",
    "version": 3
   },
   "file_extension": ".py",
   "mimetype": "text/x-python",
   "name": "python",
   "nbconvert_exporter": "python",
   "pygments_lexer": "ipython3",
   "version": "3.11.13"
  }
 },
 "nbformat": 4,
 "nbformat_minor": 5
}
