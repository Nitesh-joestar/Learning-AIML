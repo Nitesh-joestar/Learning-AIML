{
 "cells": [
  {
   "cell_type": "code",
   "execution_count": 9,
   "id": "5f59e71d",
   "metadata": {},
   "outputs": [],
   "source": [
    "import numpy as np\n",
    "import random"
   ]
  },
  {
   "cell_type": "code",
   "execution_count": 2,
   "id": "69c1499a",
   "metadata": {},
   "outputs": [],
   "source": [
    "class Network(object): \n",
    "    def __init__(self, sizes): \n",
    "        self.num_layers = len(sizes) \n",
    "        self.sizes = sizes \n",
    "        self.biases = [np.random.randn(y, 1) for y in sizes[1:]] \n",
    "        self.weights = [np.random.randn(y, x) for x, y in zip(sizes[:-1], sizes[1:])]"
   ]
  },
  {
   "cell_type": "code",
   "execution_count": 3,
   "id": "2b017e06",
   "metadata": {},
   "outputs": [],
   "source": [
    "net=Network([2,3,4])"
   ]
  },
  {
   "cell_type": "code",
   "execution_count": 5,
   "id": "a821ce6b",
   "metadata": {},
   "outputs": [
    {
     "data": {
      "text/plain": [
       "(array([[ 1.04394592],\n",
       "        [-0.12173356],\n",
       "        [ 0.03161153]]),\n",
       " array([[-1.23324519,  1.98440712],\n",
       "        [-1.67773776, -0.91265633],\n",
       "        [-0.05706997, -0.55824717]]))"
      ]
     },
     "execution_count": 5,
     "metadata": {},
     "output_type": "execute_result"
    }
   ],
   "source": [
    "#weights and biases between the first layer and second layer\n",
    "net.biases[0],net.weights[0]"
   ]
  },
  {
   "cell_type": "code",
   "execution_count": 6,
   "id": "972c2420",
   "metadata": {},
   "outputs": [
    {
     "data": {
      "text/plain": [
       "(array([[ 0.01539314],\n",
       "        [-0.1911856 ],\n",
       "        [ 1.05093934],\n",
       "        [ 0.20771322]]),\n",
       " array([[ 0.46469115, -0.55479091,  0.89856444],\n",
       "        [-0.15739892,  0.42872988,  0.13807433],\n",
       "        [-0.26352866, -2.14988164, -0.53246011],\n",
       "        [ 0.67310892,  1.27448871, -0.68321394]]))"
      ]
     },
     "execution_count": 6,
     "metadata": {},
     "output_type": "execute_result"
    }
   ],
   "source": [
    "#weights and biases between the second and third layer\n",
    "net.biases[1],net.weights[1]"
   ]
  },
  {
   "cell_type": "code",
   "execution_count": 7,
   "id": "8c439163",
   "metadata": {},
   "outputs": [
    {
     "ename": "IndexError",
     "evalue": "list index out of range",
     "output_type": "error",
     "traceback": [
      "\u001b[31m---------------------------------------------------------------------------\u001b[39m",
      "\u001b[31mIndexError\u001b[39m                                Traceback (most recent call last)",
      "\u001b[36mCell\u001b[39m\u001b[36m \u001b[39m\u001b[32mIn[7]\u001b[39m\u001b[32m, line 1\u001b[39m\n\u001b[32m----> \u001b[39m\u001b[32m1\u001b[39m net.weights[\u001b[32m2\u001b[39m]\n",
      "\u001b[31mIndexError\u001b[39m: list index out of range"
     ]
    }
   ],
   "source": [
    "net.weights[2]"
   ]
  },
  {
   "cell_type": "code",
   "execution_count": null,
   "id": "d09047d6",
   "metadata": {},
   "outputs": [],
   "source": [
    "def sigmoid(z):\n",
    "    return 1/(1.0+np.exp(z))"
   ]
  },
  {
   "cell_type": "code",
   "execution_count": null,
   "id": "14b03450",
   "metadata": {},
   "outputs": [],
   "source": [
    "def feedforward(self,a):\n",
    "    for b,w in zip(self.biases,self.weights):\n",
    "        a=sigmoid(np.dot(a,w)+b)\n",
    "    return a"
   ]
  },
  {
   "cell_type": "code",
   "execution_count": 10,
   "id": "e1469f61",
   "metadata": {},
   "outputs": [],
   "source": [
    "def SGD(self,training_data,epochs,mini_batch_size,eta,test_data=None):\n",
    "    if test_data:\n",
    "        n_test=len(test_data)\n",
    "    n=len(training_data)\n",
    "    for j in range(epochs):\n",
    "        random.shuffle(training_data)\n",
    "        mini_batches=[\n",
    "            training_data[k:k+mini_batch_size]\n",
    "            for k in range(0,n,mini_batch_size)\n",
    "        ]\n",
    "        for mini_batch in mini_batches:\n",
    "            self.update_mini_batch(mini_batch,eta)\n",
    "        if test_data:\n",
    "            print(\"Epoch {0}:{1}/{2}\".format(j,self.evaluate(test_data),n_test))\n",
    "        else:\n",
    "            print(\"Epoch {0} is complete\".format(j))"
   ]
  },
  {
   "cell_type": "code",
   "execution_count": null,
   "id": "c71a0e61",
   "metadata": {},
   "outputs": [],
   "source": [
    "def update_mini_batch(self,mini_batch,eta):\n",
    "    nabla_b=[np.zeros(b.shape) for b in self.biases]\n",
    "    nabla_w=[np.zeros(w.shape) for w in self.weights]"
   ]
  },
  {
   "cell_type": "code",
   "execution_count": null,
   "id": "cd74f840",
   "metadata": {},
   "outputs": [],
   "source": [
    "\n"
   ]
  }
 ],
 "metadata": {
  "kernelspec": {
   "display_name": "jupytorch",
   "language": "python",
   "name": "python3"
  },
  "language_info": {
   "codemirror_mode": {
    "name": "ipython",
    "version": 3
   },
   "file_extension": ".py",
   "mimetype": "text/x-python",
   "name": "python",
   "nbconvert_exporter": "python",
   "pygments_lexer": "ipython3",
   "version": "3.11.13"
  }
 },
 "nbformat": 4,
 "nbformat_minor": 5
}
