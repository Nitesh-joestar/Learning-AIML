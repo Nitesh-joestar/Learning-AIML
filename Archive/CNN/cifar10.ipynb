{
 "cells": [
  {
   "cell_type": "code",
   "execution_count": 150,
   "id": "2889ca15",
   "metadata": {},
   "outputs": [],
   "source": [
    "import torch\n",
    "from torch.utils.data import DataLoader\n",
    "from torchvision import datasets, transforms\n",
    "import torch.nn as nn\n",
    "import torch.optim as optim\n"
   ]
  },
  {
   "cell_type": "code",
   "execution_count": 151,
   "id": "7b44d606",
   "metadata": {},
   "outputs": [],
   "source": [
    "train_transform=transforms.Compose([\n",
    "    transforms.RandomCrop(30),\n",
    "    transforms.ColorJitter(0.2,0.2),\n",
    "    transforms.RandomRotation(10),\n",
    "    transforms.RandomHorizontalFlip(),\n",
    "    transforms.RandomVerticalFlip(),\n",
    "    transforms.ToTensor(),\n",
    "    transforms.Normalize(mean=[0.485,0.456,0.406],std=[0.229,0.224,0.225])\n",
    "])"
   ]
  },
  {
   "cell_type": "code",
   "execution_count": 152,
   "id": "2131e4a1",
   "metadata": {},
   "outputs": [],
   "source": [
    "test_transform=transforms.Compose([\n",
    "    transforms.Resize((30,30)),\n",
    "    transforms.ToTensor(),\n",
    "    transforms.Normalize(mean=[0.485,0.456,0.406],std=[0.229,0.224,0.225])\n",
    "])"
   ]
  },
  {
   "cell_type": "code",
   "execution_count": 153,
   "id": "73e61f2e",
   "metadata": {},
   "outputs": [],
   "source": [
    "t_dataset=datasets.CIFAR10(root='./data',train=True,transform=train_transform,download=True)\n",
    "te_dataset=datasets.CIFAR10(root='./data',train=False,transform=test_transform,download=True)"
   ]
  },
  {
   "cell_type": "code",
   "execution_count": 154,
   "id": "fceb3280",
   "metadata": {},
   "outputs": [],
   "source": [
    "train_loader=DataLoader(t_dataset,128,True)\n",
    "test_loader=DataLoader(te_dataset,128,True)"
   ]
  },
  {
   "cell_type": "code",
   "execution_count": 155,
   "id": "4a91a304",
   "metadata": {},
   "outputs": [
    {
     "name": "stdout",
     "output_type": "stream",
     "text": [
      "391\n"
     ]
    }
   ],
   "source": [
    "print(len(train_loader))"
   ]
  },
  {
   "cell_type": "code",
   "execution_count": 156,
   "id": "951032e7",
   "metadata": {},
   "outputs": [],
   "source": [
    "device=\"cuda\" if torch.cuda.is_available() else \"cpu\""
   ]
  },
  {
   "cell_type": "code",
   "execution_count": 157,
   "id": "7b89b1d3",
   "metadata": {},
   "outputs": [
    {
     "data": {
      "text/plain": [
       "'cuda'"
      ]
     },
     "execution_count": 157,
     "metadata": {},
     "output_type": "execute_result"
    }
   ],
   "source": [
    "device"
   ]
  },
  {
   "cell_type": "code",
   "execution_count": 158,
   "id": "48efddaa",
   "metadata": {},
   "outputs": [],
   "source": [
    "images,labels=next(iter(train_loader))"
   ]
  },
  {
   "cell_type": "code",
   "execution_count": 159,
   "id": "aa69d13e",
   "metadata": {},
   "outputs": [
    {
     "data": {
      "text/plain": [
       "torch.Size([128, 3, 30, 30])"
      ]
     },
     "execution_count": 159,
     "metadata": {},
     "output_type": "execute_result"
    }
   ],
   "source": [
    "images.shape"
   ]
  },
  {
   "cell_type": "code",
   "execution_count": 160,
   "id": "5dd12170",
   "metadata": {},
   "outputs": [],
   "source": [
    "model = nn.Sequential(\n",
    "    nn.Conv2d(3,32,3,padding=1),\n",
    "    nn.ReLU(),\n",
    "    nn.Conv2d(32,32,3,padding=1),\n",
    "    nn.ReLU(),\n",
    "    nn.MaxPool2d(2,2),       # 30 -> 15\n",
    "\n",
    "    nn.Conv2d(32,64,3,padding=1),\n",
    "    nn.ReLU(),\n",
    "    nn.Conv2d(64,64,3,padding=1),\n",
    "    nn.ReLU(),\n",
    "    nn.MaxPool2d(2,2),       # 15 -> 7\n",
    "\n",
    "    nn.Conv2d(64,128,3,padding=1),\n",
    "    nn.ReLU(),\n",
    "    nn.Conv2d(128,128,3,padding=1),\n",
    "    nn.ReLU(),\n",
    "    nn.MaxPool2d(2,2),       # 7 -> 3\n",
    "\n",
    "    nn.Flatten(),\n",
    "    nn.Linear(128*3*3, 256), # 128*3*3 = 1152 ✅\n",
    "    nn.ReLU(),\n",
    "    nn.Linear(256,10)\n",
    ")\n"
   ]
  },
  {
   "cell_type": "code",
   "execution_count": 161,
   "id": "b184516b",
   "metadata": {},
   "outputs": [],
   "source": [
    "output=model(images)"
   ]
  },
  {
   "cell_type": "code",
   "execution_count": 162,
   "id": "33ec543b",
   "metadata": {},
   "outputs": [],
   "source": [
    "model=model.to(device)\n"
   ]
  },
  {
   "cell_type": "code",
   "execution_count": 163,
   "id": "ce14e642",
   "metadata": {},
   "outputs": [],
   "source": [
    "criterion=nn.CrossEntropyLoss()\n",
    "optimizer=optim.Adam(model.parameters(),lr=0.001)"
   ]
  },
  {
   "cell_type": "code",
   "execution_count": null,
   "id": "c3f874e2",
   "metadata": {},
   "outputs": [
    {
     "name": "stdout",
     "output_type": "stream",
     "text": [
      "For Epoch 1\n",
      "        Val Loss: 0.4247\n",
      "For Epoch 2\n",
      "        Val Loss: 0.5144\n",
      "For Epoch 3\n",
      "        Val Loss: 0.5331\n",
      "For Epoch 4\n",
      "        Val Loss: 0.5653\n",
      "For Epoch 5\n",
      "        Val Loss: 0.5743\n",
      "For Epoch 6\n",
      "        Val Loss: 0.6302\n",
      "For Epoch 7\n",
      "        Val Loss: 0.6288\n",
      "For Epoch 8\n",
      "        Val Loss: 0.6364\n",
      "For Epoch 9\n",
      "        Val Loss: 0.6687\n",
      "For Epoch 10\n",
      "        Val Loss: 0.6657\n",
      "For Epoch 11\n",
      "        Val Loss: 0.702\n",
      "For Epoch 12\n",
      "        Val Loss: 0.6957\n",
      "For Epoch 13\n",
      "        Val Loss: 0.7136\n",
      "For Epoch 14\n",
      "        Val Loss: 0.7033\n",
      "For Epoch 15\n",
      "        Val Loss: 0.7128\n",
      "For Epoch 16\n",
      "        Val Loss: 0.7021\n",
      "For Epoch 17\n",
      "        Val Loss: 0.7272\n",
      "For Epoch 18\n",
      "        Val Loss: 0.749\n",
      "For Epoch 19\n",
      "        Val Loss: 0.744\n",
      "For Epoch 20\n",
      "        Val Loss: 0.7321\n",
      "For Epoch 21\n",
      "        Val Loss: 0.7355\n",
      "For Epoch 22\n",
      "        Val Loss: 0.7574\n",
      "For Epoch 23\n",
      "        Val Loss: 0.7397\n",
      "For Epoch 24\n",
      "        Val Loss: 0.7407\n",
      "For Epoch 25\n",
      "        Val Loss: 0.7603\n",
      "For Epoch 26\n",
      "        Val Loss: 0.7569\n",
      "For Epoch 27\n",
      "        Val Loss: 0.7575\n",
      "For Epoch 28\n",
      "        Val Loss: 0.7606\n",
      "For Epoch 29\n",
      "        Val Loss: 0.744\n",
      "For Epoch 30\n",
      "        Val Loss: 0.7673\n",
      "For Epoch 31\n",
      "        Val Loss: 0.7624\n",
      "For Epoch 32\n",
      "        Val Loss: 0.7721\n",
      "For Epoch 33\n",
      "        Val Loss: 0.7583\n",
      "For Epoch 34\n",
      "        Val Loss: 0.7739\n",
      "For Epoch 35\n",
      "        Val Loss: 0.7692\n",
      "For Epoch 36\n",
      "        Val Loss: 0.7755\n",
      "For Epoch 37\n",
      "        Val Loss: 0.7362\n"
     ]
    }
   ],
   "source": [
    "for epoch in range(50):\n",
    "    model.train()\n",
    "    for images,labels in train_loader:\n",
    "        images,labels=images.to(device),labels.to(device)\n",
    "        optimizer.zero_grad()\n",
    "        output=model(images)\n",
    "        loss=criterion(output,labels)\n",
    "        loss.backward()\n",
    "        optimizer.step()\n",
    "\n",
    "    model.eval()\n",
    "    correct,total=0,0\n",
    "    with torch.no_grad():\n",
    "        for images,labels in test_loader:\n",
    "            images,labels=images.to(device),labels.to(device)\n",
    "            output=model(images)\n",
    "            _,predicted=torch.max(output,1)\n",
    "            total+=labels.size(0)\n",
    "            correct+=(predicted==labels).sum().item()\n",
    "    accuracy=correct/total\n",
    "\n",
    "    print(f\"For Epoch {epoch+1}\")\n",
    "    print(f\"        Val Loss: {accuracy}\")"
   ]
  },
  {
   "cell_type": "code",
   "execution_count": null,
   "id": "f2418bea",
   "metadata": {},
   "outputs": [],
   "source": [
    "torch.save(model.state_dict(), 'cifar10.pth')\n"
   ]
  }
 ],
 "metadata": {
  "kernelspec": {
   "display_name": "jupytorch",
   "language": "python",
   "name": "python3"
  },
  "language_info": {
   "codemirror_mode": {
    "name": "ipython",
    "version": 3
   },
   "file_extension": ".py",
   "mimetype": "text/x-python",
   "name": "python",
   "nbconvert_exporter": "python",
   "pygments_lexer": "ipython3",
   "version": "3.11.13"
  }
 },
 "nbformat": 4,
 "nbformat_minor": 5
}
