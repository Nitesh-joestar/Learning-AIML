{
 "cells": [
  {
   "cell_type": "code",
   "execution_count": 31,
   "id": "ed7e9c5c",
   "metadata": {},
   "outputs": [],
   "source": [
    "import pandas as pd\n",
    "import numpy as np\n",
    "import matplotlib.pyplot as plt\n",
    "from sklearn.model_selection import train_test_split\n",
    "from sklearn.preprocessing import OneHotEncoder\n",
    "from sklearn.model_selection import cross_val_score\n",
    "from sklearn.ensemble import RandomForestRegressor\n",
    "from sklearn.compose import TransformedTargetRegressor\n",
    "from sklearn.metrics import root_mean_squared_error,mean_absolute_error"
   ]
  },
  {
   "cell_type": "markdown",
   "id": "f87995ae",
   "metadata": {},
   "source": [
    "Alright buds we are on the path to reduce the rmse value as much as possible\n",
    "without logging the label i got an average rmse of 2.3-2.5\n",
    "reduce this rmse as much as possible\n",
    "1. with logging the  the label i got the lowest being 1.5 high 3"
   ]
  },
  {
   "cell_type": "code",
   "execution_count": 4,
   "id": "aac0e161",
   "metadata": {},
   "outputs": [
    {
     "data": {
      "application/vnd.microsoft.datawrangler.viewer.v0+json": {
       "columns": [
        {
         "name": "index",
         "rawType": "int64",
         "type": "integer"
        },
        {
         "name": "Sex",
         "rawType": "object",
         "type": "string"
        },
        {
         "name": "Length",
         "rawType": "float64",
         "type": "float"
        },
        {
         "name": "Diameter",
         "rawType": "float64",
         "type": "float"
        },
        {
         "name": "Height",
         "rawType": "float64",
         "type": "float"
        },
        {
         "name": "Weight",
         "rawType": "float64",
         "type": "float"
        },
        {
         "name": "Shucked_weight",
         "rawType": "float64",
         "type": "float"
        },
        {
         "name": "Viscera_weight",
         "rawType": "float64",
         "type": "float"
        },
        {
         "name": "Shell_weight",
         "rawType": "float64",
         "type": "float"
        },
        {
         "name": "Age",
         "rawType": "int64",
         "type": "integer"
        }
       ],
       "ref": "3e5bf6a1-5fba-403f-8aa5-2253155aea85",
       "rows": [
        [
         "0",
         "M",
         "0.35",
         "0.265",
         "0.09",
         "0.2255",
         "0.0995",
         "0.0485",
         "0.07",
         "7"
        ],
        [
         "1",
         "F",
         "0.53",
         "0.42",
         "0.135",
         "0.677",
         "0.2565",
         "0.1415",
         "0.21",
         "9"
        ],
        [
         "2",
         "M",
         "0.44",
         "0.365",
         "0.125",
         "0.516",
         "0.2155",
         "0.114",
         "0.155",
         "10"
        ],
        [
         "3",
         "I",
         "0.33",
         "0.255",
         "0.08",
         "0.205",
         "0.0895",
         "0.0395",
         "0.055",
         "7"
        ],
        [
         "4",
         "I",
         "0.425",
         "0.3",
         "0.095",
         "0.3515",
         "0.141",
         "0.0775",
         "0.12",
         "8"
        ]
       ],
       "shape": {
        "columns": 9,
        "rows": 5
       }
      },
      "text/html": [
       "<div>\n",
       "<style scoped>\n",
       "    .dataframe tbody tr th:only-of-type {\n",
       "        vertical-align: middle;\n",
       "    }\n",
       "\n",
       "    .dataframe tbody tr th {\n",
       "        vertical-align: top;\n",
       "    }\n",
       "\n",
       "    .dataframe thead th {\n",
       "        text-align: right;\n",
       "    }\n",
       "</style>\n",
       "<table border=\"1\" class=\"dataframe\">\n",
       "  <thead>\n",
       "    <tr style=\"text-align: right;\">\n",
       "      <th></th>\n",
       "      <th>Sex</th>\n",
       "      <th>Length</th>\n",
       "      <th>Diameter</th>\n",
       "      <th>Height</th>\n",
       "      <th>Weight</th>\n",
       "      <th>Shucked_weight</th>\n",
       "      <th>Viscera_weight</th>\n",
       "      <th>Shell_weight</th>\n",
       "      <th>Age</th>\n",
       "    </tr>\n",
       "  </thead>\n",
       "  <tbody>\n",
       "    <tr>\n",
       "      <th>0</th>\n",
       "      <td>M</td>\n",
       "      <td>0.350</td>\n",
       "      <td>0.265</td>\n",
       "      <td>0.090</td>\n",
       "      <td>0.2255</td>\n",
       "      <td>0.0995</td>\n",
       "      <td>0.0485</td>\n",
       "      <td>0.070</td>\n",
       "      <td>7</td>\n",
       "    </tr>\n",
       "    <tr>\n",
       "      <th>1</th>\n",
       "      <td>F</td>\n",
       "      <td>0.530</td>\n",
       "      <td>0.420</td>\n",
       "      <td>0.135</td>\n",
       "      <td>0.6770</td>\n",
       "      <td>0.2565</td>\n",
       "      <td>0.1415</td>\n",
       "      <td>0.210</td>\n",
       "      <td>9</td>\n",
       "    </tr>\n",
       "    <tr>\n",
       "      <th>2</th>\n",
       "      <td>M</td>\n",
       "      <td>0.440</td>\n",
       "      <td>0.365</td>\n",
       "      <td>0.125</td>\n",
       "      <td>0.5160</td>\n",
       "      <td>0.2155</td>\n",
       "      <td>0.1140</td>\n",
       "      <td>0.155</td>\n",
       "      <td>10</td>\n",
       "    </tr>\n",
       "    <tr>\n",
       "      <th>3</th>\n",
       "      <td>I</td>\n",
       "      <td>0.330</td>\n",
       "      <td>0.255</td>\n",
       "      <td>0.080</td>\n",
       "      <td>0.2050</td>\n",
       "      <td>0.0895</td>\n",
       "      <td>0.0395</td>\n",
       "      <td>0.055</td>\n",
       "      <td>7</td>\n",
       "    </tr>\n",
       "    <tr>\n",
       "      <th>4</th>\n",
       "      <td>I</td>\n",
       "      <td>0.425</td>\n",
       "      <td>0.300</td>\n",
       "      <td>0.095</td>\n",
       "      <td>0.3515</td>\n",
       "      <td>0.1410</td>\n",
       "      <td>0.0775</td>\n",
       "      <td>0.120</td>\n",
       "      <td>8</td>\n",
       "    </tr>\n",
       "  </tbody>\n",
       "</table>\n",
       "</div>"
      ],
      "text/plain": [
       "  Sex  Length  Diameter  Height  Weight  Shucked_weight  Viscera_weight  \\\n",
       "0   M   0.350     0.265   0.090  0.2255          0.0995          0.0485   \n",
       "1   F   0.530     0.420   0.135  0.6770          0.2565          0.1415   \n",
       "2   M   0.440     0.365   0.125  0.5160          0.2155          0.1140   \n",
       "3   I   0.330     0.255   0.080  0.2050          0.0895          0.0395   \n",
       "4   I   0.425     0.300   0.095  0.3515          0.1410          0.0775   \n",
       "\n",
       "   Shell_weight  Age  \n",
       "0         0.070    7  \n",
       "1         0.210    9  \n",
       "2         0.155   10  \n",
       "3         0.055    7  \n",
       "4         0.120    8  "
      ]
     },
     "execution_count": 4,
     "metadata": {},
     "output_type": "execute_result"
    }
   ],
   "source": [
    "import pandas as pd\n",
    "\n",
    "def clean_data(df):\n",
    "    # Drop duplicate rows across all columns\n",
    "    df = df.drop_duplicates()\n",
    "    # Rename column '0.455' to 'Length'\n",
    "    df = df.rename(columns={'0.455': 'Length'})\n",
    "    # Rename column 'M' to 'Sex'\n",
    "    df = df.rename(columns={'M': 'Sex'})\n",
    "    # Rename column '0.365' to 'Diameter'\n",
    "    df = df.rename(columns={'0.365': 'Diameter'})\n",
    "    # Rename column '0.095' to 'Height'\n",
    "    df = df.rename(columns={'0.095': 'Height'})\n",
    "    # Rename column '0.514' to 'Weight'\n",
    "    df = df.rename(columns={'0.514': 'Weight'})\n",
    "    # Rename column '0.2245' to 'Shucked_weight'\n",
    "    df = df.rename(columns={'0.2245': 'Shucked_weight'})\n",
    "    # Rename column '0.101' to 'Viscera_weight'\n",
    "    df = df.rename(columns={'0.101': 'Viscera_weight'})\n",
    "    # Rename column '0.15' to 'Shell_weight'\n",
    "    df = df.rename(columns={'0.15': 'Shell_weight'})\n",
    "    # Rename column '15' to 'Age'\n",
    "    df = df.rename(columns={'15': 'Age'})\n",
    "    return df\n",
    "\n",
    "# Loaded variable 'df' from URI: f:\\Learngin-AIML\\Projects\\Abalone\\abalone.data.csv\n",
    "df = pd.read_csv(r'f:\\Learngin-AIML\\Projects\\Abalone\\abalone.data.csv')\n",
    "\n",
    "df_clean = clean_data(df.copy())\n",
    "df_clean.head()"
   ]
  },
  {
   "cell_type": "code",
   "execution_count": 5,
   "id": "a207fdad",
   "metadata": {},
   "outputs": [
    {
     "data": {
      "application/vnd.microsoft.datawrangler.viewer.v0+json": {
       "columns": [
        {
         "name": "index",
         "rawType": "int64",
         "type": "integer"
        },
        {
         "name": "Sex",
         "rawType": "object",
         "type": "string"
        },
        {
         "name": "Length",
         "rawType": "float64",
         "type": "float"
        },
        {
         "name": "Diameter",
         "rawType": "float64",
         "type": "float"
        },
        {
         "name": "Height",
         "rawType": "float64",
         "type": "float"
        },
        {
         "name": "Weight",
         "rawType": "float64",
         "type": "float"
        },
        {
         "name": "Shucked_weight",
         "rawType": "float64",
         "type": "float"
        },
        {
         "name": "Viscera_weight",
         "rawType": "float64",
         "type": "float"
        },
        {
         "name": "Shell_weight",
         "rawType": "float64",
         "type": "float"
        },
        {
         "name": "Age",
         "rawType": "int64",
         "type": "integer"
        }
       ],
       "ref": "014c30c2-9acf-49b2-a44e-94560322d0e6",
       "rows": [
        [
         "0",
         "M",
         "0.35",
         "0.265",
         "0.09",
         "0.2255",
         "0.0995",
         "0.0485",
         "0.07",
         "7"
        ],
        [
         "1",
         "F",
         "0.53",
         "0.42",
         "0.135",
         "0.677",
         "0.2565",
         "0.1415",
         "0.21",
         "9"
        ],
        [
         "2",
         "M",
         "0.44",
         "0.365",
         "0.125",
         "0.516",
         "0.2155",
         "0.114",
         "0.155",
         "10"
        ],
        [
         "3",
         "I",
         "0.33",
         "0.255",
         "0.08",
         "0.205",
         "0.0895",
         "0.0395",
         "0.055",
         "7"
        ],
        [
         "4",
         "I",
         "0.425",
         "0.3",
         "0.095",
         "0.3515",
         "0.141",
         "0.0775",
         "0.12",
         "8"
        ],
        [
         "5",
         "F",
         "0.53",
         "0.415",
         "0.15",
         "0.7775",
         "0.237",
         "0.1415",
         "0.33",
         "20"
        ],
        [
         "6",
         "F",
         "0.545",
         "0.425",
         "0.125",
         "0.768",
         "0.294",
         "0.1495",
         "0.26",
         "16"
        ],
        [
         "7",
         "M",
         "0.475",
         "0.37",
         "0.125",
         "0.5095",
         "0.2165",
         "0.1125",
         "0.165",
         "9"
        ],
        [
         "8",
         "F",
         "0.55",
         "0.44",
         "0.15",
         "0.8945",
         "0.3145",
         "0.151",
         "0.32",
         "19"
        ],
        [
         "9",
         "F",
         "0.525",
         "0.38",
         "0.14",
         "0.6065",
         "0.194",
         "0.1475",
         "0.21",
         "14"
        ],
        [
         "10",
         "M",
         "0.43",
         "0.35",
         "0.11",
         "0.406",
         "0.1675",
         "0.081",
         "0.135",
         "10"
        ],
        [
         "11",
         "M",
         "0.49",
         "0.38",
         "0.135",
         "0.5415",
         "0.2175",
         "0.095",
         "0.19",
         "11"
        ],
        [
         "12",
         "F",
         "0.535",
         "0.405",
         "0.145",
         "0.6845",
         "0.2725",
         "0.171",
         "0.205",
         "10"
        ],
        [
         "13",
         "F",
         "0.47",
         "0.355",
         "0.1",
         "0.4755",
         "0.1675",
         "0.0805",
         "0.185",
         "10"
        ],
        [
         "14",
         "M",
         "0.5",
         "0.4",
         "0.13",
         "0.6645",
         "0.258",
         "0.133",
         "0.24",
         "12"
        ],
        [
         "15",
         "I",
         "0.355",
         "0.28",
         "0.085",
         "0.2905",
         "0.095",
         "0.0395",
         "0.115",
         "7"
        ],
        [
         "16",
         "F",
         "0.44",
         "0.34",
         "0.1",
         "0.451",
         "0.188",
         "0.087",
         "0.13",
         "10"
        ],
        [
         "17",
         "M",
         "0.365",
         "0.295",
         "0.08",
         "0.2555",
         "0.097",
         "0.043",
         "0.1",
         "7"
        ],
        [
         "18",
         "M",
         "0.45",
         "0.32",
         "0.1",
         "0.381",
         "0.1705",
         "0.075",
         "0.115",
         "9"
        ],
        [
         "19",
         "M",
         "0.355",
         "0.28",
         "0.095",
         "0.2455",
         "0.0955",
         "0.062",
         "0.075",
         "11"
        ],
        [
         "20",
         "I",
         "0.38",
         "0.275",
         "0.1",
         "0.2255",
         "0.08",
         "0.049",
         "0.085",
         "10"
        ],
        [
         "21",
         "F",
         "0.565",
         "0.44",
         "0.155",
         "0.9395",
         "0.4275",
         "0.214",
         "0.27",
         "12"
        ],
        [
         "22",
         "F",
         "0.55",
         "0.415",
         "0.135",
         "0.7635",
         "0.318",
         "0.21",
         "0.2",
         "9"
        ],
        [
         "23",
         "F",
         "0.615",
         "0.48",
         "0.165",
         "1.1615",
         "0.513",
         "0.301",
         "0.305",
         "10"
        ],
        [
         "24",
         "F",
         "0.56",
         "0.44",
         "0.14",
         "0.9285",
         "0.3825",
         "0.188",
         "0.3",
         "11"
        ],
        [
         "25",
         "F",
         "0.58",
         "0.45",
         "0.185",
         "0.9955",
         "0.3945",
         "0.272",
         "0.285",
         "11"
        ],
        [
         "26",
         "M",
         "0.59",
         "0.445",
         "0.14",
         "0.931",
         "0.356",
         "0.234",
         "0.28",
         "12"
        ],
        [
         "27",
         "M",
         "0.605",
         "0.475",
         "0.18",
         "0.9365",
         "0.394",
         "0.219",
         "0.295",
         "15"
        ],
        [
         "28",
         "M",
         "0.575",
         "0.425",
         "0.14",
         "0.8635",
         "0.393",
         "0.227",
         "0.2",
         "11"
        ],
        [
         "29",
         "M",
         "0.58",
         "0.47",
         "0.165",
         "0.9975",
         "0.3935",
         "0.242",
         "0.33",
         "10"
        ],
        [
         "30",
         "F",
         "0.68",
         "0.56",
         "0.165",
         "1.639",
         "0.6055",
         "0.2805",
         "0.46",
         "15"
        ],
        [
         "31",
         "M",
         "0.665",
         "0.525",
         "0.165",
         "1.338",
         "0.5515",
         "0.3575",
         "0.35",
         "18"
        ],
        [
         "32",
         "F",
         "0.68",
         "0.55",
         "0.175",
         "1.798",
         "0.815",
         "0.3925",
         "0.455",
         "19"
        ],
        [
         "33",
         "F",
         "0.705",
         "0.55",
         "0.2",
         "1.7095",
         "0.633",
         "0.4115",
         "0.49",
         "13"
        ],
        [
         "34",
         "M",
         "0.465",
         "0.355",
         "0.105",
         "0.4795",
         "0.227",
         "0.124",
         "0.125",
         "8"
        ],
        [
         "35",
         "F",
         "0.54",
         "0.475",
         "0.155",
         "1.217",
         "0.5305",
         "0.3075",
         "0.34",
         "16"
        ],
        [
         "36",
         "F",
         "0.45",
         "0.355",
         "0.105",
         "0.5225",
         "0.237",
         "0.1165",
         "0.145",
         "8"
        ],
        [
         "37",
         "F",
         "0.575",
         "0.445",
         "0.135",
         "0.883",
         "0.381",
         "0.2035",
         "0.26",
         "11"
        ],
        [
         "38",
         "M",
         "0.355",
         "0.29",
         "0.09",
         "0.3275",
         "0.134",
         "0.086",
         "0.09",
         "9"
        ],
        [
         "39",
         "F",
         "0.45",
         "0.335",
         "0.105",
         "0.425",
         "0.1865",
         "0.091",
         "0.115",
         "9"
        ],
        [
         "40",
         "F",
         "0.55",
         "0.425",
         "0.135",
         "0.8515",
         "0.362",
         "0.196",
         "0.27",
         "14"
        ],
        [
         "41",
         "I",
         "0.24",
         "0.175",
         "0.045",
         "0.07",
         "0.0315",
         "0.0235",
         "0.02",
         "5"
        ],
        [
         "42",
         "I",
         "0.205",
         "0.15",
         "0.055",
         "0.042",
         "0.0255",
         "0.015",
         "0.012",
         "5"
        ],
        [
         "43",
         "I",
         "0.21",
         "0.15",
         "0.05",
         "0.042",
         "0.0175",
         "0.0125",
         "0.015",
         "4"
        ],
        [
         "44",
         "I",
         "0.39",
         "0.295",
         "0.095",
         "0.203",
         "0.0875",
         "0.045",
         "0.075",
         "7"
        ],
        [
         "45",
         "M",
         "0.47",
         "0.37",
         "0.12",
         "0.5795",
         "0.293",
         "0.227",
         "0.14",
         "9"
        ],
        [
         "46",
         "F",
         "0.46",
         "0.375",
         "0.12",
         "0.4605",
         "0.1775",
         "0.11",
         "0.15",
         "7"
        ],
        [
         "47",
         "I",
         "0.325",
         "0.245",
         "0.07",
         "0.161",
         "0.0755",
         "0.0255",
         "0.045",
         "6"
        ],
        [
         "48",
         "F",
         "0.525",
         "0.425",
         "0.16",
         "0.8355",
         "0.3545",
         "0.2135",
         "0.245",
         "9"
        ],
        [
         "49",
         "I",
         "0.52",
         "0.41",
         "0.12",
         "0.595",
         "0.2385",
         "0.111",
         "0.19",
         "8"
        ]
       ],
       "shape": {
        "columns": 9,
        "rows": 4176
       }
      },
      "text/html": [
       "<div>\n",
       "<style scoped>\n",
       "    .dataframe tbody tr th:only-of-type {\n",
       "        vertical-align: middle;\n",
       "    }\n",
       "\n",
       "    .dataframe tbody tr th {\n",
       "        vertical-align: top;\n",
       "    }\n",
       "\n",
       "    .dataframe thead th {\n",
       "        text-align: right;\n",
       "    }\n",
       "</style>\n",
       "<table border=\"1\" class=\"dataframe\">\n",
       "  <thead>\n",
       "    <tr style=\"text-align: right;\">\n",
       "      <th></th>\n",
       "      <th>Sex</th>\n",
       "      <th>Length</th>\n",
       "      <th>Diameter</th>\n",
       "      <th>Height</th>\n",
       "      <th>Weight</th>\n",
       "      <th>Shucked_weight</th>\n",
       "      <th>Viscera_weight</th>\n",
       "      <th>Shell_weight</th>\n",
       "      <th>Age</th>\n",
       "    </tr>\n",
       "  </thead>\n",
       "  <tbody>\n",
       "    <tr>\n",
       "      <th>0</th>\n",
       "      <td>M</td>\n",
       "      <td>0.350</td>\n",
       "      <td>0.265</td>\n",
       "      <td>0.090</td>\n",
       "      <td>0.2255</td>\n",
       "      <td>0.0995</td>\n",
       "      <td>0.0485</td>\n",
       "      <td>0.0700</td>\n",
       "      <td>7</td>\n",
       "    </tr>\n",
       "    <tr>\n",
       "      <th>1</th>\n",
       "      <td>F</td>\n",
       "      <td>0.530</td>\n",
       "      <td>0.420</td>\n",
       "      <td>0.135</td>\n",
       "      <td>0.6770</td>\n",
       "      <td>0.2565</td>\n",
       "      <td>0.1415</td>\n",
       "      <td>0.2100</td>\n",
       "      <td>9</td>\n",
       "    </tr>\n",
       "    <tr>\n",
       "      <th>2</th>\n",
       "      <td>M</td>\n",
       "      <td>0.440</td>\n",
       "      <td>0.365</td>\n",
       "      <td>0.125</td>\n",
       "      <td>0.5160</td>\n",
       "      <td>0.2155</td>\n",
       "      <td>0.1140</td>\n",
       "      <td>0.1550</td>\n",
       "      <td>10</td>\n",
       "    </tr>\n",
       "    <tr>\n",
       "      <th>3</th>\n",
       "      <td>I</td>\n",
       "      <td>0.330</td>\n",
       "      <td>0.255</td>\n",
       "      <td>0.080</td>\n",
       "      <td>0.2050</td>\n",
       "      <td>0.0895</td>\n",
       "      <td>0.0395</td>\n",
       "      <td>0.0550</td>\n",
       "      <td>7</td>\n",
       "    </tr>\n",
       "    <tr>\n",
       "      <th>4</th>\n",
       "      <td>I</td>\n",
       "      <td>0.425</td>\n",
       "      <td>0.300</td>\n",
       "      <td>0.095</td>\n",
       "      <td>0.3515</td>\n",
       "      <td>0.1410</td>\n",
       "      <td>0.0775</td>\n",
       "      <td>0.1200</td>\n",
       "      <td>8</td>\n",
       "    </tr>\n",
       "    <tr>\n",
       "      <th>...</th>\n",
       "      <td>...</td>\n",
       "      <td>...</td>\n",
       "      <td>...</td>\n",
       "      <td>...</td>\n",
       "      <td>...</td>\n",
       "      <td>...</td>\n",
       "      <td>...</td>\n",
       "      <td>...</td>\n",
       "      <td>...</td>\n",
       "    </tr>\n",
       "    <tr>\n",
       "      <th>4171</th>\n",
       "      <td>F</td>\n",
       "      <td>0.565</td>\n",
       "      <td>0.450</td>\n",
       "      <td>0.165</td>\n",
       "      <td>0.8870</td>\n",
       "      <td>0.3700</td>\n",
       "      <td>0.2390</td>\n",
       "      <td>0.2490</td>\n",
       "      <td>11</td>\n",
       "    </tr>\n",
       "    <tr>\n",
       "      <th>4172</th>\n",
       "      <td>M</td>\n",
       "      <td>0.590</td>\n",
       "      <td>0.440</td>\n",
       "      <td>0.135</td>\n",
       "      <td>0.9660</td>\n",
       "      <td>0.4390</td>\n",
       "      <td>0.2145</td>\n",
       "      <td>0.2605</td>\n",
       "      <td>10</td>\n",
       "    </tr>\n",
       "    <tr>\n",
       "      <th>4173</th>\n",
       "      <td>M</td>\n",
       "      <td>0.600</td>\n",
       "      <td>0.475</td>\n",
       "      <td>0.205</td>\n",
       "      <td>1.1760</td>\n",
       "      <td>0.5255</td>\n",
       "      <td>0.2875</td>\n",
       "      <td>0.3080</td>\n",
       "      <td>9</td>\n",
       "    </tr>\n",
       "    <tr>\n",
       "      <th>4174</th>\n",
       "      <td>F</td>\n",
       "      <td>0.625</td>\n",
       "      <td>0.485</td>\n",
       "      <td>0.150</td>\n",
       "      <td>1.0945</td>\n",
       "      <td>0.5310</td>\n",
       "      <td>0.2610</td>\n",
       "      <td>0.2960</td>\n",
       "      <td>10</td>\n",
       "    </tr>\n",
       "    <tr>\n",
       "      <th>4175</th>\n",
       "      <td>M</td>\n",
       "      <td>0.710</td>\n",
       "      <td>0.555</td>\n",
       "      <td>0.195</td>\n",
       "      <td>1.9485</td>\n",
       "      <td>0.9455</td>\n",
       "      <td>0.3765</td>\n",
       "      <td>0.4950</td>\n",
       "      <td>12</td>\n",
       "    </tr>\n",
       "  </tbody>\n",
       "</table>\n",
       "<p>4176 rows × 9 columns</p>\n",
       "</div>"
      ],
      "text/plain": [
       "     Sex  Length  Diameter  Height  Weight  Shucked_weight  Viscera_weight  \\\n",
       "0      M   0.350     0.265   0.090  0.2255          0.0995          0.0485   \n",
       "1      F   0.530     0.420   0.135  0.6770          0.2565          0.1415   \n",
       "2      M   0.440     0.365   0.125  0.5160          0.2155          0.1140   \n",
       "3      I   0.330     0.255   0.080  0.2050          0.0895          0.0395   \n",
       "4      I   0.425     0.300   0.095  0.3515          0.1410          0.0775   \n",
       "...   ..     ...       ...     ...     ...             ...             ...   \n",
       "4171   F   0.565     0.450   0.165  0.8870          0.3700          0.2390   \n",
       "4172   M   0.590     0.440   0.135  0.9660          0.4390          0.2145   \n",
       "4173   M   0.600     0.475   0.205  1.1760          0.5255          0.2875   \n",
       "4174   F   0.625     0.485   0.150  1.0945          0.5310          0.2610   \n",
       "4175   M   0.710     0.555   0.195  1.9485          0.9455          0.3765   \n",
       "\n",
       "      Shell_weight  Age  \n",
       "0           0.0700    7  \n",
       "1           0.2100    9  \n",
       "2           0.1550   10  \n",
       "3           0.0550    7  \n",
       "4           0.1200    8  \n",
       "...            ...  ...  \n",
       "4171        0.2490   11  \n",
       "4172        0.2605   10  \n",
       "4173        0.3080    9  \n",
       "4174        0.2960   10  \n",
       "4175        0.4950   12  \n",
       "\n",
       "[4176 rows x 9 columns]"
      ]
     },
     "execution_count": 5,
     "metadata": {},
     "output_type": "execute_result"
    }
   ],
   "source": [
    "df_clean"
   ]
  },
  {
   "cell_type": "code",
   "execution_count": 6,
   "id": "d5a533e2",
   "metadata": {},
   "outputs": [],
   "source": [
    "y=df_clean[['Age']]"
   ]
  },
  {
   "cell_type": "code",
   "execution_count": 7,
   "id": "a589e059",
   "metadata": {},
   "outputs": [
    {
     "data": {
      "application/vnd.microsoft.datawrangler.viewer.v0+json": {
       "columns": [
        {
         "name": "index",
         "rawType": "int64",
         "type": "integer"
        },
        {
         "name": "Age",
         "rawType": "int64",
         "type": "integer"
        }
       ],
       "ref": "c5b4725f-7fed-41fd-a950-18e5ac5a7083",
       "rows": [
        [
         "0",
         "7"
        ],
        [
         "1",
         "9"
        ],
        [
         "2",
         "10"
        ],
        [
         "3",
         "7"
        ],
        [
         "4",
         "8"
        ],
        [
         "5",
         "20"
        ],
        [
         "6",
         "16"
        ],
        [
         "7",
         "9"
        ],
        [
         "8",
         "19"
        ],
        [
         "9",
         "14"
        ],
        [
         "10",
         "10"
        ],
        [
         "11",
         "11"
        ],
        [
         "12",
         "10"
        ],
        [
         "13",
         "10"
        ],
        [
         "14",
         "12"
        ],
        [
         "15",
         "7"
        ],
        [
         "16",
         "10"
        ],
        [
         "17",
         "7"
        ],
        [
         "18",
         "9"
        ],
        [
         "19",
         "11"
        ],
        [
         "20",
         "10"
        ],
        [
         "21",
         "12"
        ],
        [
         "22",
         "9"
        ],
        [
         "23",
         "10"
        ],
        [
         "24",
         "11"
        ],
        [
         "25",
         "11"
        ],
        [
         "26",
         "12"
        ],
        [
         "27",
         "15"
        ],
        [
         "28",
         "11"
        ],
        [
         "29",
         "10"
        ],
        [
         "30",
         "15"
        ],
        [
         "31",
         "18"
        ],
        [
         "32",
         "19"
        ],
        [
         "33",
         "13"
        ],
        [
         "34",
         "8"
        ],
        [
         "35",
         "16"
        ],
        [
         "36",
         "8"
        ],
        [
         "37",
         "11"
        ],
        [
         "38",
         "9"
        ],
        [
         "39",
         "9"
        ],
        [
         "40",
         "14"
        ],
        [
         "41",
         "5"
        ],
        [
         "42",
         "5"
        ],
        [
         "43",
         "4"
        ],
        [
         "44",
         "7"
        ],
        [
         "45",
         "9"
        ],
        [
         "46",
         "7"
        ],
        [
         "47",
         "6"
        ],
        [
         "48",
         "9"
        ],
        [
         "49",
         "8"
        ]
       ],
       "shape": {
        "columns": 1,
        "rows": 4176
       }
      },
      "text/html": [
       "<div>\n",
       "<style scoped>\n",
       "    .dataframe tbody tr th:only-of-type {\n",
       "        vertical-align: middle;\n",
       "    }\n",
       "\n",
       "    .dataframe tbody tr th {\n",
       "        vertical-align: top;\n",
       "    }\n",
       "\n",
       "    .dataframe thead th {\n",
       "        text-align: right;\n",
       "    }\n",
       "</style>\n",
       "<table border=\"1\" class=\"dataframe\">\n",
       "  <thead>\n",
       "    <tr style=\"text-align: right;\">\n",
       "      <th></th>\n",
       "      <th>Age</th>\n",
       "    </tr>\n",
       "  </thead>\n",
       "  <tbody>\n",
       "    <tr>\n",
       "      <th>0</th>\n",
       "      <td>7</td>\n",
       "    </tr>\n",
       "    <tr>\n",
       "      <th>1</th>\n",
       "      <td>9</td>\n",
       "    </tr>\n",
       "    <tr>\n",
       "      <th>2</th>\n",
       "      <td>10</td>\n",
       "    </tr>\n",
       "    <tr>\n",
       "      <th>3</th>\n",
       "      <td>7</td>\n",
       "    </tr>\n",
       "    <tr>\n",
       "      <th>4</th>\n",
       "      <td>8</td>\n",
       "    </tr>\n",
       "    <tr>\n",
       "      <th>...</th>\n",
       "      <td>...</td>\n",
       "    </tr>\n",
       "    <tr>\n",
       "      <th>4171</th>\n",
       "      <td>11</td>\n",
       "    </tr>\n",
       "    <tr>\n",
       "      <th>4172</th>\n",
       "      <td>10</td>\n",
       "    </tr>\n",
       "    <tr>\n",
       "      <th>4173</th>\n",
       "      <td>9</td>\n",
       "    </tr>\n",
       "    <tr>\n",
       "      <th>4174</th>\n",
       "      <td>10</td>\n",
       "    </tr>\n",
       "    <tr>\n",
       "      <th>4175</th>\n",
       "      <td>12</td>\n",
       "    </tr>\n",
       "  </tbody>\n",
       "</table>\n",
       "<p>4176 rows × 1 columns</p>\n",
       "</div>"
      ],
      "text/plain": [
       "      Age\n",
       "0       7\n",
       "1       9\n",
       "2      10\n",
       "3       7\n",
       "4       8\n",
       "...   ...\n",
       "4171   11\n",
       "4172   10\n",
       "4173    9\n",
       "4174   10\n",
       "4175   12\n",
       "\n",
       "[4176 rows x 1 columns]"
      ]
     },
     "execution_count": 7,
     "metadata": {},
     "output_type": "execute_result"
    }
   ],
   "source": [
    "y"
   ]
  },
  {
   "cell_type": "code",
   "execution_count": 8,
   "id": "f1fe53b2",
   "metadata": {},
   "outputs": [],
   "source": [
    "X=df_clean.drop(\"Age\",axis=1)"
   ]
  },
  {
   "cell_type": "code",
   "execution_count": 9,
   "id": "55c11f57",
   "metadata": {},
   "outputs": [
    {
     "data": {
      "application/vnd.microsoft.datawrangler.viewer.v0+json": {
       "columns": [
        {
         "name": "index",
         "rawType": "int64",
         "type": "integer"
        },
        {
         "name": "Sex_I",
         "rawType": "float64",
         "type": "float"
        },
        {
         "name": "Sex_M",
         "rawType": "float64",
         "type": "float"
        }
       ],
       "ref": "ec3e1399-d3b5-41db-8ceb-3bb4363eb1b6",
       "rows": [
        [
         "0",
         "0.0",
         "1.0"
        ],
        [
         "1",
         "0.0",
         "0.0"
        ],
        [
         "2",
         "0.0",
         "1.0"
        ],
        [
         "3",
         "1.0",
         "0.0"
        ],
        [
         "4",
         "1.0",
         "0.0"
        ],
        [
         "5",
         "0.0",
         "0.0"
        ],
        [
         "6",
         "0.0",
         "0.0"
        ],
        [
         "7",
         "0.0",
         "1.0"
        ],
        [
         "8",
         "0.0",
         "0.0"
        ],
        [
         "9",
         "0.0",
         "0.0"
        ],
        [
         "10",
         "0.0",
         "1.0"
        ],
        [
         "11",
         "0.0",
         "1.0"
        ],
        [
         "12",
         "0.0",
         "0.0"
        ],
        [
         "13",
         "0.0",
         "0.0"
        ],
        [
         "14",
         "0.0",
         "1.0"
        ],
        [
         "15",
         "1.0",
         "0.0"
        ],
        [
         "16",
         "0.0",
         "0.0"
        ],
        [
         "17",
         "0.0",
         "1.0"
        ],
        [
         "18",
         "0.0",
         "1.0"
        ],
        [
         "19",
         "0.0",
         "1.0"
        ],
        [
         "20",
         "1.0",
         "0.0"
        ],
        [
         "21",
         "0.0",
         "0.0"
        ],
        [
         "22",
         "0.0",
         "0.0"
        ],
        [
         "23",
         "0.0",
         "0.0"
        ],
        [
         "24",
         "0.0",
         "0.0"
        ],
        [
         "25",
         "0.0",
         "0.0"
        ],
        [
         "26",
         "0.0",
         "1.0"
        ],
        [
         "27",
         "0.0",
         "1.0"
        ],
        [
         "28",
         "0.0",
         "1.0"
        ],
        [
         "29",
         "0.0",
         "1.0"
        ],
        [
         "30",
         "0.0",
         "0.0"
        ],
        [
         "31",
         "0.0",
         "1.0"
        ],
        [
         "32",
         "0.0",
         "0.0"
        ],
        [
         "33",
         "0.0",
         "0.0"
        ],
        [
         "34",
         "0.0",
         "1.0"
        ],
        [
         "35",
         "0.0",
         "0.0"
        ],
        [
         "36",
         "0.0",
         "0.0"
        ],
        [
         "37",
         "0.0",
         "0.0"
        ],
        [
         "38",
         "0.0",
         "1.0"
        ],
        [
         "39",
         "0.0",
         "0.0"
        ],
        [
         "40",
         "0.0",
         "0.0"
        ],
        [
         "41",
         "1.0",
         "0.0"
        ],
        [
         "42",
         "1.0",
         "0.0"
        ],
        [
         "43",
         "1.0",
         "0.0"
        ],
        [
         "44",
         "1.0",
         "0.0"
        ],
        [
         "45",
         "0.0",
         "1.0"
        ],
        [
         "46",
         "0.0",
         "0.0"
        ],
        [
         "47",
         "1.0",
         "0.0"
        ],
        [
         "48",
         "0.0",
         "0.0"
        ],
        [
         "49",
         "1.0",
         "0.0"
        ]
       ],
       "shape": {
        "columns": 2,
        "rows": 4176
       }
      },
      "text/html": [
       "<div>\n",
       "<style scoped>\n",
       "    .dataframe tbody tr th:only-of-type {\n",
       "        vertical-align: middle;\n",
       "    }\n",
       "\n",
       "    .dataframe tbody tr th {\n",
       "        vertical-align: top;\n",
       "    }\n",
       "\n",
       "    .dataframe thead th {\n",
       "        text-align: right;\n",
       "    }\n",
       "</style>\n",
       "<table border=\"1\" class=\"dataframe\">\n",
       "  <thead>\n",
       "    <tr style=\"text-align: right;\">\n",
       "      <th></th>\n",
       "      <th>Sex_I</th>\n",
       "      <th>Sex_M</th>\n",
       "    </tr>\n",
       "  </thead>\n",
       "  <tbody>\n",
       "    <tr>\n",
       "      <th>0</th>\n",
       "      <td>0.0</td>\n",
       "      <td>1.0</td>\n",
       "    </tr>\n",
       "    <tr>\n",
       "      <th>1</th>\n",
       "      <td>0.0</td>\n",
       "      <td>0.0</td>\n",
       "    </tr>\n",
       "    <tr>\n",
       "      <th>2</th>\n",
       "      <td>0.0</td>\n",
       "      <td>1.0</td>\n",
       "    </tr>\n",
       "    <tr>\n",
       "      <th>3</th>\n",
       "      <td>1.0</td>\n",
       "      <td>0.0</td>\n",
       "    </tr>\n",
       "    <tr>\n",
       "      <th>4</th>\n",
       "      <td>1.0</td>\n",
       "      <td>0.0</td>\n",
       "    </tr>\n",
       "    <tr>\n",
       "      <th>...</th>\n",
       "      <td>...</td>\n",
       "      <td>...</td>\n",
       "    </tr>\n",
       "    <tr>\n",
       "      <th>4171</th>\n",
       "      <td>0.0</td>\n",
       "      <td>0.0</td>\n",
       "    </tr>\n",
       "    <tr>\n",
       "      <th>4172</th>\n",
       "      <td>0.0</td>\n",
       "      <td>1.0</td>\n",
       "    </tr>\n",
       "    <tr>\n",
       "      <th>4173</th>\n",
       "      <td>0.0</td>\n",
       "      <td>1.0</td>\n",
       "    </tr>\n",
       "    <tr>\n",
       "      <th>4174</th>\n",
       "      <td>0.0</td>\n",
       "      <td>0.0</td>\n",
       "    </tr>\n",
       "    <tr>\n",
       "      <th>4175</th>\n",
       "      <td>0.0</td>\n",
       "      <td>1.0</td>\n",
       "    </tr>\n",
       "  </tbody>\n",
       "</table>\n",
       "<p>4176 rows × 2 columns</p>\n",
       "</div>"
      ],
      "text/plain": [
       "      Sex_I  Sex_M\n",
       "0       0.0    1.0\n",
       "1       0.0    0.0\n",
       "2       0.0    1.0\n",
       "3       1.0    0.0\n",
       "4       1.0    0.0\n",
       "...     ...    ...\n",
       "4171    0.0    0.0\n",
       "4172    0.0    1.0\n",
       "4173    0.0    1.0\n",
       "4174    0.0    0.0\n",
       "4175    0.0    1.0\n",
       "\n",
       "[4176 rows x 2 columns]"
      ]
     },
     "execution_count": 9,
     "metadata": {},
     "output_type": "execute_result"
    }
   ],
   "source": [
    "cat_encoder=OneHotEncoder(drop='first',sparse_output=False)\n",
    "encoded_cat=cat_encoder.fit_transform(X[['Sex']])\n",
    "encoded_cat=pd.DataFrame(encoded_cat,columns=cat_encoder.get_feature_names_out())\n",
    "encoded_cat"
   ]
  },
  {
   "cell_type": "code",
   "execution_count": 10,
   "id": "ca2b8587",
   "metadata": {},
   "outputs": [],
   "source": [
    "X=X.join(encoded_cat)"
   ]
  },
  {
   "cell_type": "code",
   "execution_count": 11,
   "id": "989ca65a",
   "metadata": {},
   "outputs": [],
   "source": [
    "X.drop('Sex',inplace=True,axis=1)"
   ]
  },
  {
   "cell_type": "code",
   "execution_count": 12,
   "id": "3caf2e7e",
   "metadata": {},
   "outputs": [
    {
     "data": {
      "application/vnd.microsoft.datawrangler.viewer.v0+json": {
       "columns": [
        {
         "name": "index",
         "rawType": "int64",
         "type": "integer"
        },
        {
         "name": "Length",
         "rawType": "float64",
         "type": "float"
        },
        {
         "name": "Diameter",
         "rawType": "float64",
         "type": "float"
        },
        {
         "name": "Height",
         "rawType": "float64",
         "type": "float"
        },
        {
         "name": "Weight",
         "rawType": "float64",
         "type": "float"
        },
        {
         "name": "Shucked_weight",
         "rawType": "float64",
         "type": "float"
        },
        {
         "name": "Viscera_weight",
         "rawType": "float64",
         "type": "float"
        },
        {
         "name": "Shell_weight",
         "rawType": "float64",
         "type": "float"
        },
        {
         "name": "Sex_I",
         "rawType": "float64",
         "type": "float"
        },
        {
         "name": "Sex_M",
         "rawType": "float64",
         "type": "float"
        }
       ],
       "ref": "f4a7bc6a-93c1-4103-8bab-4424ef3e928e",
       "rows": [
        [
         "0",
         "0.35",
         "0.265",
         "0.09",
         "0.2255",
         "0.0995",
         "0.0485",
         "0.07",
         "0.0",
         "1.0"
        ],
        [
         "1",
         "0.53",
         "0.42",
         "0.135",
         "0.677",
         "0.2565",
         "0.1415",
         "0.21",
         "0.0",
         "0.0"
        ],
        [
         "2",
         "0.44",
         "0.365",
         "0.125",
         "0.516",
         "0.2155",
         "0.114",
         "0.155",
         "0.0",
         "1.0"
        ],
        [
         "3",
         "0.33",
         "0.255",
         "0.08",
         "0.205",
         "0.0895",
         "0.0395",
         "0.055",
         "1.0",
         "0.0"
        ],
        [
         "4",
         "0.425",
         "0.3",
         "0.095",
         "0.3515",
         "0.141",
         "0.0775",
         "0.12",
         "1.0",
         "0.0"
        ],
        [
         "5",
         "0.53",
         "0.415",
         "0.15",
         "0.7775",
         "0.237",
         "0.1415",
         "0.33",
         "0.0",
         "0.0"
        ],
        [
         "6",
         "0.545",
         "0.425",
         "0.125",
         "0.768",
         "0.294",
         "0.1495",
         "0.26",
         "0.0",
         "0.0"
        ],
        [
         "7",
         "0.475",
         "0.37",
         "0.125",
         "0.5095",
         "0.2165",
         "0.1125",
         "0.165",
         "0.0",
         "1.0"
        ],
        [
         "8",
         "0.55",
         "0.44",
         "0.15",
         "0.8945",
         "0.3145",
         "0.151",
         "0.32",
         "0.0",
         "0.0"
        ],
        [
         "9",
         "0.525",
         "0.38",
         "0.14",
         "0.6065",
         "0.194",
         "0.1475",
         "0.21",
         "0.0",
         "0.0"
        ],
        [
         "10",
         "0.43",
         "0.35",
         "0.11",
         "0.406",
         "0.1675",
         "0.081",
         "0.135",
         "0.0",
         "1.0"
        ],
        [
         "11",
         "0.49",
         "0.38",
         "0.135",
         "0.5415",
         "0.2175",
         "0.095",
         "0.19",
         "0.0",
         "1.0"
        ],
        [
         "12",
         "0.535",
         "0.405",
         "0.145",
         "0.6845",
         "0.2725",
         "0.171",
         "0.205",
         "0.0",
         "0.0"
        ],
        [
         "13",
         "0.47",
         "0.355",
         "0.1",
         "0.4755",
         "0.1675",
         "0.0805",
         "0.185",
         "0.0",
         "0.0"
        ],
        [
         "14",
         "0.5",
         "0.4",
         "0.13",
         "0.6645",
         "0.258",
         "0.133",
         "0.24",
         "0.0",
         "1.0"
        ],
        [
         "15",
         "0.355",
         "0.28",
         "0.085",
         "0.2905",
         "0.095",
         "0.0395",
         "0.115",
         "1.0",
         "0.0"
        ],
        [
         "16",
         "0.44",
         "0.34",
         "0.1",
         "0.451",
         "0.188",
         "0.087",
         "0.13",
         "0.0",
         "0.0"
        ],
        [
         "17",
         "0.365",
         "0.295",
         "0.08",
         "0.2555",
         "0.097",
         "0.043",
         "0.1",
         "0.0",
         "1.0"
        ],
        [
         "18",
         "0.45",
         "0.32",
         "0.1",
         "0.381",
         "0.1705",
         "0.075",
         "0.115",
         "0.0",
         "1.0"
        ],
        [
         "19",
         "0.355",
         "0.28",
         "0.095",
         "0.2455",
         "0.0955",
         "0.062",
         "0.075",
         "0.0",
         "1.0"
        ],
        [
         "20",
         "0.38",
         "0.275",
         "0.1",
         "0.2255",
         "0.08",
         "0.049",
         "0.085",
         "1.0",
         "0.0"
        ],
        [
         "21",
         "0.565",
         "0.44",
         "0.155",
         "0.9395",
         "0.4275",
         "0.214",
         "0.27",
         "0.0",
         "0.0"
        ],
        [
         "22",
         "0.55",
         "0.415",
         "0.135",
         "0.7635",
         "0.318",
         "0.21",
         "0.2",
         "0.0",
         "0.0"
        ],
        [
         "23",
         "0.615",
         "0.48",
         "0.165",
         "1.1615",
         "0.513",
         "0.301",
         "0.305",
         "0.0",
         "0.0"
        ],
        [
         "24",
         "0.56",
         "0.44",
         "0.14",
         "0.9285",
         "0.3825",
         "0.188",
         "0.3",
         "0.0",
         "0.0"
        ],
        [
         "25",
         "0.58",
         "0.45",
         "0.185",
         "0.9955",
         "0.3945",
         "0.272",
         "0.285",
         "0.0",
         "0.0"
        ],
        [
         "26",
         "0.59",
         "0.445",
         "0.14",
         "0.931",
         "0.356",
         "0.234",
         "0.28",
         "0.0",
         "1.0"
        ],
        [
         "27",
         "0.605",
         "0.475",
         "0.18",
         "0.9365",
         "0.394",
         "0.219",
         "0.295",
         "0.0",
         "1.0"
        ],
        [
         "28",
         "0.575",
         "0.425",
         "0.14",
         "0.8635",
         "0.393",
         "0.227",
         "0.2",
         "0.0",
         "1.0"
        ],
        [
         "29",
         "0.58",
         "0.47",
         "0.165",
         "0.9975",
         "0.3935",
         "0.242",
         "0.33",
         "0.0",
         "1.0"
        ],
        [
         "30",
         "0.68",
         "0.56",
         "0.165",
         "1.639",
         "0.6055",
         "0.2805",
         "0.46",
         "0.0",
         "0.0"
        ],
        [
         "31",
         "0.665",
         "0.525",
         "0.165",
         "1.338",
         "0.5515",
         "0.3575",
         "0.35",
         "0.0",
         "1.0"
        ],
        [
         "32",
         "0.68",
         "0.55",
         "0.175",
         "1.798",
         "0.815",
         "0.3925",
         "0.455",
         "0.0",
         "0.0"
        ],
        [
         "33",
         "0.705",
         "0.55",
         "0.2",
         "1.7095",
         "0.633",
         "0.4115",
         "0.49",
         "0.0",
         "0.0"
        ],
        [
         "34",
         "0.465",
         "0.355",
         "0.105",
         "0.4795",
         "0.227",
         "0.124",
         "0.125",
         "0.0",
         "1.0"
        ],
        [
         "35",
         "0.54",
         "0.475",
         "0.155",
         "1.217",
         "0.5305",
         "0.3075",
         "0.34",
         "0.0",
         "0.0"
        ],
        [
         "36",
         "0.45",
         "0.355",
         "0.105",
         "0.5225",
         "0.237",
         "0.1165",
         "0.145",
         "0.0",
         "0.0"
        ],
        [
         "37",
         "0.575",
         "0.445",
         "0.135",
         "0.883",
         "0.381",
         "0.2035",
         "0.26",
         "0.0",
         "0.0"
        ],
        [
         "38",
         "0.355",
         "0.29",
         "0.09",
         "0.3275",
         "0.134",
         "0.086",
         "0.09",
         "0.0",
         "1.0"
        ],
        [
         "39",
         "0.45",
         "0.335",
         "0.105",
         "0.425",
         "0.1865",
         "0.091",
         "0.115",
         "0.0",
         "0.0"
        ],
        [
         "40",
         "0.55",
         "0.425",
         "0.135",
         "0.8515",
         "0.362",
         "0.196",
         "0.27",
         "0.0",
         "0.0"
        ],
        [
         "41",
         "0.24",
         "0.175",
         "0.045",
         "0.07",
         "0.0315",
         "0.0235",
         "0.02",
         "1.0",
         "0.0"
        ],
        [
         "42",
         "0.205",
         "0.15",
         "0.055",
         "0.042",
         "0.0255",
         "0.015",
         "0.012",
         "1.0",
         "0.0"
        ],
        [
         "43",
         "0.21",
         "0.15",
         "0.05",
         "0.042",
         "0.0175",
         "0.0125",
         "0.015",
         "1.0",
         "0.0"
        ],
        [
         "44",
         "0.39",
         "0.295",
         "0.095",
         "0.203",
         "0.0875",
         "0.045",
         "0.075",
         "1.0",
         "0.0"
        ],
        [
         "45",
         "0.47",
         "0.37",
         "0.12",
         "0.5795",
         "0.293",
         "0.227",
         "0.14",
         "0.0",
         "1.0"
        ],
        [
         "46",
         "0.46",
         "0.375",
         "0.12",
         "0.4605",
         "0.1775",
         "0.11",
         "0.15",
         "0.0",
         "0.0"
        ],
        [
         "47",
         "0.325",
         "0.245",
         "0.07",
         "0.161",
         "0.0755",
         "0.0255",
         "0.045",
         "1.0",
         "0.0"
        ],
        [
         "48",
         "0.525",
         "0.425",
         "0.16",
         "0.8355",
         "0.3545",
         "0.2135",
         "0.245",
         "0.0",
         "0.0"
        ],
        [
         "49",
         "0.52",
         "0.41",
         "0.12",
         "0.595",
         "0.2385",
         "0.111",
         "0.19",
         "1.0",
         "0.0"
        ]
       ],
       "shape": {
        "columns": 9,
        "rows": 4176
       }
      },
      "text/html": [
       "<div>\n",
       "<style scoped>\n",
       "    .dataframe tbody tr th:only-of-type {\n",
       "        vertical-align: middle;\n",
       "    }\n",
       "\n",
       "    .dataframe tbody tr th {\n",
       "        vertical-align: top;\n",
       "    }\n",
       "\n",
       "    .dataframe thead th {\n",
       "        text-align: right;\n",
       "    }\n",
       "</style>\n",
       "<table border=\"1\" class=\"dataframe\">\n",
       "  <thead>\n",
       "    <tr style=\"text-align: right;\">\n",
       "      <th></th>\n",
       "      <th>Length</th>\n",
       "      <th>Diameter</th>\n",
       "      <th>Height</th>\n",
       "      <th>Weight</th>\n",
       "      <th>Shucked_weight</th>\n",
       "      <th>Viscera_weight</th>\n",
       "      <th>Shell_weight</th>\n",
       "      <th>Sex_I</th>\n",
       "      <th>Sex_M</th>\n",
       "    </tr>\n",
       "  </thead>\n",
       "  <tbody>\n",
       "    <tr>\n",
       "      <th>0</th>\n",
       "      <td>0.350</td>\n",
       "      <td>0.265</td>\n",
       "      <td>0.090</td>\n",
       "      <td>0.2255</td>\n",
       "      <td>0.0995</td>\n",
       "      <td>0.0485</td>\n",
       "      <td>0.0700</td>\n",
       "      <td>0.0</td>\n",
       "      <td>1.0</td>\n",
       "    </tr>\n",
       "    <tr>\n",
       "      <th>1</th>\n",
       "      <td>0.530</td>\n",
       "      <td>0.420</td>\n",
       "      <td>0.135</td>\n",
       "      <td>0.6770</td>\n",
       "      <td>0.2565</td>\n",
       "      <td>0.1415</td>\n",
       "      <td>0.2100</td>\n",
       "      <td>0.0</td>\n",
       "      <td>0.0</td>\n",
       "    </tr>\n",
       "    <tr>\n",
       "      <th>2</th>\n",
       "      <td>0.440</td>\n",
       "      <td>0.365</td>\n",
       "      <td>0.125</td>\n",
       "      <td>0.5160</td>\n",
       "      <td>0.2155</td>\n",
       "      <td>0.1140</td>\n",
       "      <td>0.1550</td>\n",
       "      <td>0.0</td>\n",
       "      <td>1.0</td>\n",
       "    </tr>\n",
       "    <tr>\n",
       "      <th>3</th>\n",
       "      <td>0.330</td>\n",
       "      <td>0.255</td>\n",
       "      <td>0.080</td>\n",
       "      <td>0.2050</td>\n",
       "      <td>0.0895</td>\n",
       "      <td>0.0395</td>\n",
       "      <td>0.0550</td>\n",
       "      <td>1.0</td>\n",
       "      <td>0.0</td>\n",
       "    </tr>\n",
       "    <tr>\n",
       "      <th>4</th>\n",
       "      <td>0.425</td>\n",
       "      <td>0.300</td>\n",
       "      <td>0.095</td>\n",
       "      <td>0.3515</td>\n",
       "      <td>0.1410</td>\n",
       "      <td>0.0775</td>\n",
       "      <td>0.1200</td>\n",
       "      <td>1.0</td>\n",
       "      <td>0.0</td>\n",
       "    </tr>\n",
       "    <tr>\n",
       "      <th>...</th>\n",
       "      <td>...</td>\n",
       "      <td>...</td>\n",
       "      <td>...</td>\n",
       "      <td>...</td>\n",
       "      <td>...</td>\n",
       "      <td>...</td>\n",
       "      <td>...</td>\n",
       "      <td>...</td>\n",
       "      <td>...</td>\n",
       "    </tr>\n",
       "    <tr>\n",
       "      <th>4171</th>\n",
       "      <td>0.565</td>\n",
       "      <td>0.450</td>\n",
       "      <td>0.165</td>\n",
       "      <td>0.8870</td>\n",
       "      <td>0.3700</td>\n",
       "      <td>0.2390</td>\n",
       "      <td>0.2490</td>\n",
       "      <td>0.0</td>\n",
       "      <td>0.0</td>\n",
       "    </tr>\n",
       "    <tr>\n",
       "      <th>4172</th>\n",
       "      <td>0.590</td>\n",
       "      <td>0.440</td>\n",
       "      <td>0.135</td>\n",
       "      <td>0.9660</td>\n",
       "      <td>0.4390</td>\n",
       "      <td>0.2145</td>\n",
       "      <td>0.2605</td>\n",
       "      <td>0.0</td>\n",
       "      <td>1.0</td>\n",
       "    </tr>\n",
       "    <tr>\n",
       "      <th>4173</th>\n",
       "      <td>0.600</td>\n",
       "      <td>0.475</td>\n",
       "      <td>0.205</td>\n",
       "      <td>1.1760</td>\n",
       "      <td>0.5255</td>\n",
       "      <td>0.2875</td>\n",
       "      <td>0.3080</td>\n",
       "      <td>0.0</td>\n",
       "      <td>1.0</td>\n",
       "    </tr>\n",
       "    <tr>\n",
       "      <th>4174</th>\n",
       "      <td>0.625</td>\n",
       "      <td>0.485</td>\n",
       "      <td>0.150</td>\n",
       "      <td>1.0945</td>\n",
       "      <td>0.5310</td>\n",
       "      <td>0.2610</td>\n",
       "      <td>0.2960</td>\n",
       "      <td>0.0</td>\n",
       "      <td>0.0</td>\n",
       "    </tr>\n",
       "    <tr>\n",
       "      <th>4175</th>\n",
       "      <td>0.710</td>\n",
       "      <td>0.555</td>\n",
       "      <td>0.195</td>\n",
       "      <td>1.9485</td>\n",
       "      <td>0.9455</td>\n",
       "      <td>0.3765</td>\n",
       "      <td>0.4950</td>\n",
       "      <td>0.0</td>\n",
       "      <td>1.0</td>\n",
       "    </tr>\n",
       "  </tbody>\n",
       "</table>\n",
       "<p>4176 rows × 9 columns</p>\n",
       "</div>"
      ],
      "text/plain": [
       "      Length  Diameter  Height  Weight  Shucked_weight  Viscera_weight  \\\n",
       "0      0.350     0.265   0.090  0.2255          0.0995          0.0485   \n",
       "1      0.530     0.420   0.135  0.6770          0.2565          0.1415   \n",
       "2      0.440     0.365   0.125  0.5160          0.2155          0.1140   \n",
       "3      0.330     0.255   0.080  0.2050          0.0895          0.0395   \n",
       "4      0.425     0.300   0.095  0.3515          0.1410          0.0775   \n",
       "...      ...       ...     ...     ...             ...             ...   \n",
       "4171   0.565     0.450   0.165  0.8870          0.3700          0.2390   \n",
       "4172   0.590     0.440   0.135  0.9660          0.4390          0.2145   \n",
       "4173   0.600     0.475   0.205  1.1760          0.5255          0.2875   \n",
       "4174   0.625     0.485   0.150  1.0945          0.5310          0.2610   \n",
       "4175   0.710     0.555   0.195  1.9485          0.9455          0.3765   \n",
       "\n",
       "      Shell_weight  Sex_I  Sex_M  \n",
       "0           0.0700    0.0    1.0  \n",
       "1           0.2100    0.0    0.0  \n",
       "2           0.1550    0.0    1.0  \n",
       "3           0.0550    1.0    0.0  \n",
       "4           0.1200    1.0    0.0  \n",
       "...            ...    ...    ...  \n",
       "4171        0.2490    0.0    0.0  \n",
       "4172        0.2605    0.0    1.0  \n",
       "4173        0.3080    0.0    1.0  \n",
       "4174        0.2960    0.0    0.0  \n",
       "4175        0.4950    0.0    1.0  \n",
       "\n",
       "[4176 rows x 9 columns]"
      ]
     },
     "execution_count": 12,
     "metadata": {},
     "output_type": "execute_result"
    }
   ],
   "source": [
    "X"
   ]
  },
  {
   "cell_type": "code",
   "execution_count": 13,
   "id": "cbdfb606",
   "metadata": {},
   "outputs": [
    {
     "data": {
      "application/vnd.microsoft.datawrangler.viewer.v0+json": {
       "columns": [
        {
         "name": "index",
         "rawType": "int64",
         "type": "integer"
        },
        {
         "name": "Sex",
         "rawType": "object",
         "type": "string"
        },
        {
         "name": "Length",
         "rawType": "float64",
         "type": "float"
        },
        {
         "name": "Diameter",
         "rawType": "float64",
         "type": "float"
        },
        {
         "name": "Height",
         "rawType": "float64",
         "type": "float"
        },
        {
         "name": "Weight",
         "rawType": "float64",
         "type": "float"
        },
        {
         "name": "Shucked_weight",
         "rawType": "float64",
         "type": "float"
        },
        {
         "name": "Viscera_weight",
         "rawType": "float64",
         "type": "float"
        },
        {
         "name": "Shell_weight",
         "rawType": "float64",
         "type": "float"
        },
        {
         "name": "Age",
         "rawType": "int64",
         "type": "integer"
        }
       ],
       "ref": "71420dcf-ef6a-4b47-9afc-489f419e8e99",
       "rows": [
        [
         "0",
         "M",
         "0.35",
         "0.265",
         "0.09",
         "0.2255",
         "0.0995",
         "0.0485",
         "0.07",
         "7"
        ],
        [
         "1",
         "F",
         "0.53",
         "0.42",
         "0.135",
         "0.677",
         "0.2565",
         "0.1415",
         "0.21",
         "9"
        ],
        [
         "2",
         "M",
         "0.44",
         "0.365",
         "0.125",
         "0.516",
         "0.2155",
         "0.114",
         "0.155",
         "10"
        ],
        [
         "3",
         "I",
         "0.33",
         "0.255",
         "0.08",
         "0.205",
         "0.0895",
         "0.0395",
         "0.055",
         "7"
        ],
        [
         "4",
         "I",
         "0.425",
         "0.3",
         "0.095",
         "0.3515",
         "0.141",
         "0.0775",
         "0.12",
         "8"
        ],
        [
         "5",
         "F",
         "0.53",
         "0.415",
         "0.15",
         "0.7775",
         "0.237",
         "0.1415",
         "0.33",
         "20"
        ],
        [
         "6",
         "F",
         "0.545",
         "0.425",
         "0.125",
         "0.768",
         "0.294",
         "0.1495",
         "0.26",
         "16"
        ],
        [
         "7",
         "M",
         "0.475",
         "0.37",
         "0.125",
         "0.5095",
         "0.2165",
         "0.1125",
         "0.165",
         "9"
        ],
        [
         "8",
         "F",
         "0.55",
         "0.44",
         "0.15",
         "0.8945",
         "0.3145",
         "0.151",
         "0.32",
         "19"
        ],
        [
         "9",
         "F",
         "0.525",
         "0.38",
         "0.14",
         "0.6065",
         "0.194",
         "0.1475",
         "0.21",
         "14"
        ],
        [
         "10",
         "M",
         "0.43",
         "0.35",
         "0.11",
         "0.406",
         "0.1675",
         "0.081",
         "0.135",
         "10"
        ],
        [
         "11",
         "M",
         "0.49",
         "0.38",
         "0.135",
         "0.5415",
         "0.2175",
         "0.095",
         "0.19",
         "11"
        ],
        [
         "12",
         "F",
         "0.535",
         "0.405",
         "0.145",
         "0.6845",
         "0.2725",
         "0.171",
         "0.205",
         "10"
        ],
        [
         "13",
         "F",
         "0.47",
         "0.355",
         "0.1",
         "0.4755",
         "0.1675",
         "0.0805",
         "0.185",
         "10"
        ],
        [
         "14",
         "M",
         "0.5",
         "0.4",
         "0.13",
         "0.6645",
         "0.258",
         "0.133",
         "0.24",
         "12"
        ],
        [
         "15",
         "I",
         "0.355",
         "0.28",
         "0.085",
         "0.2905",
         "0.095",
         "0.0395",
         "0.115",
         "7"
        ],
        [
         "16",
         "F",
         "0.44",
         "0.34",
         "0.1",
         "0.451",
         "0.188",
         "0.087",
         "0.13",
         "10"
        ],
        [
         "17",
         "M",
         "0.365",
         "0.295",
         "0.08",
         "0.2555",
         "0.097",
         "0.043",
         "0.1",
         "7"
        ],
        [
         "18",
         "M",
         "0.45",
         "0.32",
         "0.1",
         "0.381",
         "0.1705",
         "0.075",
         "0.115",
         "9"
        ],
        [
         "19",
         "M",
         "0.355",
         "0.28",
         "0.095",
         "0.2455",
         "0.0955",
         "0.062",
         "0.075",
         "11"
        ],
        [
         "20",
         "I",
         "0.38",
         "0.275",
         "0.1",
         "0.2255",
         "0.08",
         "0.049",
         "0.085",
         "10"
        ],
        [
         "21",
         "F",
         "0.565",
         "0.44",
         "0.155",
         "0.9395",
         "0.4275",
         "0.214",
         "0.27",
         "12"
        ],
        [
         "22",
         "F",
         "0.55",
         "0.415",
         "0.135",
         "0.7635",
         "0.318",
         "0.21",
         "0.2",
         "9"
        ],
        [
         "23",
         "F",
         "0.615",
         "0.48",
         "0.165",
         "1.1615",
         "0.513",
         "0.301",
         "0.305",
         "10"
        ],
        [
         "24",
         "F",
         "0.56",
         "0.44",
         "0.14",
         "0.9285",
         "0.3825",
         "0.188",
         "0.3",
         "11"
        ],
        [
         "25",
         "F",
         "0.58",
         "0.45",
         "0.185",
         "0.9955",
         "0.3945",
         "0.272",
         "0.285",
         "11"
        ],
        [
         "26",
         "M",
         "0.59",
         "0.445",
         "0.14",
         "0.931",
         "0.356",
         "0.234",
         "0.28",
         "12"
        ],
        [
         "27",
         "M",
         "0.605",
         "0.475",
         "0.18",
         "0.9365",
         "0.394",
         "0.219",
         "0.295",
         "15"
        ],
        [
         "28",
         "M",
         "0.575",
         "0.425",
         "0.14",
         "0.8635",
         "0.393",
         "0.227",
         "0.2",
         "11"
        ],
        [
         "29",
         "M",
         "0.58",
         "0.47",
         "0.165",
         "0.9975",
         "0.3935",
         "0.242",
         "0.33",
         "10"
        ],
        [
         "30",
         "F",
         "0.68",
         "0.56",
         "0.165",
         "1.639",
         "0.6055",
         "0.2805",
         "0.46",
         "15"
        ],
        [
         "31",
         "M",
         "0.665",
         "0.525",
         "0.165",
         "1.338",
         "0.5515",
         "0.3575",
         "0.35",
         "18"
        ],
        [
         "32",
         "F",
         "0.68",
         "0.55",
         "0.175",
         "1.798",
         "0.815",
         "0.3925",
         "0.455",
         "19"
        ],
        [
         "33",
         "F",
         "0.705",
         "0.55",
         "0.2",
         "1.7095",
         "0.633",
         "0.4115",
         "0.49",
         "13"
        ],
        [
         "34",
         "M",
         "0.465",
         "0.355",
         "0.105",
         "0.4795",
         "0.227",
         "0.124",
         "0.125",
         "8"
        ],
        [
         "35",
         "F",
         "0.54",
         "0.475",
         "0.155",
         "1.217",
         "0.5305",
         "0.3075",
         "0.34",
         "16"
        ],
        [
         "36",
         "F",
         "0.45",
         "0.355",
         "0.105",
         "0.5225",
         "0.237",
         "0.1165",
         "0.145",
         "8"
        ],
        [
         "37",
         "F",
         "0.575",
         "0.445",
         "0.135",
         "0.883",
         "0.381",
         "0.2035",
         "0.26",
         "11"
        ],
        [
         "38",
         "M",
         "0.355",
         "0.29",
         "0.09",
         "0.3275",
         "0.134",
         "0.086",
         "0.09",
         "9"
        ],
        [
         "39",
         "F",
         "0.45",
         "0.335",
         "0.105",
         "0.425",
         "0.1865",
         "0.091",
         "0.115",
         "9"
        ],
        [
         "40",
         "F",
         "0.55",
         "0.425",
         "0.135",
         "0.8515",
         "0.362",
         "0.196",
         "0.27",
         "14"
        ],
        [
         "41",
         "I",
         "0.24",
         "0.175",
         "0.045",
         "0.07",
         "0.0315",
         "0.0235",
         "0.02",
         "5"
        ],
        [
         "42",
         "I",
         "0.205",
         "0.15",
         "0.055",
         "0.042",
         "0.0255",
         "0.015",
         "0.012",
         "5"
        ],
        [
         "43",
         "I",
         "0.21",
         "0.15",
         "0.05",
         "0.042",
         "0.0175",
         "0.0125",
         "0.015",
         "4"
        ],
        [
         "44",
         "I",
         "0.39",
         "0.295",
         "0.095",
         "0.203",
         "0.0875",
         "0.045",
         "0.075",
         "7"
        ],
        [
         "45",
         "M",
         "0.47",
         "0.37",
         "0.12",
         "0.5795",
         "0.293",
         "0.227",
         "0.14",
         "9"
        ],
        [
         "46",
         "F",
         "0.46",
         "0.375",
         "0.12",
         "0.4605",
         "0.1775",
         "0.11",
         "0.15",
         "7"
        ],
        [
         "47",
         "I",
         "0.325",
         "0.245",
         "0.07",
         "0.161",
         "0.0755",
         "0.0255",
         "0.045",
         "6"
        ],
        [
         "48",
         "F",
         "0.525",
         "0.425",
         "0.16",
         "0.8355",
         "0.3545",
         "0.2135",
         "0.245",
         "9"
        ],
        [
         "49",
         "I",
         "0.52",
         "0.41",
         "0.12",
         "0.595",
         "0.2385",
         "0.111",
         "0.19",
         "8"
        ]
       ],
       "shape": {
        "columns": 9,
        "rows": 4176
       }
      },
      "text/html": [
       "<div>\n",
       "<style scoped>\n",
       "    .dataframe tbody tr th:only-of-type {\n",
       "        vertical-align: middle;\n",
       "    }\n",
       "\n",
       "    .dataframe tbody tr th {\n",
       "        vertical-align: top;\n",
       "    }\n",
       "\n",
       "    .dataframe thead th {\n",
       "        text-align: right;\n",
       "    }\n",
       "</style>\n",
       "<table border=\"1\" class=\"dataframe\">\n",
       "  <thead>\n",
       "    <tr style=\"text-align: right;\">\n",
       "      <th></th>\n",
       "      <th>Sex</th>\n",
       "      <th>Length</th>\n",
       "      <th>Diameter</th>\n",
       "      <th>Height</th>\n",
       "      <th>Weight</th>\n",
       "      <th>Shucked_weight</th>\n",
       "      <th>Viscera_weight</th>\n",
       "      <th>Shell_weight</th>\n",
       "      <th>Age</th>\n",
       "    </tr>\n",
       "  </thead>\n",
       "  <tbody>\n",
       "    <tr>\n",
       "      <th>0</th>\n",
       "      <td>M</td>\n",
       "      <td>0.350</td>\n",
       "      <td>0.265</td>\n",
       "      <td>0.090</td>\n",
       "      <td>0.2255</td>\n",
       "      <td>0.0995</td>\n",
       "      <td>0.0485</td>\n",
       "      <td>0.0700</td>\n",
       "      <td>7</td>\n",
       "    </tr>\n",
       "    <tr>\n",
       "      <th>1</th>\n",
       "      <td>F</td>\n",
       "      <td>0.530</td>\n",
       "      <td>0.420</td>\n",
       "      <td>0.135</td>\n",
       "      <td>0.6770</td>\n",
       "      <td>0.2565</td>\n",
       "      <td>0.1415</td>\n",
       "      <td>0.2100</td>\n",
       "      <td>9</td>\n",
       "    </tr>\n",
       "    <tr>\n",
       "      <th>2</th>\n",
       "      <td>M</td>\n",
       "      <td>0.440</td>\n",
       "      <td>0.365</td>\n",
       "      <td>0.125</td>\n",
       "      <td>0.5160</td>\n",
       "      <td>0.2155</td>\n",
       "      <td>0.1140</td>\n",
       "      <td>0.1550</td>\n",
       "      <td>10</td>\n",
       "    </tr>\n",
       "    <tr>\n",
       "      <th>3</th>\n",
       "      <td>I</td>\n",
       "      <td>0.330</td>\n",
       "      <td>0.255</td>\n",
       "      <td>0.080</td>\n",
       "      <td>0.2050</td>\n",
       "      <td>0.0895</td>\n",
       "      <td>0.0395</td>\n",
       "      <td>0.0550</td>\n",
       "      <td>7</td>\n",
       "    </tr>\n",
       "    <tr>\n",
       "      <th>4</th>\n",
       "      <td>I</td>\n",
       "      <td>0.425</td>\n",
       "      <td>0.300</td>\n",
       "      <td>0.095</td>\n",
       "      <td>0.3515</td>\n",
       "      <td>0.1410</td>\n",
       "      <td>0.0775</td>\n",
       "      <td>0.1200</td>\n",
       "      <td>8</td>\n",
       "    </tr>\n",
       "    <tr>\n",
       "      <th>...</th>\n",
       "      <td>...</td>\n",
       "      <td>...</td>\n",
       "      <td>...</td>\n",
       "      <td>...</td>\n",
       "      <td>...</td>\n",
       "      <td>...</td>\n",
       "      <td>...</td>\n",
       "      <td>...</td>\n",
       "      <td>...</td>\n",
       "    </tr>\n",
       "    <tr>\n",
       "      <th>4171</th>\n",
       "      <td>F</td>\n",
       "      <td>0.565</td>\n",
       "      <td>0.450</td>\n",
       "      <td>0.165</td>\n",
       "      <td>0.8870</td>\n",
       "      <td>0.3700</td>\n",
       "      <td>0.2390</td>\n",
       "      <td>0.2490</td>\n",
       "      <td>11</td>\n",
       "    </tr>\n",
       "    <tr>\n",
       "      <th>4172</th>\n",
       "      <td>M</td>\n",
       "      <td>0.590</td>\n",
       "      <td>0.440</td>\n",
       "      <td>0.135</td>\n",
       "      <td>0.9660</td>\n",
       "      <td>0.4390</td>\n",
       "      <td>0.2145</td>\n",
       "      <td>0.2605</td>\n",
       "      <td>10</td>\n",
       "    </tr>\n",
       "    <tr>\n",
       "      <th>4173</th>\n",
       "      <td>M</td>\n",
       "      <td>0.600</td>\n",
       "      <td>0.475</td>\n",
       "      <td>0.205</td>\n",
       "      <td>1.1760</td>\n",
       "      <td>0.5255</td>\n",
       "      <td>0.2875</td>\n",
       "      <td>0.3080</td>\n",
       "      <td>9</td>\n",
       "    </tr>\n",
       "    <tr>\n",
       "      <th>4174</th>\n",
       "      <td>F</td>\n",
       "      <td>0.625</td>\n",
       "      <td>0.485</td>\n",
       "      <td>0.150</td>\n",
       "      <td>1.0945</td>\n",
       "      <td>0.5310</td>\n",
       "      <td>0.2610</td>\n",
       "      <td>0.2960</td>\n",
       "      <td>10</td>\n",
       "    </tr>\n",
       "    <tr>\n",
       "      <th>4175</th>\n",
       "      <td>M</td>\n",
       "      <td>0.710</td>\n",
       "      <td>0.555</td>\n",
       "      <td>0.195</td>\n",
       "      <td>1.9485</td>\n",
       "      <td>0.9455</td>\n",
       "      <td>0.3765</td>\n",
       "      <td>0.4950</td>\n",
       "      <td>12</td>\n",
       "    </tr>\n",
       "  </tbody>\n",
       "</table>\n",
       "<p>4176 rows × 9 columns</p>\n",
       "</div>"
      ],
      "text/plain": [
       "     Sex  Length  Diameter  Height  Weight  Shucked_weight  Viscera_weight  \\\n",
       "0      M   0.350     0.265   0.090  0.2255          0.0995          0.0485   \n",
       "1      F   0.530     0.420   0.135  0.6770          0.2565          0.1415   \n",
       "2      M   0.440     0.365   0.125  0.5160          0.2155          0.1140   \n",
       "3      I   0.330     0.255   0.080  0.2050          0.0895          0.0395   \n",
       "4      I   0.425     0.300   0.095  0.3515          0.1410          0.0775   \n",
       "...   ..     ...       ...     ...     ...             ...             ...   \n",
       "4171   F   0.565     0.450   0.165  0.8870          0.3700          0.2390   \n",
       "4172   M   0.590     0.440   0.135  0.9660          0.4390          0.2145   \n",
       "4173   M   0.600     0.475   0.205  1.1760          0.5255          0.2875   \n",
       "4174   F   0.625     0.485   0.150  1.0945          0.5310          0.2610   \n",
       "4175   M   0.710     0.555   0.195  1.9485          0.9455          0.3765   \n",
       "\n",
       "      Shell_weight  Age  \n",
       "0           0.0700    7  \n",
       "1           0.2100    9  \n",
       "2           0.1550   10  \n",
       "3           0.0550    7  \n",
       "4           0.1200    8  \n",
       "...            ...  ...  \n",
       "4171        0.2490   11  \n",
       "4172        0.2605   10  \n",
       "4173        0.3080    9  \n",
       "4174        0.2960   10  \n",
       "4175        0.4950   12  \n",
       "\n",
       "[4176 rows x 9 columns]"
      ]
     },
     "execution_count": 13,
     "metadata": {},
     "output_type": "execute_result"
    }
   ],
   "source": [
    "df_clean"
   ]
  },
  {
   "cell_type": "code",
   "execution_count": 14,
   "id": "7b43156d",
   "metadata": {},
   "outputs": [
    {
     "data": {
      "application/vnd.microsoft.datawrangler.viewer.v0+json": {
       "columns": [
        {
         "name": "index",
         "rawType": "object",
         "type": "string"
        },
        {
         "name": "0",
         "rawType": "float64",
         "type": "float"
        }
       ],
       "ref": "219f1bc7-38b4-41c2-a1f4-4617f7530fd6",
       "rows": [
        [
         "Age",
         "1.1151569098189447"
        ]
       ],
       "shape": {
        "columns": 1,
        "rows": 1
       }
      },
      "text/plain": [
       "Age    1.115157\n",
       "dtype: float64"
      ]
     },
     "execution_count": 14,
     "metadata": {},
     "output_type": "execute_result"
    }
   ],
   "source": [
    "y.skew()"
   ]
  },
  {
   "cell_type": "code",
   "execution_count": 15,
   "id": "2c2c423c",
   "metadata": {},
   "outputs": [],
   "source": [
    "y_log=np.log1p(y)"
   ]
  },
  {
   "cell_type": "code",
   "execution_count": 16,
   "id": "e88b0af6",
   "metadata": {},
   "outputs": [
    {
     "data": {
      "application/vnd.microsoft.datawrangler.viewer.v0+json": {
       "columns": [
        {
         "name": "index",
         "rawType": "object",
         "type": "string"
        },
        {
         "name": "0",
         "rawType": "float64",
         "type": "float"
        }
       ],
       "ref": "31686f8c-6b57-451c-ba49-e08f82c518f0",
       "rows": [
        [
         "Age",
         "1.1151569098189447"
        ]
       ],
       "shape": {
        "columns": 1,
        "rows": 1
       }
      },
      "text/plain": [
       "Age    1.115157\n",
       "dtype: float64"
      ]
     },
     "execution_count": 16,
     "metadata": {},
     "output_type": "execute_result"
    }
   ],
   "source": [
    "y.skew()"
   ]
  },
  {
   "cell_type": "code",
   "execution_count": 17,
   "id": "266274ce",
   "metadata": {},
   "outputs": [
    {
     "data": {
      "application/vnd.microsoft.datawrangler.viewer.v0+json": {
       "columns": [
        {
         "name": "index",
         "rawType": "object",
         "type": "string"
        },
        {
         "name": "0",
         "rawType": "float64",
         "type": "float"
        }
       ],
       "ref": "7afdc801-388f-47c6-ad9b-29776b570b18",
       "rows": [
        [
         "Age",
         "-0.06106510678632301"
        ]
       ],
       "shape": {
        "columns": 1,
        "rows": 1
       }
      },
      "text/plain": [
       "Age   -0.061065\n",
       "dtype: float64"
      ]
     },
     "execution_count": 17,
     "metadata": {},
     "output_type": "execute_result"
    }
   ],
   "source": [
    "y_log.skew()"
   ]
  },
  {
   "cell_type": "code",
   "execution_count": 18,
   "id": "0d6aa0ee",
   "metadata": {},
   "outputs": [
    {
     "data": {
      "application/vnd.microsoft.datawrangler.viewer.v0+json": {
       "columns": [
        {
         "name": "index",
         "rawType": "int64",
         "type": "integer"
        },
        {
         "name": "Age",
         "rawType": "int64",
         "type": "integer"
        }
       ],
       "ref": "c3b0699e-816f-4c7f-b025-33a5a1e4a03c",
       "rows": [
        [
         "0",
         "7"
        ],
        [
         "1",
         "9"
        ],
        [
         "2",
         "10"
        ],
        [
         "3",
         "7"
        ],
        [
         "4",
         "8"
        ],
        [
         "5",
         "20"
        ],
        [
         "6",
         "16"
        ],
        [
         "7",
         "9"
        ],
        [
         "8",
         "19"
        ],
        [
         "9",
         "14"
        ],
        [
         "10",
         "10"
        ],
        [
         "11",
         "11"
        ],
        [
         "12",
         "10"
        ],
        [
         "13",
         "10"
        ],
        [
         "14",
         "12"
        ],
        [
         "15",
         "7"
        ],
        [
         "16",
         "10"
        ],
        [
         "17",
         "7"
        ],
        [
         "18",
         "9"
        ],
        [
         "19",
         "11"
        ],
        [
         "20",
         "10"
        ],
        [
         "21",
         "12"
        ],
        [
         "22",
         "9"
        ],
        [
         "23",
         "10"
        ],
        [
         "24",
         "11"
        ],
        [
         "25",
         "11"
        ],
        [
         "26",
         "12"
        ],
        [
         "27",
         "15"
        ],
        [
         "28",
         "11"
        ],
        [
         "29",
         "10"
        ],
        [
         "30",
         "15"
        ],
        [
         "31",
         "18"
        ],
        [
         "32",
         "19"
        ],
        [
         "33",
         "13"
        ],
        [
         "34",
         "8"
        ],
        [
         "35",
         "16"
        ],
        [
         "36",
         "8"
        ],
        [
         "37",
         "11"
        ],
        [
         "38",
         "9"
        ],
        [
         "39",
         "9"
        ],
        [
         "40",
         "14"
        ],
        [
         "41",
         "5"
        ],
        [
         "42",
         "5"
        ],
        [
         "43",
         "4"
        ],
        [
         "44",
         "7"
        ],
        [
         "45",
         "9"
        ],
        [
         "46",
         "7"
        ],
        [
         "47",
         "6"
        ],
        [
         "48",
         "9"
        ],
        [
         "49",
         "8"
        ]
       ],
       "shape": {
        "columns": 1,
        "rows": 4176
       }
      },
      "text/html": [
       "<div>\n",
       "<style scoped>\n",
       "    .dataframe tbody tr th:only-of-type {\n",
       "        vertical-align: middle;\n",
       "    }\n",
       "\n",
       "    .dataframe tbody tr th {\n",
       "        vertical-align: top;\n",
       "    }\n",
       "\n",
       "    .dataframe thead th {\n",
       "        text-align: right;\n",
       "    }\n",
       "</style>\n",
       "<table border=\"1\" class=\"dataframe\">\n",
       "  <thead>\n",
       "    <tr style=\"text-align: right;\">\n",
       "      <th></th>\n",
       "      <th>Age</th>\n",
       "    </tr>\n",
       "  </thead>\n",
       "  <tbody>\n",
       "    <tr>\n",
       "      <th>0</th>\n",
       "      <td>7</td>\n",
       "    </tr>\n",
       "    <tr>\n",
       "      <th>1</th>\n",
       "      <td>9</td>\n",
       "    </tr>\n",
       "    <tr>\n",
       "      <th>2</th>\n",
       "      <td>10</td>\n",
       "    </tr>\n",
       "    <tr>\n",
       "      <th>3</th>\n",
       "      <td>7</td>\n",
       "    </tr>\n",
       "    <tr>\n",
       "      <th>4</th>\n",
       "      <td>8</td>\n",
       "    </tr>\n",
       "    <tr>\n",
       "      <th>...</th>\n",
       "      <td>...</td>\n",
       "    </tr>\n",
       "    <tr>\n",
       "      <th>4171</th>\n",
       "      <td>11</td>\n",
       "    </tr>\n",
       "    <tr>\n",
       "      <th>4172</th>\n",
       "      <td>10</td>\n",
       "    </tr>\n",
       "    <tr>\n",
       "      <th>4173</th>\n",
       "      <td>9</td>\n",
       "    </tr>\n",
       "    <tr>\n",
       "      <th>4174</th>\n",
       "      <td>10</td>\n",
       "    </tr>\n",
       "    <tr>\n",
       "      <th>4175</th>\n",
       "      <td>12</td>\n",
       "    </tr>\n",
       "  </tbody>\n",
       "</table>\n",
       "<p>4176 rows × 1 columns</p>\n",
       "</div>"
      ],
      "text/plain": [
       "      Age\n",
       "0       7\n",
       "1       9\n",
       "2      10\n",
       "3       7\n",
       "4       8\n",
       "...   ...\n",
       "4171   11\n",
       "4172   10\n",
       "4173    9\n",
       "4174   10\n",
       "4175   12\n",
       "\n",
       "[4176 rows x 1 columns]"
      ]
     },
     "execution_count": 18,
     "metadata": {},
     "output_type": "execute_result"
    }
   ],
   "source": [
    "y"
   ]
  },
  {
   "cell_type": "code",
   "execution_count": 19,
   "id": "91390731",
   "metadata": {},
   "outputs": [
    {
     "data": {
      "application/vnd.microsoft.datawrangler.viewer.v0+json": {
       "columns": [
        {
         "name": "index",
         "rawType": "int64",
         "type": "integer"
        },
        {
         "name": "Length",
         "rawType": "float64",
         "type": "float"
        },
        {
         "name": "Diameter",
         "rawType": "float64",
         "type": "float"
        },
        {
         "name": "Height",
         "rawType": "float64",
         "type": "float"
        },
        {
         "name": "Weight",
         "rawType": "float64",
         "type": "float"
        },
        {
         "name": "Shucked_weight",
         "rawType": "float64",
         "type": "float"
        },
        {
         "name": "Viscera_weight",
         "rawType": "float64",
         "type": "float"
        },
        {
         "name": "Shell_weight",
         "rawType": "float64",
         "type": "float"
        },
        {
         "name": "Sex_I",
         "rawType": "float64",
         "type": "float"
        },
        {
         "name": "Sex_M",
         "rawType": "float64",
         "type": "float"
        }
       ],
       "ref": "243a840e-b0b9-4cf5-b8bb-cc80a44a5ddd",
       "rows": [
        [
         "0",
         "0.35",
         "0.265",
         "0.09",
         "0.2255",
         "0.0995",
         "0.0485",
         "0.07",
         "0.0",
         "1.0"
        ],
        [
         "1",
         "0.53",
         "0.42",
         "0.135",
         "0.677",
         "0.2565",
         "0.1415",
         "0.21",
         "0.0",
         "0.0"
        ],
        [
         "2",
         "0.44",
         "0.365",
         "0.125",
         "0.516",
         "0.2155",
         "0.114",
         "0.155",
         "0.0",
         "1.0"
        ],
        [
         "3",
         "0.33",
         "0.255",
         "0.08",
         "0.205",
         "0.0895",
         "0.0395",
         "0.055",
         "1.0",
         "0.0"
        ],
        [
         "4",
         "0.425",
         "0.3",
         "0.095",
         "0.3515",
         "0.141",
         "0.0775",
         "0.12",
         "1.0",
         "0.0"
        ],
        [
         "5",
         "0.53",
         "0.415",
         "0.15",
         "0.7775",
         "0.237",
         "0.1415",
         "0.33",
         "0.0",
         "0.0"
        ],
        [
         "6",
         "0.545",
         "0.425",
         "0.125",
         "0.768",
         "0.294",
         "0.1495",
         "0.26",
         "0.0",
         "0.0"
        ],
        [
         "7",
         "0.475",
         "0.37",
         "0.125",
         "0.5095",
         "0.2165",
         "0.1125",
         "0.165",
         "0.0",
         "1.0"
        ],
        [
         "8",
         "0.55",
         "0.44",
         "0.15",
         "0.8945",
         "0.3145",
         "0.151",
         "0.32",
         "0.0",
         "0.0"
        ],
        [
         "9",
         "0.525",
         "0.38",
         "0.14",
         "0.6065",
         "0.194",
         "0.1475",
         "0.21",
         "0.0",
         "0.0"
        ],
        [
         "10",
         "0.43",
         "0.35",
         "0.11",
         "0.406",
         "0.1675",
         "0.081",
         "0.135",
         "0.0",
         "1.0"
        ],
        [
         "11",
         "0.49",
         "0.38",
         "0.135",
         "0.5415",
         "0.2175",
         "0.095",
         "0.19",
         "0.0",
         "1.0"
        ],
        [
         "12",
         "0.535",
         "0.405",
         "0.145",
         "0.6845",
         "0.2725",
         "0.171",
         "0.205",
         "0.0",
         "0.0"
        ],
        [
         "13",
         "0.47",
         "0.355",
         "0.1",
         "0.4755",
         "0.1675",
         "0.0805",
         "0.185",
         "0.0",
         "0.0"
        ],
        [
         "14",
         "0.5",
         "0.4",
         "0.13",
         "0.6645",
         "0.258",
         "0.133",
         "0.24",
         "0.0",
         "1.0"
        ],
        [
         "15",
         "0.355",
         "0.28",
         "0.085",
         "0.2905",
         "0.095",
         "0.0395",
         "0.115",
         "1.0",
         "0.0"
        ],
        [
         "16",
         "0.44",
         "0.34",
         "0.1",
         "0.451",
         "0.188",
         "0.087",
         "0.13",
         "0.0",
         "0.0"
        ],
        [
         "17",
         "0.365",
         "0.295",
         "0.08",
         "0.2555",
         "0.097",
         "0.043",
         "0.1",
         "0.0",
         "1.0"
        ],
        [
         "18",
         "0.45",
         "0.32",
         "0.1",
         "0.381",
         "0.1705",
         "0.075",
         "0.115",
         "0.0",
         "1.0"
        ],
        [
         "19",
         "0.355",
         "0.28",
         "0.095",
         "0.2455",
         "0.0955",
         "0.062",
         "0.075",
         "0.0",
         "1.0"
        ],
        [
         "20",
         "0.38",
         "0.275",
         "0.1",
         "0.2255",
         "0.08",
         "0.049",
         "0.085",
         "1.0",
         "0.0"
        ],
        [
         "21",
         "0.565",
         "0.44",
         "0.155",
         "0.9395",
         "0.4275",
         "0.214",
         "0.27",
         "0.0",
         "0.0"
        ],
        [
         "22",
         "0.55",
         "0.415",
         "0.135",
         "0.7635",
         "0.318",
         "0.21",
         "0.2",
         "0.0",
         "0.0"
        ],
        [
         "23",
         "0.615",
         "0.48",
         "0.165",
         "1.1615",
         "0.513",
         "0.301",
         "0.305",
         "0.0",
         "0.0"
        ],
        [
         "24",
         "0.56",
         "0.44",
         "0.14",
         "0.9285",
         "0.3825",
         "0.188",
         "0.3",
         "0.0",
         "0.0"
        ],
        [
         "25",
         "0.58",
         "0.45",
         "0.185",
         "0.9955",
         "0.3945",
         "0.272",
         "0.285",
         "0.0",
         "0.0"
        ],
        [
         "26",
         "0.59",
         "0.445",
         "0.14",
         "0.931",
         "0.356",
         "0.234",
         "0.28",
         "0.0",
         "1.0"
        ],
        [
         "27",
         "0.605",
         "0.475",
         "0.18",
         "0.9365",
         "0.394",
         "0.219",
         "0.295",
         "0.0",
         "1.0"
        ],
        [
         "28",
         "0.575",
         "0.425",
         "0.14",
         "0.8635",
         "0.393",
         "0.227",
         "0.2",
         "0.0",
         "1.0"
        ],
        [
         "29",
         "0.58",
         "0.47",
         "0.165",
         "0.9975",
         "0.3935",
         "0.242",
         "0.33",
         "0.0",
         "1.0"
        ],
        [
         "30",
         "0.68",
         "0.56",
         "0.165",
         "1.639",
         "0.6055",
         "0.2805",
         "0.46",
         "0.0",
         "0.0"
        ],
        [
         "31",
         "0.665",
         "0.525",
         "0.165",
         "1.338",
         "0.5515",
         "0.3575",
         "0.35",
         "0.0",
         "1.0"
        ],
        [
         "32",
         "0.68",
         "0.55",
         "0.175",
         "1.798",
         "0.815",
         "0.3925",
         "0.455",
         "0.0",
         "0.0"
        ],
        [
         "33",
         "0.705",
         "0.55",
         "0.2",
         "1.7095",
         "0.633",
         "0.4115",
         "0.49",
         "0.0",
         "0.0"
        ],
        [
         "34",
         "0.465",
         "0.355",
         "0.105",
         "0.4795",
         "0.227",
         "0.124",
         "0.125",
         "0.0",
         "1.0"
        ],
        [
         "35",
         "0.54",
         "0.475",
         "0.155",
         "1.217",
         "0.5305",
         "0.3075",
         "0.34",
         "0.0",
         "0.0"
        ],
        [
         "36",
         "0.45",
         "0.355",
         "0.105",
         "0.5225",
         "0.237",
         "0.1165",
         "0.145",
         "0.0",
         "0.0"
        ],
        [
         "37",
         "0.575",
         "0.445",
         "0.135",
         "0.883",
         "0.381",
         "0.2035",
         "0.26",
         "0.0",
         "0.0"
        ],
        [
         "38",
         "0.355",
         "0.29",
         "0.09",
         "0.3275",
         "0.134",
         "0.086",
         "0.09",
         "0.0",
         "1.0"
        ],
        [
         "39",
         "0.45",
         "0.335",
         "0.105",
         "0.425",
         "0.1865",
         "0.091",
         "0.115",
         "0.0",
         "0.0"
        ],
        [
         "40",
         "0.55",
         "0.425",
         "0.135",
         "0.8515",
         "0.362",
         "0.196",
         "0.27",
         "0.0",
         "0.0"
        ],
        [
         "41",
         "0.24",
         "0.175",
         "0.045",
         "0.07",
         "0.0315",
         "0.0235",
         "0.02",
         "1.0",
         "0.0"
        ],
        [
         "42",
         "0.205",
         "0.15",
         "0.055",
         "0.042",
         "0.0255",
         "0.015",
         "0.012",
         "1.0",
         "0.0"
        ],
        [
         "43",
         "0.21",
         "0.15",
         "0.05",
         "0.042",
         "0.0175",
         "0.0125",
         "0.015",
         "1.0",
         "0.0"
        ],
        [
         "44",
         "0.39",
         "0.295",
         "0.095",
         "0.203",
         "0.0875",
         "0.045",
         "0.075",
         "1.0",
         "0.0"
        ],
        [
         "45",
         "0.47",
         "0.37",
         "0.12",
         "0.5795",
         "0.293",
         "0.227",
         "0.14",
         "0.0",
         "1.0"
        ],
        [
         "46",
         "0.46",
         "0.375",
         "0.12",
         "0.4605",
         "0.1775",
         "0.11",
         "0.15",
         "0.0",
         "0.0"
        ],
        [
         "47",
         "0.325",
         "0.245",
         "0.07",
         "0.161",
         "0.0755",
         "0.0255",
         "0.045",
         "1.0",
         "0.0"
        ],
        [
         "48",
         "0.525",
         "0.425",
         "0.16",
         "0.8355",
         "0.3545",
         "0.2135",
         "0.245",
         "0.0",
         "0.0"
        ],
        [
         "49",
         "0.52",
         "0.41",
         "0.12",
         "0.595",
         "0.2385",
         "0.111",
         "0.19",
         "1.0",
         "0.0"
        ]
       ],
       "shape": {
        "columns": 9,
        "rows": 4176
       }
      },
      "text/html": [
       "<div>\n",
       "<style scoped>\n",
       "    .dataframe tbody tr th:only-of-type {\n",
       "        vertical-align: middle;\n",
       "    }\n",
       "\n",
       "    .dataframe tbody tr th {\n",
       "        vertical-align: top;\n",
       "    }\n",
       "\n",
       "    .dataframe thead th {\n",
       "        text-align: right;\n",
       "    }\n",
       "</style>\n",
       "<table border=\"1\" class=\"dataframe\">\n",
       "  <thead>\n",
       "    <tr style=\"text-align: right;\">\n",
       "      <th></th>\n",
       "      <th>Length</th>\n",
       "      <th>Diameter</th>\n",
       "      <th>Height</th>\n",
       "      <th>Weight</th>\n",
       "      <th>Shucked_weight</th>\n",
       "      <th>Viscera_weight</th>\n",
       "      <th>Shell_weight</th>\n",
       "      <th>Sex_I</th>\n",
       "      <th>Sex_M</th>\n",
       "    </tr>\n",
       "  </thead>\n",
       "  <tbody>\n",
       "    <tr>\n",
       "      <th>0</th>\n",
       "      <td>0.350</td>\n",
       "      <td>0.265</td>\n",
       "      <td>0.090</td>\n",
       "      <td>0.2255</td>\n",
       "      <td>0.0995</td>\n",
       "      <td>0.0485</td>\n",
       "      <td>0.0700</td>\n",
       "      <td>0.0</td>\n",
       "      <td>1.0</td>\n",
       "    </tr>\n",
       "    <tr>\n",
       "      <th>1</th>\n",
       "      <td>0.530</td>\n",
       "      <td>0.420</td>\n",
       "      <td>0.135</td>\n",
       "      <td>0.6770</td>\n",
       "      <td>0.2565</td>\n",
       "      <td>0.1415</td>\n",
       "      <td>0.2100</td>\n",
       "      <td>0.0</td>\n",
       "      <td>0.0</td>\n",
       "    </tr>\n",
       "    <tr>\n",
       "      <th>2</th>\n",
       "      <td>0.440</td>\n",
       "      <td>0.365</td>\n",
       "      <td>0.125</td>\n",
       "      <td>0.5160</td>\n",
       "      <td>0.2155</td>\n",
       "      <td>0.1140</td>\n",
       "      <td>0.1550</td>\n",
       "      <td>0.0</td>\n",
       "      <td>1.0</td>\n",
       "    </tr>\n",
       "    <tr>\n",
       "      <th>3</th>\n",
       "      <td>0.330</td>\n",
       "      <td>0.255</td>\n",
       "      <td>0.080</td>\n",
       "      <td>0.2050</td>\n",
       "      <td>0.0895</td>\n",
       "      <td>0.0395</td>\n",
       "      <td>0.0550</td>\n",
       "      <td>1.0</td>\n",
       "      <td>0.0</td>\n",
       "    </tr>\n",
       "    <tr>\n",
       "      <th>4</th>\n",
       "      <td>0.425</td>\n",
       "      <td>0.300</td>\n",
       "      <td>0.095</td>\n",
       "      <td>0.3515</td>\n",
       "      <td>0.1410</td>\n",
       "      <td>0.0775</td>\n",
       "      <td>0.1200</td>\n",
       "      <td>1.0</td>\n",
       "      <td>0.0</td>\n",
       "    </tr>\n",
       "    <tr>\n",
       "      <th>...</th>\n",
       "      <td>...</td>\n",
       "      <td>...</td>\n",
       "      <td>...</td>\n",
       "      <td>...</td>\n",
       "      <td>...</td>\n",
       "      <td>...</td>\n",
       "      <td>...</td>\n",
       "      <td>...</td>\n",
       "      <td>...</td>\n",
       "    </tr>\n",
       "    <tr>\n",
       "      <th>4171</th>\n",
       "      <td>0.565</td>\n",
       "      <td>0.450</td>\n",
       "      <td>0.165</td>\n",
       "      <td>0.8870</td>\n",
       "      <td>0.3700</td>\n",
       "      <td>0.2390</td>\n",
       "      <td>0.2490</td>\n",
       "      <td>0.0</td>\n",
       "      <td>0.0</td>\n",
       "    </tr>\n",
       "    <tr>\n",
       "      <th>4172</th>\n",
       "      <td>0.590</td>\n",
       "      <td>0.440</td>\n",
       "      <td>0.135</td>\n",
       "      <td>0.9660</td>\n",
       "      <td>0.4390</td>\n",
       "      <td>0.2145</td>\n",
       "      <td>0.2605</td>\n",
       "      <td>0.0</td>\n",
       "      <td>1.0</td>\n",
       "    </tr>\n",
       "    <tr>\n",
       "      <th>4173</th>\n",
       "      <td>0.600</td>\n",
       "      <td>0.475</td>\n",
       "      <td>0.205</td>\n",
       "      <td>1.1760</td>\n",
       "      <td>0.5255</td>\n",
       "      <td>0.2875</td>\n",
       "      <td>0.3080</td>\n",
       "      <td>0.0</td>\n",
       "      <td>1.0</td>\n",
       "    </tr>\n",
       "    <tr>\n",
       "      <th>4174</th>\n",
       "      <td>0.625</td>\n",
       "      <td>0.485</td>\n",
       "      <td>0.150</td>\n",
       "      <td>1.0945</td>\n",
       "      <td>0.5310</td>\n",
       "      <td>0.2610</td>\n",
       "      <td>0.2960</td>\n",
       "      <td>0.0</td>\n",
       "      <td>0.0</td>\n",
       "    </tr>\n",
       "    <tr>\n",
       "      <th>4175</th>\n",
       "      <td>0.710</td>\n",
       "      <td>0.555</td>\n",
       "      <td>0.195</td>\n",
       "      <td>1.9485</td>\n",
       "      <td>0.9455</td>\n",
       "      <td>0.3765</td>\n",
       "      <td>0.4950</td>\n",
       "      <td>0.0</td>\n",
       "      <td>1.0</td>\n",
       "    </tr>\n",
       "  </tbody>\n",
       "</table>\n",
       "<p>4176 rows × 9 columns</p>\n",
       "</div>"
      ],
      "text/plain": [
       "      Length  Diameter  Height  Weight  Shucked_weight  Viscera_weight  \\\n",
       "0      0.350     0.265   0.090  0.2255          0.0995          0.0485   \n",
       "1      0.530     0.420   0.135  0.6770          0.2565          0.1415   \n",
       "2      0.440     0.365   0.125  0.5160          0.2155          0.1140   \n",
       "3      0.330     0.255   0.080  0.2050          0.0895          0.0395   \n",
       "4      0.425     0.300   0.095  0.3515          0.1410          0.0775   \n",
       "...      ...       ...     ...     ...             ...             ...   \n",
       "4171   0.565     0.450   0.165  0.8870          0.3700          0.2390   \n",
       "4172   0.590     0.440   0.135  0.9660          0.4390          0.2145   \n",
       "4173   0.600     0.475   0.205  1.1760          0.5255          0.2875   \n",
       "4174   0.625     0.485   0.150  1.0945          0.5310          0.2610   \n",
       "4175   0.710     0.555   0.195  1.9485          0.9455          0.3765   \n",
       "\n",
       "      Shell_weight  Sex_I  Sex_M  \n",
       "0           0.0700    0.0    1.0  \n",
       "1           0.2100    0.0    0.0  \n",
       "2           0.1550    0.0    1.0  \n",
       "3           0.0550    1.0    0.0  \n",
       "4           0.1200    1.0    0.0  \n",
       "...            ...    ...    ...  \n",
       "4171        0.2490    0.0    0.0  \n",
       "4172        0.2605    0.0    1.0  \n",
       "4173        0.3080    0.0    1.0  \n",
       "4174        0.2960    0.0    0.0  \n",
       "4175        0.4950    0.0    1.0  \n",
       "\n",
       "[4176 rows x 9 columns]"
      ]
     },
     "execution_count": 19,
     "metadata": {},
     "output_type": "execute_result"
    }
   ],
   "source": [
    "X"
   ]
  },
  {
   "cell_type": "code",
   "execution_count": 20,
   "id": "5c88bc5d",
   "metadata": {},
   "outputs": [],
   "source": [
    "X_train,X_test,y_train,y_test=train_test_split(X,y,random_state=42,test_size=0.2)"
   ]
  },
  {
   "cell_type": "code",
   "execution_count": 21,
   "id": "8f429bfd",
   "metadata": {},
   "outputs": [],
   "source": [
    "X_train_log,X_test_log,y_train_log,y_test_log=train_test_split(X,y,random_state=42,test_size=0.2)"
   ]
  },
  {
   "cell_type": "code",
   "execution_count": 22,
   "id": "387d81e7",
   "metadata": {},
   "outputs": [
    {
     "data": {
      "application/vnd.microsoft.datawrangler.viewer.v0+json": {
       "columns": [
        {
         "name": "index",
         "rawType": "int64",
         "type": "integer"
        },
        {
         "name": "Age",
         "rawType": "int64",
         "type": "integer"
        }
       ],
       "ref": "a8630645-82c4-446a-a61f-286977355209",
       "rows": [
        [
         "4037",
         "11"
        ],
        [
         "1272",
         "8"
        ],
        [
         "3384",
         "13"
        ],
        [
         "3160",
         "6"
        ],
        [
         "3894",
         "13"
        ],
        [
         "1288",
         "8"
        ],
        [
         "3863",
         "5"
        ],
        [
         "554",
         "10"
        ],
        [
         "1871",
         "9"
        ],
        [
         "1074",
         "6"
        ],
        [
         "2525",
         "9"
        ],
        [
         "4112",
         "8"
        ],
        [
         "1618",
         "10"
        ],
        [
         "3410",
         "7"
        ],
        [
         "3532",
         "6"
        ],
        [
         "3391",
         "19"
        ],
        [
         "3577",
         "10"
        ],
        [
         "1756",
         "11"
        ],
        [
         "1777",
         "8"
        ],
        [
         "2256",
         "13"
        ],
        [
         "3016",
         "8"
        ],
        [
         "1805",
         "11"
        ],
        [
         "752",
         "13"
        ],
        [
         "2339",
         "11"
        ],
        [
         "3181",
         "10"
        ],
        [
         "1882",
         "8"
        ],
        [
         "1391",
         "10"
        ],
        [
         "3365",
         "5"
        ],
        [
         "4106",
         "7"
        ],
        [
         "4041",
         "10"
        ],
        [
         "2952",
         "11"
        ],
        [
         "3673",
         "12"
        ],
        [
         "729",
         "11"
        ],
        [
         "2994",
         "9"
        ],
        [
         "2768",
         "11"
        ],
        [
         "2828",
         "7"
        ],
        [
         "721",
         "15"
        ],
        [
         "2037",
         "5"
        ],
        [
         "3366",
         "17"
        ],
        [
         "1740",
         "10"
        ],
        [
         "2171",
         "5"
        ],
        [
         "2222",
         "14"
        ],
        [
         "3231",
         "13"
        ],
        [
         "1754",
         "7"
        ],
        [
         "346",
         "6"
        ],
        [
         "3221",
         "18"
        ],
        [
         "3489",
         "10"
        ],
        [
         "1228",
         "6"
        ],
        [
         "3706",
         "11"
        ],
        [
         "578",
         "17"
        ]
       ],
       "shape": {
        "columns": 1,
        "rows": 3340
       }
      },
      "text/html": [
       "<div>\n",
       "<style scoped>\n",
       "    .dataframe tbody tr th:only-of-type {\n",
       "        vertical-align: middle;\n",
       "    }\n",
       "\n",
       "    .dataframe tbody tr th {\n",
       "        vertical-align: top;\n",
       "    }\n",
       "\n",
       "    .dataframe thead th {\n",
       "        text-align: right;\n",
       "    }\n",
       "</style>\n",
       "<table border=\"1\" class=\"dataframe\">\n",
       "  <thead>\n",
       "    <tr style=\"text-align: right;\">\n",
       "      <th></th>\n",
       "      <th>Age</th>\n",
       "    </tr>\n",
       "  </thead>\n",
       "  <tbody>\n",
       "    <tr>\n",
       "      <th>4037</th>\n",
       "      <td>11</td>\n",
       "    </tr>\n",
       "    <tr>\n",
       "      <th>1272</th>\n",
       "      <td>8</td>\n",
       "    </tr>\n",
       "    <tr>\n",
       "      <th>3384</th>\n",
       "      <td>13</td>\n",
       "    </tr>\n",
       "    <tr>\n",
       "      <th>3160</th>\n",
       "      <td>6</td>\n",
       "    </tr>\n",
       "    <tr>\n",
       "      <th>3894</th>\n",
       "      <td>13</td>\n",
       "    </tr>\n",
       "    <tr>\n",
       "      <th>...</th>\n",
       "      <td>...</td>\n",
       "    </tr>\n",
       "    <tr>\n",
       "      <th>3444</th>\n",
       "      <td>8</td>\n",
       "    </tr>\n",
       "    <tr>\n",
       "      <th>466</th>\n",
       "      <td>13</td>\n",
       "    </tr>\n",
       "    <tr>\n",
       "      <th>3092</th>\n",
       "      <td>11</td>\n",
       "    </tr>\n",
       "    <tr>\n",
       "      <th>3772</th>\n",
       "      <td>9</td>\n",
       "    </tr>\n",
       "    <tr>\n",
       "      <th>860</th>\n",
       "      <td>12</td>\n",
       "    </tr>\n",
       "  </tbody>\n",
       "</table>\n",
       "<p>3340 rows × 1 columns</p>\n",
       "</div>"
      ],
      "text/plain": [
       "      Age\n",
       "4037   11\n",
       "1272    8\n",
       "3384   13\n",
       "3160    6\n",
       "3894   13\n",
       "...   ...\n",
       "3444    8\n",
       "466    13\n",
       "3092   11\n",
       "3772    9\n",
       "860    12\n",
       "\n",
       "[3340 rows x 1 columns]"
      ]
     },
     "execution_count": 22,
     "metadata": {},
     "output_type": "execute_result"
    }
   ],
   "source": [
    "y_train"
   ]
  },
  {
   "cell_type": "code",
   "execution_count": 23,
   "id": "3f792cdf",
   "metadata": {},
   "outputs": [
    {
     "data": {
      "application/vnd.microsoft.datawrangler.viewer.v0+json": {
       "columns": [
        {
         "name": "index",
         "rawType": "int64",
         "type": "integer"
        },
        {
         "name": "Length",
         "rawType": "float64",
         "type": "float"
        },
        {
         "name": "Diameter",
         "rawType": "float64",
         "type": "float"
        },
        {
         "name": "Height",
         "rawType": "float64",
         "type": "float"
        },
        {
         "name": "Weight",
         "rawType": "float64",
         "type": "float"
        },
        {
         "name": "Shucked_weight",
         "rawType": "float64",
         "type": "float"
        },
        {
         "name": "Viscera_weight",
         "rawType": "float64",
         "type": "float"
        },
        {
         "name": "Shell_weight",
         "rawType": "float64",
         "type": "float"
        },
        {
         "name": "Sex_I",
         "rawType": "float64",
         "type": "float"
        },
        {
         "name": "Sex_M",
         "rawType": "float64",
         "type": "float"
        }
       ],
       "ref": "d8c2fec9-b0f1-4b20-b8fc-2dd1d6a6f034",
       "rows": [
        [
         "4037",
         "0.55",
         "0.445",
         "0.125",
         "0.672",
         "0.288",
         "0.1365",
         "0.21",
         "1.0",
         "0.0"
        ],
        [
         "1272",
         "0.475",
         "0.38",
         "0.12",
         "0.441",
         "0.1785",
         "0.0885",
         "0.1505",
         "1.0",
         "0.0"
        ],
        [
         "3384",
         "0.475",
         "0.35",
         "0.115",
         "0.487",
         "0.194",
         "0.1455",
         "0.125",
         "0.0",
         "0.0"
        ],
        [
         "3160",
         "0.335",
         "0.22",
         "0.07",
         "0.17",
         "0.076",
         "0.0365",
         "0.05",
         "0.0",
         "0.0"
        ],
        [
         "3894",
         "0.595",
         "0.5",
         "0.18",
         "1.053",
         "0.4405",
         "0.192",
         "0.39",
         "0.0",
         "0.0"
        ],
        [
         "1288",
         "0.505",
         "0.395",
         "0.105",
         "0.551",
         "0.248",
         "0.103",
         "0.171",
         "1.0",
         "0.0"
        ],
        [
         "3863",
         "0.32",
         "0.235",
         "0.065",
         "0.1385",
         "0.058",
         "0.0225",
         "0.05",
         "1.0",
         "0.0"
        ],
        [
         "554",
         "0.5",
         "0.385",
         "0.15",
         "0.6265",
         "0.2605",
         "0.1665",
         "0.16",
         "1.0",
         "0.0"
        ],
        [
         "1871",
         "0.53",
         "0.395",
         "0.13",
         "0.575",
         "0.247",
         "0.115",
         "0.183",
         "1.0",
         "0.0"
        ],
        [
         "1074",
         "0.41",
         "0.325",
         "0.1",
         "0.3245",
         "0.132",
         "0.072",
         "0.106",
         "1.0",
         "0.0"
        ],
        [
         "2525",
         "0.59",
         "0.48",
         "0.16",
         "1.262",
         "0.5685",
         "0.2725",
         "0.335",
         "0.0",
         "1.0"
        ],
        [
         "4112",
         "0.56",
         "0.42",
         "0.14",
         "0.837",
         "0.414",
         "0.214",
         "0.2",
         "1.0",
         "0.0"
        ],
        [
         "1618",
         "0.56",
         "0.445",
         "0.15",
         "0.8225",
         "0.3685",
         "0.187",
         "0.236",
         "1.0",
         "0.0"
        ],
        [
         "3410",
         "0.43",
         "0.32",
         "0.1",
         "0.3855",
         "0.192",
         "0.0745",
         "0.1",
         "1.0",
         "0.0"
        ],
        [
         "3532",
         "0.4",
         "0.31",
         "0.115",
         "0.314",
         "0.1545",
         "0.0595",
         "0.087",
         "1.0",
         "0.0"
        ],
        [
         "3391",
         "0.645",
         "0.515",
         "0.185",
         "1.4605",
         "0.5835",
         "0.3155",
         "0.41",
         "0.0",
         "1.0"
        ],
        [
         "3577",
         "0.6",
         "0.475",
         "0.17",
         "1.088",
         "0.4905",
         "0.2475",
         "0.31",
         "0.0",
         "0.0"
        ],
        [
         "1756",
         "0.73",
         "0.56",
         "0.19",
         "1.9425",
         "0.799",
         "0.5195",
         "0.5655",
         "0.0",
         "0.0"
        ],
        [
         "1777",
         "0.49",
         "0.355",
         "0.16",
         "0.8795",
         "0.3485",
         "0.215",
         "0.2825",
         "0.0",
         "0.0"
        ],
        [
         "2256",
         "0.495",
         "0.415",
         "0.165",
         "0.7485",
         "0.264",
         "0.134",
         "0.285",
         "0.0",
         "1.0"
        ],
        [
         "3016",
         "0.435",
         "0.325",
         "0.105",
         "0.335",
         "0.136",
         "0.065",
         "0.115",
         "1.0",
         "0.0"
        ],
        [
         "1805",
         "0.625",
         "0.49",
         "0.185",
         "1.169",
         "0.5275",
         "0.2535",
         "0.344",
         "0.0",
         "1.0"
        ],
        [
         "752",
         "0.58",
         "0.455",
         "0.165",
         "1.1365",
         "0.369",
         "0.3005",
         "0.275",
         "0.0",
         "0.0"
        ],
        [
         "2339",
         "0.59",
         "0.47",
         "0.17",
         "0.9",
         "0.355",
         "0.1905",
         "0.25",
         "0.0",
         "0.0"
        ],
        [
         "3181",
         "0.645",
         "0.505",
         "0.165",
         "1.307",
         "0.4335",
         "0.262",
         "0.52",
         "0.0",
         "1.0"
        ],
        [
         "1882",
         "0.555",
         "0.41",
         "0.125",
         "0.599",
         "0.2345",
         "0.1465",
         "0.194",
         "0.0",
         "1.0"
        ],
        [
         "1391",
         "0.635",
         "0.475",
         "0.17",
         "1.1935",
         "0.5205",
         "0.2695",
         "0.3665",
         "0.0",
         "1.0"
        ],
        [
         "3365",
         "0.28",
         "0.21",
         "0.065",
         "0.0905",
         "0.035",
         "0.02",
         "0.03",
         "0.0",
         "1.0"
        ],
        [
         "4106",
         "0.42",
         "0.305",
         "0.1",
         "0.3415",
         "0.1645",
         "0.0775",
         "0.086",
         "1.0",
         "0.0"
        ],
        [
         "4041",
         "0.575",
         "0.46",
         "0.165",
         "0.9575",
         "0.4815",
         "0.1945",
         "0.236",
         "0.0",
         "0.0"
        ],
        [
         "2952",
         "0.645",
         "0.52",
         "0.17",
         "1.197",
         "0.526",
         "0.2925",
         "0.317",
         "0.0",
         "0.0"
        ],
        [
         "3673",
         "0.595",
         "0.45",
         "0.165",
         "1.081",
         "0.49",
         "0.2525",
         "0.279",
         "0.0",
         "0.0"
        ],
        [
         "729",
         "0.525",
         "0.4",
         "0.13",
         "0.8295",
         "0.2405",
         "0.1825",
         "0.275",
         "0.0",
         "1.0"
        ],
        [
         "2994",
         "0.61",
         "0.485",
         "0.17",
         "1.281",
         "0.597",
         "0.3035",
         "0.33",
         "0.0",
         "1.0"
        ],
        [
         "2768",
         "0.565",
         "0.43",
         "0.15",
         "0.8215",
         "0.332",
         "0.1685",
         "0.29",
         "1.0",
         "0.0"
        ],
        [
         "2828",
         "0.52",
         "0.395",
         "0.145",
         "0.77",
         "0.424",
         "0.142",
         "0.1895",
         "1.0",
         "0.0"
        ],
        [
         "721",
         "0.555",
         "0.44",
         "0.15",
         "1.092",
         "0.416",
         "0.212",
         "0.4405",
         "0.0",
         "1.0"
        ],
        [
         "2037",
         "0.28",
         "0.215",
         "0.08",
         "0.132",
         "0.072",
         "0.022",
         "0.033",
         "1.0",
         "0.0"
        ],
        [
         "3366",
         "0.59",
         "0.465",
         "0.195",
         "1.0885",
         "0.3685",
         "0.187",
         "0.375",
         "1.0",
         "0.0"
        ],
        [
         "1740",
         "0.68",
         "0.52",
         "0.195",
         "1.4535",
         "0.592",
         "0.391",
         "0.4125",
         "0.0",
         "1.0"
        ],
        [
         "2171",
         "0.215",
         "0.15",
         "0.03",
         "0.0385",
         "0.0115",
         "0.005",
         "0.01",
         "1.0",
         "0.0"
        ],
        [
         "2222",
         "0.555",
         "0.455",
         "0.18",
         "0.958",
         "0.296",
         "0.195",
         "0.39",
         "0.0",
         "0.0"
        ],
        [
         "3231",
         "0.485",
         "0.41",
         "0.15",
         "0.696",
         "0.2405",
         "0.1625",
         "0.265",
         "0.0",
         "1.0"
        ],
        [
         "1754",
         "0.72",
         "0.525",
         "0.18",
         "1.445",
         "0.631",
         "0.3215",
         "0.435",
         "0.0",
         "0.0"
        ],
        [
         "346",
         "0.34",
         "0.26",
         "0.08",
         "0.2",
         "0.08",
         "0.0555",
         "0.055",
         "1.0",
         "0.0"
        ],
        [
         "3221",
         "0.52",
         "0.435",
         "0.195",
         "0.973",
         "0.2985",
         "0.2135",
         "0.355",
         "0.0",
         "1.0"
        ],
        [
         "3489",
         "0.535",
         "0.42",
         "0.16",
         "0.7465",
         "0.348",
         "0.1515",
         "0.2185",
         "0.0",
         "1.0"
        ],
        [
         "1228",
         "0.365",
         "0.27",
         "0.085",
         "0.1875",
         "0.081",
         "0.042",
         "0.058",
         "1.0",
         "0.0"
        ],
        [
         "3706",
         "0.675",
         "0.51",
         "0.17",
         "1.527",
         "0.809",
         "0.318",
         "0.341",
         "0.0",
         "1.0"
        ],
        [
         "578",
         "0.63",
         "0.48",
         "0.175",
         "1.3675",
         "0.5015",
         "0.3035",
         "0.515",
         "0.0",
         "0.0"
        ]
       ],
       "shape": {
        "columns": 9,
        "rows": 3340
       }
      },
      "text/html": [
       "<div>\n",
       "<style scoped>\n",
       "    .dataframe tbody tr th:only-of-type {\n",
       "        vertical-align: middle;\n",
       "    }\n",
       "\n",
       "    .dataframe tbody tr th {\n",
       "        vertical-align: top;\n",
       "    }\n",
       "\n",
       "    .dataframe thead th {\n",
       "        text-align: right;\n",
       "    }\n",
       "</style>\n",
       "<table border=\"1\" class=\"dataframe\">\n",
       "  <thead>\n",
       "    <tr style=\"text-align: right;\">\n",
       "      <th></th>\n",
       "      <th>Length</th>\n",
       "      <th>Diameter</th>\n",
       "      <th>Height</th>\n",
       "      <th>Weight</th>\n",
       "      <th>Shucked_weight</th>\n",
       "      <th>Viscera_weight</th>\n",
       "      <th>Shell_weight</th>\n",
       "      <th>Sex_I</th>\n",
       "      <th>Sex_M</th>\n",
       "    </tr>\n",
       "  </thead>\n",
       "  <tbody>\n",
       "    <tr>\n",
       "      <th>4037</th>\n",
       "      <td>0.550</td>\n",
       "      <td>0.445</td>\n",
       "      <td>0.125</td>\n",
       "      <td>0.672</td>\n",
       "      <td>0.2880</td>\n",
       "      <td>0.1365</td>\n",
       "      <td>0.2100</td>\n",
       "      <td>1.0</td>\n",
       "      <td>0.0</td>\n",
       "    </tr>\n",
       "    <tr>\n",
       "      <th>1272</th>\n",
       "      <td>0.475</td>\n",
       "      <td>0.380</td>\n",
       "      <td>0.120</td>\n",
       "      <td>0.441</td>\n",
       "      <td>0.1785</td>\n",
       "      <td>0.0885</td>\n",
       "      <td>0.1505</td>\n",
       "      <td>1.0</td>\n",
       "      <td>0.0</td>\n",
       "    </tr>\n",
       "    <tr>\n",
       "      <th>3384</th>\n",
       "      <td>0.475</td>\n",
       "      <td>0.350</td>\n",
       "      <td>0.115</td>\n",
       "      <td>0.487</td>\n",
       "      <td>0.1940</td>\n",
       "      <td>0.1455</td>\n",
       "      <td>0.1250</td>\n",
       "      <td>0.0</td>\n",
       "      <td>0.0</td>\n",
       "    </tr>\n",
       "    <tr>\n",
       "      <th>3160</th>\n",
       "      <td>0.335</td>\n",
       "      <td>0.220</td>\n",
       "      <td>0.070</td>\n",
       "      <td>0.170</td>\n",
       "      <td>0.0760</td>\n",
       "      <td>0.0365</td>\n",
       "      <td>0.0500</td>\n",
       "      <td>0.0</td>\n",
       "      <td>0.0</td>\n",
       "    </tr>\n",
       "    <tr>\n",
       "      <th>3894</th>\n",
       "      <td>0.595</td>\n",
       "      <td>0.500</td>\n",
       "      <td>0.180</td>\n",
       "      <td>1.053</td>\n",
       "      <td>0.4405</td>\n",
       "      <td>0.1920</td>\n",
       "      <td>0.3900</td>\n",
       "      <td>0.0</td>\n",
       "      <td>0.0</td>\n",
       "    </tr>\n",
       "    <tr>\n",
       "      <th>...</th>\n",
       "      <td>...</td>\n",
       "      <td>...</td>\n",
       "      <td>...</td>\n",
       "      <td>...</td>\n",
       "      <td>...</td>\n",
       "      <td>...</td>\n",
       "      <td>...</td>\n",
       "      <td>...</td>\n",
       "      <td>...</td>\n",
       "    </tr>\n",
       "    <tr>\n",
       "      <th>3444</th>\n",
       "      <td>0.495</td>\n",
       "      <td>0.400</td>\n",
       "      <td>0.145</td>\n",
       "      <td>0.578</td>\n",
       "      <td>0.2545</td>\n",
       "      <td>0.1305</td>\n",
       "      <td>0.1645</td>\n",
       "      <td>1.0</td>\n",
       "      <td>0.0</td>\n",
       "    </tr>\n",
       "    <tr>\n",
       "      <th>466</th>\n",
       "      <td>0.655</td>\n",
       "      <td>0.530</td>\n",
       "      <td>0.195</td>\n",
       "      <td>1.388</td>\n",
       "      <td>0.5670</td>\n",
       "      <td>0.2735</td>\n",
       "      <td>0.4100</td>\n",
       "      <td>0.0</td>\n",
       "      <td>1.0</td>\n",
       "    </tr>\n",
       "    <tr>\n",
       "      <th>3092</th>\n",
       "      <td>0.520</td>\n",
       "      <td>0.430</td>\n",
       "      <td>0.150</td>\n",
       "      <td>0.728</td>\n",
       "      <td>0.3020</td>\n",
       "      <td>0.1575</td>\n",
       "      <td>0.2350</td>\n",
       "      <td>0.0</td>\n",
       "      <td>0.0</td>\n",
       "    </tr>\n",
       "    <tr>\n",
       "      <th>3772</th>\n",
       "      <td>0.575</td>\n",
       "      <td>0.460</td>\n",
       "      <td>0.150</td>\n",
       "      <td>0.927</td>\n",
       "      <td>0.3330</td>\n",
       "      <td>0.2070</td>\n",
       "      <td>0.2985</td>\n",
       "      <td>0.0</td>\n",
       "      <td>0.0</td>\n",
       "    </tr>\n",
       "    <tr>\n",
       "      <th>860</th>\n",
       "      <td>0.595</td>\n",
       "      <td>0.465</td>\n",
       "      <td>0.140</td>\n",
       "      <td>1.113</td>\n",
       "      <td>0.5175</td>\n",
       "      <td>0.2440</td>\n",
       "      <td>0.3050</td>\n",
       "      <td>0.0</td>\n",
       "      <td>0.0</td>\n",
       "    </tr>\n",
       "  </tbody>\n",
       "</table>\n",
       "<p>3340 rows × 9 columns</p>\n",
       "</div>"
      ],
      "text/plain": [
       "      Length  Diameter  Height  Weight  Shucked_weight  Viscera_weight  \\\n",
       "4037   0.550     0.445   0.125   0.672          0.2880          0.1365   \n",
       "1272   0.475     0.380   0.120   0.441          0.1785          0.0885   \n",
       "3384   0.475     0.350   0.115   0.487          0.1940          0.1455   \n",
       "3160   0.335     0.220   0.070   0.170          0.0760          0.0365   \n",
       "3894   0.595     0.500   0.180   1.053          0.4405          0.1920   \n",
       "...      ...       ...     ...     ...             ...             ...   \n",
       "3444   0.495     0.400   0.145   0.578          0.2545          0.1305   \n",
       "466    0.655     0.530   0.195   1.388          0.5670          0.2735   \n",
       "3092   0.520     0.430   0.150   0.728          0.3020          0.1575   \n",
       "3772   0.575     0.460   0.150   0.927          0.3330          0.2070   \n",
       "860    0.595     0.465   0.140   1.113          0.5175          0.2440   \n",
       "\n",
       "      Shell_weight  Sex_I  Sex_M  \n",
       "4037        0.2100    1.0    0.0  \n",
       "1272        0.1505    1.0    0.0  \n",
       "3384        0.1250    0.0    0.0  \n",
       "3160        0.0500    0.0    0.0  \n",
       "3894        0.3900    0.0    0.0  \n",
       "...            ...    ...    ...  \n",
       "3444        0.1645    1.0    0.0  \n",
       "466         0.4100    0.0    1.0  \n",
       "3092        0.2350    0.0    0.0  \n",
       "3772        0.2985    0.0    0.0  \n",
       "860         0.3050    0.0    0.0  \n",
       "\n",
       "[3340 rows x 9 columns]"
      ]
     },
     "execution_count": 23,
     "metadata": {},
     "output_type": "execute_result"
    }
   ],
   "source": [
    "X_train"
   ]
  },
  {
   "cell_type": "code",
   "execution_count": 24,
   "id": "436f7f4f",
   "metadata": {},
   "outputs": [
    {
     "data": {
      "application/vnd.microsoft.datawrangler.viewer.v0+json": {
       "columns": [
        {
         "name": "index",
         "rawType": "int64",
         "type": "integer"
        },
        {
         "name": "Age",
         "rawType": "int64",
         "type": "integer"
        }
       ],
       "ref": "ee47e9ba-fe1b-41f7-ba0b-0b72264383d0",
       "rows": [
        [
         "4037",
         "11"
        ],
        [
         "1272",
         "8"
        ],
        [
         "3384",
         "13"
        ],
        [
         "3160",
         "6"
        ],
        [
         "3894",
         "13"
        ],
        [
         "1288",
         "8"
        ],
        [
         "3863",
         "5"
        ],
        [
         "554",
         "10"
        ],
        [
         "1871",
         "9"
        ],
        [
         "1074",
         "6"
        ],
        [
         "2525",
         "9"
        ],
        [
         "4112",
         "8"
        ],
        [
         "1618",
         "10"
        ],
        [
         "3410",
         "7"
        ],
        [
         "3532",
         "6"
        ],
        [
         "3391",
         "19"
        ],
        [
         "3577",
         "10"
        ],
        [
         "1756",
         "11"
        ],
        [
         "1777",
         "8"
        ],
        [
         "2256",
         "13"
        ],
        [
         "3016",
         "8"
        ],
        [
         "1805",
         "11"
        ],
        [
         "752",
         "13"
        ],
        [
         "2339",
         "11"
        ],
        [
         "3181",
         "10"
        ],
        [
         "1882",
         "8"
        ],
        [
         "1391",
         "10"
        ],
        [
         "3365",
         "5"
        ],
        [
         "4106",
         "7"
        ],
        [
         "4041",
         "10"
        ],
        [
         "2952",
         "11"
        ],
        [
         "3673",
         "12"
        ],
        [
         "729",
         "11"
        ],
        [
         "2994",
         "9"
        ],
        [
         "2768",
         "11"
        ],
        [
         "2828",
         "7"
        ],
        [
         "721",
         "15"
        ],
        [
         "2037",
         "5"
        ],
        [
         "3366",
         "17"
        ],
        [
         "1740",
         "10"
        ],
        [
         "2171",
         "5"
        ],
        [
         "2222",
         "14"
        ],
        [
         "3231",
         "13"
        ],
        [
         "1754",
         "7"
        ],
        [
         "346",
         "6"
        ],
        [
         "3221",
         "18"
        ],
        [
         "3489",
         "10"
        ],
        [
         "1228",
         "6"
        ],
        [
         "3706",
         "11"
        ],
        [
         "578",
         "17"
        ]
       ],
       "shape": {
        "columns": 1,
        "rows": 3340
       }
      },
      "text/html": [
       "<div>\n",
       "<style scoped>\n",
       "    .dataframe tbody tr th:only-of-type {\n",
       "        vertical-align: middle;\n",
       "    }\n",
       "\n",
       "    .dataframe tbody tr th {\n",
       "        vertical-align: top;\n",
       "    }\n",
       "\n",
       "    .dataframe thead th {\n",
       "        text-align: right;\n",
       "    }\n",
       "</style>\n",
       "<table border=\"1\" class=\"dataframe\">\n",
       "  <thead>\n",
       "    <tr style=\"text-align: right;\">\n",
       "      <th></th>\n",
       "      <th>Age</th>\n",
       "    </tr>\n",
       "  </thead>\n",
       "  <tbody>\n",
       "    <tr>\n",
       "      <th>4037</th>\n",
       "      <td>11</td>\n",
       "    </tr>\n",
       "    <tr>\n",
       "      <th>1272</th>\n",
       "      <td>8</td>\n",
       "    </tr>\n",
       "    <tr>\n",
       "      <th>3384</th>\n",
       "      <td>13</td>\n",
       "    </tr>\n",
       "    <tr>\n",
       "      <th>3160</th>\n",
       "      <td>6</td>\n",
       "    </tr>\n",
       "    <tr>\n",
       "      <th>3894</th>\n",
       "      <td>13</td>\n",
       "    </tr>\n",
       "    <tr>\n",
       "      <th>...</th>\n",
       "      <td>...</td>\n",
       "    </tr>\n",
       "    <tr>\n",
       "      <th>3444</th>\n",
       "      <td>8</td>\n",
       "    </tr>\n",
       "    <tr>\n",
       "      <th>466</th>\n",
       "      <td>13</td>\n",
       "    </tr>\n",
       "    <tr>\n",
       "      <th>3092</th>\n",
       "      <td>11</td>\n",
       "    </tr>\n",
       "    <tr>\n",
       "      <th>3772</th>\n",
       "      <td>9</td>\n",
       "    </tr>\n",
       "    <tr>\n",
       "      <th>860</th>\n",
       "      <td>12</td>\n",
       "    </tr>\n",
       "  </tbody>\n",
       "</table>\n",
       "<p>3340 rows × 1 columns</p>\n",
       "</div>"
      ],
      "text/plain": [
       "      Age\n",
       "4037   11\n",
       "1272    8\n",
       "3384   13\n",
       "3160    6\n",
       "3894   13\n",
       "...   ...\n",
       "3444    8\n",
       "466    13\n",
       "3092   11\n",
       "3772    9\n",
       "860    12\n",
       "\n",
       "[3340 rows x 1 columns]"
      ]
     },
     "execution_count": 24,
     "metadata": {},
     "output_type": "execute_result"
    }
   ],
   "source": [
    "y_train"
   ]
  },
  {
   "cell_type": "code",
   "execution_count": 25,
   "id": "a0496fe7",
   "metadata": {},
   "outputs": [],
   "source": [
    "ran_frst=RandomForestRegressor(random_state=42)\n",
    "model_with_transformer=TransformedTargetRegressor(\n",
    "    regressor=ran_frst,\n",
    "    func=np.log1p,\n",
    "    inverse_func=np.expm1\n",
    ")"
   ]
  },
  {
   "cell_type": "code",
   "execution_count": 26,
   "id": "c627606f",
   "metadata": {},
   "outputs": [
    {
     "ename": "KeyboardInterrupt",
     "evalue": "",
     "output_type": "error",
     "traceback": [
      "\u001b[31m---------------------------------------------------------------------------\u001b[39m",
      "\u001b[31mKeyboardInterrupt\u001b[39m                         Traceback (most recent call last)",
      "\u001b[36mCell\u001b[39m\u001b[36m \u001b[39m\u001b[32mIn[26]\u001b[39m\u001b[32m, line 1\u001b[39m\n\u001b[32m----> \u001b[39m\u001b[32m1\u001b[39m final_scores=-cross_val_score(model_with_transformer,X,y,cv=\u001b[32m5\u001b[39m,scoring=\u001b[33m'\u001b[39m\u001b[33mneg_root_mean_squared_error\u001b[39m\u001b[33m'\u001b[39m)\n\u001b[32m      2\u001b[39m final_scores\n",
      "\u001b[36mFile \u001b[39m\u001b[32mc:\\Users\\nichu\\.conda\\envs\\jupytorch\\Lib\\site-packages\\sklearn\\utils\\_param_validation.py:218\u001b[39m, in \u001b[36mvalidate_params.<locals>.decorator.<locals>.wrapper\u001b[39m\u001b[34m(*args, **kwargs)\u001b[39m\n\u001b[32m    212\u001b[39m \u001b[38;5;28;01mtry\u001b[39;00m:\n\u001b[32m    213\u001b[39m     \u001b[38;5;28;01mwith\u001b[39;00m config_context(\n\u001b[32m    214\u001b[39m         skip_parameter_validation=(\n\u001b[32m    215\u001b[39m             prefer_skip_nested_validation \u001b[38;5;129;01mor\u001b[39;00m global_skip_validation\n\u001b[32m    216\u001b[39m         )\n\u001b[32m    217\u001b[39m     ):\n\u001b[32m--> \u001b[39m\u001b[32m218\u001b[39m         \u001b[38;5;28;01mreturn\u001b[39;00m func(*args, **kwargs)\n\u001b[32m    219\u001b[39m \u001b[38;5;28;01mexcept\u001b[39;00m InvalidParameterError \u001b[38;5;28;01mas\u001b[39;00m e:\n\u001b[32m    220\u001b[39m     \u001b[38;5;66;03m# When the function is just a wrapper around an estimator, we allow\u001b[39;00m\n\u001b[32m    221\u001b[39m     \u001b[38;5;66;03m# the function to delegate validation to the estimator, but we replace\u001b[39;00m\n\u001b[32m    222\u001b[39m     \u001b[38;5;66;03m# the name of the estimator by the name of the function in the error\u001b[39;00m\n\u001b[32m    223\u001b[39m     \u001b[38;5;66;03m# message to avoid confusion.\u001b[39;00m\n\u001b[32m    224\u001b[39m     msg = re.sub(\n\u001b[32m    225\u001b[39m         \u001b[33mr\u001b[39m\u001b[33m\"\u001b[39m\u001b[33mparameter of \u001b[39m\u001b[33m\\\u001b[39m\u001b[33mw+ must be\u001b[39m\u001b[33m\"\u001b[39m,\n\u001b[32m    226\u001b[39m         \u001b[33mf\u001b[39m\u001b[33m\"\u001b[39m\u001b[33mparameter of \u001b[39m\u001b[38;5;132;01m{\u001b[39;00mfunc.\u001b[34m__qualname__\u001b[39m\u001b[38;5;132;01m}\u001b[39;00m\u001b[33m must be\u001b[39m\u001b[33m\"\u001b[39m,\n\u001b[32m    227\u001b[39m         \u001b[38;5;28mstr\u001b[39m(e),\n\u001b[32m    228\u001b[39m     )\n",
      "\u001b[36mFile \u001b[39m\u001b[32mc:\\Users\\nichu\\.conda\\envs\\jupytorch\\Lib\\site-packages\\sklearn\\model_selection\\_validation.py:677\u001b[39m, in \u001b[36mcross_val_score\u001b[39m\u001b[34m(estimator, X, y, groups, scoring, cv, n_jobs, verbose, params, pre_dispatch, error_score)\u001b[39m\n\u001b[32m    674\u001b[39m \u001b[38;5;66;03m# To ensure multimetric format is not supported\u001b[39;00m\n\u001b[32m    675\u001b[39m scorer = check_scoring(estimator, scoring=scoring)\n\u001b[32m--> \u001b[39m\u001b[32m677\u001b[39m cv_results = cross_validate(\n\u001b[32m    678\u001b[39m     estimator=estimator,\n\u001b[32m    679\u001b[39m     X=X,\n\u001b[32m    680\u001b[39m     y=y,\n\u001b[32m    681\u001b[39m     groups=groups,\n\u001b[32m    682\u001b[39m     scoring={\u001b[33m\"\u001b[39m\u001b[33mscore\u001b[39m\u001b[33m\"\u001b[39m: scorer},\n\u001b[32m    683\u001b[39m     cv=cv,\n\u001b[32m    684\u001b[39m     n_jobs=n_jobs,\n\u001b[32m    685\u001b[39m     verbose=verbose,\n\u001b[32m    686\u001b[39m     params=params,\n\u001b[32m    687\u001b[39m     pre_dispatch=pre_dispatch,\n\u001b[32m    688\u001b[39m     error_score=error_score,\n\u001b[32m    689\u001b[39m )\n\u001b[32m    690\u001b[39m \u001b[38;5;28;01mreturn\u001b[39;00m cv_results[\u001b[33m\"\u001b[39m\u001b[33mtest_score\u001b[39m\u001b[33m\"\u001b[39m]\n",
      "\u001b[36mFile \u001b[39m\u001b[32mc:\\Users\\nichu\\.conda\\envs\\jupytorch\\Lib\\site-packages\\sklearn\\utils\\_param_validation.py:218\u001b[39m, in \u001b[36mvalidate_params.<locals>.decorator.<locals>.wrapper\u001b[39m\u001b[34m(*args, **kwargs)\u001b[39m\n\u001b[32m    212\u001b[39m \u001b[38;5;28;01mtry\u001b[39;00m:\n\u001b[32m    213\u001b[39m     \u001b[38;5;28;01mwith\u001b[39;00m config_context(\n\u001b[32m    214\u001b[39m         skip_parameter_validation=(\n\u001b[32m    215\u001b[39m             prefer_skip_nested_validation \u001b[38;5;129;01mor\u001b[39;00m global_skip_validation\n\u001b[32m    216\u001b[39m         )\n\u001b[32m    217\u001b[39m     ):\n\u001b[32m--> \u001b[39m\u001b[32m218\u001b[39m         \u001b[38;5;28;01mreturn\u001b[39;00m func(*args, **kwargs)\n\u001b[32m    219\u001b[39m \u001b[38;5;28;01mexcept\u001b[39;00m InvalidParameterError \u001b[38;5;28;01mas\u001b[39;00m e:\n\u001b[32m    220\u001b[39m     \u001b[38;5;66;03m# When the function is just a wrapper around an estimator, we allow\u001b[39;00m\n\u001b[32m    221\u001b[39m     \u001b[38;5;66;03m# the function to delegate validation to the estimator, but we replace\u001b[39;00m\n\u001b[32m    222\u001b[39m     \u001b[38;5;66;03m# the name of the estimator by the name of the function in the error\u001b[39;00m\n\u001b[32m    223\u001b[39m     \u001b[38;5;66;03m# message to avoid confusion.\u001b[39;00m\n\u001b[32m    224\u001b[39m     msg = re.sub(\n\u001b[32m    225\u001b[39m         \u001b[33mr\u001b[39m\u001b[33m\"\u001b[39m\u001b[33mparameter of \u001b[39m\u001b[33m\\\u001b[39m\u001b[33mw+ must be\u001b[39m\u001b[33m\"\u001b[39m,\n\u001b[32m    226\u001b[39m         \u001b[33mf\u001b[39m\u001b[33m\"\u001b[39m\u001b[33mparameter of \u001b[39m\u001b[38;5;132;01m{\u001b[39;00mfunc.\u001b[34m__qualname__\u001b[39m\u001b[38;5;132;01m}\u001b[39;00m\u001b[33m must be\u001b[39m\u001b[33m\"\u001b[39m,\n\u001b[32m    227\u001b[39m         \u001b[38;5;28mstr\u001b[39m(e),\n\u001b[32m    228\u001b[39m     )\n",
      "\u001b[36mFile \u001b[39m\u001b[32mc:\\Users\\nichu\\.conda\\envs\\jupytorch\\Lib\\site-packages\\sklearn\\model_selection\\_validation.py:399\u001b[39m, in \u001b[36mcross_validate\u001b[39m\u001b[34m(estimator, X, y, groups, scoring, cv, n_jobs, verbose, params, pre_dispatch, return_train_score, return_estimator, return_indices, error_score)\u001b[39m\n\u001b[32m    396\u001b[39m \u001b[38;5;66;03m# We clone the estimator to make sure that all the folds are\u001b[39;00m\n\u001b[32m    397\u001b[39m \u001b[38;5;66;03m# independent, and that it is pickle-able.\u001b[39;00m\n\u001b[32m    398\u001b[39m parallel = Parallel(n_jobs=n_jobs, verbose=verbose, pre_dispatch=pre_dispatch)\n\u001b[32m--> \u001b[39m\u001b[32m399\u001b[39m results = parallel(\n\u001b[32m    400\u001b[39m     delayed(_fit_and_score)(\n\u001b[32m    401\u001b[39m         clone(estimator),\n\u001b[32m    402\u001b[39m         X,\n\u001b[32m    403\u001b[39m         y,\n\u001b[32m    404\u001b[39m         scorer=scorers,\n\u001b[32m    405\u001b[39m         train=train,\n\u001b[32m    406\u001b[39m         test=test,\n\u001b[32m    407\u001b[39m         verbose=verbose,\n\u001b[32m    408\u001b[39m         parameters=\u001b[38;5;28;01mNone\u001b[39;00m,\n\u001b[32m    409\u001b[39m         fit_params=routed_params.estimator.fit,\n\u001b[32m    410\u001b[39m         score_params=routed_params.scorer.score,\n\u001b[32m    411\u001b[39m         return_train_score=return_train_score,\n\u001b[32m    412\u001b[39m         return_times=\u001b[38;5;28;01mTrue\u001b[39;00m,\n\u001b[32m    413\u001b[39m         return_estimator=return_estimator,\n\u001b[32m    414\u001b[39m         error_score=error_score,\n\u001b[32m    415\u001b[39m     )\n\u001b[32m    416\u001b[39m     \u001b[38;5;28;01mfor\u001b[39;00m train, test \u001b[38;5;129;01min\u001b[39;00m indices\n\u001b[32m    417\u001b[39m )\n\u001b[32m    419\u001b[39m _warn_or_raise_about_fit_failures(results, error_score)\n\u001b[32m    421\u001b[39m \u001b[38;5;66;03m# For callable scoring, the return type is only know after calling. If the\u001b[39;00m\n\u001b[32m    422\u001b[39m \u001b[38;5;66;03m# return type is a dictionary, the error scores can now be inserted with\u001b[39;00m\n\u001b[32m    423\u001b[39m \u001b[38;5;66;03m# the correct key.\u001b[39;00m\n",
      "\u001b[36mFile \u001b[39m\u001b[32mc:\\Users\\nichu\\.conda\\envs\\jupytorch\\Lib\\site-packages\\sklearn\\utils\\parallel.py:82\u001b[39m, in \u001b[36mParallel.__call__\u001b[39m\u001b[34m(self, iterable)\u001b[39m\n\u001b[32m     73\u001b[39m warning_filters = warnings.filters\n\u001b[32m     74\u001b[39m iterable_with_config_and_warning_filters = (\n\u001b[32m     75\u001b[39m     (\n\u001b[32m     76\u001b[39m         _with_config_and_warning_filters(delayed_func, config, warning_filters),\n\u001b[32m   (...)\u001b[39m\u001b[32m     80\u001b[39m     \u001b[38;5;28;01mfor\u001b[39;00m delayed_func, args, kwargs \u001b[38;5;129;01min\u001b[39;00m iterable\n\u001b[32m     81\u001b[39m )\n\u001b[32m---> \u001b[39m\u001b[32m82\u001b[39m \u001b[38;5;28;01mreturn\u001b[39;00m \u001b[38;5;28msuper\u001b[39m().\u001b[34m__call__\u001b[39m(iterable_with_config_and_warning_filters)\n",
      "\u001b[36mFile \u001b[39m\u001b[32mc:\\Users\\nichu\\.conda\\envs\\jupytorch\\Lib\\site-packages\\joblib\\parallel.py:1986\u001b[39m, in \u001b[36mParallel.__call__\u001b[39m\u001b[34m(self, iterable)\u001b[39m\n\u001b[32m   1984\u001b[39m     output = \u001b[38;5;28mself\u001b[39m._get_sequential_output(iterable)\n\u001b[32m   1985\u001b[39m     \u001b[38;5;28mnext\u001b[39m(output)\n\u001b[32m-> \u001b[39m\u001b[32m1986\u001b[39m     \u001b[38;5;28;01mreturn\u001b[39;00m output \u001b[38;5;28;01mif\u001b[39;00m \u001b[38;5;28mself\u001b[39m.return_generator \u001b[38;5;28;01melse\u001b[39;00m \u001b[38;5;28mlist\u001b[39m(output)\n\u001b[32m   1988\u001b[39m \u001b[38;5;66;03m# Let's create an ID that uniquely identifies the current call. If the\u001b[39;00m\n\u001b[32m   1989\u001b[39m \u001b[38;5;66;03m# call is interrupted early and that the same instance is immediately\u001b[39;00m\n\u001b[32m   1990\u001b[39m \u001b[38;5;66;03m# reused, this id will be used to prevent workers that were\u001b[39;00m\n\u001b[32m   1991\u001b[39m \u001b[38;5;66;03m# concurrently finalizing a task from the previous call to run the\u001b[39;00m\n\u001b[32m   1992\u001b[39m \u001b[38;5;66;03m# callback.\u001b[39;00m\n\u001b[32m   1993\u001b[39m \u001b[38;5;28;01mwith\u001b[39;00m \u001b[38;5;28mself\u001b[39m._lock:\n",
      "\u001b[36mFile \u001b[39m\u001b[32mc:\\Users\\nichu\\.conda\\envs\\jupytorch\\Lib\\site-packages\\joblib\\parallel.py:1914\u001b[39m, in \u001b[36mParallel._get_sequential_output\u001b[39m\u001b[34m(self, iterable)\u001b[39m\n\u001b[32m   1912\u001b[39m \u001b[38;5;28mself\u001b[39m.n_dispatched_batches += \u001b[32m1\u001b[39m\n\u001b[32m   1913\u001b[39m \u001b[38;5;28mself\u001b[39m.n_dispatched_tasks += \u001b[32m1\u001b[39m\n\u001b[32m-> \u001b[39m\u001b[32m1914\u001b[39m res = func(*args, **kwargs)\n\u001b[32m   1915\u001b[39m \u001b[38;5;28mself\u001b[39m.n_completed_tasks += \u001b[32m1\u001b[39m\n\u001b[32m   1916\u001b[39m \u001b[38;5;28mself\u001b[39m.print_progress()\n",
      "\u001b[36mFile \u001b[39m\u001b[32mc:\\Users\\nichu\\.conda\\envs\\jupytorch\\Lib\\site-packages\\sklearn\\utils\\parallel.py:147\u001b[39m, in \u001b[36m_FuncWrapper.__call__\u001b[39m\u001b[34m(self, *args, **kwargs)\u001b[39m\n\u001b[32m    145\u001b[39m \u001b[38;5;28;01mwith\u001b[39;00m config_context(**config), warnings.catch_warnings():\n\u001b[32m    146\u001b[39m     warnings.filters = warning_filters\n\u001b[32m--> \u001b[39m\u001b[32m147\u001b[39m     \u001b[38;5;28;01mreturn\u001b[39;00m \u001b[38;5;28mself\u001b[39m.function(*args, **kwargs)\n",
      "\u001b[36mFile \u001b[39m\u001b[32mc:\\Users\\nichu\\.conda\\envs\\jupytorch\\Lib\\site-packages\\sklearn\\model_selection\\_validation.py:859\u001b[39m, in \u001b[36m_fit_and_score\u001b[39m\u001b[34m(estimator, X, y, scorer, train, test, verbose, parameters, fit_params, score_params, return_train_score, return_parameters, return_n_test_samples, return_times, return_estimator, split_progress, candidate_progress, error_score)\u001b[39m\n\u001b[32m    857\u001b[39m         estimator.fit(X_train, **fit_params)\n\u001b[32m    858\u001b[39m     \u001b[38;5;28;01melse\u001b[39;00m:\n\u001b[32m--> \u001b[39m\u001b[32m859\u001b[39m         estimator.fit(X_train, y_train, **fit_params)\n\u001b[32m    861\u001b[39m \u001b[38;5;28;01mexcept\u001b[39;00m \u001b[38;5;167;01mException\u001b[39;00m:\n\u001b[32m    862\u001b[39m     \u001b[38;5;66;03m# Note fit time as time until error\u001b[39;00m\n\u001b[32m    863\u001b[39m     fit_time = time.time() - start_time\n",
      "\u001b[36mFile \u001b[39m\u001b[32mc:\\Users\\nichu\\.conda\\envs\\jupytorch\\Lib\\site-packages\\sklearn\\base.py:1365\u001b[39m, in \u001b[36m_fit_context.<locals>.decorator.<locals>.wrapper\u001b[39m\u001b[34m(estimator, *args, **kwargs)\u001b[39m\n\u001b[32m   1358\u001b[39m     estimator._validate_params()\n\u001b[32m   1360\u001b[39m \u001b[38;5;28;01mwith\u001b[39;00m config_context(\n\u001b[32m   1361\u001b[39m     skip_parameter_validation=(\n\u001b[32m   1362\u001b[39m         prefer_skip_nested_validation \u001b[38;5;129;01mor\u001b[39;00m global_skip_validation\n\u001b[32m   1363\u001b[39m     )\n\u001b[32m   1364\u001b[39m ):\n\u001b[32m-> \u001b[39m\u001b[32m1365\u001b[39m     \u001b[38;5;28;01mreturn\u001b[39;00m fit_method(estimator, *args, **kwargs)\n",
      "\u001b[36mFile \u001b[39m\u001b[32mc:\\Users\\nichu\\.conda\\envs\\jupytorch\\Lib\\site-packages\\sklearn\\compose\\_target.py:293\u001b[39m, in \u001b[36mTransformedTargetRegressor.fit\u001b[39m\u001b[34m(self, X, y, **fit_params)\u001b[39m\n\u001b[32m    290\u001b[39m \u001b[38;5;28;01melse\u001b[39;00m:\n\u001b[32m    291\u001b[39m     routed_params = Bunch(regressor=Bunch(fit=fit_params))\n\u001b[32m--> \u001b[39m\u001b[32m293\u001b[39m \u001b[38;5;28mself\u001b[39m.regressor_.fit(X, y_trans, **routed_params.regressor.fit)\n\u001b[32m    295\u001b[39m \u001b[38;5;28;01mif\u001b[39;00m \u001b[38;5;28mhasattr\u001b[39m(\u001b[38;5;28mself\u001b[39m.regressor_, \u001b[33m\"\u001b[39m\u001b[33mfeature_names_in_\u001b[39m\u001b[33m\"\u001b[39m):\n\u001b[32m    296\u001b[39m     \u001b[38;5;28mself\u001b[39m.feature_names_in_ = \u001b[38;5;28mself\u001b[39m.regressor_.feature_names_in_\n",
      "\u001b[36mFile \u001b[39m\u001b[32mc:\\Users\\nichu\\.conda\\envs\\jupytorch\\Lib\\site-packages\\sklearn\\base.py:1365\u001b[39m, in \u001b[36m_fit_context.<locals>.decorator.<locals>.wrapper\u001b[39m\u001b[34m(estimator, *args, **kwargs)\u001b[39m\n\u001b[32m   1358\u001b[39m     estimator._validate_params()\n\u001b[32m   1360\u001b[39m \u001b[38;5;28;01mwith\u001b[39;00m config_context(\n\u001b[32m   1361\u001b[39m     skip_parameter_validation=(\n\u001b[32m   1362\u001b[39m         prefer_skip_nested_validation \u001b[38;5;129;01mor\u001b[39;00m global_skip_validation\n\u001b[32m   1363\u001b[39m     )\n\u001b[32m   1364\u001b[39m ):\n\u001b[32m-> \u001b[39m\u001b[32m1365\u001b[39m     \u001b[38;5;28;01mreturn\u001b[39;00m fit_method(estimator, *args, **kwargs)\n",
      "\u001b[36mFile \u001b[39m\u001b[32mc:\\Users\\nichu\\.conda\\envs\\jupytorch\\Lib\\site-packages\\sklearn\\ensemble\\_forest.py:486\u001b[39m, in \u001b[36mBaseForest.fit\u001b[39m\u001b[34m(self, X, y, sample_weight)\u001b[39m\n\u001b[32m    475\u001b[39m trees = [\n\u001b[32m    476\u001b[39m     \u001b[38;5;28mself\u001b[39m._make_estimator(append=\u001b[38;5;28;01mFalse\u001b[39;00m, random_state=random_state)\n\u001b[32m    477\u001b[39m     \u001b[38;5;28;01mfor\u001b[39;00m i \u001b[38;5;129;01min\u001b[39;00m \u001b[38;5;28mrange\u001b[39m(n_more_estimators)\n\u001b[32m    478\u001b[39m ]\n\u001b[32m    480\u001b[39m \u001b[38;5;66;03m# Parallel loop: we prefer the threading backend as the Cython code\u001b[39;00m\n\u001b[32m    481\u001b[39m \u001b[38;5;66;03m# for fitting the trees is internally releasing the Python GIL\u001b[39;00m\n\u001b[32m    482\u001b[39m \u001b[38;5;66;03m# making threading more efficient than multiprocessing in\u001b[39;00m\n\u001b[32m    483\u001b[39m \u001b[38;5;66;03m# that case. However, for joblib 0.12+ we respect any\u001b[39;00m\n\u001b[32m    484\u001b[39m \u001b[38;5;66;03m# parallel_backend contexts set at a higher level,\u001b[39;00m\n\u001b[32m    485\u001b[39m \u001b[38;5;66;03m# since correctness does not rely on using threads.\u001b[39;00m\n\u001b[32m--> \u001b[39m\u001b[32m486\u001b[39m trees = Parallel(\n\u001b[32m    487\u001b[39m     n_jobs=\u001b[38;5;28mself\u001b[39m.n_jobs,\n\u001b[32m    488\u001b[39m     verbose=\u001b[38;5;28mself\u001b[39m.verbose,\n\u001b[32m    489\u001b[39m     prefer=\u001b[33m\"\u001b[39m\u001b[33mthreads\u001b[39m\u001b[33m\"\u001b[39m,\n\u001b[32m    490\u001b[39m )(\n\u001b[32m    491\u001b[39m     delayed(_parallel_build_trees)(\n\u001b[32m    492\u001b[39m         t,\n\u001b[32m    493\u001b[39m         \u001b[38;5;28mself\u001b[39m.bootstrap,\n\u001b[32m    494\u001b[39m         X,\n\u001b[32m    495\u001b[39m         y,\n\u001b[32m    496\u001b[39m         sample_weight,\n\u001b[32m    497\u001b[39m         i,\n\u001b[32m    498\u001b[39m         \u001b[38;5;28mlen\u001b[39m(trees),\n\u001b[32m    499\u001b[39m         verbose=\u001b[38;5;28mself\u001b[39m.verbose,\n\u001b[32m    500\u001b[39m         class_weight=\u001b[38;5;28mself\u001b[39m.class_weight,\n\u001b[32m    501\u001b[39m         n_samples_bootstrap=n_samples_bootstrap,\n\u001b[32m    502\u001b[39m         missing_values_in_feature_mask=missing_values_in_feature_mask,\n\u001b[32m    503\u001b[39m     )\n\u001b[32m    504\u001b[39m     \u001b[38;5;28;01mfor\u001b[39;00m i, t \u001b[38;5;129;01min\u001b[39;00m \u001b[38;5;28menumerate\u001b[39m(trees)\n\u001b[32m    505\u001b[39m )\n\u001b[32m    507\u001b[39m \u001b[38;5;66;03m# Collect newly grown trees\u001b[39;00m\n\u001b[32m    508\u001b[39m \u001b[38;5;28mself\u001b[39m.estimators_.extend(trees)\n",
      "\u001b[36mFile \u001b[39m\u001b[32mc:\\Users\\nichu\\.conda\\envs\\jupytorch\\Lib\\site-packages\\sklearn\\utils\\parallel.py:82\u001b[39m, in \u001b[36mParallel.__call__\u001b[39m\u001b[34m(self, iterable)\u001b[39m\n\u001b[32m     73\u001b[39m warning_filters = warnings.filters\n\u001b[32m     74\u001b[39m iterable_with_config_and_warning_filters = (\n\u001b[32m     75\u001b[39m     (\n\u001b[32m     76\u001b[39m         _with_config_and_warning_filters(delayed_func, config, warning_filters),\n\u001b[32m   (...)\u001b[39m\u001b[32m     80\u001b[39m     \u001b[38;5;28;01mfor\u001b[39;00m delayed_func, args, kwargs \u001b[38;5;129;01min\u001b[39;00m iterable\n\u001b[32m     81\u001b[39m )\n\u001b[32m---> \u001b[39m\u001b[32m82\u001b[39m \u001b[38;5;28;01mreturn\u001b[39;00m \u001b[38;5;28msuper\u001b[39m().\u001b[34m__call__\u001b[39m(iterable_with_config_and_warning_filters)\n",
      "\u001b[36mFile \u001b[39m\u001b[32mc:\\Users\\nichu\\.conda\\envs\\jupytorch\\Lib\\site-packages\\joblib\\parallel.py:1986\u001b[39m, in \u001b[36mParallel.__call__\u001b[39m\u001b[34m(self, iterable)\u001b[39m\n\u001b[32m   1984\u001b[39m     output = \u001b[38;5;28mself\u001b[39m._get_sequential_output(iterable)\n\u001b[32m   1985\u001b[39m     \u001b[38;5;28mnext\u001b[39m(output)\n\u001b[32m-> \u001b[39m\u001b[32m1986\u001b[39m     \u001b[38;5;28;01mreturn\u001b[39;00m output \u001b[38;5;28;01mif\u001b[39;00m \u001b[38;5;28mself\u001b[39m.return_generator \u001b[38;5;28;01melse\u001b[39;00m \u001b[38;5;28mlist\u001b[39m(output)\n\u001b[32m   1988\u001b[39m \u001b[38;5;66;03m# Let's create an ID that uniquely identifies the current call. If the\u001b[39;00m\n\u001b[32m   1989\u001b[39m \u001b[38;5;66;03m# call is interrupted early and that the same instance is immediately\u001b[39;00m\n\u001b[32m   1990\u001b[39m \u001b[38;5;66;03m# reused, this id will be used to prevent workers that were\u001b[39;00m\n\u001b[32m   1991\u001b[39m \u001b[38;5;66;03m# concurrently finalizing a task from the previous call to run the\u001b[39;00m\n\u001b[32m   1992\u001b[39m \u001b[38;5;66;03m# callback.\u001b[39;00m\n\u001b[32m   1993\u001b[39m \u001b[38;5;28;01mwith\u001b[39;00m \u001b[38;5;28mself\u001b[39m._lock:\n",
      "\u001b[36mFile \u001b[39m\u001b[32mc:\\Users\\nichu\\.conda\\envs\\jupytorch\\Lib\\site-packages\\joblib\\parallel.py:1914\u001b[39m, in \u001b[36mParallel._get_sequential_output\u001b[39m\u001b[34m(self, iterable)\u001b[39m\n\u001b[32m   1912\u001b[39m \u001b[38;5;28mself\u001b[39m.n_dispatched_batches += \u001b[32m1\u001b[39m\n\u001b[32m   1913\u001b[39m \u001b[38;5;28mself\u001b[39m.n_dispatched_tasks += \u001b[32m1\u001b[39m\n\u001b[32m-> \u001b[39m\u001b[32m1914\u001b[39m res = func(*args, **kwargs)\n\u001b[32m   1915\u001b[39m \u001b[38;5;28mself\u001b[39m.n_completed_tasks += \u001b[32m1\u001b[39m\n\u001b[32m   1916\u001b[39m \u001b[38;5;28mself\u001b[39m.print_progress()\n",
      "\u001b[36mFile \u001b[39m\u001b[32mc:\\Users\\nichu\\.conda\\envs\\jupytorch\\Lib\\site-packages\\sklearn\\utils\\parallel.py:147\u001b[39m, in \u001b[36m_FuncWrapper.__call__\u001b[39m\u001b[34m(self, *args, **kwargs)\u001b[39m\n\u001b[32m    145\u001b[39m \u001b[38;5;28;01mwith\u001b[39;00m config_context(**config), warnings.catch_warnings():\n\u001b[32m    146\u001b[39m     warnings.filters = warning_filters\n\u001b[32m--> \u001b[39m\u001b[32m147\u001b[39m     \u001b[38;5;28;01mreturn\u001b[39;00m \u001b[38;5;28mself\u001b[39m.function(*args, **kwargs)\n",
      "\u001b[36mFile \u001b[39m\u001b[32mc:\\Users\\nichu\\.conda\\envs\\jupytorch\\Lib\\site-packages\\sklearn\\ensemble\\_forest.py:188\u001b[39m, in \u001b[36m_parallel_build_trees\u001b[39m\u001b[34m(tree, bootstrap, X, y, sample_weight, tree_idx, n_trees, verbose, class_weight, n_samples_bootstrap, missing_values_in_feature_mask)\u001b[39m\n\u001b[32m    185\u001b[39m     \u001b[38;5;28;01melif\u001b[39;00m class_weight == \u001b[33m\"\u001b[39m\u001b[33mbalanced_subsample\u001b[39m\u001b[33m\"\u001b[39m:\n\u001b[32m    186\u001b[39m         curr_sample_weight *= compute_sample_weight(\u001b[33m\"\u001b[39m\u001b[33mbalanced\u001b[39m\u001b[33m\"\u001b[39m, y, indices=indices)\n\u001b[32m--> \u001b[39m\u001b[32m188\u001b[39m     tree._fit(\n\u001b[32m    189\u001b[39m         X,\n\u001b[32m    190\u001b[39m         y,\n\u001b[32m    191\u001b[39m         sample_weight=curr_sample_weight,\n\u001b[32m    192\u001b[39m         check_input=\u001b[38;5;28;01mFalse\u001b[39;00m,\n\u001b[32m    193\u001b[39m         missing_values_in_feature_mask=missing_values_in_feature_mask,\n\u001b[32m    194\u001b[39m     )\n\u001b[32m    195\u001b[39m \u001b[38;5;28;01melse\u001b[39;00m:\n\u001b[32m    196\u001b[39m     tree._fit(\n\u001b[32m    197\u001b[39m         X,\n\u001b[32m    198\u001b[39m         y,\n\u001b[32m   (...)\u001b[39m\u001b[32m    201\u001b[39m         missing_values_in_feature_mask=missing_values_in_feature_mask,\n\u001b[32m    202\u001b[39m     )\n",
      "\u001b[36mFile \u001b[39m\u001b[32mc:\\Users\\nichu\\.conda\\envs\\jupytorch\\Lib\\site-packages\\sklearn\\tree\\_classes.py:472\u001b[39m, in \u001b[36mBaseDecisionTree._fit\u001b[39m\u001b[34m(self, X, y, sample_weight, check_input, missing_values_in_feature_mask)\u001b[39m\n\u001b[32m    461\u001b[39m \u001b[38;5;28;01melse\u001b[39;00m:\n\u001b[32m    462\u001b[39m     builder = BestFirstTreeBuilder(\n\u001b[32m    463\u001b[39m         splitter,\n\u001b[32m    464\u001b[39m         min_samples_split,\n\u001b[32m   (...)\u001b[39m\u001b[32m    469\u001b[39m         \u001b[38;5;28mself\u001b[39m.min_impurity_decrease,\n\u001b[32m    470\u001b[39m     )\n\u001b[32m--> \u001b[39m\u001b[32m472\u001b[39m builder.build(\u001b[38;5;28mself\u001b[39m.tree_, X, y, sample_weight, missing_values_in_feature_mask)\n\u001b[32m    474\u001b[39m \u001b[38;5;28;01mif\u001b[39;00m \u001b[38;5;28mself\u001b[39m.n_outputs_ == \u001b[32m1\u001b[39m \u001b[38;5;129;01mand\u001b[39;00m is_classifier(\u001b[38;5;28mself\u001b[39m):\n\u001b[32m    475\u001b[39m     \u001b[38;5;28mself\u001b[39m.n_classes_ = \u001b[38;5;28mself\u001b[39m.n_classes_[\u001b[32m0\u001b[39m]\n",
      "\u001b[31mKeyboardInterrupt\u001b[39m: "
     ]
    }
   ],
   "source": [
    "final_scores=-cross_val_score(model_with_transformer,X,y,cv=5,scoring='neg_root_mean_squared_error')\n",
    "final_scores"
   ]
  },
  {
   "cell_type": "code",
   "execution_count": 27,
   "id": "5c4c073a",
   "metadata": {},
   "outputs": [
    {
     "data": {
      "application/vnd.microsoft.datawrangler.viewer.v0+json": {
       "columns": [
        {
         "name": "index",
         "rawType": "int64",
         "type": "integer"
        },
        {
         "name": "Age",
         "rawType": "int64",
         "type": "integer"
        }
       ],
       "ref": "542c5ced-8c18-4c8f-add9-2477bba79d70",
       "rows": [
        [
         "4037",
         "11"
        ],
        [
         "1272",
         "8"
        ],
        [
         "3384",
         "13"
        ],
        [
         "3160",
         "6"
        ],
        [
         "3894",
         "13"
        ],
        [
         "1288",
         "8"
        ],
        [
         "3863",
         "5"
        ],
        [
         "554",
         "10"
        ],
        [
         "1871",
         "9"
        ],
        [
         "1074",
         "6"
        ],
        [
         "2525",
         "9"
        ],
        [
         "4112",
         "8"
        ],
        [
         "1618",
         "10"
        ],
        [
         "3410",
         "7"
        ],
        [
         "3532",
         "6"
        ],
        [
         "3391",
         "19"
        ],
        [
         "3577",
         "10"
        ],
        [
         "1756",
         "11"
        ],
        [
         "1777",
         "8"
        ],
        [
         "2256",
         "13"
        ],
        [
         "3016",
         "8"
        ],
        [
         "1805",
         "11"
        ],
        [
         "752",
         "13"
        ],
        [
         "2339",
         "11"
        ],
        [
         "3181",
         "10"
        ],
        [
         "1882",
         "8"
        ],
        [
         "1391",
         "10"
        ],
        [
         "3365",
         "5"
        ],
        [
         "4106",
         "7"
        ],
        [
         "4041",
         "10"
        ],
        [
         "2952",
         "11"
        ],
        [
         "3673",
         "12"
        ],
        [
         "729",
         "11"
        ],
        [
         "2994",
         "9"
        ],
        [
         "2768",
         "11"
        ],
        [
         "2828",
         "7"
        ],
        [
         "721",
         "15"
        ],
        [
         "2037",
         "5"
        ],
        [
         "3366",
         "17"
        ],
        [
         "1740",
         "10"
        ],
        [
         "2171",
         "5"
        ],
        [
         "2222",
         "14"
        ],
        [
         "3231",
         "13"
        ],
        [
         "1754",
         "7"
        ],
        [
         "346",
         "6"
        ],
        [
         "3221",
         "18"
        ],
        [
         "3489",
         "10"
        ],
        [
         "1228",
         "6"
        ],
        [
         "3706",
         "11"
        ],
        [
         "578",
         "17"
        ]
       ],
       "shape": {
        "columns": 1,
        "rows": 3340
       }
      },
      "text/html": [
       "<div>\n",
       "<style scoped>\n",
       "    .dataframe tbody tr th:only-of-type {\n",
       "        vertical-align: middle;\n",
       "    }\n",
       "\n",
       "    .dataframe tbody tr th {\n",
       "        vertical-align: top;\n",
       "    }\n",
       "\n",
       "    .dataframe thead th {\n",
       "        text-align: right;\n",
       "    }\n",
       "</style>\n",
       "<table border=\"1\" class=\"dataframe\">\n",
       "  <thead>\n",
       "    <tr style=\"text-align: right;\">\n",
       "      <th></th>\n",
       "      <th>Age</th>\n",
       "    </tr>\n",
       "  </thead>\n",
       "  <tbody>\n",
       "    <tr>\n",
       "      <th>4037</th>\n",
       "      <td>11</td>\n",
       "    </tr>\n",
       "    <tr>\n",
       "      <th>1272</th>\n",
       "      <td>8</td>\n",
       "    </tr>\n",
       "    <tr>\n",
       "      <th>3384</th>\n",
       "      <td>13</td>\n",
       "    </tr>\n",
       "    <tr>\n",
       "      <th>3160</th>\n",
       "      <td>6</td>\n",
       "    </tr>\n",
       "    <tr>\n",
       "      <th>3894</th>\n",
       "      <td>13</td>\n",
       "    </tr>\n",
       "    <tr>\n",
       "      <th>...</th>\n",
       "      <td>...</td>\n",
       "    </tr>\n",
       "    <tr>\n",
       "      <th>3444</th>\n",
       "      <td>8</td>\n",
       "    </tr>\n",
       "    <tr>\n",
       "      <th>466</th>\n",
       "      <td>13</td>\n",
       "    </tr>\n",
       "    <tr>\n",
       "      <th>3092</th>\n",
       "      <td>11</td>\n",
       "    </tr>\n",
       "    <tr>\n",
       "      <th>3772</th>\n",
       "      <td>9</td>\n",
       "    </tr>\n",
       "    <tr>\n",
       "      <th>860</th>\n",
       "      <td>12</td>\n",
       "    </tr>\n",
       "  </tbody>\n",
       "</table>\n",
       "<p>3340 rows × 1 columns</p>\n",
       "</div>"
      ],
      "text/plain": [
       "      Age\n",
       "4037   11\n",
       "1272    8\n",
       "3384   13\n",
       "3160    6\n",
       "3894   13\n",
       "...   ...\n",
       "3444    8\n",
       "466    13\n",
       "3092   11\n",
       "3772    9\n",
       "860    12\n",
       "\n",
       "[3340 rows x 1 columns]"
      ]
     },
     "execution_count": 27,
     "metadata": {},
     "output_type": "execute_result"
    }
   ],
   "source": [
    "y_train"
   ]
  },
  {
   "cell_type": "code",
   "execution_count": null,
   "id": "20048052",
   "metadata": {},
   "outputs": [
    {
     "data": {
      "application/vnd.microsoft.datawrangler.viewer.v0+json": {
       "columns": [
        {
         "name": "index",
         "rawType": "int64",
         "type": "integer"
        },
        {
         "name": "0",
         "rawType": "float64",
         "type": "float"
        }
       ],
       "ref": "c88be2c2-0515-44c9-ba34-5d71b74692dd",
       "rows": [
        [
         "0",
         "2.370682271232846"
        ],
        [
         "1",
         "2.142221481138562"
        ],
        [
         "2",
         "2.1567768492000994"
        ],
        [
         "3",
         "2.0403859562100988"
        ],
        [
         "4",
         "2.1777075858207677"
        ]
       ],
       "shape": {
        "columns": 1,
        "rows": 5
       }
      },
      "text/plain": [
       "array([2.37068227, 2.14222148, 2.15677685, 2.04038596, 2.17770759])"
      ]
     },
     "execution_count": 71,
     "metadata": {},
     "output_type": "execute_result"
    }
   ],
   "source": [
    "ran_rmse=-cross_val_score(ran_frst,X_train,np.ravel(y_train),cv=5,scoring='neg_root_mean_squared_error')\n",
    "ran_rmse"
   ]
  },
  {
   "cell_type": "code",
   "execution_count": 37,
   "id": "dc2ba632",
   "metadata": {},
   "outputs": [
    {
     "data": {
      "text/html": [
       "<style>#sk-container-id-3 {\n",
       "  /* Definition of color scheme common for light and dark mode */\n",
       "  --sklearn-color-text: #000;\n",
       "  --sklearn-color-text-muted: #666;\n",
       "  --sklearn-color-line: gray;\n",
       "  /* Definition of color scheme for unfitted estimators */\n",
       "  --sklearn-color-unfitted-level-0: #fff5e6;\n",
       "  --sklearn-color-unfitted-level-1: #f6e4d2;\n",
       "  --sklearn-color-unfitted-level-2: #ffe0b3;\n",
       "  --sklearn-color-unfitted-level-3: chocolate;\n",
       "  /* Definition of color scheme for fitted estimators */\n",
       "  --sklearn-color-fitted-level-0: #f0f8ff;\n",
       "  --sklearn-color-fitted-level-1: #d4ebff;\n",
       "  --sklearn-color-fitted-level-2: #b3dbfd;\n",
       "  --sklearn-color-fitted-level-3: cornflowerblue;\n",
       "\n",
       "  /* Specific color for light theme */\n",
       "  --sklearn-color-text-on-default-background: var(--sg-text-color, var(--theme-code-foreground, var(--jp-content-font-color1, black)));\n",
       "  --sklearn-color-background: var(--sg-background-color, var(--theme-background, var(--jp-layout-color0, white)));\n",
       "  --sklearn-color-border-box: var(--sg-text-color, var(--theme-code-foreground, var(--jp-content-font-color1, black)));\n",
       "  --sklearn-color-icon: #696969;\n",
       "\n",
       "  @media (prefers-color-scheme: dark) {\n",
       "    /* Redefinition of color scheme for dark theme */\n",
       "    --sklearn-color-text-on-default-background: var(--sg-text-color, var(--theme-code-foreground, var(--jp-content-font-color1, white)));\n",
       "    --sklearn-color-background: var(--sg-background-color, var(--theme-background, var(--jp-layout-color0, #111)));\n",
       "    --sklearn-color-border-box: var(--sg-text-color, var(--theme-code-foreground, var(--jp-content-font-color1, white)));\n",
       "    --sklearn-color-icon: #878787;\n",
       "  }\n",
       "}\n",
       "\n",
       "#sk-container-id-3 {\n",
       "  color: var(--sklearn-color-text);\n",
       "}\n",
       "\n",
       "#sk-container-id-3 pre {\n",
       "  padding: 0;\n",
       "}\n",
       "\n",
       "#sk-container-id-3 input.sk-hidden--visually {\n",
       "  border: 0;\n",
       "  clip: rect(1px 1px 1px 1px);\n",
       "  clip: rect(1px, 1px, 1px, 1px);\n",
       "  height: 1px;\n",
       "  margin: -1px;\n",
       "  overflow: hidden;\n",
       "  padding: 0;\n",
       "  position: absolute;\n",
       "  width: 1px;\n",
       "}\n",
       "\n",
       "#sk-container-id-3 div.sk-dashed-wrapped {\n",
       "  border: 1px dashed var(--sklearn-color-line);\n",
       "  margin: 0 0.4em 0.5em 0.4em;\n",
       "  box-sizing: border-box;\n",
       "  padding-bottom: 0.4em;\n",
       "  background-color: var(--sklearn-color-background);\n",
       "}\n",
       "\n",
       "#sk-container-id-3 div.sk-container {\n",
       "  /* jupyter's `normalize.less` sets `[hidden] { display: none; }`\n",
       "     but bootstrap.min.css set `[hidden] { display: none !important; }`\n",
       "     so we also need the `!important` here to be able to override the\n",
       "     default hidden behavior on the sphinx rendered scikit-learn.org.\n",
       "     See: https://github.com/scikit-learn/scikit-learn/issues/21755 */\n",
       "  display: inline-block !important;\n",
       "  position: relative;\n",
       "}\n",
       "\n",
       "#sk-container-id-3 div.sk-text-repr-fallback {\n",
       "  display: none;\n",
       "}\n",
       "\n",
       "div.sk-parallel-item,\n",
       "div.sk-serial,\n",
       "div.sk-item {\n",
       "  /* draw centered vertical line to link estimators */\n",
       "  background-image: linear-gradient(var(--sklearn-color-text-on-default-background), var(--sklearn-color-text-on-default-background));\n",
       "  background-size: 2px 100%;\n",
       "  background-repeat: no-repeat;\n",
       "  background-position: center center;\n",
       "}\n",
       "\n",
       "/* Parallel-specific style estimator block */\n",
       "\n",
       "#sk-container-id-3 div.sk-parallel-item::after {\n",
       "  content: \"\";\n",
       "  width: 100%;\n",
       "  border-bottom: 2px solid var(--sklearn-color-text-on-default-background);\n",
       "  flex-grow: 1;\n",
       "}\n",
       "\n",
       "#sk-container-id-3 div.sk-parallel {\n",
       "  display: flex;\n",
       "  align-items: stretch;\n",
       "  justify-content: center;\n",
       "  background-color: var(--sklearn-color-background);\n",
       "  position: relative;\n",
       "}\n",
       "\n",
       "#sk-container-id-3 div.sk-parallel-item {\n",
       "  display: flex;\n",
       "  flex-direction: column;\n",
       "}\n",
       "\n",
       "#sk-container-id-3 div.sk-parallel-item:first-child::after {\n",
       "  align-self: flex-end;\n",
       "  width: 50%;\n",
       "}\n",
       "\n",
       "#sk-container-id-3 div.sk-parallel-item:last-child::after {\n",
       "  align-self: flex-start;\n",
       "  width: 50%;\n",
       "}\n",
       "\n",
       "#sk-container-id-3 div.sk-parallel-item:only-child::after {\n",
       "  width: 0;\n",
       "}\n",
       "\n",
       "/* Serial-specific style estimator block */\n",
       "\n",
       "#sk-container-id-3 div.sk-serial {\n",
       "  display: flex;\n",
       "  flex-direction: column;\n",
       "  align-items: center;\n",
       "  background-color: var(--sklearn-color-background);\n",
       "  padding-right: 1em;\n",
       "  padding-left: 1em;\n",
       "}\n",
       "\n",
       "\n",
       "/* Toggleable style: style used for estimator/Pipeline/ColumnTransformer box that is\n",
       "clickable and can be expanded/collapsed.\n",
       "- Pipeline and ColumnTransformer use this feature and define the default style\n",
       "- Estimators will overwrite some part of the style using the `sk-estimator` class\n",
       "*/\n",
       "\n",
       "/* Pipeline and ColumnTransformer style (default) */\n",
       "\n",
       "#sk-container-id-3 div.sk-toggleable {\n",
       "  /* Default theme specific background. It is overwritten whether we have a\n",
       "  specific estimator or a Pipeline/ColumnTransformer */\n",
       "  background-color: var(--sklearn-color-background);\n",
       "}\n",
       "\n",
       "/* Toggleable label */\n",
       "#sk-container-id-3 label.sk-toggleable__label {\n",
       "  cursor: pointer;\n",
       "  display: flex;\n",
       "  width: 100%;\n",
       "  margin-bottom: 0;\n",
       "  padding: 0.5em;\n",
       "  box-sizing: border-box;\n",
       "  text-align: center;\n",
       "  align-items: start;\n",
       "  justify-content: space-between;\n",
       "  gap: 0.5em;\n",
       "}\n",
       "\n",
       "#sk-container-id-3 label.sk-toggleable__label .caption {\n",
       "  font-size: 0.6rem;\n",
       "  font-weight: lighter;\n",
       "  color: var(--sklearn-color-text-muted);\n",
       "}\n",
       "\n",
       "#sk-container-id-3 label.sk-toggleable__label-arrow:before {\n",
       "  /* Arrow on the left of the label */\n",
       "  content: \"▸\";\n",
       "  float: left;\n",
       "  margin-right: 0.25em;\n",
       "  color: var(--sklearn-color-icon);\n",
       "}\n",
       "\n",
       "#sk-container-id-3 label.sk-toggleable__label-arrow:hover:before {\n",
       "  color: var(--sklearn-color-text);\n",
       "}\n",
       "\n",
       "/* Toggleable content - dropdown */\n",
       "\n",
       "#sk-container-id-3 div.sk-toggleable__content {\n",
       "  display: none;\n",
       "  text-align: left;\n",
       "  /* unfitted */\n",
       "  background-color: var(--sklearn-color-unfitted-level-0);\n",
       "}\n",
       "\n",
       "#sk-container-id-3 div.sk-toggleable__content.fitted {\n",
       "  /* fitted */\n",
       "  background-color: var(--sklearn-color-fitted-level-0);\n",
       "}\n",
       "\n",
       "#sk-container-id-3 div.sk-toggleable__content pre {\n",
       "  margin: 0.2em;\n",
       "  border-radius: 0.25em;\n",
       "  color: var(--sklearn-color-text);\n",
       "  /* unfitted */\n",
       "  background-color: var(--sklearn-color-unfitted-level-0);\n",
       "}\n",
       "\n",
       "#sk-container-id-3 div.sk-toggleable__content.fitted pre {\n",
       "  /* unfitted */\n",
       "  background-color: var(--sklearn-color-fitted-level-0);\n",
       "}\n",
       "\n",
       "#sk-container-id-3 input.sk-toggleable__control:checked~div.sk-toggleable__content {\n",
       "  /* Expand drop-down */\n",
       "  display: block;\n",
       "  width: 100%;\n",
       "  overflow: visible;\n",
       "}\n",
       "\n",
       "#sk-container-id-3 input.sk-toggleable__control:checked~label.sk-toggleable__label-arrow:before {\n",
       "  content: \"▾\";\n",
       "}\n",
       "\n",
       "/* Pipeline/ColumnTransformer-specific style */\n",
       "\n",
       "#sk-container-id-3 div.sk-label input.sk-toggleable__control:checked~label.sk-toggleable__label {\n",
       "  color: var(--sklearn-color-text);\n",
       "  background-color: var(--sklearn-color-unfitted-level-2);\n",
       "}\n",
       "\n",
       "#sk-container-id-3 div.sk-label.fitted input.sk-toggleable__control:checked~label.sk-toggleable__label {\n",
       "  background-color: var(--sklearn-color-fitted-level-2);\n",
       "}\n",
       "\n",
       "/* Estimator-specific style */\n",
       "\n",
       "/* Colorize estimator box */\n",
       "#sk-container-id-3 div.sk-estimator input.sk-toggleable__control:checked~label.sk-toggleable__label {\n",
       "  /* unfitted */\n",
       "  background-color: var(--sklearn-color-unfitted-level-2);\n",
       "}\n",
       "\n",
       "#sk-container-id-3 div.sk-estimator.fitted input.sk-toggleable__control:checked~label.sk-toggleable__label {\n",
       "  /* fitted */\n",
       "  background-color: var(--sklearn-color-fitted-level-2);\n",
       "}\n",
       "\n",
       "#sk-container-id-3 div.sk-label label.sk-toggleable__label,\n",
       "#sk-container-id-3 div.sk-label label {\n",
       "  /* The background is the default theme color */\n",
       "  color: var(--sklearn-color-text-on-default-background);\n",
       "}\n",
       "\n",
       "/* On hover, darken the color of the background */\n",
       "#sk-container-id-3 div.sk-label:hover label.sk-toggleable__label {\n",
       "  color: var(--sklearn-color-text);\n",
       "  background-color: var(--sklearn-color-unfitted-level-2);\n",
       "}\n",
       "\n",
       "/* Label box, darken color on hover, fitted */\n",
       "#sk-container-id-3 div.sk-label.fitted:hover label.sk-toggleable__label.fitted {\n",
       "  color: var(--sklearn-color-text);\n",
       "  background-color: var(--sklearn-color-fitted-level-2);\n",
       "}\n",
       "\n",
       "/* Estimator label */\n",
       "\n",
       "#sk-container-id-3 div.sk-label label {\n",
       "  font-family: monospace;\n",
       "  font-weight: bold;\n",
       "  display: inline-block;\n",
       "  line-height: 1.2em;\n",
       "}\n",
       "\n",
       "#sk-container-id-3 div.sk-label-container {\n",
       "  text-align: center;\n",
       "}\n",
       "\n",
       "/* Estimator-specific */\n",
       "#sk-container-id-3 div.sk-estimator {\n",
       "  font-family: monospace;\n",
       "  border: 1px dotted var(--sklearn-color-border-box);\n",
       "  border-radius: 0.25em;\n",
       "  box-sizing: border-box;\n",
       "  margin-bottom: 0.5em;\n",
       "  /* unfitted */\n",
       "  background-color: var(--sklearn-color-unfitted-level-0);\n",
       "}\n",
       "\n",
       "#sk-container-id-3 div.sk-estimator.fitted {\n",
       "  /* fitted */\n",
       "  background-color: var(--sklearn-color-fitted-level-0);\n",
       "}\n",
       "\n",
       "/* on hover */\n",
       "#sk-container-id-3 div.sk-estimator:hover {\n",
       "  /* unfitted */\n",
       "  background-color: var(--sklearn-color-unfitted-level-2);\n",
       "}\n",
       "\n",
       "#sk-container-id-3 div.sk-estimator.fitted:hover {\n",
       "  /* fitted */\n",
       "  background-color: var(--sklearn-color-fitted-level-2);\n",
       "}\n",
       "\n",
       "/* Specification for estimator info (e.g. \"i\" and \"?\") */\n",
       "\n",
       "/* Common style for \"i\" and \"?\" */\n",
       "\n",
       ".sk-estimator-doc-link,\n",
       "a:link.sk-estimator-doc-link,\n",
       "a:visited.sk-estimator-doc-link {\n",
       "  float: right;\n",
       "  font-size: smaller;\n",
       "  line-height: 1em;\n",
       "  font-family: monospace;\n",
       "  background-color: var(--sklearn-color-background);\n",
       "  border-radius: 1em;\n",
       "  height: 1em;\n",
       "  width: 1em;\n",
       "  text-decoration: none !important;\n",
       "  margin-left: 0.5em;\n",
       "  text-align: center;\n",
       "  /* unfitted */\n",
       "  border: var(--sklearn-color-unfitted-level-1) 1pt solid;\n",
       "  color: var(--sklearn-color-unfitted-level-1);\n",
       "}\n",
       "\n",
       ".sk-estimator-doc-link.fitted,\n",
       "a:link.sk-estimator-doc-link.fitted,\n",
       "a:visited.sk-estimator-doc-link.fitted {\n",
       "  /* fitted */\n",
       "  border: var(--sklearn-color-fitted-level-1) 1pt solid;\n",
       "  color: var(--sklearn-color-fitted-level-1);\n",
       "}\n",
       "\n",
       "/* On hover */\n",
       "div.sk-estimator:hover .sk-estimator-doc-link:hover,\n",
       ".sk-estimator-doc-link:hover,\n",
       "div.sk-label-container:hover .sk-estimator-doc-link:hover,\n",
       ".sk-estimator-doc-link:hover {\n",
       "  /* unfitted */\n",
       "  background-color: var(--sklearn-color-unfitted-level-3);\n",
       "  color: var(--sklearn-color-background);\n",
       "  text-decoration: none;\n",
       "}\n",
       "\n",
       "div.sk-estimator.fitted:hover .sk-estimator-doc-link.fitted:hover,\n",
       ".sk-estimator-doc-link.fitted:hover,\n",
       "div.sk-label-container:hover .sk-estimator-doc-link.fitted:hover,\n",
       ".sk-estimator-doc-link.fitted:hover {\n",
       "  /* fitted */\n",
       "  background-color: var(--sklearn-color-fitted-level-3);\n",
       "  color: var(--sklearn-color-background);\n",
       "  text-decoration: none;\n",
       "}\n",
       "\n",
       "/* Span, style for the box shown on hovering the info icon */\n",
       ".sk-estimator-doc-link span {\n",
       "  display: none;\n",
       "  z-index: 9999;\n",
       "  position: relative;\n",
       "  font-weight: normal;\n",
       "  right: .2ex;\n",
       "  padding: .5ex;\n",
       "  margin: .5ex;\n",
       "  width: min-content;\n",
       "  min-width: 20ex;\n",
       "  max-width: 50ex;\n",
       "  color: var(--sklearn-color-text);\n",
       "  box-shadow: 2pt 2pt 4pt #999;\n",
       "  /* unfitted */\n",
       "  background: var(--sklearn-color-unfitted-level-0);\n",
       "  border: .5pt solid var(--sklearn-color-unfitted-level-3);\n",
       "}\n",
       "\n",
       ".sk-estimator-doc-link.fitted span {\n",
       "  /* fitted */\n",
       "  background: var(--sklearn-color-fitted-level-0);\n",
       "  border: var(--sklearn-color-fitted-level-3);\n",
       "}\n",
       "\n",
       ".sk-estimator-doc-link:hover span {\n",
       "  display: block;\n",
       "}\n",
       "\n",
       "/* \"?\"-specific style due to the `<a>` HTML tag */\n",
       "\n",
       "#sk-container-id-3 a.estimator_doc_link {\n",
       "  float: right;\n",
       "  font-size: 1rem;\n",
       "  line-height: 1em;\n",
       "  font-family: monospace;\n",
       "  background-color: var(--sklearn-color-background);\n",
       "  border-radius: 1rem;\n",
       "  height: 1rem;\n",
       "  width: 1rem;\n",
       "  text-decoration: none;\n",
       "  /* unfitted */\n",
       "  color: var(--sklearn-color-unfitted-level-1);\n",
       "  border: var(--sklearn-color-unfitted-level-1) 1pt solid;\n",
       "}\n",
       "\n",
       "#sk-container-id-3 a.estimator_doc_link.fitted {\n",
       "  /* fitted */\n",
       "  border: var(--sklearn-color-fitted-level-1) 1pt solid;\n",
       "  color: var(--sklearn-color-fitted-level-1);\n",
       "}\n",
       "\n",
       "/* On hover */\n",
       "#sk-container-id-3 a.estimator_doc_link:hover {\n",
       "  /* unfitted */\n",
       "  background-color: var(--sklearn-color-unfitted-level-3);\n",
       "  color: var(--sklearn-color-background);\n",
       "  text-decoration: none;\n",
       "}\n",
       "\n",
       "#sk-container-id-3 a.estimator_doc_link.fitted:hover {\n",
       "  /* fitted */\n",
       "  background-color: var(--sklearn-color-fitted-level-3);\n",
       "}\n",
       "\n",
       ".estimator-table summary {\n",
       "    padding: .5rem;\n",
       "    font-family: monospace;\n",
       "    cursor: pointer;\n",
       "}\n",
       "\n",
       ".estimator-table details[open] {\n",
       "    padding-left: 0.1rem;\n",
       "    padding-right: 0.1rem;\n",
       "    padding-bottom: 0.3rem;\n",
       "}\n",
       "\n",
       ".estimator-table .parameters-table {\n",
       "    margin-left: auto !important;\n",
       "    margin-right: auto !important;\n",
       "}\n",
       "\n",
       ".estimator-table .parameters-table tr:nth-child(odd) {\n",
       "    background-color: #fff;\n",
       "}\n",
       "\n",
       ".estimator-table .parameters-table tr:nth-child(even) {\n",
       "    background-color: #f6f6f6;\n",
       "}\n",
       "\n",
       ".estimator-table .parameters-table tr:hover {\n",
       "    background-color: #e0e0e0;\n",
       "}\n",
       "\n",
       ".estimator-table table td {\n",
       "    border: 1px solid rgba(106, 105, 104, 0.232);\n",
       "}\n",
       "\n",
       ".user-set td {\n",
       "    color:rgb(255, 94, 0);\n",
       "    text-align: left;\n",
       "}\n",
       "\n",
       ".user-set td.value pre {\n",
       "    color:rgb(255, 94, 0) !important;\n",
       "    background-color: transparent !important;\n",
       "}\n",
       "\n",
       ".default td {\n",
       "    color: black;\n",
       "    text-align: left;\n",
       "}\n",
       "\n",
       ".user-set td i,\n",
       ".default td i {\n",
       "    color: black;\n",
       "}\n",
       "\n",
       ".copy-paste-icon {\n",
       "    background-image: url(data:image/svg+xml;base64,PHN2ZyB4bWxucz0iaHR0cDovL3d3dy53My5vcmcvMjAwMC9zdmciIHZpZXdCb3g9IjAgMCA0NDggNTEyIj48IS0tIUZvbnQgQXdlc29tZSBGcmVlIDYuNy4yIGJ5IEBmb250YXdlc29tZSAtIGh0dHBzOi8vZm9udGF3ZXNvbWUuY29tIExpY2Vuc2UgLSBodHRwczovL2ZvbnRhd2Vzb21lLmNvbS9saWNlbnNlL2ZyZWUgQ29weXJpZ2h0IDIwMjUgRm9udGljb25zLCBJbmMuLS0+PHBhdGggZD0iTTIwOCAwTDMzMi4xIDBjMTIuNyAwIDI0LjkgNS4xIDMzLjkgMTQuMWw2Ny45IDY3LjljOSA5IDE0LjEgMjEuMiAxNC4xIDMzLjlMNDQ4IDMzNmMwIDI2LjUtMjEuNSA0OC00OCA0OGwtMTkyIDBjLTI2LjUgMC00OC0yMS41LTQ4LTQ4bDAtMjg4YzAtMjYuNSAyMS41LTQ4IDQ4LTQ4ek00OCAxMjhsODAgMCAwIDY0LTY0IDAgMCAyNTYgMTkyIDAgMC0zMiA2NCAwIDAgNDhjMCAyNi41LTIxLjUgNDgtNDggNDhMNDggNTEyYy0yNi41IDAtNDgtMjEuNS00OC00OEwwIDE3NmMwLTI2LjUgMjEuNS00OCA0OC00OHoiLz48L3N2Zz4=);\n",
       "    background-repeat: no-repeat;\n",
       "    background-size: 14px 14px;\n",
       "    background-position: 0;\n",
       "    display: inline-block;\n",
       "    width: 14px;\n",
       "    height: 14px;\n",
       "    cursor: pointer;\n",
       "}\n",
       "</style><body><div id=\"sk-container-id-3\" class=\"sk-top-container\"><div class=\"sk-text-repr-fallback\"><pre>TransformedTargetRegressor(func=&lt;ufunc &#x27;log1p&#x27;&gt;, inverse_func=&lt;ufunc &#x27;expm1&#x27;&gt;,\n",
       "                           regressor=RandomForestRegressor(random_state=42))</pre><b>In a Jupyter environment, please rerun this cell to show the HTML representation or trust the notebook. <br />On GitHub, the HTML representation is unable to render, please try loading this page with nbviewer.org.</b></div><div class=\"sk-container\" hidden><div class=\"sk-item sk-dashed-wrapped\"><div class=\"sk-label-container\"><div class=\"sk-label fitted sk-toggleable\"><input class=\"sk-toggleable__control sk-hidden--visually\" id=\"sk-estimator-id-5\" type=\"checkbox\" ><label for=\"sk-estimator-id-5\" class=\"sk-toggleable__label fitted sk-toggleable__label-arrow\"><div><div>TransformedTargetRegressor</div></div><div><a class=\"sk-estimator-doc-link fitted\" rel=\"noreferrer\" target=\"_blank\" href=\"https://scikit-learn.org/1.7/modules/generated/sklearn.compose.TransformedTargetRegressor.html\">?<span>Documentation for TransformedTargetRegressor</span></a><span class=\"sk-estimator-doc-link fitted\">i<span>Fitted</span></span></div></label><div class=\"sk-toggleable__content fitted\" data-param-prefix=\"\">\n",
       "        <div class=\"estimator-table\">\n",
       "            <details>\n",
       "                <summary>Parameters</summary>\n",
       "                <table class=\"parameters-table\">\n",
       "                  <tbody>\n",
       "                    \n",
       "        <tr class=\"user-set\">\n",
       "            <td><i class=\"copy-paste-icon\"\n",
       "                 onclick=\"copyToClipboard('regressor',\n",
       "                          this.parentElement.nextElementSibling)\"\n",
       "            ></i></td>\n",
       "            <td class=\"param\">regressor&nbsp;</td>\n",
       "            <td class=\"value\">RandomForestR...ndom_state=42)</td>\n",
       "        </tr>\n",
       "    \n",
       "\n",
       "        <tr class=\"default\">\n",
       "            <td><i class=\"copy-paste-icon\"\n",
       "                 onclick=\"copyToClipboard('transformer',\n",
       "                          this.parentElement.nextElementSibling)\"\n",
       "            ></i></td>\n",
       "            <td class=\"param\">transformer&nbsp;</td>\n",
       "            <td class=\"value\">None</td>\n",
       "        </tr>\n",
       "    \n",
       "\n",
       "        <tr class=\"user-set\">\n",
       "            <td><i class=\"copy-paste-icon\"\n",
       "                 onclick=\"copyToClipboard('func',\n",
       "                          this.parentElement.nextElementSibling)\"\n",
       "            ></i></td>\n",
       "            <td class=\"param\">func&nbsp;</td>\n",
       "            <td class=\"value\">&lt;ufunc &#x27;log1p&#x27;&gt;</td>\n",
       "        </tr>\n",
       "    \n",
       "\n",
       "        <tr class=\"user-set\">\n",
       "            <td><i class=\"copy-paste-icon\"\n",
       "                 onclick=\"copyToClipboard('inverse_func',\n",
       "                          this.parentElement.nextElementSibling)\"\n",
       "            ></i></td>\n",
       "            <td class=\"param\">inverse_func&nbsp;</td>\n",
       "            <td class=\"value\">&lt;ufunc &#x27;expm1&#x27;&gt;</td>\n",
       "        </tr>\n",
       "    \n",
       "\n",
       "        <tr class=\"default\">\n",
       "            <td><i class=\"copy-paste-icon\"\n",
       "                 onclick=\"copyToClipboard('check_inverse',\n",
       "                          this.parentElement.nextElementSibling)\"\n",
       "            ></i></td>\n",
       "            <td class=\"param\">check_inverse&nbsp;</td>\n",
       "            <td class=\"value\">True</td>\n",
       "        </tr>\n",
       "    \n",
       "                  </tbody>\n",
       "                </table>\n",
       "            </details>\n",
       "        </div>\n",
       "    </div></div></div><div class=\"sk-parallel\"><div class=\"sk-parallel-item\"><div class=\"sk-item\"><div class=\"sk-label-container\"><div class=\"sk-label fitted sk-toggleable\"><input class=\"sk-toggleable__control sk-hidden--visually\" id=\"sk-estimator-id-6\" type=\"checkbox\" ><label for=\"sk-estimator-id-6\" class=\"sk-toggleable__label fitted sk-toggleable__label-arrow\"><div><div>regressor: RandomForestRegressor</div></div></label><div class=\"sk-toggleable__content fitted\" data-param-prefix=\"regressor__\"><pre>RandomForestRegressor(random_state=42)</pre></div></div></div><div class=\"sk-serial\"><div class=\"sk-item\"><div class=\"sk-estimator fitted sk-toggleable\"><input class=\"sk-toggleable__control sk-hidden--visually\" id=\"sk-estimator-id-7\" type=\"checkbox\" ><label for=\"sk-estimator-id-7\" class=\"sk-toggleable__label fitted sk-toggleable__label-arrow\"><div><div>RandomForestRegressor</div></div><div><a class=\"sk-estimator-doc-link fitted\" rel=\"noreferrer\" target=\"_blank\" href=\"https://scikit-learn.org/1.7/modules/generated/sklearn.ensemble.RandomForestRegressor.html\">?<span>Documentation for RandomForestRegressor</span></a></div></label><div class=\"sk-toggleable__content fitted\" data-param-prefix=\"regressor__\">\n",
       "        <div class=\"estimator-table\">\n",
       "            <details>\n",
       "                <summary>Parameters</summary>\n",
       "                <table class=\"parameters-table\">\n",
       "                  <tbody>\n",
       "                    \n",
       "        <tr class=\"default\">\n",
       "            <td><i class=\"copy-paste-icon\"\n",
       "                 onclick=\"copyToClipboard('n_estimators',\n",
       "                          this.parentElement.nextElementSibling)\"\n",
       "            ></i></td>\n",
       "            <td class=\"param\">n_estimators&nbsp;</td>\n",
       "            <td class=\"value\">100</td>\n",
       "        </tr>\n",
       "    \n",
       "\n",
       "        <tr class=\"default\">\n",
       "            <td><i class=\"copy-paste-icon\"\n",
       "                 onclick=\"copyToClipboard('criterion',\n",
       "                          this.parentElement.nextElementSibling)\"\n",
       "            ></i></td>\n",
       "            <td class=\"param\">criterion&nbsp;</td>\n",
       "            <td class=\"value\">&#x27;squared_error&#x27;</td>\n",
       "        </tr>\n",
       "    \n",
       "\n",
       "        <tr class=\"default\">\n",
       "            <td><i class=\"copy-paste-icon\"\n",
       "                 onclick=\"copyToClipboard('max_depth',\n",
       "                          this.parentElement.nextElementSibling)\"\n",
       "            ></i></td>\n",
       "            <td class=\"param\">max_depth&nbsp;</td>\n",
       "            <td class=\"value\">None</td>\n",
       "        </tr>\n",
       "    \n",
       "\n",
       "        <tr class=\"default\">\n",
       "            <td><i class=\"copy-paste-icon\"\n",
       "                 onclick=\"copyToClipboard('min_samples_split',\n",
       "                          this.parentElement.nextElementSibling)\"\n",
       "            ></i></td>\n",
       "            <td class=\"param\">min_samples_split&nbsp;</td>\n",
       "            <td class=\"value\">2</td>\n",
       "        </tr>\n",
       "    \n",
       "\n",
       "        <tr class=\"default\">\n",
       "            <td><i class=\"copy-paste-icon\"\n",
       "                 onclick=\"copyToClipboard('min_samples_leaf',\n",
       "                          this.parentElement.nextElementSibling)\"\n",
       "            ></i></td>\n",
       "            <td class=\"param\">min_samples_leaf&nbsp;</td>\n",
       "            <td class=\"value\">1</td>\n",
       "        </tr>\n",
       "    \n",
       "\n",
       "        <tr class=\"default\">\n",
       "            <td><i class=\"copy-paste-icon\"\n",
       "                 onclick=\"copyToClipboard('min_weight_fraction_leaf',\n",
       "                          this.parentElement.nextElementSibling)\"\n",
       "            ></i></td>\n",
       "            <td class=\"param\">min_weight_fraction_leaf&nbsp;</td>\n",
       "            <td class=\"value\">0.0</td>\n",
       "        </tr>\n",
       "    \n",
       "\n",
       "        <tr class=\"default\">\n",
       "            <td><i class=\"copy-paste-icon\"\n",
       "                 onclick=\"copyToClipboard('max_features',\n",
       "                          this.parentElement.nextElementSibling)\"\n",
       "            ></i></td>\n",
       "            <td class=\"param\">max_features&nbsp;</td>\n",
       "            <td class=\"value\">1.0</td>\n",
       "        </tr>\n",
       "    \n",
       "\n",
       "        <tr class=\"default\">\n",
       "            <td><i class=\"copy-paste-icon\"\n",
       "                 onclick=\"copyToClipboard('max_leaf_nodes',\n",
       "                          this.parentElement.nextElementSibling)\"\n",
       "            ></i></td>\n",
       "            <td class=\"param\">max_leaf_nodes&nbsp;</td>\n",
       "            <td class=\"value\">None</td>\n",
       "        </tr>\n",
       "    \n",
       "\n",
       "        <tr class=\"default\">\n",
       "            <td><i class=\"copy-paste-icon\"\n",
       "                 onclick=\"copyToClipboard('min_impurity_decrease',\n",
       "                          this.parentElement.nextElementSibling)\"\n",
       "            ></i></td>\n",
       "            <td class=\"param\">min_impurity_decrease&nbsp;</td>\n",
       "            <td class=\"value\">0.0</td>\n",
       "        </tr>\n",
       "    \n",
       "\n",
       "        <tr class=\"default\">\n",
       "            <td><i class=\"copy-paste-icon\"\n",
       "                 onclick=\"copyToClipboard('bootstrap',\n",
       "                          this.parentElement.nextElementSibling)\"\n",
       "            ></i></td>\n",
       "            <td class=\"param\">bootstrap&nbsp;</td>\n",
       "            <td class=\"value\">True</td>\n",
       "        </tr>\n",
       "    \n",
       "\n",
       "        <tr class=\"default\">\n",
       "            <td><i class=\"copy-paste-icon\"\n",
       "                 onclick=\"copyToClipboard('oob_score',\n",
       "                          this.parentElement.nextElementSibling)\"\n",
       "            ></i></td>\n",
       "            <td class=\"param\">oob_score&nbsp;</td>\n",
       "            <td class=\"value\">False</td>\n",
       "        </tr>\n",
       "    \n",
       "\n",
       "        <tr class=\"default\">\n",
       "            <td><i class=\"copy-paste-icon\"\n",
       "                 onclick=\"copyToClipboard('n_jobs',\n",
       "                          this.parentElement.nextElementSibling)\"\n",
       "            ></i></td>\n",
       "            <td class=\"param\">n_jobs&nbsp;</td>\n",
       "            <td class=\"value\">None</td>\n",
       "        </tr>\n",
       "    \n",
       "\n",
       "        <tr class=\"user-set\">\n",
       "            <td><i class=\"copy-paste-icon\"\n",
       "                 onclick=\"copyToClipboard('random_state',\n",
       "                          this.parentElement.nextElementSibling)\"\n",
       "            ></i></td>\n",
       "            <td class=\"param\">random_state&nbsp;</td>\n",
       "            <td class=\"value\">42</td>\n",
       "        </tr>\n",
       "    \n",
       "\n",
       "        <tr class=\"default\">\n",
       "            <td><i class=\"copy-paste-icon\"\n",
       "                 onclick=\"copyToClipboard('verbose',\n",
       "                          this.parentElement.nextElementSibling)\"\n",
       "            ></i></td>\n",
       "            <td class=\"param\">verbose&nbsp;</td>\n",
       "            <td class=\"value\">0</td>\n",
       "        </tr>\n",
       "    \n",
       "\n",
       "        <tr class=\"default\">\n",
       "            <td><i class=\"copy-paste-icon\"\n",
       "                 onclick=\"copyToClipboard('warm_start',\n",
       "                          this.parentElement.nextElementSibling)\"\n",
       "            ></i></td>\n",
       "            <td class=\"param\">warm_start&nbsp;</td>\n",
       "            <td class=\"value\">False</td>\n",
       "        </tr>\n",
       "    \n",
       "\n",
       "        <tr class=\"default\">\n",
       "            <td><i class=\"copy-paste-icon\"\n",
       "                 onclick=\"copyToClipboard('ccp_alpha',\n",
       "                          this.parentElement.nextElementSibling)\"\n",
       "            ></i></td>\n",
       "            <td class=\"param\">ccp_alpha&nbsp;</td>\n",
       "            <td class=\"value\">0.0</td>\n",
       "        </tr>\n",
       "    \n",
       "\n",
       "        <tr class=\"default\">\n",
       "            <td><i class=\"copy-paste-icon\"\n",
       "                 onclick=\"copyToClipboard('max_samples',\n",
       "                          this.parentElement.nextElementSibling)\"\n",
       "            ></i></td>\n",
       "            <td class=\"param\">max_samples&nbsp;</td>\n",
       "            <td class=\"value\">None</td>\n",
       "        </tr>\n",
       "    \n",
       "\n",
       "        <tr class=\"default\">\n",
       "            <td><i class=\"copy-paste-icon\"\n",
       "                 onclick=\"copyToClipboard('monotonic_cst',\n",
       "                          this.parentElement.nextElementSibling)\"\n",
       "            ></i></td>\n",
       "            <td class=\"param\">monotonic_cst&nbsp;</td>\n",
       "            <td class=\"value\">None</td>\n",
       "        </tr>\n",
       "    \n",
       "                  </tbody>\n",
       "                </table>\n",
       "            </details>\n",
       "        </div>\n",
       "    </div></div></div></div></div></div></div></div></div></div><script>function copyToClipboard(text, element) {\n",
       "    // Get the parameter prefix from the closest toggleable content\n",
       "    const toggleableContent = element.closest('.sk-toggleable__content');\n",
       "    const paramPrefix = toggleableContent ? toggleableContent.dataset.paramPrefix : '';\n",
       "    const fullParamName = paramPrefix ? `${paramPrefix}${text}` : text;\n",
       "\n",
       "    const originalStyle = element.style;\n",
       "    const computedStyle = window.getComputedStyle(element);\n",
       "    const originalWidth = computedStyle.width;\n",
       "    const originalHTML = element.innerHTML.replace('Copied!', '');\n",
       "\n",
       "    navigator.clipboard.writeText(fullParamName)\n",
       "        .then(() => {\n",
       "            element.style.width = originalWidth;\n",
       "            element.style.color = 'green';\n",
       "            element.innerHTML = \"Copied!\";\n",
       "\n",
       "            setTimeout(() => {\n",
       "                element.innerHTML = originalHTML;\n",
       "                element.style = originalStyle;\n",
       "            }, 2000);\n",
       "        })\n",
       "        .catch(err => {\n",
       "            console.error('Failed to copy:', err);\n",
       "            element.style.color = 'red';\n",
       "            element.innerHTML = \"Failed!\";\n",
       "            setTimeout(() => {\n",
       "                element.innerHTML = originalHTML;\n",
       "                element.style = originalStyle;\n",
       "            }, 2000);\n",
       "        });\n",
       "    return false;\n",
       "}\n",
       "\n",
       "document.querySelectorAll('.fa-regular.fa-copy').forEach(function(element) {\n",
       "    const toggleableContent = element.closest('.sk-toggleable__content');\n",
       "    const paramPrefix = toggleableContent ? toggleableContent.dataset.paramPrefix : '';\n",
       "    const paramName = element.parentElement.nextElementSibling.textContent.trim();\n",
       "    const fullParamName = paramPrefix ? `${paramPrefix}${paramName}` : paramName;\n",
       "\n",
       "    element.setAttribute('title', fullParamName);\n",
       "});\n",
       "</script></body>"
      ],
      "text/plain": [
       "TransformedTargetRegressor(func=<ufunc 'log1p'>, inverse_func=<ufunc 'expm1'>,\n",
       "                           regressor=RandomForestRegressor(random_state=42))"
      ]
     },
     "execution_count": 37,
     "metadata": {},
     "output_type": "execute_result"
    }
   ],
   "source": [
    "model_with_transformer.fit(X_train,y_train)"
   ]
  },
  {
   "cell_type": "code",
   "execution_count": 38,
   "id": "6f48a37e",
   "metadata": {},
   "outputs": [],
   "source": [
    "y_predict=model_with_transformer.predict(X_test)"
   ]
  },
  {
   "cell_type": "code",
   "execution_count": 44,
   "id": "413ee7a0",
   "metadata": {},
   "outputs": [
    {
     "data": {
      "application/vnd.microsoft.datawrangler.viewer.v0+json": {
       "columns": [
        {
         "name": "index",
         "rawType": "int64",
         "type": "integer"
        },
        {
         "name": "Age",
         "rawType": "int64",
         "type": "integer"
        }
       ],
       "ref": "879dcd96-33fc-447b-8ada-062a67692991",
       "rows": [
        [
         "4037",
         "11"
        ],
        [
         "1272",
         "8"
        ],
        [
         "3384",
         "13"
        ],
        [
         "3160",
         "6"
        ],
        [
         "3894",
         "13"
        ],
        [
         "1288",
         "8"
        ],
        [
         "3863",
         "5"
        ],
        [
         "554",
         "10"
        ],
        [
         "1871",
         "9"
        ],
        [
         "1074",
         "6"
        ],
        [
         "2525",
         "9"
        ],
        [
         "4112",
         "8"
        ],
        [
         "1618",
         "10"
        ],
        [
         "3410",
         "7"
        ],
        [
         "3532",
         "6"
        ],
        [
         "3391",
         "19"
        ],
        [
         "3577",
         "10"
        ],
        [
         "1756",
         "11"
        ],
        [
         "1777",
         "8"
        ],
        [
         "2256",
         "13"
        ],
        [
         "3016",
         "8"
        ],
        [
         "1805",
         "11"
        ],
        [
         "752",
         "13"
        ],
        [
         "2339",
         "11"
        ],
        [
         "3181",
         "10"
        ],
        [
         "1882",
         "8"
        ],
        [
         "1391",
         "10"
        ],
        [
         "3365",
         "5"
        ],
        [
         "4106",
         "7"
        ],
        [
         "4041",
         "10"
        ],
        [
         "2952",
         "11"
        ],
        [
         "3673",
         "12"
        ],
        [
         "729",
         "11"
        ],
        [
         "2994",
         "9"
        ],
        [
         "2768",
         "11"
        ],
        [
         "2828",
         "7"
        ],
        [
         "721",
         "15"
        ],
        [
         "2037",
         "5"
        ],
        [
         "3366",
         "17"
        ],
        [
         "1740",
         "10"
        ],
        [
         "2171",
         "5"
        ],
        [
         "2222",
         "14"
        ],
        [
         "3231",
         "13"
        ],
        [
         "1754",
         "7"
        ],
        [
         "346",
         "6"
        ],
        [
         "3221",
         "18"
        ],
        [
         "3489",
         "10"
        ],
        [
         "1228",
         "6"
        ],
        [
         "3706",
         "11"
        ],
        [
         "578",
         "17"
        ]
       ],
       "shape": {
        "columns": 1,
        "rows": 3340
       }
      },
      "text/html": [
       "<div>\n",
       "<style scoped>\n",
       "    .dataframe tbody tr th:only-of-type {\n",
       "        vertical-align: middle;\n",
       "    }\n",
       "\n",
       "    .dataframe tbody tr th {\n",
       "        vertical-align: top;\n",
       "    }\n",
       "\n",
       "    .dataframe thead th {\n",
       "        text-align: right;\n",
       "    }\n",
       "</style>\n",
       "<table border=\"1\" class=\"dataframe\">\n",
       "  <thead>\n",
       "    <tr style=\"text-align: right;\">\n",
       "      <th></th>\n",
       "      <th>Age</th>\n",
       "    </tr>\n",
       "  </thead>\n",
       "  <tbody>\n",
       "    <tr>\n",
       "      <th>4037</th>\n",
       "      <td>11</td>\n",
       "    </tr>\n",
       "    <tr>\n",
       "      <th>1272</th>\n",
       "      <td>8</td>\n",
       "    </tr>\n",
       "    <tr>\n",
       "      <th>3384</th>\n",
       "      <td>13</td>\n",
       "    </tr>\n",
       "    <tr>\n",
       "      <th>3160</th>\n",
       "      <td>6</td>\n",
       "    </tr>\n",
       "    <tr>\n",
       "      <th>3894</th>\n",
       "      <td>13</td>\n",
       "    </tr>\n",
       "    <tr>\n",
       "      <th>...</th>\n",
       "      <td>...</td>\n",
       "    </tr>\n",
       "    <tr>\n",
       "      <th>3444</th>\n",
       "      <td>8</td>\n",
       "    </tr>\n",
       "    <tr>\n",
       "      <th>466</th>\n",
       "      <td>13</td>\n",
       "    </tr>\n",
       "    <tr>\n",
       "      <th>3092</th>\n",
       "      <td>11</td>\n",
       "    </tr>\n",
       "    <tr>\n",
       "      <th>3772</th>\n",
       "      <td>9</td>\n",
       "    </tr>\n",
       "    <tr>\n",
       "      <th>860</th>\n",
       "      <td>12</td>\n",
       "    </tr>\n",
       "  </tbody>\n",
       "</table>\n",
       "<p>3340 rows × 1 columns</p>\n",
       "</div>"
      ],
      "text/plain": [
       "      Age\n",
       "4037   11\n",
       "1272    8\n",
       "3384   13\n",
       "3160    6\n",
       "3894   13\n",
       "...   ...\n",
       "3444    8\n",
       "466    13\n",
       "3092   11\n",
       "3772    9\n",
       "860    12\n",
       "\n",
       "[3340 rows x 1 columns]"
      ]
     },
     "execution_count": 44,
     "metadata": {},
     "output_type": "execute_result"
    }
   ],
   "source": [
    "y_train_log"
   ]
  },
  {
   "cell_type": "code",
   "execution_count": 40,
   "id": "9ac72f04",
   "metadata": {},
   "outputs": [
    {
     "data": {
      "application/vnd.microsoft.datawrangler.viewer.v0+json": {
       "columns": [
        {
         "name": "index",
         "rawType": "int64",
         "type": "integer"
        },
        {
         "name": "0",
         "rawType": "float64",
         "type": "float"
        }
       ],
       "ref": "bba32e04-0ea5-4b11-bb24-c5b86747d4e3",
       "rows": [
        [
         "0",
         "10.67251475309362"
        ],
        [
         "1",
         "8.928332105753674"
        ],
        [
         "2",
         "9.083863386654297"
        ],
        [
         "3",
         "10.541701968404565"
        ],
        [
         "4",
         "13.577099181209377"
        ],
        [
         "5",
         "12.293262224314505"
        ],
        [
         "6",
         "12.050447588410817"
        ],
        [
         "7",
         "8.113215630033102"
        ],
        [
         "8",
         "6.262034378691357"
        ],
        [
         "9",
         "11.336917710495277"
        ],
        [
         "10",
         "8.897328192281991"
        ],
        [
         "11",
         "5.745923783150699"
        ],
        [
         "12",
         "10.031710385102707"
        ],
        [
         "13",
         "7.3376659957810855"
        ],
        [
         "14",
         "9.110279674497487"
        ],
        [
         "15",
         "12.399343514269706"
        ],
        [
         "16",
         "12.795081874271292"
        ],
        [
         "17",
         "9.373275038872764"
        ],
        [
         "18",
         "10.949529467993369"
        ],
        [
         "19",
         "8.333038169444283"
        ],
        [
         "20",
         "14.56137935793868"
        ],
        [
         "21",
         "11.350399294862656"
        ],
        [
         "22",
         "10.026138783671357"
        ],
        [
         "23",
         "9.563549254032505"
        ],
        [
         "24",
         "9.212724088443768"
        ],
        [
         "25",
         "7.42214769503985"
        ],
        [
         "26",
         "9.424930242483306"
        ],
        [
         "27",
         "12.074005442390211"
        ],
        [
         "28",
         "9.749377141876773"
        ],
        [
         "29",
         "8.263449931579263"
        ],
        [
         "30",
         "10.338351931152374"
        ],
        [
         "31",
         "10.564603661357669"
        ],
        [
         "32",
         "6.91763550272079"
        ],
        [
         "33",
         "5.078168780916068"
        ],
        [
         "34",
         "8.605391347419319"
        ],
        [
         "35",
         "8.57231973537925"
        ],
        [
         "36",
         "5.349928592371969"
        ],
        [
         "37",
         "3.38321826008389"
        ],
        [
         "38",
         "9.139324967809008"
        ],
        [
         "39",
         "6.698836120285388"
        ],
        [
         "40",
         "14.56567603123189"
        ],
        [
         "41",
         "15.648548477128383"
        ],
        [
         "42",
         "10.69823728152456"
        ],
        [
         "43",
         "8.625049539637489"
        ],
        [
         "44",
         "10.286042096178985"
        ],
        [
         "45",
         "11.378946976527224"
        ],
        [
         "46",
         "12.70958944429712"
        ],
        [
         "47",
         "9.205725944068348"
        ],
        [
         "48",
         "10.28568237393015"
        ],
        [
         "49",
         "11.216825597964046"
        ]
       ],
       "shape": {
        "columns": 1,
        "rows": 836
       }
      },
      "text/plain": [
       "array([[10.67251475],\n",
       "       [ 8.92833211],\n",
       "       [ 9.08386339],\n",
       "       [10.54170197],\n",
       "       [13.57709918],\n",
       "       [12.29326222],\n",
       "       [12.05044759],\n",
       "       [ 8.11321563],\n",
       "       [ 6.26203438],\n",
       "       [11.33691771],\n",
       "       [ 8.89732819],\n",
       "       [ 5.74592378],\n",
       "       [10.03171039],\n",
       "       [ 7.337666  ],\n",
       "       [ 9.11027967],\n",
       "       [12.39934351],\n",
       "       [12.79508187],\n",
       "       [ 9.37327504],\n",
       "       [10.94952947],\n",
       "       [ 8.33303817],\n",
       "       [14.56137936],\n",
       "       [11.35039929],\n",
       "       [10.02613878],\n",
       "       [ 9.56354925],\n",
       "       [ 9.21272409],\n",
       "       [ 7.4221477 ],\n",
       "       [ 9.42493024],\n",
       "       [12.07400544],\n",
       "       [ 9.74937714],\n",
       "       [ 8.26344993],\n",
       "       [10.33835193],\n",
       "       [10.56460366],\n",
       "       [ 6.9176355 ],\n",
       "       [ 5.07816878],\n",
       "       [ 8.60539135],\n",
       "       [ 8.57231974],\n",
       "       [ 5.34992859],\n",
       "       [ 3.38321826],\n",
       "       [ 9.13932497],\n",
       "       [ 6.69883612],\n",
       "       [14.56567603],\n",
       "       [15.64854848],\n",
       "       [10.69823728],\n",
       "       [ 8.62504954],\n",
       "       [10.2860421 ],\n",
       "       [11.37894698],\n",
       "       [12.70958944],\n",
       "       [ 9.20572594],\n",
       "       [10.28568237],\n",
       "       [11.2168256 ],\n",
       "       [ 7.33684643],\n",
       "       [14.78090153],\n",
       "       [ 8.22299303],\n",
       "       [13.23627328],\n",
       "       [ 6.7252393 ],\n",
       "       [ 9.08224142],\n",
       "       [14.40279805],\n",
       "       [15.2639314 ],\n",
       "       [ 9.32108732],\n",
       "       [10.1065454 ],\n",
       "       [12.33179514],\n",
       "       [10.76987416],\n",
       "       [ 9.48086636],\n",
       "       [ 6.35569501],\n",
       "       [ 9.66545017],\n",
       "       [ 9.67022526],\n",
       "       [ 4.57015178],\n",
       "       [ 6.54519274],\n",
       "       [ 8.22680067],\n",
       "       [10.03566742],\n",
       "       [10.49784991],\n",
       "       [13.72988329],\n",
       "       [12.93809989],\n",
       "       [ 7.16303102],\n",
       "       [ 8.66733599],\n",
       "       [10.3980048 ],\n",
       "       [ 9.27150433],\n",
       "       [16.11076248],\n",
       "       [11.13314371],\n",
       "       [ 9.20839976],\n",
       "       [11.38592725],\n",
       "       [11.77211644],\n",
       "       [10.89126516],\n",
       "       [ 7.61505824],\n",
       "       [ 6.81229476],\n",
       "       [ 9.76420521],\n",
       "       [10.761706  ],\n",
       "       [ 9.77319344],\n",
       "       [12.60442109],\n",
       "       [12.14307399],\n",
       "       [12.46771741],\n",
       "       [10.59236629],\n",
       "       [13.95701373],\n",
       "       [11.73121624],\n",
       "       [10.61449156],\n",
       "       [ 9.34036074],\n",
       "       [ 7.0108199 ],\n",
       "       [11.83238419],\n",
       "       [ 9.94652557],\n",
       "       [ 6.65625405],\n",
       "       [15.2556887 ],\n",
       "       [10.45713939],\n",
       "       [11.52552575],\n",
       "       [11.43809801],\n",
       "       [11.76265779],\n",
       "       [ 8.9117087 ],\n",
       "       [11.60667134],\n",
       "       [ 8.346143  ],\n",
       "       [10.25531762],\n",
       "       [10.27085046],\n",
       "       [12.20825482],\n",
       "       [ 8.79972979],\n",
       "       [10.68005807],\n",
       "       [ 8.86377262],\n",
       "       [ 9.88085618],\n",
       "       [ 5.22345474],\n",
       "       [14.98524143],\n",
       "       [ 7.71699739],\n",
       "       [10.23501236],\n",
       "       [12.32518706],\n",
       "       [10.36459655],\n",
       "       [ 8.28957023],\n",
       "       [ 9.29746559],\n",
       "       [11.64681986],\n",
       "       [ 9.65836102],\n",
       "       [13.93081029],\n",
       "       [10.44410896],\n",
       "       [10.54266138],\n",
       "       [10.46010213],\n",
       "       [10.28824288],\n",
       "       [ 9.29139228],\n",
       "       [ 9.95077916],\n",
       "       [11.03045686],\n",
       "       [ 3.80692348],\n",
       "       [ 4.1010081 ],\n",
       "       [15.08114849],\n",
       "       [11.27030568],\n",
       "       [10.76145544],\n",
       "       [ 9.95874123],\n",
       "       [ 9.71944375],\n",
       "       [ 8.9590573 ],\n",
       "       [ 8.30134631],\n",
       "       [11.58610326],\n",
       "       [ 8.37831262],\n",
       "       [ 9.91593311],\n",
       "       [10.3967763 ],\n",
       "       [ 8.96295528],\n",
       "       [ 6.71135385],\n",
       "       [ 7.68289451],\n",
       "       [10.27607074],\n",
       "       [ 9.41259026],\n",
       "       [ 8.83567631],\n",
       "       [ 9.35717114],\n",
       "       [10.69546468],\n",
       "       [10.80401003],\n",
       "       [ 8.52913408],\n",
       "       [14.00965955],\n",
       "       [ 8.41564662],\n",
       "       [ 8.84393874],\n",
       "       [10.63308406],\n",
       "       [ 8.99656875],\n",
       "       [11.71616902],\n",
       "       [ 9.91224809],\n",
       "       [10.82351127],\n",
       "       [ 7.01534475],\n",
       "       [12.21044721],\n",
       "       [11.01700842],\n",
       "       [10.10158464],\n",
       "       [10.57705916],\n",
       "       [10.52563323],\n",
       "       [12.30945544],\n",
       "       [11.49699791],\n",
       "       [14.84932105],\n",
       "       [10.84313042],\n",
       "       [ 8.56747162],\n",
       "       [10.92157862],\n",
       "       [ 8.82276608],\n",
       "       [ 6.93672504],\n",
       "       [10.53085822],\n",
       "       [10.48060819],\n",
       "       [13.70601898],\n",
       "       [ 5.9333729 ],\n",
       "       [ 6.54297787],\n",
       "       [11.04011415],\n",
       "       [ 8.18325009],\n",
       "       [11.29232876],\n",
       "       [ 8.58926431],\n",
       "       [10.55177849],\n",
       "       [ 8.59323037],\n",
       "       [ 6.32253621],\n",
       "       [ 8.0219414 ],\n",
       "       [10.00635856],\n",
       "       [14.95999423],\n",
       "       [14.08089241],\n",
       "       [10.14234528],\n",
       "       [ 9.30789796],\n",
       "       [10.5709397 ],\n",
       "       [10.20674985],\n",
       "       [10.05272429],\n",
       "       [11.02049253],\n",
       "       [ 8.75168829],\n",
       "       [ 9.80886582],\n",
       "       [ 9.72271454],\n",
       "       [11.79054378],\n",
       "       [ 7.45986681],\n",
       "       [14.18437397],\n",
       "       [10.52345305],\n",
       "       [ 9.27038486],\n",
       "       [ 8.14528178],\n",
       "       [10.64278826],\n",
       "       [ 6.81803809],\n",
       "       [ 7.55892002],\n",
       "       [ 9.77135497],\n",
       "       [ 7.17301268],\n",
       "       [12.34106589],\n",
       "       [ 9.30348205],\n",
       "       [10.22938815],\n",
       "       [ 7.37022574],\n",
       "       [ 8.51716591],\n",
       "       [10.71747492],\n",
       "       [11.86320685],\n",
       "       [13.07016768],\n",
       "       [10.98344663],\n",
       "       [10.90193056],\n",
       "       [10.1409166 ],\n",
       "       [ 7.42066989],\n",
       "       [ 7.98824838],\n",
       "       [10.63810889],\n",
       "       [10.84127475],\n",
       "       [ 9.96509731],\n",
       "       [ 5.65545053],\n",
       "       [12.76651669],\n",
       "       [11.39540724],\n",
       "       [12.43069819],\n",
       "       [ 9.17562188],\n",
       "       [11.7740075 ],\n",
       "       [11.78758922],\n",
       "       [ 7.06788843],\n",
       "       [ 5.68217474],\n",
       "       [10.68372536],\n",
       "       [11.09142863],\n",
       "       [10.65844112],\n",
       "       [10.18110554],\n",
       "       [ 6.65180487],\n",
       "       [ 8.93730343],\n",
       "       [ 7.74205568],\n",
       "       [11.29010837],\n",
       "       [ 6.82561633],\n",
       "       [ 7.10542058],\n",
       "       [ 6.8889509 ],\n",
       "       [ 7.14754039],\n",
       "       [12.5242072 ],\n",
       "       [ 9.34022767],\n",
       "       [ 7.14661317],\n",
       "       [10.158371  ],\n",
       "       [10.71617415],\n",
       "       [10.82757955],\n",
       "       [ 4.67978998],\n",
       "       [11.48298961],\n",
       "       [12.07341023],\n",
       "       [14.31683568],\n",
       "       [ 6.37051209],\n",
       "       [ 9.0059024 ],\n",
       "       [10.21224921],\n",
       "       [10.49187924],\n",
       "       [ 5.87658763],\n",
       "       [ 9.23915654],\n",
       "       [13.32873756],\n",
       "       [ 9.19990294],\n",
       "       [ 7.16100804],\n",
       "       [ 9.7857395 ],\n",
       "       [ 9.49435859],\n",
       "       [ 6.89168519],\n",
       "       [10.78030076],\n",
       "       [ 8.93707582],\n",
       "       [11.316329  ],\n",
       "       [10.90529845],\n",
       "       [ 6.98401936],\n",
       "       [11.2306233 ],\n",
       "       [ 6.48616743],\n",
       "       [11.364335  ],\n",
       "       [15.48789799],\n",
       "       [12.29476504],\n",
       "       [ 9.1965137 ],\n",
       "       [ 7.94718023],\n",
       "       [ 8.99103464],\n",
       "       [ 9.83166644],\n",
       "       [13.13012952],\n",
       "       [ 9.73456437],\n",
       "       [14.73869354],\n",
       "       [ 9.64691935],\n",
       "       [ 4.7666544 ],\n",
       "       [14.92327751],\n",
       "       [12.06903605],\n",
       "       [12.0720057 ],\n",
       "       [10.43491096],\n",
       "       [ 4.77617928],\n",
       "       [12.16388373],\n",
       "       [ 7.07403119],\n",
       "       [10.70141962],\n",
       "       [13.55391696],\n",
       "       [ 9.04880856],\n",
       "       [ 6.89961422],\n",
       "       [12.17914981],\n",
       "       [ 9.42332856],\n",
       "       [ 7.95836811],\n",
       "       [ 7.54536912],\n",
       "       [ 6.95973583],\n",
       "       [ 5.11329575],\n",
       "       [ 8.34434073],\n",
       "       [ 9.32241844],\n",
       "       [ 8.3871282 ],\n",
       "       [ 7.90184285],\n",
       "       [10.6149959 ],\n",
       "       [11.01172901],\n",
       "       [ 8.49601312],\n",
       "       [ 5.15561074],\n",
       "       [14.60664184],\n",
       "       [10.23106197],\n",
       "       [10.21484762],\n",
       "       [12.1470853 ],\n",
       "       [ 9.69120274],\n",
       "       [ 6.82183171],\n",
       "       [ 7.75446306],\n",
       "       [14.03479202],\n",
       "       [ 6.74953673],\n",
       "       [10.15761802],\n",
       "       [ 8.87257027],\n",
       "       [13.84778938],\n",
       "       [11.73263547],\n",
       "       [ 8.16076555],\n",
       "       [ 9.58026269],\n",
       "       [ 6.96886739],\n",
       "       [ 9.35862209],\n",
       "       [ 9.98389619],\n",
       "       [11.82471273],\n",
       "       [ 9.90493865],\n",
       "       [11.98650797],\n",
       "       [ 8.91637451],\n",
       "       [10.48538999],\n",
       "       [10.61749254],\n",
       "       [ 9.40733285],\n",
       "       [10.82122297],\n",
       "       [ 9.39232263],\n",
       "       [ 7.54949675],\n",
       "       [ 9.60286423],\n",
       "       [12.66566368],\n",
       "       [11.26785951],\n",
       "       [ 8.8869837 ],\n",
       "       [12.01171442],\n",
       "       [10.17177509],\n",
       "       [10.70755054],\n",
       "       [ 8.7174614 ],\n",
       "       [ 9.79787212],\n",
       "       [10.00692293],\n",
       "       [13.37113661],\n",
       "       [ 6.201861  ],\n",
       "       [ 7.85913466],\n",
       "       [ 5.97862312],\n",
       "       [ 8.458778  ],\n",
       "       [10.01447157],\n",
       "       [10.36911063],\n",
       "       [12.81351349],\n",
       "       [ 8.47434327],\n",
       "       [12.75723368],\n",
       "       [ 7.37425754],\n",
       "       [10.23900796],\n",
       "       [ 3.59350506],\n",
       "       [ 9.17559399],\n",
       "       [ 9.01707289],\n",
       "       [16.72511533],\n",
       "       [10.31167196],\n",
       "       [ 7.38245134],\n",
       "       [ 6.69180111],\n",
       "       [12.57263953],\n",
       "       [12.48441234],\n",
       "       [ 6.20069729],\n",
       "       [ 8.96215342],\n",
       "       [ 7.79813466],\n",
       "       [10.19690764],\n",
       "       [10.46556003],\n",
       "       [ 8.29956084],\n",
       "       [11.49276878],\n",
       "       [ 6.82240457],\n",
       "       [10.72516854],\n",
       "       [ 7.94290343],\n",
       "       [10.47436366],\n",
       "       [10.99013911],\n",
       "       [11.34765609],\n",
       "       [10.30261552],\n",
       "       [12.76492192],\n",
       "       [ 4.73447617],\n",
       "       [10.50491175],\n",
       "       [ 9.75536795],\n",
       "       [ 9.30580258],\n",
       "       [ 9.0821796 ],\n",
       "       [11.51215891],\n",
       "       [11.13578847],\n",
       "       [11.25947974],\n",
       "       [ 9.88383965],\n",
       "       [ 9.98718189],\n",
       "       [ 7.09309122],\n",
       "       [ 9.67591317],\n",
       "       [ 7.96067352],\n",
       "       [ 7.20120458],\n",
       "       [12.10919928],\n",
       "       [ 9.43098471],\n",
       "       [ 7.32274535],\n",
       "       [10.38046397],\n",
       "       [ 7.14938525],\n",
       "       [17.30876366],\n",
       "       [12.64738852],\n",
       "       [ 7.15006703],\n",
       "       [10.57795229],\n",
       "       [10.96475024],\n",
       "       [ 5.57410875],\n",
       "       [ 3.38321826],\n",
       "       [10.24017328],\n",
       "       [12.04629695],\n",
       "       [10.87705715],\n",
       "       [ 9.65833963],\n",
       "       [ 9.63819961],\n",
       "       [11.19365481],\n",
       "       [10.04063344],\n",
       "       [10.85669853],\n",
       "       [ 8.89253772],\n",
       "       [ 6.38325785],\n",
       "       [ 9.34043863],\n",
       "       [10.43869063],\n",
       "       [ 8.98449411],\n",
       "       [10.44888026],\n",
       "       [ 3.99958679],\n",
       "       [12.58238497],\n",
       "       [ 9.18153117],\n",
       "       [11.21946093],\n",
       "       [ 6.68224632],\n",
       "       [14.14155222],\n",
       "       [ 4.53471541],\n",
       "       [ 8.47934737],\n",
       "       [10.30783956],\n",
       "       [13.03570453],\n",
       "       [ 9.33629602],\n",
       "       [11.32600451],\n",
       "       [10.5356763 ],\n",
       "       [10.95016531],\n",
       "       [10.12642761],\n",
       "       [12.34953153],\n",
       "       [10.62469094],\n",
       "       [14.6253529 ],\n",
       "       [10.99365065],\n",
       "       [ 7.42010852],\n",
       "       [ 9.89767344],\n",
       "       [ 4.77339624],\n",
       "       [ 7.19408552],\n",
       "       [ 9.54678933],\n",
       "       [ 9.17314679],\n",
       "       [11.72529959],\n",
       "       [ 8.34798412],\n",
       "       [ 8.67661368],\n",
       "       [ 8.77981603],\n",
       "       [13.53729781],\n",
       "       [11.93076471],\n",
       "       [10.34914825],\n",
       "       [ 9.8824284 ],\n",
       "       [ 8.95300142],\n",
       "       [ 7.22255273],\n",
       "       [ 8.84696834],\n",
       "       [ 8.60385641],\n",
       "       [12.43896447],\n",
       "       [ 8.86425092],\n",
       "       [ 8.44910685],\n",
       "       [14.48535068],\n",
       "       [ 8.74027755],\n",
       "       [ 9.14857704],\n",
       "       [11.19917476],\n",
       "       [ 8.17730143],\n",
       "       [13.6429626 ],\n",
       "       [ 9.527667  ],\n",
       "       [ 8.41819129],\n",
       "       [ 8.40768008],\n",
       "       [ 9.38813416],\n",
       "       [11.31132868],\n",
       "       [ 8.28753648],\n",
       "       [13.59485389],\n",
       "       [11.19916292],\n",
       "       [ 8.51455404],\n",
       "       [10.52770491],\n",
       "       [10.16420843],\n",
       "       [ 9.64696573],\n",
       "       [ 5.92338775],\n",
       "       [ 5.45255525],\n",
       "       [14.10834035],\n",
       "       [12.2773897 ],\n",
       "       [ 7.41224202],\n",
       "       [12.34135655],\n",
       "       [ 9.70319768],\n",
       "       [12.12702725],\n",
       "       [10.31621778],\n",
       "       [ 5.94891333],\n",
       "       [10.8606895 ],\n",
       "       [ 7.34858783],\n",
       "       [12.60704684],\n",
       "       [ 9.94714732],\n",
       "       [ 9.09925773],\n",
       "       [13.14156381],\n",
       "       [11.19706191],\n",
       "       [ 6.4201667 ],\n",
       "       [ 8.64060113],\n",
       "       [13.22109763],\n",
       "       [ 9.49938662],\n",
       "       [ 9.1341075 ],\n",
       "       [ 9.97943506],\n",
       "       [ 9.31682231],\n",
       "       [11.7485643 ],\n",
       "       [11.34109731],\n",
       "       [ 8.87310477],\n",
       "       [ 7.66186127],\n",
       "       [12.24685109],\n",
       "       [ 8.92878989],\n",
       "       [13.9875091 ],\n",
       "       [ 7.68990317],\n",
       "       [ 6.92941837],\n",
       "       [ 9.20940007],\n",
       "       [10.73235829],\n",
       "       [ 6.85348003],\n",
       "       [ 8.35640492],\n",
       "       [ 9.11433803],\n",
       "       [ 9.64857072],\n",
       "       [13.84146673],\n",
       "       [ 9.50484347],\n",
       "       [10.79334031],\n",
       "       [10.91108068],\n",
       "       [ 3.56285743],\n",
       "       [12.0465249 ],\n",
       "       [14.67722842],\n",
       "       [ 7.52312492],\n",
       "       [11.86876703],\n",
       "       [ 9.81867057],\n",
       "       [ 9.72622894],\n",
       "       [10.61976253],\n",
       "       [ 7.83733306],\n",
       "       [ 6.59744762],\n",
       "       [ 8.98104909],\n",
       "       [ 8.42003212],\n",
       "       [ 4.16652697],\n",
       "       [ 6.70443262],\n",
       "       [ 9.24337566],\n",
       "       [ 8.51695754],\n",
       "       [10.84756623],\n",
       "       [ 8.90434291],\n",
       "       [ 6.96626235],\n",
       "       [ 9.92382762],\n",
       "       [11.83607615],\n",
       "       [10.64284381],\n",
       "       [13.37207508],\n",
       "       [ 6.55113141],\n",
       "       [10.32367012],\n",
       "       [ 6.47499726],\n",
       "       [ 9.11225865],\n",
       "       [ 6.39359492],\n",
       "       [10.96859543],\n",
       "       [ 7.84625112],\n",
       "       [ 6.01206451],\n",
       "       [10.09702084],\n",
       "       [ 8.18474272],\n",
       "       [10.81563965],\n",
       "       [12.57737755],\n",
       "       [10.66577553],\n",
       "       [ 5.90589643],\n",
       "       [ 8.55190428],\n",
       "       [ 8.77837713],\n",
       "       [ 7.22445651],\n",
       "       [13.22897125],\n",
       "       [ 8.84451845],\n",
       "       [ 9.68192236],\n",
       "       [ 9.88653681],\n",
       "       [12.77337231],\n",
       "       [13.09616565],\n",
       "       [ 9.51373722],\n",
       "       [15.12038194],\n",
       "       [ 9.61371298],\n",
       "       [ 9.08387681],\n",
       "       [ 5.5680998 ],\n",
       "       [ 6.32056708],\n",
       "       [10.87486777],\n",
       "       [ 4.9168067 ],\n",
       "       [ 7.70726256],\n",
       "       [12.75836082],\n",
       "       [11.40077747],\n",
       "       [ 7.49779614],\n",
       "       [10.74419424],\n",
       "       [ 7.68383821],\n",
       "       [ 9.09359205],\n",
       "       [10.44954164],\n",
       "       [ 3.48212638],\n",
       "       [ 7.959748  ],\n",
       "       [ 6.91426882],\n",
       "       [ 9.24038382],\n",
       "       [ 9.91732627],\n",
       "       [10.37519283],\n",
       "       [ 5.82529644],\n",
       "       [ 7.02716995],\n",
       "       [11.987942  ],\n",
       "       [11.49029905],\n",
       "       [10.06767281],\n",
       "       [ 8.9822228 ],\n",
       "       [ 8.93024616],\n",
       "       [ 5.75351241],\n",
       "       [12.3909298 ],\n",
       "       [ 8.47261761],\n",
       "       [ 8.26265276],\n",
       "       [12.04239172],\n",
       "       [ 3.86014914],\n",
       "       [14.82469708],\n",
       "       [11.34712865],\n",
       "       [11.02780709],\n",
       "       [12.83274962],\n",
       "       [11.13206985],\n",
       "       [ 7.25218037],\n",
       "       [ 9.58629935],\n",
       "       [11.81339537],\n",
       "       [ 8.53138206],\n",
       "       [12.98978436],\n",
       "       [ 6.83221391],\n",
       "       [ 9.12347312],\n",
       "       [11.87134534],\n",
       "       [10.09420986],\n",
       "       [10.2607337 ],\n",
       "       [ 8.78911905],\n",
       "       [11.4657502 ],\n",
       "       [ 9.03985567],\n",
       "       [ 7.92413656],\n",
       "       [10.20612949],\n",
       "       [12.41379315],\n",
       "       [14.65316909],\n",
       "       [11.33050449],\n",
       "       [ 8.65642311],\n",
       "       [10.96563279],\n",
       "       [ 6.45705095],\n",
       "       [11.74275843],\n",
       "       [10.41692913],\n",
       "       [ 7.18107397],\n",
       "       [ 9.63099222],\n",
       "       [ 9.83514301],\n",
       "       [13.11447402],\n",
       "       [ 8.22948587],\n",
       "       [12.24894129],\n",
       "       [ 9.98327635],\n",
       "       [17.29274598],\n",
       "       [12.2599597 ],\n",
       "       [ 5.38910467],\n",
       "       [ 6.72700102],\n",
       "       [ 6.15982525],\n",
       "       [13.61927671],\n",
       "       [ 9.83843552],\n",
       "       [10.34784382],\n",
       "       [ 5.97601967],\n",
       "       [ 6.13047927],\n",
       "       [12.11385818],\n",
       "       [12.66470509],\n",
       "       [10.28974224],\n",
       "       [10.24090217],\n",
       "       [ 9.67799446],\n",
       "       [13.35023798],\n",
       "       [ 8.77820903],\n",
       "       [10.22057444],\n",
       "       [14.01249888],\n",
       "       [ 7.2603816 ],\n",
       "       [ 3.86715176],\n",
       "       [ 7.14034387],\n",
       "       [ 8.3248497 ],\n",
       "       [ 8.2151452 ],\n",
       "       [ 8.69544451],\n",
       "       [ 8.04788303],\n",
       "       [11.15568583],\n",
       "       [13.72098046],\n",
       "       [ 8.55093274],\n",
       "       [ 8.92022535],\n",
       "       [11.49362431],\n",
       "       [ 9.81979738],\n",
       "       [10.07351676],\n",
       "       [10.75764438],\n",
       "       [ 5.62424435],\n",
       "       [ 8.67966759],\n",
       "       [12.84187797],\n",
       "       [ 8.289871  ],\n",
       "       [13.31781919],\n",
       "       [ 8.97403147],\n",
       "       [ 7.96078095],\n",
       "       [ 9.66092633],\n",
       "       [ 7.28503167],\n",
       "       [12.32412964],\n",
       "       [ 9.81526397],\n",
       "       [12.32521874],\n",
       "       [10.59252447],\n",
       "       [ 5.72095319],\n",
       "       [10.94128476],\n",
       "       [ 8.62848829],\n",
       "       [11.76556302],\n",
       "       [ 7.95496072],\n",
       "       [ 7.79575371],\n",
       "       [14.27637552],\n",
       "       [ 8.57798233],\n",
       "       [10.61139679],\n",
       "       [11.03203916],\n",
       "       [11.06653418],\n",
       "       [ 6.4067798 ],\n",
       "       [ 7.4946768 ],\n",
       "       [ 8.75293467],\n",
       "       [ 4.71447994],\n",
       "       [10.58159464],\n",
       "       [13.04743032],\n",
       "       [ 8.51095685],\n",
       "       [ 5.35765431],\n",
       "       [ 4.2331757 ],\n",
       "       [10.20152505],\n",
       "       [10.57844377],\n",
       "       [ 9.58025724],\n",
       "       [ 8.95275972],\n",
       "       [12.59803629],\n",
       "       [11.99458043],\n",
       "       [10.95349085],\n",
       "       [ 8.70808019],\n",
       "       [10.30643238],\n",
       "       [10.5006075 ],\n",
       "       [11.55610001],\n",
       "       [12.0414744 ],\n",
       "       [10.68259988],\n",
       "       [ 7.04748707],\n",
       "       [ 7.17663764],\n",
       "       [11.99392532],\n",
       "       [ 8.12262579],\n",
       "       [10.0073148 ],\n",
       "       [10.7520751 ],\n",
       "       [10.50390499],\n",
       "       [ 4.78629636],\n",
       "       [10.55089309],\n",
       "       [11.43666882],\n",
       "       [ 9.50363765],\n",
       "       [ 7.74209362],\n",
       "       [12.07702919],\n",
       "       [11.93888454],\n",
       "       [ 6.40296897],\n",
       "       [14.8996997 ],\n",
       "       [17.08705039],\n",
       "       [10.42945952],\n",
       "       [ 6.28415874],\n",
       "       [10.473514  ],\n",
       "       [ 8.34427494],\n",
       "       [10.36638495],\n",
       "       [ 6.88293738],\n",
       "       [10.90250041],\n",
       "       [13.73789088],\n",
       "       [13.29796751],\n",
       "       [12.16669675],\n",
       "       [ 8.89419381],\n",
       "       [11.1576145 ],\n",
       "       [ 6.47608836],\n",
       "       [ 9.55213131],\n",
       "       [ 8.83245482],\n",
       "       [ 9.68187027],\n",
       "       [ 9.71691256],\n",
       "       [ 9.27036011],\n",
       "       [ 9.79503047],\n",
       "       [14.4072989 ],\n",
       "       [ 9.99552985],\n",
       "       [ 9.74335366],\n",
       "       [11.46363247],\n",
       "       [ 6.78110569],\n",
       "       [ 8.09773299],\n",
       "       [ 8.40833271],\n",
       "       [ 5.71161214],\n",
       "       [11.67968558],\n",
       "       [ 8.8682434 ],\n",
       "       [11.22908171],\n",
       "       [ 9.18376496],\n",
       "       [ 5.72662892],\n",
       "       [ 9.21611466],\n",
       "       [11.28860025],\n",
       "       [ 9.89309917],\n",
       "       [11.91382836],\n",
       "       [ 9.36631032],\n",
       "       [10.15073243],\n",
       "       [ 9.5716887 ],\n",
       "       [14.47970324],\n",
       "       [ 8.69705524],\n",
       "       [11.59184952],\n",
       "       [ 7.94638385],\n",
       "       [ 6.64076185],\n",
       "       [10.61685787],\n",
       "       [ 4.08258151],\n",
       "       [ 6.29747159],\n",
       "       [13.24032851],\n",
       "       [ 9.44065688],\n",
       "       [10.10540036],\n",
       "       [10.36073936],\n",
       "       [ 8.91758051],\n",
       "       [10.5614514 ],\n",
       "       [10.5149759 ],\n",
       "       [12.03378027],\n",
       "       [11.19155474],\n",
       "       [ 6.59831894],\n",
       "       [10.11895031],\n",
       "       [ 9.05404696],\n",
       "       [ 8.86963002],\n",
       "       [14.88960646],\n",
       "       [ 9.39779889],\n",
       "       [10.36427615],\n",
       "       [10.54638838],\n",
       "       [11.33678794],\n",
       "       [11.09106886],\n",
       "       [10.49439168],\n",
       "       [13.60617136],\n",
       "       [ 4.83176407],\n",
       "       [12.81953012],\n",
       "       [ 8.78813421],\n",
       "       [12.56077871],\n",
       "       [11.88855199],\n",
       "       [ 8.29146795],\n",
       "       [ 7.17990529],\n",
       "       [10.36005567],\n",
       "       [ 8.97243999],\n",
       "       [10.24094121],\n",
       "       [10.57201241],\n",
       "       [12.46123476],\n",
       "       [ 7.09402101],\n",
       "       [10.56368616],\n",
       "       [ 6.96053856],\n",
       "       [ 8.50449384],\n",
       "       [12.83879964],\n",
       "       [12.74940787],\n",
       "       [ 9.489425  ],\n",
       "       [ 8.69003221],\n",
       "       [10.28346142],\n",
       "       [ 7.51829072],\n",
       "       [ 6.99923728]])"
      ]
     },
     "execution_count": 40,
     "metadata": {},
     "output_type": "execute_result"
    }
   ],
   "source": [
    "y_predict"
   ]
  },
  {
   "cell_type": "code",
   "execution_count": 41,
   "id": "9c4285e5",
   "metadata": {},
   "outputs": [
    {
     "data": {
      "text/plain": [
       "2.1799521163747695"
      ]
     },
     "execution_count": 41,
     "metadata": {},
     "output_type": "execute_result"
    }
   ],
   "source": [
    "actual_rmse=root_mean_squared_error(y_test,y_predict)\n",
    "actual_rmse"
   ]
  },
  {
   "cell_type": "code",
   "execution_count": 42,
   "id": "9655ce85",
   "metadata": {},
   "outputs": [
    {
     "data": {
      "text/plain": [
       "1.5176272356068452"
      ]
     },
     "execution_count": 42,
     "metadata": {},
     "output_type": "execute_result"
    }
   ],
   "source": [
    "actual_rmse=mean_absolute_error(y_test,y_predict)\n",
    "actual_rmse"
   ]
  },
  {
   "cell_type": "markdown",
   "id": "14341921",
   "metadata": {},
   "source": [
    "yeh the loggin the labels is effeccient"
   ]
  }
 ],
 "metadata": {
  "kernelspec": {
   "display_name": "jupytorch",
   "language": "python",
   "name": "jupytorch"
  },
  "language_info": {
   "codemirror_mode": {
    "name": "ipython",
    "version": 3
   },
   "file_extension": ".py",
   "mimetype": "text/x-python",
   "name": "python",
   "nbconvert_exporter": "python",
   "pygments_lexer": "ipython3",
   "version": "3.11.13"
  }
 },
 "nbformat": 4,
 "nbformat_minor": 5
}
