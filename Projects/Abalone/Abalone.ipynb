{
 "cells": [
  {
   "cell_type": "code",
   "execution_count": 63,
   "id": "ed7e9c5c",
   "metadata": {},
   "outputs": [],
   "source": [
    "import pandas as pd\n",
    "import numpy as np\n",
    "import matplotlib.pyplot as plt\n",
    "from sklearn.model_selection import train_test_split\n",
    "from sklearn.preprocessing import OneHotEncoder\n",
    "from sklearn.model_selection import cross_val_score\n",
    "from sklearn.ensemble import RandomForestRegressor\n",
    "from sklearn.compose import TransformedTargetRegressor"
   ]
  },
  {
   "cell_type": "markdown",
   "id": "f87995ae",
   "metadata": {},
   "source": [
    "Alright buds we are on the path to reduce the rmse value as much as possible\n",
    "without logging the label i got an average rmse of 2.3-2.5\n",
    "reduce this rmse as much as possible\n",
    "1. with logging the  the label i got the lowest being 1.5 high 3"
   ]
  },
  {
   "cell_type": "code",
   "execution_count": 2,
   "id": "aac0e161",
   "metadata": {},
   "outputs": [
    {
     "data": {
      "application/vnd.microsoft.datawrangler.viewer.v0+json": {
       "columns": [
        {
         "name": "index",
         "rawType": "int64",
         "type": "integer"
        },
        {
         "name": "Sex",
         "rawType": "object",
         "type": "string"
        },
        {
         "name": "Length",
         "rawType": "float64",
         "type": "float"
        },
        {
         "name": "Diameter",
         "rawType": "float64",
         "type": "float"
        },
        {
         "name": "Height",
         "rawType": "float64",
         "type": "float"
        },
        {
         "name": "Weight",
         "rawType": "float64",
         "type": "float"
        },
        {
         "name": "Shucked_weight",
         "rawType": "float64",
         "type": "float"
        },
        {
         "name": "Viscera_weight",
         "rawType": "float64",
         "type": "float"
        },
        {
         "name": "Shell_weight",
         "rawType": "float64",
         "type": "float"
        },
        {
         "name": "Age",
         "rawType": "int64",
         "type": "integer"
        }
       ],
       "ref": "4068f5c1-73b0-4665-acaa-76af0161d12a",
       "rows": [
        [
         "0",
         "M",
         "0.35",
         "0.265",
         "0.09",
         "0.2255",
         "0.0995",
         "0.0485",
         "0.07",
         "7"
        ],
        [
         "1",
         "F",
         "0.53",
         "0.42",
         "0.135",
         "0.677",
         "0.2565",
         "0.1415",
         "0.21",
         "9"
        ],
        [
         "2",
         "M",
         "0.44",
         "0.365",
         "0.125",
         "0.516",
         "0.2155",
         "0.114",
         "0.155",
         "10"
        ],
        [
         "3",
         "I",
         "0.33",
         "0.255",
         "0.08",
         "0.205",
         "0.0895",
         "0.0395",
         "0.055",
         "7"
        ],
        [
         "4",
         "I",
         "0.425",
         "0.3",
         "0.095",
         "0.3515",
         "0.141",
         "0.0775",
         "0.12",
         "8"
        ]
       ],
       "shape": {
        "columns": 9,
        "rows": 5
       }
      },
      "text/html": [
       "<div>\n",
       "<style scoped>\n",
       "    .dataframe tbody tr th:only-of-type {\n",
       "        vertical-align: middle;\n",
       "    }\n",
       "\n",
       "    .dataframe tbody tr th {\n",
       "        vertical-align: top;\n",
       "    }\n",
       "\n",
       "    .dataframe thead th {\n",
       "        text-align: right;\n",
       "    }\n",
       "</style>\n",
       "<table border=\"1\" class=\"dataframe\">\n",
       "  <thead>\n",
       "    <tr style=\"text-align: right;\">\n",
       "      <th></th>\n",
       "      <th>Sex</th>\n",
       "      <th>Length</th>\n",
       "      <th>Diameter</th>\n",
       "      <th>Height</th>\n",
       "      <th>Weight</th>\n",
       "      <th>Shucked_weight</th>\n",
       "      <th>Viscera_weight</th>\n",
       "      <th>Shell_weight</th>\n",
       "      <th>Age</th>\n",
       "    </tr>\n",
       "  </thead>\n",
       "  <tbody>\n",
       "    <tr>\n",
       "      <th>0</th>\n",
       "      <td>M</td>\n",
       "      <td>0.350</td>\n",
       "      <td>0.265</td>\n",
       "      <td>0.090</td>\n",
       "      <td>0.2255</td>\n",
       "      <td>0.0995</td>\n",
       "      <td>0.0485</td>\n",
       "      <td>0.070</td>\n",
       "      <td>7</td>\n",
       "    </tr>\n",
       "    <tr>\n",
       "      <th>1</th>\n",
       "      <td>F</td>\n",
       "      <td>0.530</td>\n",
       "      <td>0.420</td>\n",
       "      <td>0.135</td>\n",
       "      <td>0.6770</td>\n",
       "      <td>0.2565</td>\n",
       "      <td>0.1415</td>\n",
       "      <td>0.210</td>\n",
       "      <td>9</td>\n",
       "    </tr>\n",
       "    <tr>\n",
       "      <th>2</th>\n",
       "      <td>M</td>\n",
       "      <td>0.440</td>\n",
       "      <td>0.365</td>\n",
       "      <td>0.125</td>\n",
       "      <td>0.5160</td>\n",
       "      <td>0.2155</td>\n",
       "      <td>0.1140</td>\n",
       "      <td>0.155</td>\n",
       "      <td>10</td>\n",
       "    </tr>\n",
       "    <tr>\n",
       "      <th>3</th>\n",
       "      <td>I</td>\n",
       "      <td>0.330</td>\n",
       "      <td>0.255</td>\n",
       "      <td>0.080</td>\n",
       "      <td>0.2050</td>\n",
       "      <td>0.0895</td>\n",
       "      <td>0.0395</td>\n",
       "      <td>0.055</td>\n",
       "      <td>7</td>\n",
       "    </tr>\n",
       "    <tr>\n",
       "      <th>4</th>\n",
       "      <td>I</td>\n",
       "      <td>0.425</td>\n",
       "      <td>0.300</td>\n",
       "      <td>0.095</td>\n",
       "      <td>0.3515</td>\n",
       "      <td>0.1410</td>\n",
       "      <td>0.0775</td>\n",
       "      <td>0.120</td>\n",
       "      <td>8</td>\n",
       "    </tr>\n",
       "  </tbody>\n",
       "</table>\n",
       "</div>"
      ],
      "text/plain": [
       "  Sex  Length  Diameter  Height  Weight  Shucked_weight  Viscera_weight  \\\n",
       "0   M   0.350     0.265   0.090  0.2255          0.0995          0.0485   \n",
       "1   F   0.530     0.420   0.135  0.6770          0.2565          0.1415   \n",
       "2   M   0.440     0.365   0.125  0.5160          0.2155          0.1140   \n",
       "3   I   0.330     0.255   0.080  0.2050          0.0895          0.0395   \n",
       "4   I   0.425     0.300   0.095  0.3515          0.1410          0.0775   \n",
       "\n",
       "   Shell_weight  Age  \n",
       "0         0.070    7  \n",
       "1         0.210    9  \n",
       "2         0.155   10  \n",
       "3         0.055    7  \n",
       "4         0.120    8  "
      ]
     },
     "execution_count": 2,
     "metadata": {},
     "output_type": "execute_result"
    }
   ],
   "source": [
    "import pandas as pd\n",
    "\n",
    "def clean_data(df):\n",
    "    # Drop duplicate rows across all columns\n",
    "    df = df.drop_duplicates()\n",
    "    # Rename column '0.455' to 'Length'\n",
    "    df = df.rename(columns={'0.455': 'Length'})\n",
    "    # Rename column 'M' to 'Sex'\n",
    "    df = df.rename(columns={'M': 'Sex'})\n",
    "    # Rename column '0.365' to 'Diameter'\n",
    "    df = df.rename(columns={'0.365': 'Diameter'})\n",
    "    # Rename column '0.095' to 'Height'\n",
    "    df = df.rename(columns={'0.095': 'Height'})\n",
    "    # Rename column '0.514' to 'Weight'\n",
    "    df = df.rename(columns={'0.514': 'Weight'})\n",
    "    # Rename column '0.2245' to 'Shucked_weight'\n",
    "    df = df.rename(columns={'0.2245': 'Shucked_weight'})\n",
    "    # Rename column '0.101' to 'Viscera_weight'\n",
    "    df = df.rename(columns={'0.101': 'Viscera_weight'})\n",
    "    # Rename column '0.15' to 'Shell_weight'\n",
    "    df = df.rename(columns={'0.15': 'Shell_weight'})\n",
    "    # Rename column '15' to 'Age'\n",
    "    df = df.rename(columns={'15': 'Age'})\n",
    "    return df\n",
    "\n",
    "# Loaded variable 'df' from URI: f:\\Learngin-AIML\\Projects\\Abalone\\abalone.data.csv\n",
    "df = pd.read_csv(r'f:\\Learngin-AIML\\Projects\\Abalone\\abalone.data.csv')\n",
    "\n",
    "df_clean = clean_data(df.copy())\n",
    "df_clean.head()"
   ]
  },
  {
   "cell_type": "code",
   "execution_count": 3,
   "id": "a207fdad",
   "metadata": {},
   "outputs": [
    {
     "data": {
      "application/vnd.microsoft.datawrangler.viewer.v0+json": {
       "columns": [
        {
         "name": "index",
         "rawType": "int64",
         "type": "integer"
        },
        {
         "name": "Sex",
         "rawType": "object",
         "type": "string"
        },
        {
         "name": "Length",
         "rawType": "float64",
         "type": "float"
        },
        {
         "name": "Diameter",
         "rawType": "float64",
         "type": "float"
        },
        {
         "name": "Height",
         "rawType": "float64",
         "type": "float"
        },
        {
         "name": "Weight",
         "rawType": "float64",
         "type": "float"
        },
        {
         "name": "Shucked_weight",
         "rawType": "float64",
         "type": "float"
        },
        {
         "name": "Viscera_weight",
         "rawType": "float64",
         "type": "float"
        },
        {
         "name": "Shell_weight",
         "rawType": "float64",
         "type": "float"
        },
        {
         "name": "Age",
         "rawType": "int64",
         "type": "integer"
        }
       ],
       "ref": "79d6b280-214c-42c1-a244-6b3f3993cdb3",
       "rows": [
        [
         "0",
         "M",
         "0.35",
         "0.265",
         "0.09",
         "0.2255",
         "0.0995",
         "0.0485",
         "0.07",
         "7"
        ],
        [
         "1",
         "F",
         "0.53",
         "0.42",
         "0.135",
         "0.677",
         "0.2565",
         "0.1415",
         "0.21",
         "9"
        ],
        [
         "2",
         "M",
         "0.44",
         "0.365",
         "0.125",
         "0.516",
         "0.2155",
         "0.114",
         "0.155",
         "10"
        ],
        [
         "3",
         "I",
         "0.33",
         "0.255",
         "0.08",
         "0.205",
         "0.0895",
         "0.0395",
         "0.055",
         "7"
        ],
        [
         "4",
         "I",
         "0.425",
         "0.3",
         "0.095",
         "0.3515",
         "0.141",
         "0.0775",
         "0.12",
         "8"
        ],
        [
         "5",
         "F",
         "0.53",
         "0.415",
         "0.15",
         "0.7775",
         "0.237",
         "0.1415",
         "0.33",
         "20"
        ],
        [
         "6",
         "F",
         "0.545",
         "0.425",
         "0.125",
         "0.768",
         "0.294",
         "0.1495",
         "0.26",
         "16"
        ],
        [
         "7",
         "M",
         "0.475",
         "0.37",
         "0.125",
         "0.5095",
         "0.2165",
         "0.1125",
         "0.165",
         "9"
        ],
        [
         "8",
         "F",
         "0.55",
         "0.44",
         "0.15",
         "0.8945",
         "0.3145",
         "0.151",
         "0.32",
         "19"
        ],
        [
         "9",
         "F",
         "0.525",
         "0.38",
         "0.14",
         "0.6065",
         "0.194",
         "0.1475",
         "0.21",
         "14"
        ],
        [
         "10",
         "M",
         "0.43",
         "0.35",
         "0.11",
         "0.406",
         "0.1675",
         "0.081",
         "0.135",
         "10"
        ],
        [
         "11",
         "M",
         "0.49",
         "0.38",
         "0.135",
         "0.5415",
         "0.2175",
         "0.095",
         "0.19",
         "11"
        ],
        [
         "12",
         "F",
         "0.535",
         "0.405",
         "0.145",
         "0.6845",
         "0.2725",
         "0.171",
         "0.205",
         "10"
        ],
        [
         "13",
         "F",
         "0.47",
         "0.355",
         "0.1",
         "0.4755",
         "0.1675",
         "0.0805",
         "0.185",
         "10"
        ],
        [
         "14",
         "M",
         "0.5",
         "0.4",
         "0.13",
         "0.6645",
         "0.258",
         "0.133",
         "0.24",
         "12"
        ],
        [
         "15",
         "I",
         "0.355",
         "0.28",
         "0.085",
         "0.2905",
         "0.095",
         "0.0395",
         "0.115",
         "7"
        ],
        [
         "16",
         "F",
         "0.44",
         "0.34",
         "0.1",
         "0.451",
         "0.188",
         "0.087",
         "0.13",
         "10"
        ],
        [
         "17",
         "M",
         "0.365",
         "0.295",
         "0.08",
         "0.2555",
         "0.097",
         "0.043",
         "0.1",
         "7"
        ],
        [
         "18",
         "M",
         "0.45",
         "0.32",
         "0.1",
         "0.381",
         "0.1705",
         "0.075",
         "0.115",
         "9"
        ],
        [
         "19",
         "M",
         "0.355",
         "0.28",
         "0.095",
         "0.2455",
         "0.0955",
         "0.062",
         "0.075",
         "11"
        ],
        [
         "20",
         "I",
         "0.38",
         "0.275",
         "0.1",
         "0.2255",
         "0.08",
         "0.049",
         "0.085",
         "10"
        ],
        [
         "21",
         "F",
         "0.565",
         "0.44",
         "0.155",
         "0.9395",
         "0.4275",
         "0.214",
         "0.27",
         "12"
        ],
        [
         "22",
         "F",
         "0.55",
         "0.415",
         "0.135",
         "0.7635",
         "0.318",
         "0.21",
         "0.2",
         "9"
        ],
        [
         "23",
         "F",
         "0.615",
         "0.48",
         "0.165",
         "1.1615",
         "0.513",
         "0.301",
         "0.305",
         "10"
        ],
        [
         "24",
         "F",
         "0.56",
         "0.44",
         "0.14",
         "0.9285",
         "0.3825",
         "0.188",
         "0.3",
         "11"
        ],
        [
         "25",
         "F",
         "0.58",
         "0.45",
         "0.185",
         "0.9955",
         "0.3945",
         "0.272",
         "0.285",
         "11"
        ],
        [
         "26",
         "M",
         "0.59",
         "0.445",
         "0.14",
         "0.931",
         "0.356",
         "0.234",
         "0.28",
         "12"
        ],
        [
         "27",
         "M",
         "0.605",
         "0.475",
         "0.18",
         "0.9365",
         "0.394",
         "0.219",
         "0.295",
         "15"
        ],
        [
         "28",
         "M",
         "0.575",
         "0.425",
         "0.14",
         "0.8635",
         "0.393",
         "0.227",
         "0.2",
         "11"
        ],
        [
         "29",
         "M",
         "0.58",
         "0.47",
         "0.165",
         "0.9975",
         "0.3935",
         "0.242",
         "0.33",
         "10"
        ],
        [
         "30",
         "F",
         "0.68",
         "0.56",
         "0.165",
         "1.639",
         "0.6055",
         "0.2805",
         "0.46",
         "15"
        ],
        [
         "31",
         "M",
         "0.665",
         "0.525",
         "0.165",
         "1.338",
         "0.5515",
         "0.3575",
         "0.35",
         "18"
        ],
        [
         "32",
         "F",
         "0.68",
         "0.55",
         "0.175",
         "1.798",
         "0.815",
         "0.3925",
         "0.455",
         "19"
        ],
        [
         "33",
         "F",
         "0.705",
         "0.55",
         "0.2",
         "1.7095",
         "0.633",
         "0.4115",
         "0.49",
         "13"
        ],
        [
         "34",
         "M",
         "0.465",
         "0.355",
         "0.105",
         "0.4795",
         "0.227",
         "0.124",
         "0.125",
         "8"
        ],
        [
         "35",
         "F",
         "0.54",
         "0.475",
         "0.155",
         "1.217",
         "0.5305",
         "0.3075",
         "0.34",
         "16"
        ],
        [
         "36",
         "F",
         "0.45",
         "0.355",
         "0.105",
         "0.5225",
         "0.237",
         "0.1165",
         "0.145",
         "8"
        ],
        [
         "37",
         "F",
         "0.575",
         "0.445",
         "0.135",
         "0.883",
         "0.381",
         "0.2035",
         "0.26",
         "11"
        ],
        [
         "38",
         "M",
         "0.355",
         "0.29",
         "0.09",
         "0.3275",
         "0.134",
         "0.086",
         "0.09",
         "9"
        ],
        [
         "39",
         "F",
         "0.45",
         "0.335",
         "0.105",
         "0.425",
         "0.1865",
         "0.091",
         "0.115",
         "9"
        ],
        [
         "40",
         "F",
         "0.55",
         "0.425",
         "0.135",
         "0.8515",
         "0.362",
         "0.196",
         "0.27",
         "14"
        ],
        [
         "41",
         "I",
         "0.24",
         "0.175",
         "0.045",
         "0.07",
         "0.0315",
         "0.0235",
         "0.02",
         "5"
        ],
        [
         "42",
         "I",
         "0.205",
         "0.15",
         "0.055",
         "0.042",
         "0.0255",
         "0.015",
         "0.012",
         "5"
        ],
        [
         "43",
         "I",
         "0.21",
         "0.15",
         "0.05",
         "0.042",
         "0.0175",
         "0.0125",
         "0.015",
         "4"
        ],
        [
         "44",
         "I",
         "0.39",
         "0.295",
         "0.095",
         "0.203",
         "0.0875",
         "0.045",
         "0.075",
         "7"
        ],
        [
         "45",
         "M",
         "0.47",
         "0.37",
         "0.12",
         "0.5795",
         "0.293",
         "0.227",
         "0.14",
         "9"
        ],
        [
         "46",
         "F",
         "0.46",
         "0.375",
         "0.12",
         "0.4605",
         "0.1775",
         "0.11",
         "0.15",
         "7"
        ],
        [
         "47",
         "I",
         "0.325",
         "0.245",
         "0.07",
         "0.161",
         "0.0755",
         "0.0255",
         "0.045",
         "6"
        ],
        [
         "48",
         "F",
         "0.525",
         "0.425",
         "0.16",
         "0.8355",
         "0.3545",
         "0.2135",
         "0.245",
         "9"
        ],
        [
         "49",
         "I",
         "0.52",
         "0.41",
         "0.12",
         "0.595",
         "0.2385",
         "0.111",
         "0.19",
         "8"
        ]
       ],
       "shape": {
        "columns": 9,
        "rows": 4176
       }
      },
      "text/html": [
       "<div>\n",
       "<style scoped>\n",
       "    .dataframe tbody tr th:only-of-type {\n",
       "        vertical-align: middle;\n",
       "    }\n",
       "\n",
       "    .dataframe tbody tr th {\n",
       "        vertical-align: top;\n",
       "    }\n",
       "\n",
       "    .dataframe thead th {\n",
       "        text-align: right;\n",
       "    }\n",
       "</style>\n",
       "<table border=\"1\" class=\"dataframe\">\n",
       "  <thead>\n",
       "    <tr style=\"text-align: right;\">\n",
       "      <th></th>\n",
       "      <th>Sex</th>\n",
       "      <th>Length</th>\n",
       "      <th>Diameter</th>\n",
       "      <th>Height</th>\n",
       "      <th>Weight</th>\n",
       "      <th>Shucked_weight</th>\n",
       "      <th>Viscera_weight</th>\n",
       "      <th>Shell_weight</th>\n",
       "      <th>Age</th>\n",
       "    </tr>\n",
       "  </thead>\n",
       "  <tbody>\n",
       "    <tr>\n",
       "      <th>0</th>\n",
       "      <td>M</td>\n",
       "      <td>0.350</td>\n",
       "      <td>0.265</td>\n",
       "      <td>0.090</td>\n",
       "      <td>0.2255</td>\n",
       "      <td>0.0995</td>\n",
       "      <td>0.0485</td>\n",
       "      <td>0.0700</td>\n",
       "      <td>7</td>\n",
       "    </tr>\n",
       "    <tr>\n",
       "      <th>1</th>\n",
       "      <td>F</td>\n",
       "      <td>0.530</td>\n",
       "      <td>0.420</td>\n",
       "      <td>0.135</td>\n",
       "      <td>0.6770</td>\n",
       "      <td>0.2565</td>\n",
       "      <td>0.1415</td>\n",
       "      <td>0.2100</td>\n",
       "      <td>9</td>\n",
       "    </tr>\n",
       "    <tr>\n",
       "      <th>2</th>\n",
       "      <td>M</td>\n",
       "      <td>0.440</td>\n",
       "      <td>0.365</td>\n",
       "      <td>0.125</td>\n",
       "      <td>0.5160</td>\n",
       "      <td>0.2155</td>\n",
       "      <td>0.1140</td>\n",
       "      <td>0.1550</td>\n",
       "      <td>10</td>\n",
       "    </tr>\n",
       "    <tr>\n",
       "      <th>3</th>\n",
       "      <td>I</td>\n",
       "      <td>0.330</td>\n",
       "      <td>0.255</td>\n",
       "      <td>0.080</td>\n",
       "      <td>0.2050</td>\n",
       "      <td>0.0895</td>\n",
       "      <td>0.0395</td>\n",
       "      <td>0.0550</td>\n",
       "      <td>7</td>\n",
       "    </tr>\n",
       "    <tr>\n",
       "      <th>4</th>\n",
       "      <td>I</td>\n",
       "      <td>0.425</td>\n",
       "      <td>0.300</td>\n",
       "      <td>0.095</td>\n",
       "      <td>0.3515</td>\n",
       "      <td>0.1410</td>\n",
       "      <td>0.0775</td>\n",
       "      <td>0.1200</td>\n",
       "      <td>8</td>\n",
       "    </tr>\n",
       "    <tr>\n",
       "      <th>...</th>\n",
       "      <td>...</td>\n",
       "      <td>...</td>\n",
       "      <td>...</td>\n",
       "      <td>...</td>\n",
       "      <td>...</td>\n",
       "      <td>...</td>\n",
       "      <td>...</td>\n",
       "      <td>...</td>\n",
       "      <td>...</td>\n",
       "    </tr>\n",
       "    <tr>\n",
       "      <th>4171</th>\n",
       "      <td>F</td>\n",
       "      <td>0.565</td>\n",
       "      <td>0.450</td>\n",
       "      <td>0.165</td>\n",
       "      <td>0.8870</td>\n",
       "      <td>0.3700</td>\n",
       "      <td>0.2390</td>\n",
       "      <td>0.2490</td>\n",
       "      <td>11</td>\n",
       "    </tr>\n",
       "    <tr>\n",
       "      <th>4172</th>\n",
       "      <td>M</td>\n",
       "      <td>0.590</td>\n",
       "      <td>0.440</td>\n",
       "      <td>0.135</td>\n",
       "      <td>0.9660</td>\n",
       "      <td>0.4390</td>\n",
       "      <td>0.2145</td>\n",
       "      <td>0.2605</td>\n",
       "      <td>10</td>\n",
       "    </tr>\n",
       "    <tr>\n",
       "      <th>4173</th>\n",
       "      <td>M</td>\n",
       "      <td>0.600</td>\n",
       "      <td>0.475</td>\n",
       "      <td>0.205</td>\n",
       "      <td>1.1760</td>\n",
       "      <td>0.5255</td>\n",
       "      <td>0.2875</td>\n",
       "      <td>0.3080</td>\n",
       "      <td>9</td>\n",
       "    </tr>\n",
       "    <tr>\n",
       "      <th>4174</th>\n",
       "      <td>F</td>\n",
       "      <td>0.625</td>\n",
       "      <td>0.485</td>\n",
       "      <td>0.150</td>\n",
       "      <td>1.0945</td>\n",
       "      <td>0.5310</td>\n",
       "      <td>0.2610</td>\n",
       "      <td>0.2960</td>\n",
       "      <td>10</td>\n",
       "    </tr>\n",
       "    <tr>\n",
       "      <th>4175</th>\n",
       "      <td>M</td>\n",
       "      <td>0.710</td>\n",
       "      <td>0.555</td>\n",
       "      <td>0.195</td>\n",
       "      <td>1.9485</td>\n",
       "      <td>0.9455</td>\n",
       "      <td>0.3765</td>\n",
       "      <td>0.4950</td>\n",
       "      <td>12</td>\n",
       "    </tr>\n",
       "  </tbody>\n",
       "</table>\n",
       "<p>4176 rows × 9 columns</p>\n",
       "</div>"
      ],
      "text/plain": [
       "     Sex  Length  Diameter  Height  Weight  Shucked_weight  Viscera_weight  \\\n",
       "0      M   0.350     0.265   0.090  0.2255          0.0995          0.0485   \n",
       "1      F   0.530     0.420   0.135  0.6770          0.2565          0.1415   \n",
       "2      M   0.440     0.365   0.125  0.5160          0.2155          0.1140   \n",
       "3      I   0.330     0.255   0.080  0.2050          0.0895          0.0395   \n",
       "4      I   0.425     0.300   0.095  0.3515          0.1410          0.0775   \n",
       "...   ..     ...       ...     ...     ...             ...             ...   \n",
       "4171   F   0.565     0.450   0.165  0.8870          0.3700          0.2390   \n",
       "4172   M   0.590     0.440   0.135  0.9660          0.4390          0.2145   \n",
       "4173   M   0.600     0.475   0.205  1.1760          0.5255          0.2875   \n",
       "4174   F   0.625     0.485   0.150  1.0945          0.5310          0.2610   \n",
       "4175   M   0.710     0.555   0.195  1.9485          0.9455          0.3765   \n",
       "\n",
       "      Shell_weight  Age  \n",
       "0           0.0700    7  \n",
       "1           0.2100    9  \n",
       "2           0.1550   10  \n",
       "3           0.0550    7  \n",
       "4           0.1200    8  \n",
       "...            ...  ...  \n",
       "4171        0.2490   11  \n",
       "4172        0.2605   10  \n",
       "4173        0.3080    9  \n",
       "4174        0.2960   10  \n",
       "4175        0.4950   12  \n",
       "\n",
       "[4176 rows x 9 columns]"
      ]
     },
     "execution_count": 3,
     "metadata": {},
     "output_type": "execute_result"
    }
   ],
   "source": [
    "df_clean"
   ]
  },
  {
   "cell_type": "code",
   "execution_count": 4,
   "id": "d5a533e2",
   "metadata": {},
   "outputs": [],
   "source": [
    "y=df_clean[['Age']]"
   ]
  },
  {
   "cell_type": "code",
   "execution_count": 5,
   "id": "a589e059",
   "metadata": {},
   "outputs": [
    {
     "data": {
      "application/vnd.microsoft.datawrangler.viewer.v0+json": {
       "columns": [
        {
         "name": "index",
         "rawType": "int64",
         "type": "integer"
        },
        {
         "name": "Age",
         "rawType": "int64",
         "type": "integer"
        }
       ],
       "ref": "5b82dab1-6e0e-4dc8-a446-68f01c5ea61f",
       "rows": [
        [
         "0",
         "7"
        ],
        [
         "1",
         "9"
        ],
        [
         "2",
         "10"
        ],
        [
         "3",
         "7"
        ],
        [
         "4",
         "8"
        ],
        [
         "5",
         "20"
        ],
        [
         "6",
         "16"
        ],
        [
         "7",
         "9"
        ],
        [
         "8",
         "19"
        ],
        [
         "9",
         "14"
        ],
        [
         "10",
         "10"
        ],
        [
         "11",
         "11"
        ],
        [
         "12",
         "10"
        ],
        [
         "13",
         "10"
        ],
        [
         "14",
         "12"
        ],
        [
         "15",
         "7"
        ],
        [
         "16",
         "10"
        ],
        [
         "17",
         "7"
        ],
        [
         "18",
         "9"
        ],
        [
         "19",
         "11"
        ],
        [
         "20",
         "10"
        ],
        [
         "21",
         "12"
        ],
        [
         "22",
         "9"
        ],
        [
         "23",
         "10"
        ],
        [
         "24",
         "11"
        ],
        [
         "25",
         "11"
        ],
        [
         "26",
         "12"
        ],
        [
         "27",
         "15"
        ],
        [
         "28",
         "11"
        ],
        [
         "29",
         "10"
        ],
        [
         "30",
         "15"
        ],
        [
         "31",
         "18"
        ],
        [
         "32",
         "19"
        ],
        [
         "33",
         "13"
        ],
        [
         "34",
         "8"
        ],
        [
         "35",
         "16"
        ],
        [
         "36",
         "8"
        ],
        [
         "37",
         "11"
        ],
        [
         "38",
         "9"
        ],
        [
         "39",
         "9"
        ],
        [
         "40",
         "14"
        ],
        [
         "41",
         "5"
        ],
        [
         "42",
         "5"
        ],
        [
         "43",
         "4"
        ],
        [
         "44",
         "7"
        ],
        [
         "45",
         "9"
        ],
        [
         "46",
         "7"
        ],
        [
         "47",
         "6"
        ],
        [
         "48",
         "9"
        ],
        [
         "49",
         "8"
        ]
       ],
       "shape": {
        "columns": 1,
        "rows": 4176
       }
      },
      "text/html": [
       "<div>\n",
       "<style scoped>\n",
       "    .dataframe tbody tr th:only-of-type {\n",
       "        vertical-align: middle;\n",
       "    }\n",
       "\n",
       "    .dataframe tbody tr th {\n",
       "        vertical-align: top;\n",
       "    }\n",
       "\n",
       "    .dataframe thead th {\n",
       "        text-align: right;\n",
       "    }\n",
       "</style>\n",
       "<table border=\"1\" class=\"dataframe\">\n",
       "  <thead>\n",
       "    <tr style=\"text-align: right;\">\n",
       "      <th></th>\n",
       "      <th>Age</th>\n",
       "    </tr>\n",
       "  </thead>\n",
       "  <tbody>\n",
       "    <tr>\n",
       "      <th>0</th>\n",
       "      <td>7</td>\n",
       "    </tr>\n",
       "    <tr>\n",
       "      <th>1</th>\n",
       "      <td>9</td>\n",
       "    </tr>\n",
       "    <tr>\n",
       "      <th>2</th>\n",
       "      <td>10</td>\n",
       "    </tr>\n",
       "    <tr>\n",
       "      <th>3</th>\n",
       "      <td>7</td>\n",
       "    </tr>\n",
       "    <tr>\n",
       "      <th>4</th>\n",
       "      <td>8</td>\n",
       "    </tr>\n",
       "    <tr>\n",
       "      <th>...</th>\n",
       "      <td>...</td>\n",
       "    </tr>\n",
       "    <tr>\n",
       "      <th>4171</th>\n",
       "      <td>11</td>\n",
       "    </tr>\n",
       "    <tr>\n",
       "      <th>4172</th>\n",
       "      <td>10</td>\n",
       "    </tr>\n",
       "    <tr>\n",
       "      <th>4173</th>\n",
       "      <td>9</td>\n",
       "    </tr>\n",
       "    <tr>\n",
       "      <th>4174</th>\n",
       "      <td>10</td>\n",
       "    </tr>\n",
       "    <tr>\n",
       "      <th>4175</th>\n",
       "      <td>12</td>\n",
       "    </tr>\n",
       "  </tbody>\n",
       "</table>\n",
       "<p>4176 rows × 1 columns</p>\n",
       "</div>"
      ],
      "text/plain": [
       "      Age\n",
       "0       7\n",
       "1       9\n",
       "2      10\n",
       "3       7\n",
       "4       8\n",
       "...   ...\n",
       "4171   11\n",
       "4172   10\n",
       "4173    9\n",
       "4174   10\n",
       "4175   12\n",
       "\n",
       "[4176 rows x 1 columns]"
      ]
     },
     "execution_count": 5,
     "metadata": {},
     "output_type": "execute_result"
    }
   ],
   "source": [
    "y"
   ]
  },
  {
   "cell_type": "code",
   "execution_count": 6,
   "id": "f1fe53b2",
   "metadata": {},
   "outputs": [],
   "source": [
    "X=df_clean.drop(\"Age\",axis=1)"
   ]
  },
  {
   "cell_type": "code",
   "execution_count": null,
   "id": "55c11f57",
   "metadata": {},
   "outputs": [
    {
     "data": {
      "application/vnd.microsoft.datawrangler.viewer.v0+json": {
       "columns": [
        {
         "name": "index",
         "rawType": "int64",
         "type": "integer"
        },
        {
         "name": "Sex_I",
         "rawType": "float64",
         "type": "float"
        },
        {
         "name": "Sex_M",
         "rawType": "float64",
         "type": "float"
        }
       ],
       "ref": "3d9521eb-da70-47c0-be6d-aed882736e0a",
       "rows": [
        [
         "0",
         "0.0",
         "1.0"
        ],
        [
         "1",
         "0.0",
         "0.0"
        ],
        [
         "2",
         "0.0",
         "1.0"
        ],
        [
         "3",
         "1.0",
         "0.0"
        ],
        [
         "4",
         "1.0",
         "0.0"
        ],
        [
         "5",
         "0.0",
         "0.0"
        ],
        [
         "6",
         "0.0",
         "0.0"
        ],
        [
         "7",
         "0.0",
         "1.0"
        ],
        [
         "8",
         "0.0",
         "0.0"
        ],
        [
         "9",
         "0.0",
         "0.0"
        ],
        [
         "10",
         "0.0",
         "1.0"
        ],
        [
         "11",
         "0.0",
         "1.0"
        ],
        [
         "12",
         "0.0",
         "0.0"
        ],
        [
         "13",
         "0.0",
         "0.0"
        ],
        [
         "14",
         "0.0",
         "1.0"
        ],
        [
         "15",
         "1.0",
         "0.0"
        ],
        [
         "16",
         "0.0",
         "0.0"
        ],
        [
         "17",
         "0.0",
         "1.0"
        ],
        [
         "18",
         "0.0",
         "1.0"
        ],
        [
         "19",
         "0.0",
         "1.0"
        ],
        [
         "20",
         "1.0",
         "0.0"
        ],
        [
         "21",
         "0.0",
         "0.0"
        ],
        [
         "22",
         "0.0",
         "0.0"
        ],
        [
         "23",
         "0.0",
         "0.0"
        ],
        [
         "24",
         "0.0",
         "0.0"
        ],
        [
         "25",
         "0.0",
         "0.0"
        ],
        [
         "26",
         "0.0",
         "1.0"
        ],
        [
         "27",
         "0.0",
         "1.0"
        ],
        [
         "28",
         "0.0",
         "1.0"
        ],
        [
         "29",
         "0.0",
         "1.0"
        ],
        [
         "30",
         "0.0",
         "0.0"
        ],
        [
         "31",
         "0.0",
         "1.0"
        ],
        [
         "32",
         "0.0",
         "0.0"
        ],
        [
         "33",
         "0.0",
         "0.0"
        ],
        [
         "34",
         "0.0",
         "1.0"
        ],
        [
         "35",
         "0.0",
         "0.0"
        ],
        [
         "36",
         "0.0",
         "0.0"
        ],
        [
         "37",
         "0.0",
         "0.0"
        ],
        [
         "38",
         "0.0",
         "1.0"
        ],
        [
         "39",
         "0.0",
         "0.0"
        ],
        [
         "40",
         "0.0",
         "0.0"
        ],
        [
         "41",
         "1.0",
         "0.0"
        ],
        [
         "42",
         "1.0",
         "0.0"
        ],
        [
         "43",
         "1.0",
         "0.0"
        ],
        [
         "44",
         "1.0",
         "0.0"
        ],
        [
         "45",
         "0.0",
         "1.0"
        ],
        [
         "46",
         "0.0",
         "0.0"
        ],
        [
         "47",
         "1.0",
         "0.0"
        ],
        [
         "48",
         "0.0",
         "0.0"
        ],
        [
         "49",
         "1.0",
         "0.0"
        ]
       ],
       "shape": {
        "columns": 2,
        "rows": 4176
       }
      },
      "text/html": [
       "<div>\n",
       "<style scoped>\n",
       "    .dataframe tbody tr th:only-of-type {\n",
       "        vertical-align: middle;\n",
       "    }\n",
       "\n",
       "    .dataframe tbody tr th {\n",
       "        vertical-align: top;\n",
       "    }\n",
       "\n",
       "    .dataframe thead th {\n",
       "        text-align: right;\n",
       "    }\n",
       "</style>\n",
       "<table border=\"1\" class=\"dataframe\">\n",
       "  <thead>\n",
       "    <tr style=\"text-align: right;\">\n",
       "      <th></th>\n",
       "      <th>Sex_I</th>\n",
       "      <th>Sex_M</th>\n",
       "    </tr>\n",
       "  </thead>\n",
       "  <tbody>\n",
       "    <tr>\n",
       "      <th>0</th>\n",
       "      <td>0.0</td>\n",
       "      <td>1.0</td>\n",
       "    </tr>\n",
       "    <tr>\n",
       "      <th>1</th>\n",
       "      <td>0.0</td>\n",
       "      <td>0.0</td>\n",
       "    </tr>\n",
       "    <tr>\n",
       "      <th>2</th>\n",
       "      <td>0.0</td>\n",
       "      <td>1.0</td>\n",
       "    </tr>\n",
       "    <tr>\n",
       "      <th>3</th>\n",
       "      <td>1.0</td>\n",
       "      <td>0.0</td>\n",
       "    </tr>\n",
       "    <tr>\n",
       "      <th>4</th>\n",
       "      <td>1.0</td>\n",
       "      <td>0.0</td>\n",
       "    </tr>\n",
       "    <tr>\n",
       "      <th>...</th>\n",
       "      <td>...</td>\n",
       "      <td>...</td>\n",
       "    </tr>\n",
       "    <tr>\n",
       "      <th>4171</th>\n",
       "      <td>0.0</td>\n",
       "      <td>0.0</td>\n",
       "    </tr>\n",
       "    <tr>\n",
       "      <th>4172</th>\n",
       "      <td>0.0</td>\n",
       "      <td>1.0</td>\n",
       "    </tr>\n",
       "    <tr>\n",
       "      <th>4173</th>\n",
       "      <td>0.0</td>\n",
       "      <td>1.0</td>\n",
       "    </tr>\n",
       "    <tr>\n",
       "      <th>4174</th>\n",
       "      <td>0.0</td>\n",
       "      <td>0.0</td>\n",
       "    </tr>\n",
       "    <tr>\n",
       "      <th>4175</th>\n",
       "      <td>0.0</td>\n",
       "      <td>1.0</td>\n",
       "    </tr>\n",
       "  </tbody>\n",
       "</table>\n",
       "<p>4176 rows × 2 columns</p>\n",
       "</div>"
      ],
      "text/plain": [
       "      Sex_I  Sex_M\n",
       "0       0.0    1.0\n",
       "1       0.0    0.0\n",
       "2       0.0    1.0\n",
       "3       1.0    0.0\n",
       "4       1.0    0.0\n",
       "...     ...    ...\n",
       "4171    0.0    0.0\n",
       "4172    0.0    1.0\n",
       "4173    0.0    1.0\n",
       "4174    0.0    0.0\n",
       "4175    0.0    1.0\n",
       "\n",
       "[4176 rows x 2 columns]"
      ]
     },
     "execution_count": 22,
     "metadata": {},
     "output_type": "execute_result"
    }
   ],
   "source": [
    "cat_encoder=OneHotEncoder(drop='first',sparse_output=False)\n",
    "encoded_cat=cat_encoder.fit_transform(X[['Sex']])\n",
    "encoded_cat=pd.DataFrame(encoded_cat,columns=cat_encoder.get_feature_names_out())\n",
    "encoded_cat"
   ]
  },
  {
   "cell_type": "code",
   "execution_count": 24,
   "id": "ca2b8587",
   "metadata": {},
   "outputs": [],
   "source": [
    "X=X.join(encoded_cat)"
   ]
  },
  {
   "cell_type": "code",
   "execution_count": 27,
   "id": "989ca65a",
   "metadata": {},
   "outputs": [],
   "source": [
    "X.drop('Sex',inplace=True,axis=1)"
   ]
  },
  {
   "cell_type": "code",
   "execution_count": 28,
   "id": "3caf2e7e",
   "metadata": {},
   "outputs": [
    {
     "data": {
      "application/vnd.microsoft.datawrangler.viewer.v0+json": {
       "columns": [
        {
         "name": "index",
         "rawType": "int64",
         "type": "integer"
        },
        {
         "name": "Length",
         "rawType": "float64",
         "type": "float"
        },
        {
         "name": "Diameter",
         "rawType": "float64",
         "type": "float"
        },
        {
         "name": "Height",
         "rawType": "float64",
         "type": "float"
        },
        {
         "name": "Weight",
         "rawType": "float64",
         "type": "float"
        },
        {
         "name": "Shucked_weight",
         "rawType": "float64",
         "type": "float"
        },
        {
         "name": "Viscera_weight",
         "rawType": "float64",
         "type": "float"
        },
        {
         "name": "Shell_weight",
         "rawType": "float64",
         "type": "float"
        },
        {
         "name": "Sex_I",
         "rawType": "float64",
         "type": "float"
        },
        {
         "name": "Sex_M",
         "rawType": "float64",
         "type": "float"
        }
       ],
       "ref": "b4c5b9f2-afc2-4203-8ace-0e79da3195fe",
       "rows": [
        [
         "0",
         "0.35",
         "0.265",
         "0.09",
         "0.2255",
         "0.0995",
         "0.0485",
         "0.07",
         "0.0",
         "1.0"
        ],
        [
         "1",
         "0.53",
         "0.42",
         "0.135",
         "0.677",
         "0.2565",
         "0.1415",
         "0.21",
         "0.0",
         "0.0"
        ],
        [
         "2",
         "0.44",
         "0.365",
         "0.125",
         "0.516",
         "0.2155",
         "0.114",
         "0.155",
         "0.0",
         "1.0"
        ],
        [
         "3",
         "0.33",
         "0.255",
         "0.08",
         "0.205",
         "0.0895",
         "0.0395",
         "0.055",
         "1.0",
         "0.0"
        ],
        [
         "4",
         "0.425",
         "0.3",
         "0.095",
         "0.3515",
         "0.141",
         "0.0775",
         "0.12",
         "1.0",
         "0.0"
        ],
        [
         "5",
         "0.53",
         "0.415",
         "0.15",
         "0.7775",
         "0.237",
         "0.1415",
         "0.33",
         "0.0",
         "0.0"
        ],
        [
         "6",
         "0.545",
         "0.425",
         "0.125",
         "0.768",
         "0.294",
         "0.1495",
         "0.26",
         "0.0",
         "0.0"
        ],
        [
         "7",
         "0.475",
         "0.37",
         "0.125",
         "0.5095",
         "0.2165",
         "0.1125",
         "0.165",
         "0.0",
         "1.0"
        ],
        [
         "8",
         "0.55",
         "0.44",
         "0.15",
         "0.8945",
         "0.3145",
         "0.151",
         "0.32",
         "0.0",
         "0.0"
        ],
        [
         "9",
         "0.525",
         "0.38",
         "0.14",
         "0.6065",
         "0.194",
         "0.1475",
         "0.21",
         "0.0",
         "0.0"
        ],
        [
         "10",
         "0.43",
         "0.35",
         "0.11",
         "0.406",
         "0.1675",
         "0.081",
         "0.135",
         "0.0",
         "1.0"
        ],
        [
         "11",
         "0.49",
         "0.38",
         "0.135",
         "0.5415",
         "0.2175",
         "0.095",
         "0.19",
         "0.0",
         "1.0"
        ],
        [
         "12",
         "0.535",
         "0.405",
         "0.145",
         "0.6845",
         "0.2725",
         "0.171",
         "0.205",
         "0.0",
         "0.0"
        ],
        [
         "13",
         "0.47",
         "0.355",
         "0.1",
         "0.4755",
         "0.1675",
         "0.0805",
         "0.185",
         "0.0",
         "0.0"
        ],
        [
         "14",
         "0.5",
         "0.4",
         "0.13",
         "0.6645",
         "0.258",
         "0.133",
         "0.24",
         "0.0",
         "1.0"
        ],
        [
         "15",
         "0.355",
         "0.28",
         "0.085",
         "0.2905",
         "0.095",
         "0.0395",
         "0.115",
         "1.0",
         "0.0"
        ],
        [
         "16",
         "0.44",
         "0.34",
         "0.1",
         "0.451",
         "0.188",
         "0.087",
         "0.13",
         "0.0",
         "0.0"
        ],
        [
         "17",
         "0.365",
         "0.295",
         "0.08",
         "0.2555",
         "0.097",
         "0.043",
         "0.1",
         "0.0",
         "1.0"
        ],
        [
         "18",
         "0.45",
         "0.32",
         "0.1",
         "0.381",
         "0.1705",
         "0.075",
         "0.115",
         "0.0",
         "1.0"
        ],
        [
         "19",
         "0.355",
         "0.28",
         "0.095",
         "0.2455",
         "0.0955",
         "0.062",
         "0.075",
         "0.0",
         "1.0"
        ],
        [
         "20",
         "0.38",
         "0.275",
         "0.1",
         "0.2255",
         "0.08",
         "0.049",
         "0.085",
         "1.0",
         "0.0"
        ],
        [
         "21",
         "0.565",
         "0.44",
         "0.155",
         "0.9395",
         "0.4275",
         "0.214",
         "0.27",
         "0.0",
         "0.0"
        ],
        [
         "22",
         "0.55",
         "0.415",
         "0.135",
         "0.7635",
         "0.318",
         "0.21",
         "0.2",
         "0.0",
         "0.0"
        ],
        [
         "23",
         "0.615",
         "0.48",
         "0.165",
         "1.1615",
         "0.513",
         "0.301",
         "0.305",
         "0.0",
         "0.0"
        ],
        [
         "24",
         "0.56",
         "0.44",
         "0.14",
         "0.9285",
         "0.3825",
         "0.188",
         "0.3",
         "0.0",
         "0.0"
        ],
        [
         "25",
         "0.58",
         "0.45",
         "0.185",
         "0.9955",
         "0.3945",
         "0.272",
         "0.285",
         "0.0",
         "0.0"
        ],
        [
         "26",
         "0.59",
         "0.445",
         "0.14",
         "0.931",
         "0.356",
         "0.234",
         "0.28",
         "0.0",
         "1.0"
        ],
        [
         "27",
         "0.605",
         "0.475",
         "0.18",
         "0.9365",
         "0.394",
         "0.219",
         "0.295",
         "0.0",
         "1.0"
        ],
        [
         "28",
         "0.575",
         "0.425",
         "0.14",
         "0.8635",
         "0.393",
         "0.227",
         "0.2",
         "0.0",
         "1.0"
        ],
        [
         "29",
         "0.58",
         "0.47",
         "0.165",
         "0.9975",
         "0.3935",
         "0.242",
         "0.33",
         "0.0",
         "1.0"
        ],
        [
         "30",
         "0.68",
         "0.56",
         "0.165",
         "1.639",
         "0.6055",
         "0.2805",
         "0.46",
         "0.0",
         "0.0"
        ],
        [
         "31",
         "0.665",
         "0.525",
         "0.165",
         "1.338",
         "0.5515",
         "0.3575",
         "0.35",
         "0.0",
         "1.0"
        ],
        [
         "32",
         "0.68",
         "0.55",
         "0.175",
         "1.798",
         "0.815",
         "0.3925",
         "0.455",
         "0.0",
         "0.0"
        ],
        [
         "33",
         "0.705",
         "0.55",
         "0.2",
         "1.7095",
         "0.633",
         "0.4115",
         "0.49",
         "0.0",
         "0.0"
        ],
        [
         "34",
         "0.465",
         "0.355",
         "0.105",
         "0.4795",
         "0.227",
         "0.124",
         "0.125",
         "0.0",
         "1.0"
        ],
        [
         "35",
         "0.54",
         "0.475",
         "0.155",
         "1.217",
         "0.5305",
         "0.3075",
         "0.34",
         "0.0",
         "0.0"
        ],
        [
         "36",
         "0.45",
         "0.355",
         "0.105",
         "0.5225",
         "0.237",
         "0.1165",
         "0.145",
         "0.0",
         "0.0"
        ],
        [
         "37",
         "0.575",
         "0.445",
         "0.135",
         "0.883",
         "0.381",
         "0.2035",
         "0.26",
         "0.0",
         "0.0"
        ],
        [
         "38",
         "0.355",
         "0.29",
         "0.09",
         "0.3275",
         "0.134",
         "0.086",
         "0.09",
         "0.0",
         "1.0"
        ],
        [
         "39",
         "0.45",
         "0.335",
         "0.105",
         "0.425",
         "0.1865",
         "0.091",
         "0.115",
         "0.0",
         "0.0"
        ],
        [
         "40",
         "0.55",
         "0.425",
         "0.135",
         "0.8515",
         "0.362",
         "0.196",
         "0.27",
         "0.0",
         "0.0"
        ],
        [
         "41",
         "0.24",
         "0.175",
         "0.045",
         "0.07",
         "0.0315",
         "0.0235",
         "0.02",
         "1.0",
         "0.0"
        ],
        [
         "42",
         "0.205",
         "0.15",
         "0.055",
         "0.042",
         "0.0255",
         "0.015",
         "0.012",
         "1.0",
         "0.0"
        ],
        [
         "43",
         "0.21",
         "0.15",
         "0.05",
         "0.042",
         "0.0175",
         "0.0125",
         "0.015",
         "1.0",
         "0.0"
        ],
        [
         "44",
         "0.39",
         "0.295",
         "0.095",
         "0.203",
         "0.0875",
         "0.045",
         "0.075",
         "1.0",
         "0.0"
        ],
        [
         "45",
         "0.47",
         "0.37",
         "0.12",
         "0.5795",
         "0.293",
         "0.227",
         "0.14",
         "0.0",
         "1.0"
        ],
        [
         "46",
         "0.46",
         "0.375",
         "0.12",
         "0.4605",
         "0.1775",
         "0.11",
         "0.15",
         "0.0",
         "0.0"
        ],
        [
         "47",
         "0.325",
         "0.245",
         "0.07",
         "0.161",
         "0.0755",
         "0.0255",
         "0.045",
         "1.0",
         "0.0"
        ],
        [
         "48",
         "0.525",
         "0.425",
         "0.16",
         "0.8355",
         "0.3545",
         "0.2135",
         "0.245",
         "0.0",
         "0.0"
        ],
        [
         "49",
         "0.52",
         "0.41",
         "0.12",
         "0.595",
         "0.2385",
         "0.111",
         "0.19",
         "1.0",
         "0.0"
        ]
       ],
       "shape": {
        "columns": 9,
        "rows": 4176
       }
      },
      "text/html": [
       "<div>\n",
       "<style scoped>\n",
       "    .dataframe tbody tr th:only-of-type {\n",
       "        vertical-align: middle;\n",
       "    }\n",
       "\n",
       "    .dataframe tbody tr th {\n",
       "        vertical-align: top;\n",
       "    }\n",
       "\n",
       "    .dataframe thead th {\n",
       "        text-align: right;\n",
       "    }\n",
       "</style>\n",
       "<table border=\"1\" class=\"dataframe\">\n",
       "  <thead>\n",
       "    <tr style=\"text-align: right;\">\n",
       "      <th></th>\n",
       "      <th>Length</th>\n",
       "      <th>Diameter</th>\n",
       "      <th>Height</th>\n",
       "      <th>Weight</th>\n",
       "      <th>Shucked_weight</th>\n",
       "      <th>Viscera_weight</th>\n",
       "      <th>Shell_weight</th>\n",
       "      <th>Sex_I</th>\n",
       "      <th>Sex_M</th>\n",
       "    </tr>\n",
       "  </thead>\n",
       "  <tbody>\n",
       "    <tr>\n",
       "      <th>0</th>\n",
       "      <td>0.350</td>\n",
       "      <td>0.265</td>\n",
       "      <td>0.090</td>\n",
       "      <td>0.2255</td>\n",
       "      <td>0.0995</td>\n",
       "      <td>0.0485</td>\n",
       "      <td>0.0700</td>\n",
       "      <td>0.0</td>\n",
       "      <td>1.0</td>\n",
       "    </tr>\n",
       "    <tr>\n",
       "      <th>1</th>\n",
       "      <td>0.530</td>\n",
       "      <td>0.420</td>\n",
       "      <td>0.135</td>\n",
       "      <td>0.6770</td>\n",
       "      <td>0.2565</td>\n",
       "      <td>0.1415</td>\n",
       "      <td>0.2100</td>\n",
       "      <td>0.0</td>\n",
       "      <td>0.0</td>\n",
       "    </tr>\n",
       "    <tr>\n",
       "      <th>2</th>\n",
       "      <td>0.440</td>\n",
       "      <td>0.365</td>\n",
       "      <td>0.125</td>\n",
       "      <td>0.5160</td>\n",
       "      <td>0.2155</td>\n",
       "      <td>0.1140</td>\n",
       "      <td>0.1550</td>\n",
       "      <td>0.0</td>\n",
       "      <td>1.0</td>\n",
       "    </tr>\n",
       "    <tr>\n",
       "      <th>3</th>\n",
       "      <td>0.330</td>\n",
       "      <td>0.255</td>\n",
       "      <td>0.080</td>\n",
       "      <td>0.2050</td>\n",
       "      <td>0.0895</td>\n",
       "      <td>0.0395</td>\n",
       "      <td>0.0550</td>\n",
       "      <td>1.0</td>\n",
       "      <td>0.0</td>\n",
       "    </tr>\n",
       "    <tr>\n",
       "      <th>4</th>\n",
       "      <td>0.425</td>\n",
       "      <td>0.300</td>\n",
       "      <td>0.095</td>\n",
       "      <td>0.3515</td>\n",
       "      <td>0.1410</td>\n",
       "      <td>0.0775</td>\n",
       "      <td>0.1200</td>\n",
       "      <td>1.0</td>\n",
       "      <td>0.0</td>\n",
       "    </tr>\n",
       "    <tr>\n",
       "      <th>...</th>\n",
       "      <td>...</td>\n",
       "      <td>...</td>\n",
       "      <td>...</td>\n",
       "      <td>...</td>\n",
       "      <td>...</td>\n",
       "      <td>...</td>\n",
       "      <td>...</td>\n",
       "      <td>...</td>\n",
       "      <td>...</td>\n",
       "    </tr>\n",
       "    <tr>\n",
       "      <th>4171</th>\n",
       "      <td>0.565</td>\n",
       "      <td>0.450</td>\n",
       "      <td>0.165</td>\n",
       "      <td>0.8870</td>\n",
       "      <td>0.3700</td>\n",
       "      <td>0.2390</td>\n",
       "      <td>0.2490</td>\n",
       "      <td>0.0</td>\n",
       "      <td>0.0</td>\n",
       "    </tr>\n",
       "    <tr>\n",
       "      <th>4172</th>\n",
       "      <td>0.590</td>\n",
       "      <td>0.440</td>\n",
       "      <td>0.135</td>\n",
       "      <td>0.9660</td>\n",
       "      <td>0.4390</td>\n",
       "      <td>0.2145</td>\n",
       "      <td>0.2605</td>\n",
       "      <td>0.0</td>\n",
       "      <td>1.0</td>\n",
       "    </tr>\n",
       "    <tr>\n",
       "      <th>4173</th>\n",
       "      <td>0.600</td>\n",
       "      <td>0.475</td>\n",
       "      <td>0.205</td>\n",
       "      <td>1.1760</td>\n",
       "      <td>0.5255</td>\n",
       "      <td>0.2875</td>\n",
       "      <td>0.3080</td>\n",
       "      <td>0.0</td>\n",
       "      <td>1.0</td>\n",
       "    </tr>\n",
       "    <tr>\n",
       "      <th>4174</th>\n",
       "      <td>0.625</td>\n",
       "      <td>0.485</td>\n",
       "      <td>0.150</td>\n",
       "      <td>1.0945</td>\n",
       "      <td>0.5310</td>\n",
       "      <td>0.2610</td>\n",
       "      <td>0.2960</td>\n",
       "      <td>0.0</td>\n",
       "      <td>0.0</td>\n",
       "    </tr>\n",
       "    <tr>\n",
       "      <th>4175</th>\n",
       "      <td>0.710</td>\n",
       "      <td>0.555</td>\n",
       "      <td>0.195</td>\n",
       "      <td>1.9485</td>\n",
       "      <td>0.9455</td>\n",
       "      <td>0.3765</td>\n",
       "      <td>0.4950</td>\n",
       "      <td>0.0</td>\n",
       "      <td>1.0</td>\n",
       "    </tr>\n",
       "  </tbody>\n",
       "</table>\n",
       "<p>4176 rows × 9 columns</p>\n",
       "</div>"
      ],
      "text/plain": [
       "      Length  Diameter  Height  Weight  Shucked_weight  Viscera_weight  \\\n",
       "0      0.350     0.265   0.090  0.2255          0.0995          0.0485   \n",
       "1      0.530     0.420   0.135  0.6770          0.2565          0.1415   \n",
       "2      0.440     0.365   0.125  0.5160          0.2155          0.1140   \n",
       "3      0.330     0.255   0.080  0.2050          0.0895          0.0395   \n",
       "4      0.425     0.300   0.095  0.3515          0.1410          0.0775   \n",
       "...      ...       ...     ...     ...             ...             ...   \n",
       "4171   0.565     0.450   0.165  0.8870          0.3700          0.2390   \n",
       "4172   0.590     0.440   0.135  0.9660          0.4390          0.2145   \n",
       "4173   0.600     0.475   0.205  1.1760          0.5255          0.2875   \n",
       "4174   0.625     0.485   0.150  1.0945          0.5310          0.2610   \n",
       "4175   0.710     0.555   0.195  1.9485          0.9455          0.3765   \n",
       "\n",
       "      Shell_weight  Sex_I  Sex_M  \n",
       "0           0.0700    0.0    1.0  \n",
       "1           0.2100    0.0    0.0  \n",
       "2           0.1550    0.0    1.0  \n",
       "3           0.0550    1.0    0.0  \n",
       "4           0.1200    1.0    0.0  \n",
       "...            ...    ...    ...  \n",
       "4171        0.2490    0.0    0.0  \n",
       "4172        0.2605    0.0    1.0  \n",
       "4173        0.3080    0.0    1.0  \n",
       "4174        0.2960    0.0    0.0  \n",
       "4175        0.4950    0.0    1.0  \n",
       "\n",
       "[4176 rows x 9 columns]"
      ]
     },
     "execution_count": 28,
     "metadata": {},
     "output_type": "execute_result"
    }
   ],
   "source": [
    "X"
   ]
  },
  {
   "cell_type": "code",
   "execution_count": null,
   "id": "cbdfb606",
   "metadata": {},
   "outputs": [
    {
     "data": {
      "application/vnd.microsoft.datawrangler.viewer.v0+json": {
       "columns": [
        {
         "name": "index",
         "rawType": "int64",
         "type": "integer"
        },
        {
         "name": "Sex",
         "rawType": "object",
         "type": "string"
        },
        {
         "name": "Length",
         "rawType": "float64",
         "type": "float"
        },
        {
         "name": "Diameter",
         "rawType": "float64",
         "type": "float"
        },
        {
         "name": "Height",
         "rawType": "float64",
         "type": "float"
        },
        {
         "name": "Weight",
         "rawType": "float64",
         "type": "float"
        },
        {
         "name": "Shucked_weight",
         "rawType": "float64",
         "type": "float"
        },
        {
         "name": "Viscera_weight",
         "rawType": "float64",
         "type": "float"
        },
        {
         "name": "Shell_weight",
         "rawType": "float64",
         "type": "float"
        },
        {
         "name": "Age",
         "rawType": "int64",
         "type": "integer"
        }
       ],
       "ref": "f779875f-b3b3-4a94-918b-bdde07ff3b3e",
       "rows": [
        [
         "0",
         "M",
         "0.35",
         "0.265",
         "0.09",
         "0.2255",
         "0.0995",
         "0.0485",
         "0.07",
         "7"
        ],
        [
         "1",
         "F",
         "0.53",
         "0.42",
         "0.135",
         "0.677",
         "0.2565",
         "0.1415",
         "0.21",
         "9"
        ],
        [
         "2",
         "M",
         "0.44",
         "0.365",
         "0.125",
         "0.516",
         "0.2155",
         "0.114",
         "0.155",
         "10"
        ],
        [
         "3",
         "I",
         "0.33",
         "0.255",
         "0.08",
         "0.205",
         "0.0895",
         "0.0395",
         "0.055",
         "7"
        ],
        [
         "4",
         "I",
         "0.425",
         "0.3",
         "0.095",
         "0.3515",
         "0.141",
         "0.0775",
         "0.12",
         "8"
        ],
        [
         "5",
         "F",
         "0.53",
         "0.415",
         "0.15",
         "0.7775",
         "0.237",
         "0.1415",
         "0.33",
         "20"
        ],
        [
         "6",
         "F",
         "0.545",
         "0.425",
         "0.125",
         "0.768",
         "0.294",
         "0.1495",
         "0.26",
         "16"
        ],
        [
         "7",
         "M",
         "0.475",
         "0.37",
         "0.125",
         "0.5095",
         "0.2165",
         "0.1125",
         "0.165",
         "9"
        ],
        [
         "8",
         "F",
         "0.55",
         "0.44",
         "0.15",
         "0.8945",
         "0.3145",
         "0.151",
         "0.32",
         "19"
        ],
        [
         "9",
         "F",
         "0.525",
         "0.38",
         "0.14",
         "0.6065",
         "0.194",
         "0.1475",
         "0.21",
         "14"
        ],
        [
         "10",
         "M",
         "0.43",
         "0.35",
         "0.11",
         "0.406",
         "0.1675",
         "0.081",
         "0.135",
         "10"
        ],
        [
         "11",
         "M",
         "0.49",
         "0.38",
         "0.135",
         "0.5415",
         "0.2175",
         "0.095",
         "0.19",
         "11"
        ],
        [
         "12",
         "F",
         "0.535",
         "0.405",
         "0.145",
         "0.6845",
         "0.2725",
         "0.171",
         "0.205",
         "10"
        ],
        [
         "13",
         "F",
         "0.47",
         "0.355",
         "0.1",
         "0.4755",
         "0.1675",
         "0.0805",
         "0.185",
         "10"
        ],
        [
         "14",
         "M",
         "0.5",
         "0.4",
         "0.13",
         "0.6645",
         "0.258",
         "0.133",
         "0.24",
         "12"
        ],
        [
         "15",
         "I",
         "0.355",
         "0.28",
         "0.085",
         "0.2905",
         "0.095",
         "0.0395",
         "0.115",
         "7"
        ],
        [
         "16",
         "F",
         "0.44",
         "0.34",
         "0.1",
         "0.451",
         "0.188",
         "0.087",
         "0.13",
         "10"
        ],
        [
         "17",
         "M",
         "0.365",
         "0.295",
         "0.08",
         "0.2555",
         "0.097",
         "0.043",
         "0.1",
         "7"
        ],
        [
         "18",
         "M",
         "0.45",
         "0.32",
         "0.1",
         "0.381",
         "0.1705",
         "0.075",
         "0.115",
         "9"
        ],
        [
         "19",
         "M",
         "0.355",
         "0.28",
         "0.095",
         "0.2455",
         "0.0955",
         "0.062",
         "0.075",
         "11"
        ],
        [
         "20",
         "I",
         "0.38",
         "0.275",
         "0.1",
         "0.2255",
         "0.08",
         "0.049",
         "0.085",
         "10"
        ],
        [
         "21",
         "F",
         "0.565",
         "0.44",
         "0.155",
         "0.9395",
         "0.4275",
         "0.214",
         "0.27",
         "12"
        ],
        [
         "22",
         "F",
         "0.55",
         "0.415",
         "0.135",
         "0.7635",
         "0.318",
         "0.21",
         "0.2",
         "9"
        ],
        [
         "23",
         "F",
         "0.615",
         "0.48",
         "0.165",
         "1.1615",
         "0.513",
         "0.301",
         "0.305",
         "10"
        ],
        [
         "24",
         "F",
         "0.56",
         "0.44",
         "0.14",
         "0.9285",
         "0.3825",
         "0.188",
         "0.3",
         "11"
        ],
        [
         "25",
         "F",
         "0.58",
         "0.45",
         "0.185",
         "0.9955",
         "0.3945",
         "0.272",
         "0.285",
         "11"
        ],
        [
         "26",
         "M",
         "0.59",
         "0.445",
         "0.14",
         "0.931",
         "0.356",
         "0.234",
         "0.28",
         "12"
        ],
        [
         "27",
         "M",
         "0.605",
         "0.475",
         "0.18",
         "0.9365",
         "0.394",
         "0.219",
         "0.295",
         "15"
        ],
        [
         "28",
         "M",
         "0.575",
         "0.425",
         "0.14",
         "0.8635",
         "0.393",
         "0.227",
         "0.2",
         "11"
        ],
        [
         "29",
         "M",
         "0.58",
         "0.47",
         "0.165",
         "0.9975",
         "0.3935",
         "0.242",
         "0.33",
         "10"
        ],
        [
         "30",
         "F",
         "0.68",
         "0.56",
         "0.165",
         "1.639",
         "0.6055",
         "0.2805",
         "0.46",
         "15"
        ],
        [
         "31",
         "M",
         "0.665",
         "0.525",
         "0.165",
         "1.338",
         "0.5515",
         "0.3575",
         "0.35",
         "18"
        ],
        [
         "32",
         "F",
         "0.68",
         "0.55",
         "0.175",
         "1.798",
         "0.815",
         "0.3925",
         "0.455",
         "19"
        ],
        [
         "33",
         "F",
         "0.705",
         "0.55",
         "0.2",
         "1.7095",
         "0.633",
         "0.4115",
         "0.49",
         "13"
        ],
        [
         "34",
         "M",
         "0.465",
         "0.355",
         "0.105",
         "0.4795",
         "0.227",
         "0.124",
         "0.125",
         "8"
        ],
        [
         "35",
         "F",
         "0.54",
         "0.475",
         "0.155",
         "1.217",
         "0.5305",
         "0.3075",
         "0.34",
         "16"
        ],
        [
         "36",
         "F",
         "0.45",
         "0.355",
         "0.105",
         "0.5225",
         "0.237",
         "0.1165",
         "0.145",
         "8"
        ],
        [
         "37",
         "F",
         "0.575",
         "0.445",
         "0.135",
         "0.883",
         "0.381",
         "0.2035",
         "0.26",
         "11"
        ],
        [
         "38",
         "M",
         "0.355",
         "0.29",
         "0.09",
         "0.3275",
         "0.134",
         "0.086",
         "0.09",
         "9"
        ],
        [
         "39",
         "F",
         "0.45",
         "0.335",
         "0.105",
         "0.425",
         "0.1865",
         "0.091",
         "0.115",
         "9"
        ],
        [
         "40",
         "F",
         "0.55",
         "0.425",
         "0.135",
         "0.8515",
         "0.362",
         "0.196",
         "0.27",
         "14"
        ],
        [
         "41",
         "I",
         "0.24",
         "0.175",
         "0.045",
         "0.07",
         "0.0315",
         "0.0235",
         "0.02",
         "5"
        ],
        [
         "42",
         "I",
         "0.205",
         "0.15",
         "0.055",
         "0.042",
         "0.0255",
         "0.015",
         "0.012",
         "5"
        ],
        [
         "43",
         "I",
         "0.21",
         "0.15",
         "0.05",
         "0.042",
         "0.0175",
         "0.0125",
         "0.015",
         "4"
        ],
        [
         "44",
         "I",
         "0.39",
         "0.295",
         "0.095",
         "0.203",
         "0.0875",
         "0.045",
         "0.075",
         "7"
        ],
        [
         "45",
         "M",
         "0.47",
         "0.37",
         "0.12",
         "0.5795",
         "0.293",
         "0.227",
         "0.14",
         "9"
        ],
        [
         "46",
         "F",
         "0.46",
         "0.375",
         "0.12",
         "0.4605",
         "0.1775",
         "0.11",
         "0.15",
         "7"
        ],
        [
         "47",
         "I",
         "0.325",
         "0.245",
         "0.07",
         "0.161",
         "0.0755",
         "0.0255",
         "0.045",
         "6"
        ],
        [
         "48",
         "F",
         "0.525",
         "0.425",
         "0.16",
         "0.8355",
         "0.3545",
         "0.2135",
         "0.245",
         "9"
        ],
        [
         "49",
         "I",
         "0.52",
         "0.41",
         "0.12",
         "0.595",
         "0.2385",
         "0.111",
         "0.19",
         "8"
        ]
       ],
       "shape": {
        "columns": 9,
        "rows": 4176
       }
      },
      "text/html": [
       "<div>\n",
       "<style scoped>\n",
       "    .dataframe tbody tr th:only-of-type {\n",
       "        vertical-align: middle;\n",
       "    }\n",
       "\n",
       "    .dataframe tbody tr th {\n",
       "        vertical-align: top;\n",
       "    }\n",
       "\n",
       "    .dataframe thead th {\n",
       "        text-align: right;\n",
       "    }\n",
       "</style>\n",
       "<table border=\"1\" class=\"dataframe\">\n",
       "  <thead>\n",
       "    <tr style=\"text-align: right;\">\n",
       "      <th></th>\n",
       "      <th>Sex</th>\n",
       "      <th>Length</th>\n",
       "      <th>Diameter</th>\n",
       "      <th>Height</th>\n",
       "      <th>Weight</th>\n",
       "      <th>Shucked_weight</th>\n",
       "      <th>Viscera_weight</th>\n",
       "      <th>Shell_weight</th>\n",
       "      <th>Age</th>\n",
       "    </tr>\n",
       "  </thead>\n",
       "  <tbody>\n",
       "    <tr>\n",
       "      <th>0</th>\n",
       "      <td>M</td>\n",
       "      <td>0.350</td>\n",
       "      <td>0.265</td>\n",
       "      <td>0.090</td>\n",
       "      <td>0.2255</td>\n",
       "      <td>0.0995</td>\n",
       "      <td>0.0485</td>\n",
       "      <td>0.0700</td>\n",
       "      <td>7</td>\n",
       "    </tr>\n",
       "    <tr>\n",
       "      <th>1</th>\n",
       "      <td>F</td>\n",
       "      <td>0.530</td>\n",
       "      <td>0.420</td>\n",
       "      <td>0.135</td>\n",
       "      <td>0.6770</td>\n",
       "      <td>0.2565</td>\n",
       "      <td>0.1415</td>\n",
       "      <td>0.2100</td>\n",
       "      <td>9</td>\n",
       "    </tr>\n",
       "    <tr>\n",
       "      <th>2</th>\n",
       "      <td>M</td>\n",
       "      <td>0.440</td>\n",
       "      <td>0.365</td>\n",
       "      <td>0.125</td>\n",
       "      <td>0.5160</td>\n",
       "      <td>0.2155</td>\n",
       "      <td>0.1140</td>\n",
       "      <td>0.1550</td>\n",
       "      <td>10</td>\n",
       "    </tr>\n",
       "    <tr>\n",
       "      <th>3</th>\n",
       "      <td>I</td>\n",
       "      <td>0.330</td>\n",
       "      <td>0.255</td>\n",
       "      <td>0.080</td>\n",
       "      <td>0.2050</td>\n",
       "      <td>0.0895</td>\n",
       "      <td>0.0395</td>\n",
       "      <td>0.0550</td>\n",
       "      <td>7</td>\n",
       "    </tr>\n",
       "    <tr>\n",
       "      <th>4</th>\n",
       "      <td>I</td>\n",
       "      <td>0.425</td>\n",
       "      <td>0.300</td>\n",
       "      <td>0.095</td>\n",
       "      <td>0.3515</td>\n",
       "      <td>0.1410</td>\n",
       "      <td>0.0775</td>\n",
       "      <td>0.1200</td>\n",
       "      <td>8</td>\n",
       "    </tr>\n",
       "    <tr>\n",
       "      <th>...</th>\n",
       "      <td>...</td>\n",
       "      <td>...</td>\n",
       "      <td>...</td>\n",
       "      <td>...</td>\n",
       "      <td>...</td>\n",
       "      <td>...</td>\n",
       "      <td>...</td>\n",
       "      <td>...</td>\n",
       "      <td>...</td>\n",
       "    </tr>\n",
       "    <tr>\n",
       "      <th>4171</th>\n",
       "      <td>F</td>\n",
       "      <td>0.565</td>\n",
       "      <td>0.450</td>\n",
       "      <td>0.165</td>\n",
       "      <td>0.8870</td>\n",
       "      <td>0.3700</td>\n",
       "      <td>0.2390</td>\n",
       "      <td>0.2490</td>\n",
       "      <td>11</td>\n",
       "    </tr>\n",
       "    <tr>\n",
       "      <th>4172</th>\n",
       "      <td>M</td>\n",
       "      <td>0.590</td>\n",
       "      <td>0.440</td>\n",
       "      <td>0.135</td>\n",
       "      <td>0.9660</td>\n",
       "      <td>0.4390</td>\n",
       "      <td>0.2145</td>\n",
       "      <td>0.2605</td>\n",
       "      <td>10</td>\n",
       "    </tr>\n",
       "    <tr>\n",
       "      <th>4173</th>\n",
       "      <td>M</td>\n",
       "      <td>0.600</td>\n",
       "      <td>0.475</td>\n",
       "      <td>0.205</td>\n",
       "      <td>1.1760</td>\n",
       "      <td>0.5255</td>\n",
       "      <td>0.2875</td>\n",
       "      <td>0.3080</td>\n",
       "      <td>9</td>\n",
       "    </tr>\n",
       "    <tr>\n",
       "      <th>4174</th>\n",
       "      <td>F</td>\n",
       "      <td>0.625</td>\n",
       "      <td>0.485</td>\n",
       "      <td>0.150</td>\n",
       "      <td>1.0945</td>\n",
       "      <td>0.5310</td>\n",
       "      <td>0.2610</td>\n",
       "      <td>0.2960</td>\n",
       "      <td>10</td>\n",
       "    </tr>\n",
       "    <tr>\n",
       "      <th>4175</th>\n",
       "      <td>M</td>\n",
       "      <td>0.710</td>\n",
       "      <td>0.555</td>\n",
       "      <td>0.195</td>\n",
       "      <td>1.9485</td>\n",
       "      <td>0.9455</td>\n",
       "      <td>0.3765</td>\n",
       "      <td>0.4950</td>\n",
       "      <td>12</td>\n",
       "    </tr>\n",
       "  </tbody>\n",
       "</table>\n",
       "<p>4176 rows × 9 columns</p>\n",
       "</div>"
      ],
      "text/plain": [
       "     Sex  Length  Diameter  ...  Viscera_weight  Shell_weight  Age\n",
       "0      M   0.350     0.265  ...          0.0485        0.0700    7\n",
       "1      F   0.530     0.420  ...          0.1415        0.2100    9\n",
       "2      M   0.440     0.365  ...          0.1140        0.1550   10\n",
       "3      I   0.330     0.255  ...          0.0395        0.0550    7\n",
       "4      I   0.425     0.300  ...          0.0775        0.1200    8\n",
       "...   ..     ...       ...  ...             ...           ...  ...\n",
       "4171   F   0.565     0.450  ...          0.2390        0.2490   11\n",
       "4172   M   0.590     0.440  ...          0.2145        0.2605   10\n",
       "4173   M   0.600     0.475  ...          0.2875        0.3080    9\n",
       "4174   F   0.625     0.485  ...          0.2610        0.2960   10\n",
       "4175   M   0.710     0.555  ...          0.3765        0.4950   12\n",
       "\n",
       "[4176 rows x 9 columns]"
      ]
     },
     "execution_count": 17,
     "metadata": {},
     "output_type": "execute_result"
    }
   ],
   "source": [
    "df_clean"
   ]
  },
  {
   "cell_type": "code",
   "execution_count": 29,
   "id": "7b43156d",
   "metadata": {},
   "outputs": [
    {
     "data": {
      "application/vnd.microsoft.datawrangler.viewer.v0+json": {
       "columns": [
        {
         "name": "index",
         "rawType": "object",
         "type": "string"
        },
        {
         "name": "0",
         "rawType": "float64",
         "type": "float"
        }
       ],
       "ref": "751be5a5-ffd4-48ef-acdb-86f929861706",
       "rows": [
        [
         "Age",
         "1.1151569098189447"
        ]
       ],
       "shape": {
        "columns": 1,
        "rows": 1
       }
      },
      "text/plain": [
       "Age    1.115157\n",
       "dtype: float64"
      ]
     },
     "execution_count": 29,
     "metadata": {},
     "output_type": "execute_result"
    }
   ],
   "source": [
    "y.skew()"
   ]
  },
  {
   "cell_type": "code",
   "execution_count": 52,
   "id": "2c2c423c",
   "metadata": {},
   "outputs": [],
   "source": [
    "y_log=np.log1p(y)"
   ]
  },
  {
   "cell_type": "code",
   "execution_count": 53,
   "id": "e88b0af6",
   "metadata": {},
   "outputs": [
    {
     "data": {
      "application/vnd.microsoft.datawrangler.viewer.v0+json": {
       "columns": [
        {
         "name": "index",
         "rawType": "object",
         "type": "string"
        },
        {
         "name": "0",
         "rawType": "float64",
         "type": "float"
        }
       ],
       "ref": "ffabf120-b7b4-4284-9152-cfefdc84bb15",
       "rows": [
        [
         "Age",
         "1.1151569098189447"
        ]
       ],
       "shape": {
        "columns": 1,
        "rows": 1
       }
      },
      "text/plain": [
       "Age    1.115157\n",
       "dtype: float64"
      ]
     },
     "execution_count": 53,
     "metadata": {},
     "output_type": "execute_result"
    }
   ],
   "source": [
    "y.skew()"
   ]
  },
  {
   "cell_type": "code",
   "execution_count": 54,
   "id": "266274ce",
   "metadata": {},
   "outputs": [
    {
     "data": {
      "application/vnd.microsoft.datawrangler.viewer.v0+json": {
       "columns": [
        {
         "name": "index",
         "rawType": "object",
         "type": "string"
        },
        {
         "name": "0",
         "rawType": "float64",
         "type": "float"
        }
       ],
       "ref": "274403b4-0e8e-4ce5-9246-e651eecc9005",
       "rows": [
        [
         "Age",
         "-0.06106510678632301"
        ]
       ],
       "shape": {
        "columns": 1,
        "rows": 1
       }
      },
      "text/plain": [
       "Age   -0.061065\n",
       "dtype: float64"
      ]
     },
     "execution_count": 54,
     "metadata": {},
     "output_type": "execute_result"
    }
   ],
   "source": [
    "y_log.skew()"
   ]
  },
  {
   "cell_type": "code",
   "execution_count": 55,
   "id": "0d6aa0ee",
   "metadata": {},
   "outputs": [
    {
     "data": {
      "application/vnd.microsoft.datawrangler.viewer.v0+json": {
       "columns": [
        {
         "name": "index",
         "rawType": "int64",
         "type": "integer"
        },
        {
         "name": "Age",
         "rawType": "float64",
         "type": "float"
        }
       ],
       "ref": "c492c44b-87a6-4ad1-9888-3f73311f874f",
       "rows": [
        [
         "0",
         "6.999999999999998"
        ],
        [
         "1",
         "9.000000000000002"
        ],
        [
         "2",
         "10.000000000000002"
        ],
        [
         "3",
         "6.999999999999998"
        ],
        [
         "4",
         "8.000000000000002"
        ],
        [
         "5",
         "20.0"
        ],
        [
         "6",
         "16.0"
        ],
        [
         "7",
         "9.000000000000002"
        ],
        [
         "8",
         "18.999999999999996"
        ],
        [
         "9",
         "14.0"
        ],
        [
         "10",
         "10.000000000000002"
        ],
        [
         "11",
         "11.0"
        ],
        [
         "12",
         "10.000000000000002"
        ],
        [
         "13",
         "10.000000000000002"
        ],
        [
         "14",
         "12.0"
        ],
        [
         "15",
         "6.999999999999998"
        ],
        [
         "16",
         "10.000000000000002"
        ],
        [
         "17",
         "6.999999999999998"
        ],
        [
         "18",
         "9.000000000000002"
        ],
        [
         "19",
         "11.0"
        ],
        [
         "20",
         "10.000000000000002"
        ],
        [
         "21",
         "12.0"
        ],
        [
         "22",
         "9.000000000000002"
        ],
        [
         "23",
         "10.000000000000002"
        ],
        [
         "24",
         "11.0"
        ],
        [
         "25",
         "11.0"
        ],
        [
         "26",
         "12.0"
        ],
        [
         "27",
         "14.999999999999998"
        ],
        [
         "28",
         "11.0"
        ],
        [
         "29",
         "10.000000000000002"
        ],
        [
         "30",
         "14.999999999999998"
        ],
        [
         "31",
         "17.999999999999996"
        ],
        [
         "32",
         "18.999999999999996"
        ],
        [
         "33",
         "12.999999999999996"
        ],
        [
         "34",
         "8.000000000000002"
        ],
        [
         "35",
         "16.0"
        ],
        [
         "36",
         "8.000000000000002"
        ],
        [
         "37",
         "11.0"
        ],
        [
         "38",
         "9.000000000000002"
        ],
        [
         "39",
         "9.000000000000002"
        ],
        [
         "40",
         "14.0"
        ],
        [
         "41",
         "5.0"
        ],
        [
         "42",
         "5.0"
        ],
        [
         "43",
         "3.999999999999999"
        ],
        [
         "44",
         "6.999999999999998"
        ],
        [
         "45",
         "9.000000000000002"
        ],
        [
         "46",
         "6.999999999999998"
        ],
        [
         "47",
         "5.999999999999999"
        ],
        [
         "48",
         "9.000000000000002"
        ],
        [
         "49",
         "8.000000000000002"
        ]
       ],
       "shape": {
        "columns": 1,
        "rows": 4176
       }
      },
      "text/html": [
       "<div>\n",
       "<style scoped>\n",
       "    .dataframe tbody tr th:only-of-type {\n",
       "        vertical-align: middle;\n",
       "    }\n",
       "\n",
       "    .dataframe tbody tr th {\n",
       "        vertical-align: top;\n",
       "    }\n",
       "\n",
       "    .dataframe thead th {\n",
       "        text-align: right;\n",
       "    }\n",
       "</style>\n",
       "<table border=\"1\" class=\"dataframe\">\n",
       "  <thead>\n",
       "    <tr style=\"text-align: right;\">\n",
       "      <th></th>\n",
       "      <th>Age</th>\n",
       "    </tr>\n",
       "  </thead>\n",
       "  <tbody>\n",
       "    <tr>\n",
       "      <th>0</th>\n",
       "      <td>7.0</td>\n",
       "    </tr>\n",
       "    <tr>\n",
       "      <th>1</th>\n",
       "      <td>9.0</td>\n",
       "    </tr>\n",
       "    <tr>\n",
       "      <th>2</th>\n",
       "      <td>10.0</td>\n",
       "    </tr>\n",
       "    <tr>\n",
       "      <th>3</th>\n",
       "      <td>7.0</td>\n",
       "    </tr>\n",
       "    <tr>\n",
       "      <th>4</th>\n",
       "      <td>8.0</td>\n",
       "    </tr>\n",
       "    <tr>\n",
       "      <th>...</th>\n",
       "      <td>...</td>\n",
       "    </tr>\n",
       "    <tr>\n",
       "      <th>4171</th>\n",
       "      <td>11.0</td>\n",
       "    </tr>\n",
       "    <tr>\n",
       "      <th>4172</th>\n",
       "      <td>10.0</td>\n",
       "    </tr>\n",
       "    <tr>\n",
       "      <th>4173</th>\n",
       "      <td>9.0</td>\n",
       "    </tr>\n",
       "    <tr>\n",
       "      <th>4174</th>\n",
       "      <td>10.0</td>\n",
       "    </tr>\n",
       "    <tr>\n",
       "      <th>4175</th>\n",
       "      <td>12.0</td>\n",
       "    </tr>\n",
       "  </tbody>\n",
       "</table>\n",
       "<p>4176 rows × 1 columns</p>\n",
       "</div>"
      ],
      "text/plain": [
       "       Age\n",
       "0      7.0\n",
       "1      9.0\n",
       "2     10.0\n",
       "3      7.0\n",
       "4      8.0\n",
       "...    ...\n",
       "4171  11.0\n",
       "4172  10.0\n",
       "4173   9.0\n",
       "4174  10.0\n",
       "4175  12.0\n",
       "\n",
       "[4176 rows x 1 columns]"
      ]
     },
     "execution_count": 55,
     "metadata": {},
     "output_type": "execute_result"
    }
   ],
   "source": [
    "y"
   ]
  },
  {
   "cell_type": "code",
   "execution_count": 47,
   "id": "91390731",
   "metadata": {},
   "outputs": [
    {
     "data": {
      "application/vnd.microsoft.datawrangler.viewer.v0+json": {
       "columns": [
        {
         "name": "index",
         "rawType": "int64",
         "type": "integer"
        },
        {
         "name": "Length",
         "rawType": "float64",
         "type": "float"
        },
        {
         "name": "Diameter",
         "rawType": "float64",
         "type": "float"
        },
        {
         "name": "Height",
         "rawType": "float64",
         "type": "float"
        },
        {
         "name": "Weight",
         "rawType": "float64",
         "type": "float"
        },
        {
         "name": "Shucked_weight",
         "rawType": "float64",
         "type": "float"
        },
        {
         "name": "Viscera_weight",
         "rawType": "float64",
         "type": "float"
        },
        {
         "name": "Shell_weight",
         "rawType": "float64",
         "type": "float"
        },
        {
         "name": "Sex_I",
         "rawType": "float64",
         "type": "float"
        },
        {
         "name": "Sex_M",
         "rawType": "float64",
         "type": "float"
        }
       ],
       "ref": "1b7061ac-a34a-40ab-9a7f-5843a65fd3b4",
       "rows": [
        [
         "0",
         "0.35",
         "0.265",
         "0.09",
         "0.2255",
         "0.0995",
         "0.0485",
         "0.07",
         "0.0",
         "1.0"
        ],
        [
         "1",
         "0.53",
         "0.42",
         "0.135",
         "0.677",
         "0.2565",
         "0.1415",
         "0.21",
         "0.0",
         "0.0"
        ],
        [
         "2",
         "0.44",
         "0.365",
         "0.125",
         "0.516",
         "0.2155",
         "0.114",
         "0.155",
         "0.0",
         "1.0"
        ],
        [
         "3",
         "0.33",
         "0.255",
         "0.08",
         "0.205",
         "0.0895",
         "0.0395",
         "0.055",
         "1.0",
         "0.0"
        ],
        [
         "4",
         "0.425",
         "0.3",
         "0.095",
         "0.3515",
         "0.141",
         "0.0775",
         "0.12",
         "1.0",
         "0.0"
        ],
        [
         "5",
         "0.53",
         "0.415",
         "0.15",
         "0.7775",
         "0.237",
         "0.1415",
         "0.33",
         "0.0",
         "0.0"
        ],
        [
         "6",
         "0.545",
         "0.425",
         "0.125",
         "0.768",
         "0.294",
         "0.1495",
         "0.26",
         "0.0",
         "0.0"
        ],
        [
         "7",
         "0.475",
         "0.37",
         "0.125",
         "0.5095",
         "0.2165",
         "0.1125",
         "0.165",
         "0.0",
         "1.0"
        ],
        [
         "8",
         "0.55",
         "0.44",
         "0.15",
         "0.8945",
         "0.3145",
         "0.151",
         "0.32",
         "0.0",
         "0.0"
        ],
        [
         "9",
         "0.525",
         "0.38",
         "0.14",
         "0.6065",
         "0.194",
         "0.1475",
         "0.21",
         "0.0",
         "0.0"
        ],
        [
         "10",
         "0.43",
         "0.35",
         "0.11",
         "0.406",
         "0.1675",
         "0.081",
         "0.135",
         "0.0",
         "1.0"
        ],
        [
         "11",
         "0.49",
         "0.38",
         "0.135",
         "0.5415",
         "0.2175",
         "0.095",
         "0.19",
         "0.0",
         "1.0"
        ],
        [
         "12",
         "0.535",
         "0.405",
         "0.145",
         "0.6845",
         "0.2725",
         "0.171",
         "0.205",
         "0.0",
         "0.0"
        ],
        [
         "13",
         "0.47",
         "0.355",
         "0.1",
         "0.4755",
         "0.1675",
         "0.0805",
         "0.185",
         "0.0",
         "0.0"
        ],
        [
         "14",
         "0.5",
         "0.4",
         "0.13",
         "0.6645",
         "0.258",
         "0.133",
         "0.24",
         "0.0",
         "1.0"
        ],
        [
         "15",
         "0.355",
         "0.28",
         "0.085",
         "0.2905",
         "0.095",
         "0.0395",
         "0.115",
         "1.0",
         "0.0"
        ],
        [
         "16",
         "0.44",
         "0.34",
         "0.1",
         "0.451",
         "0.188",
         "0.087",
         "0.13",
         "0.0",
         "0.0"
        ],
        [
         "17",
         "0.365",
         "0.295",
         "0.08",
         "0.2555",
         "0.097",
         "0.043",
         "0.1",
         "0.0",
         "1.0"
        ],
        [
         "18",
         "0.45",
         "0.32",
         "0.1",
         "0.381",
         "0.1705",
         "0.075",
         "0.115",
         "0.0",
         "1.0"
        ],
        [
         "19",
         "0.355",
         "0.28",
         "0.095",
         "0.2455",
         "0.0955",
         "0.062",
         "0.075",
         "0.0",
         "1.0"
        ],
        [
         "20",
         "0.38",
         "0.275",
         "0.1",
         "0.2255",
         "0.08",
         "0.049",
         "0.085",
         "1.0",
         "0.0"
        ],
        [
         "21",
         "0.565",
         "0.44",
         "0.155",
         "0.9395",
         "0.4275",
         "0.214",
         "0.27",
         "0.0",
         "0.0"
        ],
        [
         "22",
         "0.55",
         "0.415",
         "0.135",
         "0.7635",
         "0.318",
         "0.21",
         "0.2",
         "0.0",
         "0.0"
        ],
        [
         "23",
         "0.615",
         "0.48",
         "0.165",
         "1.1615",
         "0.513",
         "0.301",
         "0.305",
         "0.0",
         "0.0"
        ],
        [
         "24",
         "0.56",
         "0.44",
         "0.14",
         "0.9285",
         "0.3825",
         "0.188",
         "0.3",
         "0.0",
         "0.0"
        ],
        [
         "25",
         "0.58",
         "0.45",
         "0.185",
         "0.9955",
         "0.3945",
         "0.272",
         "0.285",
         "0.0",
         "0.0"
        ],
        [
         "26",
         "0.59",
         "0.445",
         "0.14",
         "0.931",
         "0.356",
         "0.234",
         "0.28",
         "0.0",
         "1.0"
        ],
        [
         "27",
         "0.605",
         "0.475",
         "0.18",
         "0.9365",
         "0.394",
         "0.219",
         "0.295",
         "0.0",
         "1.0"
        ],
        [
         "28",
         "0.575",
         "0.425",
         "0.14",
         "0.8635",
         "0.393",
         "0.227",
         "0.2",
         "0.0",
         "1.0"
        ],
        [
         "29",
         "0.58",
         "0.47",
         "0.165",
         "0.9975",
         "0.3935",
         "0.242",
         "0.33",
         "0.0",
         "1.0"
        ],
        [
         "30",
         "0.68",
         "0.56",
         "0.165",
         "1.639",
         "0.6055",
         "0.2805",
         "0.46",
         "0.0",
         "0.0"
        ],
        [
         "31",
         "0.665",
         "0.525",
         "0.165",
         "1.338",
         "0.5515",
         "0.3575",
         "0.35",
         "0.0",
         "1.0"
        ],
        [
         "32",
         "0.68",
         "0.55",
         "0.175",
         "1.798",
         "0.815",
         "0.3925",
         "0.455",
         "0.0",
         "0.0"
        ],
        [
         "33",
         "0.705",
         "0.55",
         "0.2",
         "1.7095",
         "0.633",
         "0.4115",
         "0.49",
         "0.0",
         "0.0"
        ],
        [
         "34",
         "0.465",
         "0.355",
         "0.105",
         "0.4795",
         "0.227",
         "0.124",
         "0.125",
         "0.0",
         "1.0"
        ],
        [
         "35",
         "0.54",
         "0.475",
         "0.155",
         "1.217",
         "0.5305",
         "0.3075",
         "0.34",
         "0.0",
         "0.0"
        ],
        [
         "36",
         "0.45",
         "0.355",
         "0.105",
         "0.5225",
         "0.237",
         "0.1165",
         "0.145",
         "0.0",
         "0.0"
        ],
        [
         "37",
         "0.575",
         "0.445",
         "0.135",
         "0.883",
         "0.381",
         "0.2035",
         "0.26",
         "0.0",
         "0.0"
        ],
        [
         "38",
         "0.355",
         "0.29",
         "0.09",
         "0.3275",
         "0.134",
         "0.086",
         "0.09",
         "0.0",
         "1.0"
        ],
        [
         "39",
         "0.45",
         "0.335",
         "0.105",
         "0.425",
         "0.1865",
         "0.091",
         "0.115",
         "0.0",
         "0.0"
        ],
        [
         "40",
         "0.55",
         "0.425",
         "0.135",
         "0.8515",
         "0.362",
         "0.196",
         "0.27",
         "0.0",
         "0.0"
        ],
        [
         "41",
         "0.24",
         "0.175",
         "0.045",
         "0.07",
         "0.0315",
         "0.0235",
         "0.02",
         "1.0",
         "0.0"
        ],
        [
         "42",
         "0.205",
         "0.15",
         "0.055",
         "0.042",
         "0.0255",
         "0.015",
         "0.012",
         "1.0",
         "0.0"
        ],
        [
         "43",
         "0.21",
         "0.15",
         "0.05",
         "0.042",
         "0.0175",
         "0.0125",
         "0.015",
         "1.0",
         "0.0"
        ],
        [
         "44",
         "0.39",
         "0.295",
         "0.095",
         "0.203",
         "0.0875",
         "0.045",
         "0.075",
         "1.0",
         "0.0"
        ],
        [
         "45",
         "0.47",
         "0.37",
         "0.12",
         "0.5795",
         "0.293",
         "0.227",
         "0.14",
         "0.0",
         "1.0"
        ],
        [
         "46",
         "0.46",
         "0.375",
         "0.12",
         "0.4605",
         "0.1775",
         "0.11",
         "0.15",
         "0.0",
         "0.0"
        ],
        [
         "47",
         "0.325",
         "0.245",
         "0.07",
         "0.161",
         "0.0755",
         "0.0255",
         "0.045",
         "1.0",
         "0.0"
        ],
        [
         "48",
         "0.525",
         "0.425",
         "0.16",
         "0.8355",
         "0.3545",
         "0.2135",
         "0.245",
         "0.0",
         "0.0"
        ],
        [
         "49",
         "0.52",
         "0.41",
         "0.12",
         "0.595",
         "0.2385",
         "0.111",
         "0.19",
         "1.0",
         "0.0"
        ]
       ],
       "shape": {
        "columns": 9,
        "rows": 4176
       }
      },
      "text/html": [
       "<div>\n",
       "<style scoped>\n",
       "    .dataframe tbody tr th:only-of-type {\n",
       "        vertical-align: middle;\n",
       "    }\n",
       "\n",
       "    .dataframe tbody tr th {\n",
       "        vertical-align: top;\n",
       "    }\n",
       "\n",
       "    .dataframe thead th {\n",
       "        text-align: right;\n",
       "    }\n",
       "</style>\n",
       "<table border=\"1\" class=\"dataframe\">\n",
       "  <thead>\n",
       "    <tr style=\"text-align: right;\">\n",
       "      <th></th>\n",
       "      <th>Length</th>\n",
       "      <th>Diameter</th>\n",
       "      <th>Height</th>\n",
       "      <th>Weight</th>\n",
       "      <th>Shucked_weight</th>\n",
       "      <th>Viscera_weight</th>\n",
       "      <th>Shell_weight</th>\n",
       "      <th>Sex_I</th>\n",
       "      <th>Sex_M</th>\n",
       "    </tr>\n",
       "  </thead>\n",
       "  <tbody>\n",
       "    <tr>\n",
       "      <th>0</th>\n",
       "      <td>0.350</td>\n",
       "      <td>0.265</td>\n",
       "      <td>0.090</td>\n",
       "      <td>0.2255</td>\n",
       "      <td>0.0995</td>\n",
       "      <td>0.0485</td>\n",
       "      <td>0.0700</td>\n",
       "      <td>0.0</td>\n",
       "      <td>1.0</td>\n",
       "    </tr>\n",
       "    <tr>\n",
       "      <th>1</th>\n",
       "      <td>0.530</td>\n",
       "      <td>0.420</td>\n",
       "      <td>0.135</td>\n",
       "      <td>0.6770</td>\n",
       "      <td>0.2565</td>\n",
       "      <td>0.1415</td>\n",
       "      <td>0.2100</td>\n",
       "      <td>0.0</td>\n",
       "      <td>0.0</td>\n",
       "    </tr>\n",
       "    <tr>\n",
       "      <th>2</th>\n",
       "      <td>0.440</td>\n",
       "      <td>0.365</td>\n",
       "      <td>0.125</td>\n",
       "      <td>0.5160</td>\n",
       "      <td>0.2155</td>\n",
       "      <td>0.1140</td>\n",
       "      <td>0.1550</td>\n",
       "      <td>0.0</td>\n",
       "      <td>1.0</td>\n",
       "    </tr>\n",
       "    <tr>\n",
       "      <th>3</th>\n",
       "      <td>0.330</td>\n",
       "      <td>0.255</td>\n",
       "      <td>0.080</td>\n",
       "      <td>0.2050</td>\n",
       "      <td>0.0895</td>\n",
       "      <td>0.0395</td>\n",
       "      <td>0.0550</td>\n",
       "      <td>1.0</td>\n",
       "      <td>0.0</td>\n",
       "    </tr>\n",
       "    <tr>\n",
       "      <th>4</th>\n",
       "      <td>0.425</td>\n",
       "      <td>0.300</td>\n",
       "      <td>0.095</td>\n",
       "      <td>0.3515</td>\n",
       "      <td>0.1410</td>\n",
       "      <td>0.0775</td>\n",
       "      <td>0.1200</td>\n",
       "      <td>1.0</td>\n",
       "      <td>0.0</td>\n",
       "    </tr>\n",
       "    <tr>\n",
       "      <th>...</th>\n",
       "      <td>...</td>\n",
       "      <td>...</td>\n",
       "      <td>...</td>\n",
       "      <td>...</td>\n",
       "      <td>...</td>\n",
       "      <td>...</td>\n",
       "      <td>...</td>\n",
       "      <td>...</td>\n",
       "      <td>...</td>\n",
       "    </tr>\n",
       "    <tr>\n",
       "      <th>4171</th>\n",
       "      <td>0.565</td>\n",
       "      <td>0.450</td>\n",
       "      <td>0.165</td>\n",
       "      <td>0.8870</td>\n",
       "      <td>0.3700</td>\n",
       "      <td>0.2390</td>\n",
       "      <td>0.2490</td>\n",
       "      <td>0.0</td>\n",
       "      <td>0.0</td>\n",
       "    </tr>\n",
       "    <tr>\n",
       "      <th>4172</th>\n",
       "      <td>0.590</td>\n",
       "      <td>0.440</td>\n",
       "      <td>0.135</td>\n",
       "      <td>0.9660</td>\n",
       "      <td>0.4390</td>\n",
       "      <td>0.2145</td>\n",
       "      <td>0.2605</td>\n",
       "      <td>0.0</td>\n",
       "      <td>1.0</td>\n",
       "    </tr>\n",
       "    <tr>\n",
       "      <th>4173</th>\n",
       "      <td>0.600</td>\n",
       "      <td>0.475</td>\n",
       "      <td>0.205</td>\n",
       "      <td>1.1760</td>\n",
       "      <td>0.5255</td>\n",
       "      <td>0.2875</td>\n",
       "      <td>0.3080</td>\n",
       "      <td>0.0</td>\n",
       "      <td>1.0</td>\n",
       "    </tr>\n",
       "    <tr>\n",
       "      <th>4174</th>\n",
       "      <td>0.625</td>\n",
       "      <td>0.485</td>\n",
       "      <td>0.150</td>\n",
       "      <td>1.0945</td>\n",
       "      <td>0.5310</td>\n",
       "      <td>0.2610</td>\n",
       "      <td>0.2960</td>\n",
       "      <td>0.0</td>\n",
       "      <td>0.0</td>\n",
       "    </tr>\n",
       "    <tr>\n",
       "      <th>4175</th>\n",
       "      <td>0.710</td>\n",
       "      <td>0.555</td>\n",
       "      <td>0.195</td>\n",
       "      <td>1.9485</td>\n",
       "      <td>0.9455</td>\n",
       "      <td>0.3765</td>\n",
       "      <td>0.4950</td>\n",
       "      <td>0.0</td>\n",
       "      <td>1.0</td>\n",
       "    </tr>\n",
       "  </tbody>\n",
       "</table>\n",
       "<p>4176 rows × 9 columns</p>\n",
       "</div>"
      ],
      "text/plain": [
       "      Length  Diameter  Height  Weight  Shucked_weight  Viscera_weight  \\\n",
       "0      0.350     0.265   0.090  0.2255          0.0995          0.0485   \n",
       "1      0.530     0.420   0.135  0.6770          0.2565          0.1415   \n",
       "2      0.440     0.365   0.125  0.5160          0.2155          0.1140   \n",
       "3      0.330     0.255   0.080  0.2050          0.0895          0.0395   \n",
       "4      0.425     0.300   0.095  0.3515          0.1410          0.0775   \n",
       "...      ...       ...     ...     ...             ...             ...   \n",
       "4171   0.565     0.450   0.165  0.8870          0.3700          0.2390   \n",
       "4172   0.590     0.440   0.135  0.9660          0.4390          0.2145   \n",
       "4173   0.600     0.475   0.205  1.1760          0.5255          0.2875   \n",
       "4174   0.625     0.485   0.150  1.0945          0.5310          0.2610   \n",
       "4175   0.710     0.555   0.195  1.9485          0.9455          0.3765   \n",
       "\n",
       "      Shell_weight  Sex_I  Sex_M  \n",
       "0           0.0700    0.0    1.0  \n",
       "1           0.2100    0.0    0.0  \n",
       "2           0.1550    0.0    1.0  \n",
       "3           0.0550    1.0    0.0  \n",
       "4           0.1200    1.0    0.0  \n",
       "...            ...    ...    ...  \n",
       "4171        0.2490    0.0    0.0  \n",
       "4172        0.2605    0.0    1.0  \n",
       "4173        0.3080    0.0    1.0  \n",
       "4174        0.2960    0.0    0.0  \n",
       "4175        0.4950    0.0    1.0  \n",
       "\n",
       "[4176 rows x 9 columns]"
      ]
     },
     "execution_count": 47,
     "metadata": {},
     "output_type": "execute_result"
    }
   ],
   "source": [
    "X"
   ]
  },
  {
   "cell_type": "code",
   "execution_count": 60,
   "id": "5c88bc5d",
   "metadata": {},
   "outputs": [],
   "source": [
    "X_train,X_test,y_train,y_test=train_test_split(X,y,random_state=42,test_size=0.2)"
   ]
  },
  {
   "cell_type": "code",
   "execution_count": 62,
   "id": "8f429bfd",
   "metadata": {},
   "outputs": [],
   "source": [
    "X_train_log,X_test_log,y_train_log,y_test_log=train_test_split(X,y,random_state=42,test_size=0.2)"
   ]
  },
  {
   "cell_type": "code",
   "execution_count": 58,
   "id": "387d81e7",
   "metadata": {},
   "outputs": [
    {
     "data": {
      "application/vnd.microsoft.datawrangler.viewer.v0+json": {
       "columns": [
        {
         "name": "index",
         "rawType": "int64",
         "type": "integer"
        },
        {
         "name": "Age",
         "rawType": "float64",
         "type": "float"
        }
       ],
       "ref": "6235c56a-ec95-4eef-805d-d852f39c6b7d",
       "rows": [
        [
         "4037",
         "2.4849066497880004"
        ],
        [
         "1272",
         "2.1972245773362196"
        ],
        [
         "3384",
         "2.6390573296152584"
        ],
        [
         "3160",
         "1.9459101490553132"
        ],
        [
         "3894",
         "2.6390573296152584"
        ],
        [
         "1288",
         "2.1972245773362196"
        ],
        [
         "3863",
         "1.791759469228055"
        ],
        [
         "554",
         "2.3978952727983707"
        ],
        [
         "1871",
         "2.302585092994046"
        ],
        [
         "1074",
         "1.9459101490553132"
        ],
        [
         "2525",
         "2.302585092994046"
        ],
        [
         "4112",
         "2.1972245773362196"
        ],
        [
         "1618",
         "2.3978952727983707"
        ],
        [
         "3410",
         "2.0794415416798357"
        ],
        [
         "3532",
         "1.9459101490553132"
        ],
        [
         "3391",
         "2.995732273553991"
        ],
        [
         "3577",
         "2.3978952727983707"
        ],
        [
         "1756",
         "2.4849066497880004"
        ],
        [
         "1777",
         "2.1972245773362196"
        ],
        [
         "2256",
         "2.6390573296152584"
        ],
        [
         "3016",
         "2.1972245773362196"
        ],
        [
         "1805",
         "2.4849066497880004"
        ],
        [
         "752",
         "2.6390573296152584"
        ],
        [
         "2339",
         "2.4849066497880004"
        ],
        [
         "3181",
         "2.3978952727983707"
        ],
        [
         "1882",
         "2.1972245773362196"
        ],
        [
         "1391",
         "2.3978952727983707"
        ],
        [
         "3365",
         "1.791759469228055"
        ],
        [
         "4106",
         "2.0794415416798357"
        ],
        [
         "4041",
         "2.3978952727983707"
        ],
        [
         "2952",
         "2.4849066497880004"
        ],
        [
         "3673",
         "2.5649493574615367"
        ],
        [
         "729",
         "2.4849066497880004"
        ],
        [
         "2994",
         "2.302585092994046"
        ],
        [
         "2768",
         "2.4849066497880004"
        ],
        [
         "2828",
         "2.0794415416798357"
        ],
        [
         "721",
         "2.772588722239781"
        ],
        [
         "2037",
         "1.791759469228055"
        ],
        [
         "3366",
         "2.8903717578961645"
        ],
        [
         "1740",
         "2.3978952727983707"
        ],
        [
         "2171",
         "1.791759469228055"
        ],
        [
         "2222",
         "2.70805020110221"
        ],
        [
         "3231",
         "2.6390573296152584"
        ],
        [
         "1754",
         "2.0794415416798357"
        ],
        [
         "346",
         "1.9459101490553132"
        ],
        [
         "3221",
         "2.9444389791664403"
        ],
        [
         "3489",
         "2.3978952727983707"
        ],
        [
         "1228",
         "1.9459101490553132"
        ],
        [
         "3706",
         "2.4849066497880004"
        ],
        [
         "578",
         "2.8903717578961645"
        ]
       ],
       "shape": {
        "columns": 1,
        "rows": 3340
       }
      },
      "text/html": [
       "<div>\n",
       "<style scoped>\n",
       "    .dataframe tbody tr th:only-of-type {\n",
       "        vertical-align: middle;\n",
       "    }\n",
       "\n",
       "    .dataframe tbody tr th {\n",
       "        vertical-align: top;\n",
       "    }\n",
       "\n",
       "    .dataframe thead th {\n",
       "        text-align: right;\n",
       "    }\n",
       "</style>\n",
       "<table border=\"1\" class=\"dataframe\">\n",
       "  <thead>\n",
       "    <tr style=\"text-align: right;\">\n",
       "      <th></th>\n",
       "      <th>Age</th>\n",
       "    </tr>\n",
       "  </thead>\n",
       "  <tbody>\n",
       "    <tr>\n",
       "      <th>4037</th>\n",
       "      <td>2.484907</td>\n",
       "    </tr>\n",
       "    <tr>\n",
       "      <th>1272</th>\n",
       "      <td>2.197225</td>\n",
       "    </tr>\n",
       "    <tr>\n",
       "      <th>3384</th>\n",
       "      <td>2.639057</td>\n",
       "    </tr>\n",
       "    <tr>\n",
       "      <th>3160</th>\n",
       "      <td>1.945910</td>\n",
       "    </tr>\n",
       "    <tr>\n",
       "      <th>3894</th>\n",
       "      <td>2.639057</td>\n",
       "    </tr>\n",
       "    <tr>\n",
       "      <th>...</th>\n",
       "      <td>...</td>\n",
       "    </tr>\n",
       "    <tr>\n",
       "      <th>3444</th>\n",
       "      <td>2.197225</td>\n",
       "    </tr>\n",
       "    <tr>\n",
       "      <th>466</th>\n",
       "      <td>2.639057</td>\n",
       "    </tr>\n",
       "    <tr>\n",
       "      <th>3092</th>\n",
       "      <td>2.484907</td>\n",
       "    </tr>\n",
       "    <tr>\n",
       "      <th>3772</th>\n",
       "      <td>2.302585</td>\n",
       "    </tr>\n",
       "    <tr>\n",
       "      <th>860</th>\n",
       "      <td>2.564949</td>\n",
       "    </tr>\n",
       "  </tbody>\n",
       "</table>\n",
       "<p>3340 rows × 1 columns</p>\n",
       "</div>"
      ],
      "text/plain": [
       "           Age\n",
       "4037  2.484907\n",
       "1272  2.197225\n",
       "3384  2.639057\n",
       "3160  1.945910\n",
       "3894  2.639057\n",
       "...        ...\n",
       "3444  2.197225\n",
       "466   2.639057\n",
       "3092  2.484907\n",
       "3772  2.302585\n",
       "860   2.564949\n",
       "\n",
       "[3340 rows x 1 columns]"
      ]
     },
     "execution_count": 58,
     "metadata": {},
     "output_type": "execute_result"
    }
   ],
   "source": [
    "y_train"
   ]
  },
  {
   "cell_type": "code",
   "execution_count": 36,
   "id": "3f792cdf",
   "metadata": {},
   "outputs": [
    {
     "data": {
      "application/vnd.microsoft.datawrangler.viewer.v0+json": {
       "columns": [
        {
         "name": "index",
         "rawType": "int64",
         "type": "integer"
        },
        {
         "name": "Length",
         "rawType": "float64",
         "type": "float"
        },
        {
         "name": "Diameter",
         "rawType": "float64",
         "type": "float"
        },
        {
         "name": "Height",
         "rawType": "float64",
         "type": "float"
        },
        {
         "name": "Weight",
         "rawType": "float64",
         "type": "float"
        },
        {
         "name": "Shucked_weight",
         "rawType": "float64",
         "type": "float"
        },
        {
         "name": "Viscera_weight",
         "rawType": "float64",
         "type": "float"
        },
        {
         "name": "Shell_weight",
         "rawType": "float64",
         "type": "float"
        },
        {
         "name": "Sex_I",
         "rawType": "float64",
         "type": "float"
        },
        {
         "name": "Sex_M",
         "rawType": "float64",
         "type": "float"
        }
       ],
       "ref": "faf0a2c4-3a6a-4280-9ea1-2dce8aca20b6",
       "rows": [
        [
         "4037",
         "0.55",
         "0.445",
         "0.125",
         "0.672",
         "0.288",
         "0.1365",
         "0.21",
         "1.0",
         "0.0"
        ],
        [
         "1272",
         "0.475",
         "0.38",
         "0.12",
         "0.441",
         "0.1785",
         "0.0885",
         "0.1505",
         "1.0",
         "0.0"
        ],
        [
         "3384",
         "0.475",
         "0.35",
         "0.115",
         "0.487",
         "0.194",
         "0.1455",
         "0.125",
         "0.0",
         "0.0"
        ],
        [
         "3160",
         "0.335",
         "0.22",
         "0.07",
         "0.17",
         "0.076",
         "0.0365",
         "0.05",
         "0.0",
         "0.0"
        ],
        [
         "3894",
         "0.595",
         "0.5",
         "0.18",
         "1.053",
         "0.4405",
         "0.192",
         "0.39",
         "0.0",
         "0.0"
        ],
        [
         "1288",
         "0.505",
         "0.395",
         "0.105",
         "0.551",
         "0.248",
         "0.103",
         "0.171",
         "1.0",
         "0.0"
        ],
        [
         "3863",
         "0.32",
         "0.235",
         "0.065",
         "0.1385",
         "0.058",
         "0.0225",
         "0.05",
         "1.0",
         "0.0"
        ],
        [
         "554",
         "0.5",
         "0.385",
         "0.15",
         "0.6265",
         "0.2605",
         "0.1665",
         "0.16",
         "1.0",
         "0.0"
        ],
        [
         "1871",
         "0.53",
         "0.395",
         "0.13",
         "0.575",
         "0.247",
         "0.115",
         "0.183",
         "1.0",
         "0.0"
        ],
        [
         "1074",
         "0.41",
         "0.325",
         "0.1",
         "0.3245",
         "0.132",
         "0.072",
         "0.106",
         "1.0",
         "0.0"
        ],
        [
         "2525",
         "0.59",
         "0.48",
         "0.16",
         "1.262",
         "0.5685",
         "0.2725",
         "0.335",
         "0.0",
         "1.0"
        ],
        [
         "4112",
         "0.56",
         "0.42",
         "0.14",
         "0.837",
         "0.414",
         "0.214",
         "0.2",
         "1.0",
         "0.0"
        ],
        [
         "1618",
         "0.56",
         "0.445",
         "0.15",
         "0.8225",
         "0.3685",
         "0.187",
         "0.236",
         "1.0",
         "0.0"
        ],
        [
         "3410",
         "0.43",
         "0.32",
         "0.1",
         "0.3855",
         "0.192",
         "0.0745",
         "0.1",
         "1.0",
         "0.0"
        ],
        [
         "3532",
         "0.4",
         "0.31",
         "0.115",
         "0.314",
         "0.1545",
         "0.0595",
         "0.087",
         "1.0",
         "0.0"
        ],
        [
         "3391",
         "0.645",
         "0.515",
         "0.185",
         "1.4605",
         "0.5835",
         "0.3155",
         "0.41",
         "0.0",
         "1.0"
        ],
        [
         "3577",
         "0.6",
         "0.475",
         "0.17",
         "1.088",
         "0.4905",
         "0.2475",
         "0.31",
         "0.0",
         "0.0"
        ],
        [
         "1756",
         "0.73",
         "0.56",
         "0.19",
         "1.9425",
         "0.799",
         "0.5195",
         "0.5655",
         "0.0",
         "0.0"
        ],
        [
         "1777",
         "0.49",
         "0.355",
         "0.16",
         "0.8795",
         "0.3485",
         "0.215",
         "0.2825",
         "0.0",
         "0.0"
        ],
        [
         "2256",
         "0.495",
         "0.415",
         "0.165",
         "0.7485",
         "0.264",
         "0.134",
         "0.285",
         "0.0",
         "1.0"
        ],
        [
         "3016",
         "0.435",
         "0.325",
         "0.105",
         "0.335",
         "0.136",
         "0.065",
         "0.115",
         "1.0",
         "0.0"
        ],
        [
         "1805",
         "0.625",
         "0.49",
         "0.185",
         "1.169",
         "0.5275",
         "0.2535",
         "0.344",
         "0.0",
         "1.0"
        ],
        [
         "752",
         "0.58",
         "0.455",
         "0.165",
         "1.1365",
         "0.369",
         "0.3005",
         "0.275",
         "0.0",
         "0.0"
        ],
        [
         "2339",
         "0.59",
         "0.47",
         "0.17",
         "0.9",
         "0.355",
         "0.1905",
         "0.25",
         "0.0",
         "0.0"
        ],
        [
         "3181",
         "0.645",
         "0.505",
         "0.165",
         "1.307",
         "0.4335",
         "0.262",
         "0.52",
         "0.0",
         "1.0"
        ],
        [
         "1882",
         "0.555",
         "0.41",
         "0.125",
         "0.599",
         "0.2345",
         "0.1465",
         "0.194",
         "0.0",
         "1.0"
        ],
        [
         "1391",
         "0.635",
         "0.475",
         "0.17",
         "1.1935",
         "0.5205",
         "0.2695",
         "0.3665",
         "0.0",
         "1.0"
        ],
        [
         "3365",
         "0.28",
         "0.21",
         "0.065",
         "0.0905",
         "0.035",
         "0.02",
         "0.03",
         "0.0",
         "1.0"
        ],
        [
         "4106",
         "0.42",
         "0.305",
         "0.1",
         "0.3415",
         "0.1645",
         "0.0775",
         "0.086",
         "1.0",
         "0.0"
        ],
        [
         "4041",
         "0.575",
         "0.46",
         "0.165",
         "0.9575",
         "0.4815",
         "0.1945",
         "0.236",
         "0.0",
         "0.0"
        ],
        [
         "2952",
         "0.645",
         "0.52",
         "0.17",
         "1.197",
         "0.526",
         "0.2925",
         "0.317",
         "0.0",
         "0.0"
        ],
        [
         "3673",
         "0.595",
         "0.45",
         "0.165",
         "1.081",
         "0.49",
         "0.2525",
         "0.279",
         "0.0",
         "0.0"
        ],
        [
         "729",
         "0.525",
         "0.4",
         "0.13",
         "0.8295",
         "0.2405",
         "0.1825",
         "0.275",
         "0.0",
         "1.0"
        ],
        [
         "2994",
         "0.61",
         "0.485",
         "0.17",
         "1.281",
         "0.597",
         "0.3035",
         "0.33",
         "0.0",
         "1.0"
        ],
        [
         "2768",
         "0.565",
         "0.43",
         "0.15",
         "0.8215",
         "0.332",
         "0.1685",
         "0.29",
         "1.0",
         "0.0"
        ],
        [
         "2828",
         "0.52",
         "0.395",
         "0.145",
         "0.77",
         "0.424",
         "0.142",
         "0.1895",
         "1.0",
         "0.0"
        ],
        [
         "721",
         "0.555",
         "0.44",
         "0.15",
         "1.092",
         "0.416",
         "0.212",
         "0.4405",
         "0.0",
         "1.0"
        ],
        [
         "2037",
         "0.28",
         "0.215",
         "0.08",
         "0.132",
         "0.072",
         "0.022",
         "0.033",
         "1.0",
         "0.0"
        ],
        [
         "3366",
         "0.59",
         "0.465",
         "0.195",
         "1.0885",
         "0.3685",
         "0.187",
         "0.375",
         "1.0",
         "0.0"
        ],
        [
         "1740",
         "0.68",
         "0.52",
         "0.195",
         "1.4535",
         "0.592",
         "0.391",
         "0.4125",
         "0.0",
         "1.0"
        ],
        [
         "2171",
         "0.215",
         "0.15",
         "0.03",
         "0.0385",
         "0.0115",
         "0.005",
         "0.01",
         "1.0",
         "0.0"
        ],
        [
         "2222",
         "0.555",
         "0.455",
         "0.18",
         "0.958",
         "0.296",
         "0.195",
         "0.39",
         "0.0",
         "0.0"
        ],
        [
         "3231",
         "0.485",
         "0.41",
         "0.15",
         "0.696",
         "0.2405",
         "0.1625",
         "0.265",
         "0.0",
         "1.0"
        ],
        [
         "1754",
         "0.72",
         "0.525",
         "0.18",
         "1.445",
         "0.631",
         "0.3215",
         "0.435",
         "0.0",
         "0.0"
        ],
        [
         "346",
         "0.34",
         "0.26",
         "0.08",
         "0.2",
         "0.08",
         "0.0555",
         "0.055",
         "1.0",
         "0.0"
        ],
        [
         "3221",
         "0.52",
         "0.435",
         "0.195",
         "0.973",
         "0.2985",
         "0.2135",
         "0.355",
         "0.0",
         "1.0"
        ],
        [
         "3489",
         "0.535",
         "0.42",
         "0.16",
         "0.7465",
         "0.348",
         "0.1515",
         "0.2185",
         "0.0",
         "1.0"
        ],
        [
         "1228",
         "0.365",
         "0.27",
         "0.085",
         "0.1875",
         "0.081",
         "0.042",
         "0.058",
         "1.0",
         "0.0"
        ],
        [
         "3706",
         "0.675",
         "0.51",
         "0.17",
         "1.527",
         "0.809",
         "0.318",
         "0.341",
         "0.0",
         "1.0"
        ],
        [
         "578",
         "0.63",
         "0.48",
         "0.175",
         "1.3675",
         "0.5015",
         "0.3035",
         "0.515",
         "0.0",
         "0.0"
        ]
       ],
       "shape": {
        "columns": 9,
        "rows": 3340
       }
      },
      "text/html": [
       "<div>\n",
       "<style scoped>\n",
       "    .dataframe tbody tr th:only-of-type {\n",
       "        vertical-align: middle;\n",
       "    }\n",
       "\n",
       "    .dataframe tbody tr th {\n",
       "        vertical-align: top;\n",
       "    }\n",
       "\n",
       "    .dataframe thead th {\n",
       "        text-align: right;\n",
       "    }\n",
       "</style>\n",
       "<table border=\"1\" class=\"dataframe\">\n",
       "  <thead>\n",
       "    <tr style=\"text-align: right;\">\n",
       "      <th></th>\n",
       "      <th>Length</th>\n",
       "      <th>Diameter</th>\n",
       "      <th>Height</th>\n",
       "      <th>Weight</th>\n",
       "      <th>Shucked_weight</th>\n",
       "      <th>Viscera_weight</th>\n",
       "      <th>Shell_weight</th>\n",
       "      <th>Sex_I</th>\n",
       "      <th>Sex_M</th>\n",
       "    </tr>\n",
       "  </thead>\n",
       "  <tbody>\n",
       "    <tr>\n",
       "      <th>4037</th>\n",
       "      <td>0.550</td>\n",
       "      <td>0.445</td>\n",
       "      <td>0.125</td>\n",
       "      <td>0.672</td>\n",
       "      <td>0.2880</td>\n",
       "      <td>0.1365</td>\n",
       "      <td>0.2100</td>\n",
       "      <td>1.0</td>\n",
       "      <td>0.0</td>\n",
       "    </tr>\n",
       "    <tr>\n",
       "      <th>1272</th>\n",
       "      <td>0.475</td>\n",
       "      <td>0.380</td>\n",
       "      <td>0.120</td>\n",
       "      <td>0.441</td>\n",
       "      <td>0.1785</td>\n",
       "      <td>0.0885</td>\n",
       "      <td>0.1505</td>\n",
       "      <td>1.0</td>\n",
       "      <td>0.0</td>\n",
       "    </tr>\n",
       "    <tr>\n",
       "      <th>3384</th>\n",
       "      <td>0.475</td>\n",
       "      <td>0.350</td>\n",
       "      <td>0.115</td>\n",
       "      <td>0.487</td>\n",
       "      <td>0.1940</td>\n",
       "      <td>0.1455</td>\n",
       "      <td>0.1250</td>\n",
       "      <td>0.0</td>\n",
       "      <td>0.0</td>\n",
       "    </tr>\n",
       "    <tr>\n",
       "      <th>3160</th>\n",
       "      <td>0.335</td>\n",
       "      <td>0.220</td>\n",
       "      <td>0.070</td>\n",
       "      <td>0.170</td>\n",
       "      <td>0.0760</td>\n",
       "      <td>0.0365</td>\n",
       "      <td>0.0500</td>\n",
       "      <td>0.0</td>\n",
       "      <td>0.0</td>\n",
       "    </tr>\n",
       "    <tr>\n",
       "      <th>3894</th>\n",
       "      <td>0.595</td>\n",
       "      <td>0.500</td>\n",
       "      <td>0.180</td>\n",
       "      <td>1.053</td>\n",
       "      <td>0.4405</td>\n",
       "      <td>0.1920</td>\n",
       "      <td>0.3900</td>\n",
       "      <td>0.0</td>\n",
       "      <td>0.0</td>\n",
       "    </tr>\n",
       "    <tr>\n",
       "      <th>...</th>\n",
       "      <td>...</td>\n",
       "      <td>...</td>\n",
       "      <td>...</td>\n",
       "      <td>...</td>\n",
       "      <td>...</td>\n",
       "      <td>...</td>\n",
       "      <td>...</td>\n",
       "      <td>...</td>\n",
       "      <td>...</td>\n",
       "    </tr>\n",
       "    <tr>\n",
       "      <th>3444</th>\n",
       "      <td>0.495</td>\n",
       "      <td>0.400</td>\n",
       "      <td>0.145</td>\n",
       "      <td>0.578</td>\n",
       "      <td>0.2545</td>\n",
       "      <td>0.1305</td>\n",
       "      <td>0.1645</td>\n",
       "      <td>1.0</td>\n",
       "      <td>0.0</td>\n",
       "    </tr>\n",
       "    <tr>\n",
       "      <th>466</th>\n",
       "      <td>0.655</td>\n",
       "      <td>0.530</td>\n",
       "      <td>0.195</td>\n",
       "      <td>1.388</td>\n",
       "      <td>0.5670</td>\n",
       "      <td>0.2735</td>\n",
       "      <td>0.4100</td>\n",
       "      <td>0.0</td>\n",
       "      <td>1.0</td>\n",
       "    </tr>\n",
       "    <tr>\n",
       "      <th>3092</th>\n",
       "      <td>0.520</td>\n",
       "      <td>0.430</td>\n",
       "      <td>0.150</td>\n",
       "      <td>0.728</td>\n",
       "      <td>0.3020</td>\n",
       "      <td>0.1575</td>\n",
       "      <td>0.2350</td>\n",
       "      <td>0.0</td>\n",
       "      <td>0.0</td>\n",
       "    </tr>\n",
       "    <tr>\n",
       "      <th>3772</th>\n",
       "      <td>0.575</td>\n",
       "      <td>0.460</td>\n",
       "      <td>0.150</td>\n",
       "      <td>0.927</td>\n",
       "      <td>0.3330</td>\n",
       "      <td>0.2070</td>\n",
       "      <td>0.2985</td>\n",
       "      <td>0.0</td>\n",
       "      <td>0.0</td>\n",
       "    </tr>\n",
       "    <tr>\n",
       "      <th>860</th>\n",
       "      <td>0.595</td>\n",
       "      <td>0.465</td>\n",
       "      <td>0.140</td>\n",
       "      <td>1.113</td>\n",
       "      <td>0.5175</td>\n",
       "      <td>0.2440</td>\n",
       "      <td>0.3050</td>\n",
       "      <td>0.0</td>\n",
       "      <td>0.0</td>\n",
       "    </tr>\n",
       "  </tbody>\n",
       "</table>\n",
       "<p>3340 rows × 9 columns</p>\n",
       "</div>"
      ],
      "text/plain": [
       "      Length  Diameter  Height  Weight  Shucked_weight  Viscera_weight  \\\n",
       "4037   0.550     0.445   0.125   0.672          0.2880          0.1365   \n",
       "1272   0.475     0.380   0.120   0.441          0.1785          0.0885   \n",
       "3384   0.475     0.350   0.115   0.487          0.1940          0.1455   \n",
       "3160   0.335     0.220   0.070   0.170          0.0760          0.0365   \n",
       "3894   0.595     0.500   0.180   1.053          0.4405          0.1920   \n",
       "...      ...       ...     ...     ...             ...             ...   \n",
       "3444   0.495     0.400   0.145   0.578          0.2545          0.1305   \n",
       "466    0.655     0.530   0.195   1.388          0.5670          0.2735   \n",
       "3092   0.520     0.430   0.150   0.728          0.3020          0.1575   \n",
       "3772   0.575     0.460   0.150   0.927          0.3330          0.2070   \n",
       "860    0.595     0.465   0.140   1.113          0.5175          0.2440   \n",
       "\n",
       "      Shell_weight  Sex_I  Sex_M  \n",
       "4037        0.2100    1.0    0.0  \n",
       "1272        0.1505    1.0    0.0  \n",
       "3384        0.1250    0.0    0.0  \n",
       "3160        0.0500    0.0    0.0  \n",
       "3894        0.3900    0.0    0.0  \n",
       "...            ...    ...    ...  \n",
       "3444        0.1645    1.0    0.0  \n",
       "466         0.4100    0.0    1.0  \n",
       "3092        0.2350    0.0    0.0  \n",
       "3772        0.2985    0.0    0.0  \n",
       "860         0.3050    0.0    0.0  \n",
       "\n",
       "[3340 rows x 9 columns]"
      ]
     },
     "execution_count": 36,
     "metadata": {},
     "output_type": "execute_result"
    }
   ],
   "source": [
    "X_train"
   ]
  },
  {
   "cell_type": "code",
   "execution_count": 50,
   "id": "436f7f4f",
   "metadata": {},
   "outputs": [
    {
     "data": {
      "application/vnd.microsoft.datawrangler.viewer.v0+json": {
       "columns": [
        {
         "name": "index",
         "rawType": "int64",
         "type": "integer"
        },
        {
         "name": "Age",
         "rawType": "float64",
         "type": "float"
        }
       ],
       "ref": "96df7ad1-33c8-4823-98a4-4220344b2b27",
       "rows": [
        [
         "4037",
         "11.0"
        ],
        [
         "1272",
         "8.000000000000002"
        ],
        [
         "3384",
         "12.999999999999996"
        ],
        [
         "3160",
         "5.999999999999999"
        ],
        [
         "3894",
         "12.999999999999996"
        ],
        [
         "1288",
         "8.000000000000002"
        ],
        [
         "3863",
         "5.0"
        ],
        [
         "554",
         "10.000000000000002"
        ],
        [
         "1871",
         "9.000000000000002"
        ],
        [
         "1074",
         "5.999999999999999"
        ],
        [
         "2525",
         "9.000000000000002"
        ],
        [
         "4112",
         "8.000000000000002"
        ],
        [
         "1618",
         "10.000000000000002"
        ],
        [
         "3410",
         "6.999999999999998"
        ],
        [
         "3532",
         "5.999999999999999"
        ],
        [
         "3391",
         "18.999999999999996"
        ],
        [
         "3577",
         "10.000000000000002"
        ],
        [
         "1756",
         "11.0"
        ],
        [
         "1777",
         "8.000000000000002"
        ],
        [
         "2256",
         "12.999999999999996"
        ],
        [
         "3016",
         "8.000000000000002"
        ],
        [
         "1805",
         "11.0"
        ],
        [
         "752",
         "12.999999999999996"
        ],
        [
         "2339",
         "11.0"
        ],
        [
         "3181",
         "10.000000000000002"
        ],
        [
         "1882",
         "8.000000000000002"
        ],
        [
         "1391",
         "10.000000000000002"
        ],
        [
         "3365",
         "5.0"
        ],
        [
         "4106",
         "6.999999999999998"
        ],
        [
         "4041",
         "10.000000000000002"
        ],
        [
         "2952",
         "11.0"
        ],
        [
         "3673",
         "12.0"
        ],
        [
         "729",
         "11.0"
        ],
        [
         "2994",
         "9.000000000000002"
        ],
        [
         "2768",
         "11.0"
        ],
        [
         "2828",
         "6.999999999999998"
        ],
        [
         "721",
         "14.999999999999998"
        ],
        [
         "2037",
         "5.0"
        ],
        [
         "3366",
         "16.999999999999996"
        ],
        [
         "1740",
         "10.000000000000002"
        ],
        [
         "2171",
         "5.0"
        ],
        [
         "2222",
         "14.0"
        ],
        [
         "3231",
         "12.999999999999996"
        ],
        [
         "1754",
         "6.999999999999998"
        ],
        [
         "346",
         "5.999999999999999"
        ],
        [
         "3221",
         "17.999999999999996"
        ],
        [
         "3489",
         "10.000000000000002"
        ],
        [
         "1228",
         "5.999999999999999"
        ],
        [
         "3706",
         "11.0"
        ],
        [
         "578",
         "16.999999999999996"
        ]
       ],
       "shape": {
        "columns": 1,
        "rows": 3340
       }
      },
      "text/html": [
       "<div>\n",
       "<style scoped>\n",
       "    .dataframe tbody tr th:only-of-type {\n",
       "        vertical-align: middle;\n",
       "    }\n",
       "\n",
       "    .dataframe tbody tr th {\n",
       "        vertical-align: top;\n",
       "    }\n",
       "\n",
       "    .dataframe thead th {\n",
       "        text-align: right;\n",
       "    }\n",
       "</style>\n",
       "<table border=\"1\" class=\"dataframe\">\n",
       "  <thead>\n",
       "    <tr style=\"text-align: right;\">\n",
       "      <th></th>\n",
       "      <th>Age</th>\n",
       "    </tr>\n",
       "  </thead>\n",
       "  <tbody>\n",
       "    <tr>\n",
       "      <th>4037</th>\n",
       "      <td>11.0</td>\n",
       "    </tr>\n",
       "    <tr>\n",
       "      <th>1272</th>\n",
       "      <td>8.0</td>\n",
       "    </tr>\n",
       "    <tr>\n",
       "      <th>3384</th>\n",
       "      <td>13.0</td>\n",
       "    </tr>\n",
       "    <tr>\n",
       "      <th>3160</th>\n",
       "      <td>6.0</td>\n",
       "    </tr>\n",
       "    <tr>\n",
       "      <th>3894</th>\n",
       "      <td>13.0</td>\n",
       "    </tr>\n",
       "    <tr>\n",
       "      <th>...</th>\n",
       "      <td>...</td>\n",
       "    </tr>\n",
       "    <tr>\n",
       "      <th>3444</th>\n",
       "      <td>8.0</td>\n",
       "    </tr>\n",
       "    <tr>\n",
       "      <th>466</th>\n",
       "      <td>13.0</td>\n",
       "    </tr>\n",
       "    <tr>\n",
       "      <th>3092</th>\n",
       "      <td>11.0</td>\n",
       "    </tr>\n",
       "    <tr>\n",
       "      <th>3772</th>\n",
       "      <td>9.0</td>\n",
       "    </tr>\n",
       "    <tr>\n",
       "      <th>860</th>\n",
       "      <td>12.0</td>\n",
       "    </tr>\n",
       "  </tbody>\n",
       "</table>\n",
       "<p>3340 rows × 1 columns</p>\n",
       "</div>"
      ],
      "text/plain": [
       "       Age\n",
       "4037  11.0\n",
       "1272   8.0\n",
       "3384  13.0\n",
       "3160   6.0\n",
       "3894  13.0\n",
       "...    ...\n",
       "3444   8.0\n",
       "466   13.0\n",
       "3092  11.0\n",
       "3772   9.0\n",
       "860   12.0\n",
       "\n",
       "[3340 rows x 1 columns]"
      ]
     },
     "execution_count": 50,
     "metadata": {},
     "output_type": "execute_result"
    }
   ],
   "source": [
    "y_train"
   ]
  },
  {
   "cell_type": "code",
   "execution_count": 66,
   "id": "a0496fe7",
   "metadata": {},
   "outputs": [],
   "source": [
    "ran_frst=RandomForestRegressor(random_state=42)\n",
    "model_with_transformer=TransformedTargetRegressor(\n",
    "    regressor=ran_frst,\n",
    "    func=np.log1p,\n",
    "    inverse_func=np.expm1\n",
    ")"
   ]
  },
  {
   "cell_type": "code",
   "execution_count": 73,
   "id": "c627606f",
   "metadata": {},
   "outputs": [
    {
     "data": {
      "application/vnd.microsoft.datawrangler.viewer.v0+json": {
       "columns": [
        {
         "name": "index",
         "rawType": "int64",
         "type": "integer"
        },
        {
         "name": "0",
         "rawType": "float64",
         "type": "float"
        }
       ],
       "ref": "c6fde9ab-91d1-49a2-9172-7ed4e7dadf6d",
       "rows": [
        [
         "0",
         "3.182223378591559"
        ],
        [
         "1",
         "1.5486262930100634"
        ],
        [
         "2",
         "2.365164467718182"
        ],
        [
         "3",
         "1.884941080113494"
        ],
        [
         "4",
         "1.9189131334327176"
        ]
       ],
       "shape": {
        "columns": 1,
        "rows": 5
       }
      },
      "text/plain": [
       "array([3.18222338, 1.54862629, 2.36516447, 1.88494108, 1.91891313])"
      ]
     },
     "execution_count": 73,
     "metadata": {},
     "output_type": "execute_result"
    }
   ],
   "source": [
    "final_scores=-cross_val_score(model_with_transformer,X,y,cv=5,scoring='neg_root_mean_squared_error')\n",
    "final_scores"
   ]
  },
  {
   "cell_type": "code",
   "execution_count": 70,
   "id": "5c4c073a",
   "metadata": {},
   "outputs": [
    {
     "data": {
      "application/vnd.microsoft.datawrangler.viewer.v0+json": {
       "columns": [
        {
         "name": "index",
         "rawType": "int64",
         "type": "integer"
        },
        {
         "name": "Age",
         "rawType": "float64",
         "type": "float"
        }
       ],
       "ref": "1a7dac70-123a-40c2-a4a1-29d885244c77",
       "rows": [
        [
         "4037",
         "11.0"
        ],
        [
         "1272",
         "8.000000000000002"
        ],
        [
         "3384",
         "12.999999999999996"
        ],
        [
         "3160",
         "5.999999999999999"
        ],
        [
         "3894",
         "12.999999999999996"
        ],
        [
         "1288",
         "8.000000000000002"
        ],
        [
         "3863",
         "5.0"
        ],
        [
         "554",
         "10.000000000000002"
        ],
        [
         "1871",
         "9.000000000000002"
        ],
        [
         "1074",
         "5.999999999999999"
        ],
        [
         "2525",
         "9.000000000000002"
        ],
        [
         "4112",
         "8.000000000000002"
        ],
        [
         "1618",
         "10.000000000000002"
        ],
        [
         "3410",
         "6.999999999999998"
        ],
        [
         "3532",
         "5.999999999999999"
        ],
        [
         "3391",
         "18.999999999999996"
        ],
        [
         "3577",
         "10.000000000000002"
        ],
        [
         "1756",
         "11.0"
        ],
        [
         "1777",
         "8.000000000000002"
        ],
        [
         "2256",
         "12.999999999999996"
        ],
        [
         "3016",
         "8.000000000000002"
        ],
        [
         "1805",
         "11.0"
        ],
        [
         "752",
         "12.999999999999996"
        ],
        [
         "2339",
         "11.0"
        ],
        [
         "3181",
         "10.000000000000002"
        ],
        [
         "1882",
         "8.000000000000002"
        ],
        [
         "1391",
         "10.000000000000002"
        ],
        [
         "3365",
         "5.0"
        ],
        [
         "4106",
         "6.999999999999998"
        ],
        [
         "4041",
         "10.000000000000002"
        ],
        [
         "2952",
         "11.0"
        ],
        [
         "3673",
         "12.0"
        ],
        [
         "729",
         "11.0"
        ],
        [
         "2994",
         "9.000000000000002"
        ],
        [
         "2768",
         "11.0"
        ],
        [
         "2828",
         "6.999999999999998"
        ],
        [
         "721",
         "14.999999999999998"
        ],
        [
         "2037",
         "5.0"
        ],
        [
         "3366",
         "16.999999999999996"
        ],
        [
         "1740",
         "10.000000000000002"
        ],
        [
         "2171",
         "5.0"
        ],
        [
         "2222",
         "14.0"
        ],
        [
         "3231",
         "12.999999999999996"
        ],
        [
         "1754",
         "6.999999999999998"
        ],
        [
         "346",
         "5.999999999999999"
        ],
        [
         "3221",
         "17.999999999999996"
        ],
        [
         "3489",
         "10.000000000000002"
        ],
        [
         "1228",
         "5.999999999999999"
        ],
        [
         "3706",
         "11.0"
        ],
        [
         "578",
         "16.999999999999996"
        ]
       ],
       "shape": {
        "columns": 1,
        "rows": 3340
       }
      },
      "text/html": [
       "<div>\n",
       "<style scoped>\n",
       "    .dataframe tbody tr th:only-of-type {\n",
       "        vertical-align: middle;\n",
       "    }\n",
       "\n",
       "    .dataframe tbody tr th {\n",
       "        vertical-align: top;\n",
       "    }\n",
       "\n",
       "    .dataframe thead th {\n",
       "        text-align: right;\n",
       "    }\n",
       "</style>\n",
       "<table border=\"1\" class=\"dataframe\">\n",
       "  <thead>\n",
       "    <tr style=\"text-align: right;\">\n",
       "      <th></th>\n",
       "      <th>Age</th>\n",
       "    </tr>\n",
       "  </thead>\n",
       "  <tbody>\n",
       "    <tr>\n",
       "      <th>4037</th>\n",
       "      <td>11.0</td>\n",
       "    </tr>\n",
       "    <tr>\n",
       "      <th>1272</th>\n",
       "      <td>8.0</td>\n",
       "    </tr>\n",
       "    <tr>\n",
       "      <th>3384</th>\n",
       "      <td>13.0</td>\n",
       "    </tr>\n",
       "    <tr>\n",
       "      <th>3160</th>\n",
       "      <td>6.0</td>\n",
       "    </tr>\n",
       "    <tr>\n",
       "      <th>3894</th>\n",
       "      <td>13.0</td>\n",
       "    </tr>\n",
       "    <tr>\n",
       "      <th>...</th>\n",
       "      <td>...</td>\n",
       "    </tr>\n",
       "    <tr>\n",
       "      <th>3444</th>\n",
       "      <td>8.0</td>\n",
       "    </tr>\n",
       "    <tr>\n",
       "      <th>466</th>\n",
       "      <td>13.0</td>\n",
       "    </tr>\n",
       "    <tr>\n",
       "      <th>3092</th>\n",
       "      <td>11.0</td>\n",
       "    </tr>\n",
       "    <tr>\n",
       "      <th>3772</th>\n",
       "      <td>9.0</td>\n",
       "    </tr>\n",
       "    <tr>\n",
       "      <th>860</th>\n",
       "      <td>12.0</td>\n",
       "    </tr>\n",
       "  </tbody>\n",
       "</table>\n",
       "<p>3340 rows × 1 columns</p>\n",
       "</div>"
      ],
      "text/plain": [
       "       Age\n",
       "4037  11.0\n",
       "1272   8.0\n",
       "3384  13.0\n",
       "3160   6.0\n",
       "3894  13.0\n",
       "...    ...\n",
       "3444   8.0\n",
       "466   13.0\n",
       "3092  11.0\n",
       "3772   9.0\n",
       "860   12.0\n",
       "\n",
       "[3340 rows x 1 columns]"
      ]
     },
     "execution_count": 70,
     "metadata": {},
     "output_type": "execute_result"
    }
   ],
   "source": [
    "y_train"
   ]
  },
  {
   "cell_type": "code",
   "execution_count": 71,
   "id": "20048052",
   "metadata": {},
   "outputs": [
    {
     "data": {
      "application/vnd.microsoft.datawrangler.viewer.v0+json": {
       "columns": [
        {
         "name": "index",
         "rawType": "int64",
         "type": "integer"
        },
        {
         "name": "0",
         "rawType": "float64",
         "type": "float"
        }
       ],
       "ref": "c88be2c2-0515-44c9-ba34-5d71b74692dd",
       "rows": [
        [
         "0",
         "2.370682271232846"
        ],
        [
         "1",
         "2.142221481138562"
        ],
        [
         "2",
         "2.1567768492000994"
        ],
        [
         "3",
         "2.0403859562100988"
        ],
        [
         "4",
         "2.1777075858207677"
        ]
       ],
       "shape": {
        "columns": 1,
        "rows": 5
       }
      },
      "text/plain": [
       "array([2.37068227, 2.14222148, 2.15677685, 2.04038596, 2.17770759])"
      ]
     },
     "execution_count": 71,
     "metadata": {},
     "output_type": "execute_result"
    }
   ],
   "source": [
    "ran_rmse=-cross_val_score(ran_frst,X_train,np.ravel(y_train),cv=5,scoring='neg_root_mean_squared_error')\n",
    "ran_rmse"
   ]
  },
  {
   "cell_type": "code",
   "execution_count": null,
   "id": "dc2ba632",
   "metadata": {},
   "outputs": [],
   "source": []
  },
  {
   "cell_type": "code",
   "execution_count": null,
   "id": "6f48a37e",
   "metadata": {},
   "outputs": [],
   "source": []
  }
 ],
 "metadata": {
  "kernelspec": {
   "display_name": "jupytorch",
   "language": "python",
   "name": "jupytorch"
  },
  "language_info": {
   "codemirror_mode": {
    "name": "ipython",
    "version": 3
   },
   "file_extension": ".py",
   "mimetype": "text/x-python",
   "name": "python",
   "nbconvert_exporter": "python",
   "pygments_lexer": "ipython3",
   "version": "3.11.13"
  }
 },
 "nbformat": 4,
 "nbformat_minor": 5
}
