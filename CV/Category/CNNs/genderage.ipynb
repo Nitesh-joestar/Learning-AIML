{
 "cells": [
  {
   "cell_type": "code",
   "execution_count": 10,
   "id": "ca9db5c7",
   "metadata": {},
   "outputs": [],
   "source": [
    "import torch\n",
    "from torch.utils.data import DataLoader\n",
    "from torchvision import datasets, transforms\n",
    "import torch.nn as nn\n",
    "import torch.optim as optim\n",
    "import os\n",
    "import pandas as pd\n",
    "import numpy as np\n",
    "import matplotlib.pyplot as plt\n",
    "import seaborn as sns\n",
    "from datasets import Dataset,Features,ClassLabel,Image"
   ]
  },
  {
   "cell_type": "code",
   "execution_count": 5,
   "id": "29ad909d",
   "metadata": {},
   "outputs": [],
   "source": [
    "data_dir=\"data/UTKFace\"\n",
    "files=[f for f in os.listdir(data_dir) if f.endswith(\".jpg.chip.jpg\")]\n",
    "records=[]\n",
    "for f in files:\n",
    "    parts=f.split('_')\n",
    "    try:\n",
    "        age=int(parts[0])\n",
    "        gender=int(parts[1])\n",
    "        records.append([f,age,gender])\n",
    "    except:\n",
    "        continue"
   ]
  },
  {
   "cell_type": "code",
   "execution_count": 7,
   "id": "d98934a0",
   "metadata": {},
   "outputs": [
    {
     "data": {
      "application/vnd.microsoft.datawrangler.viewer.v0+json": {
       "columns": [
        {
         "name": "index",
         "rawType": "int64",
         "type": "integer"
        },
        {
         "name": "filename",
         "rawType": "object",
         "type": "string"
        },
        {
         "name": "age",
         "rawType": "int64",
         "type": "integer"
        },
        {
         "name": "gender",
         "rawType": "int64",
         "type": "integer"
        }
       ],
       "ref": "bbbaad61-4931-482d-aca6-8f5b851e47fa",
       "rows": [
        [
         "0",
         "100_0_0_20170112213500903.jpg.chip.jpg",
         "100",
         "0"
        ],
        [
         "1",
         "100_0_0_20170112215240346.jpg.chip.jpg",
         "100",
         "0"
        ],
        [
         "2",
         "100_1_0_20170110183726390.jpg.chip.jpg",
         "100",
         "1"
        ],
        [
         "3",
         "100_1_0_20170112213001988.jpg.chip.jpg",
         "100",
         "1"
        ],
        [
         "4",
         "100_1_0_20170112213303693.jpg.chip.jpg",
         "100",
         "1"
        ],
        [
         "5",
         "100_1_0_20170112215032192.jpg.chip.jpg",
         "100",
         "1"
        ],
        [
         "6",
         "100_1_0_20170117195420803.jpg.chip.jpg",
         "100",
         "1"
        ],
        [
         "7",
         "100_1_0_20170119212053665.jpg.chip.jpg",
         "100",
         "1"
        ],
        [
         "8",
         "100_1_2_20170105174847679.jpg.chip.jpg",
         "100",
         "1"
        ],
        [
         "9",
         "100_1_2_20170112213615815.jpg.chip.jpg",
         "100",
         "1"
        ],
        [
         "10",
         "100_1_2_20170112222336458.jpg.chip.jpg",
         "100",
         "1"
        ],
        [
         "11",
         "101_0_0_20170112213500903.jpg.chip.jpg",
         "101",
         "0"
        ],
        [
         "12",
         "101_1_2_20170105174739309.jpg.chip.jpg",
         "101",
         "1"
        ],
        [
         "13",
         "103_0_2_20170112213001988.jpg.chip.jpg",
         "103",
         "0"
        ],
        [
         "14",
         "105_0_0_20170112213001988.jpg.chip.jpg",
         "105",
         "0"
        ],
        [
         "15",
         "105_1_0_20170112213001988.jpg.chip.jpg",
         "105",
         "1"
        ],
        [
         "16",
         "105_1_0_20170112213021902.jpg.chip.jpg",
         "105",
         "1"
        ],
        [
         "17",
         "105_1_0_20170112213507183.jpg.chip.jpg",
         "105",
         "1"
        ],
        [
         "18",
         "105_1_1_20170112213303693.jpg.chip.jpg",
         "105",
         "1"
        ],
        [
         "19",
         "10_0_0_20161220222308131.jpg.chip.jpg",
         "10",
         "0"
        ],
        [
         "20",
         "10_0_0_20170103200329407.jpg.chip.jpg",
         "10",
         "0"
        ],
        [
         "21",
         "10_0_0_20170103200522151.jpg.chip.jpg",
         "10",
         "0"
        ],
        [
         "22",
         "10_0_0_20170103233459275.jpg.chip.jpg",
         "10",
         "0"
        ],
        [
         "23",
         "10_0_0_20170104013211746.jpg.chip.jpg",
         "10",
         "0"
        ],
        [
         "24",
         "10_0_0_20170110215927291.jpg.chip.jpg",
         "10",
         "0"
        ],
        [
         "25",
         "10_0_0_20170110220033115.jpg.chip.jpg",
         "10",
         "0"
        ],
        [
         "26",
         "10_0_0_20170110220111082.jpg.chip.jpg",
         "10",
         "0"
        ],
        [
         "27",
         "10_0_0_20170110220235233.jpg.chip.jpg",
         "10",
         "0"
        ],
        [
         "28",
         "10_0_0_20170110220251986.jpg.chip.jpg",
         "10",
         "0"
        ],
        [
         "29",
         "10_0_0_20170110220255346.jpg.chip.jpg",
         "10",
         "0"
        ],
        [
         "30",
         "10_0_0_20170110220316298.jpg.chip.jpg",
         "10",
         "0"
        ],
        [
         "31",
         "10_0_0_20170110220403810.jpg.chip.jpg",
         "10",
         "0"
        ],
        [
         "32",
         "10_0_0_20170110220447314.jpg.chip.jpg",
         "10",
         "0"
        ],
        [
         "33",
         "10_0_0_20170110220503946.jpg.chip.jpg",
         "10",
         "0"
        ],
        [
         "34",
         "10_0_0_20170110220514186.jpg.chip.jpg",
         "10",
         "0"
        ],
        [
         "35",
         "10_0_0_20170110220530650.jpg.chip.jpg",
         "10",
         "0"
        ],
        [
         "36",
         "10_0_0_20170110220539329.jpg.chip.jpg",
         "10",
         "0"
        ],
        [
         "37",
         "10_0_0_20170110220541850.jpg.chip.jpg",
         "10",
         "0"
        ],
        [
         "38",
         "10_0_0_20170110220546177.jpg.chip.jpg",
         "10",
         "0"
        ],
        [
         "39",
         "10_0_0_20170110220548521.jpg.chip.jpg",
         "10",
         "0"
        ],
        [
         "40",
         "10_0_0_20170110220557169.jpg.chip.jpg",
         "10",
         "0"
        ],
        [
         "41",
         "10_0_0_20170110220644705.jpg.chip.jpg",
         "10",
         "0"
        ],
        [
         "42",
         "10_0_0_20170110220654150.jpg.chip.jpg",
         "10",
         "0"
        ],
        [
         "43",
         "10_0_0_20170110221714752.jpg.chip.jpg",
         "10",
         "0"
        ],
        [
         "44",
         "10_0_0_20170110221719390.jpg.chip.jpg",
         "10",
         "0"
        ],
        [
         "45",
         "10_0_0_20170110221811823.jpg.chip.jpg",
         "10",
         "0"
        ],
        [
         "46",
         "10_0_0_20170110224223937.jpg.chip.jpg",
         "10",
         "0"
        ],
        [
         "47",
         "10_0_0_20170110224238891.jpg.chip.jpg",
         "10",
         "0"
        ],
        [
         "48",
         "10_0_0_20170110224253445.jpg.chip.jpg",
         "10",
         "0"
        ],
        [
         "49",
         "10_0_0_20170110224255796.jpg.chip.jpg",
         "10",
         "0"
        ]
       ],
       "shape": {
        "columns": 3,
        "rows": 23705
       }
      },
      "text/html": [
       "<div>\n",
       "<style scoped>\n",
       "    .dataframe tbody tr th:only-of-type {\n",
       "        vertical-align: middle;\n",
       "    }\n",
       "\n",
       "    .dataframe tbody tr th {\n",
       "        vertical-align: top;\n",
       "    }\n",
       "\n",
       "    .dataframe thead th {\n",
       "        text-align: right;\n",
       "    }\n",
       "</style>\n",
       "<table border=\"1\" class=\"dataframe\">\n",
       "  <thead>\n",
       "    <tr style=\"text-align: right;\">\n",
       "      <th></th>\n",
       "      <th>filename</th>\n",
       "      <th>age</th>\n",
       "      <th>gender</th>\n",
       "    </tr>\n",
       "  </thead>\n",
       "  <tbody>\n",
       "    <tr>\n",
       "      <th>0</th>\n",
       "      <td>100_0_0_20170112213500903.jpg.chip.jpg</td>\n",
       "      <td>100</td>\n",
       "      <td>0</td>\n",
       "    </tr>\n",
       "    <tr>\n",
       "      <th>1</th>\n",
       "      <td>100_0_0_20170112215240346.jpg.chip.jpg</td>\n",
       "      <td>100</td>\n",
       "      <td>0</td>\n",
       "    </tr>\n",
       "    <tr>\n",
       "      <th>2</th>\n",
       "      <td>100_1_0_20170110183726390.jpg.chip.jpg</td>\n",
       "      <td>100</td>\n",
       "      <td>1</td>\n",
       "    </tr>\n",
       "    <tr>\n",
       "      <th>3</th>\n",
       "      <td>100_1_0_20170112213001988.jpg.chip.jpg</td>\n",
       "      <td>100</td>\n",
       "      <td>1</td>\n",
       "    </tr>\n",
       "    <tr>\n",
       "      <th>4</th>\n",
       "      <td>100_1_0_20170112213303693.jpg.chip.jpg</td>\n",
       "      <td>100</td>\n",
       "      <td>1</td>\n",
       "    </tr>\n",
       "    <tr>\n",
       "      <th>...</th>\n",
       "      <td>...</td>\n",
       "      <td>...</td>\n",
       "      <td>...</td>\n",
       "    </tr>\n",
       "    <tr>\n",
       "      <th>23700</th>\n",
       "      <td>9_1_3_20161220222856346.jpg.chip.jpg</td>\n",
       "      <td>9</td>\n",
       "      <td>1</td>\n",
       "    </tr>\n",
       "    <tr>\n",
       "      <th>23701</th>\n",
       "      <td>9_1_3_20170104222949455.jpg.chip.jpg</td>\n",
       "      <td>9</td>\n",
       "      <td>1</td>\n",
       "    </tr>\n",
       "    <tr>\n",
       "      <th>23702</th>\n",
       "      <td>9_1_4_20170103200637399.jpg.chip.jpg</td>\n",
       "      <td>9</td>\n",
       "      <td>1</td>\n",
       "    </tr>\n",
       "    <tr>\n",
       "      <th>23703</th>\n",
       "      <td>9_1_4_20170103200814791.jpg.chip.jpg</td>\n",
       "      <td>9</td>\n",
       "      <td>1</td>\n",
       "    </tr>\n",
       "    <tr>\n",
       "      <th>23704</th>\n",
       "      <td>9_1_4_20170103213057382.jpg.chip.jpg</td>\n",
       "      <td>9</td>\n",
       "      <td>1</td>\n",
       "    </tr>\n",
       "  </tbody>\n",
       "</table>\n",
       "<p>23705 rows × 3 columns</p>\n",
       "</div>"
      ],
      "text/plain": [
       "                                     filename  age  gender\n",
       "0      100_0_0_20170112213500903.jpg.chip.jpg  100       0\n",
       "1      100_0_0_20170112215240346.jpg.chip.jpg  100       0\n",
       "2      100_1_0_20170110183726390.jpg.chip.jpg  100       1\n",
       "3      100_1_0_20170112213001988.jpg.chip.jpg  100       1\n",
       "4      100_1_0_20170112213303693.jpg.chip.jpg  100       1\n",
       "...                                       ...  ...     ...\n",
       "23700    9_1_3_20161220222856346.jpg.chip.jpg    9       1\n",
       "23701    9_1_3_20170104222949455.jpg.chip.jpg    9       1\n",
       "23702    9_1_4_20170103200637399.jpg.chip.jpg    9       1\n",
       "23703    9_1_4_20170103200814791.jpg.chip.jpg    9       1\n",
       "23704    9_1_4_20170103213057382.jpg.chip.jpg    9       1\n",
       "\n",
       "[23705 rows x 3 columns]"
      ]
     },
     "execution_count": 7,
     "metadata": {},
     "output_type": "execute_result"
    }
   ],
   "source": [
    "df=pd.DataFrame(records,columns=['filename','age','gender'])\n",
    "df"
   ]
  },
  {
   "cell_type": "code",
   "execution_count": 15,
   "id": "4d8085df",
   "metadata": {},
   "outputs": [],
   "source": [
    "\n",
    "class UTKFaceDataset(Dataset):\n",
    "    \"\"\"Custom Dataset for the UTKFace dataset.\"\"\"\n",
    "\n",
    "    def __init__(self, df, image_dir, transform=None):\n",
    "        \"\"\"\n",
    "        Args:\n",
    "            df (pandas.DataFrame): DataFrame with filename, age, and gender columns.\n",
    "            image_dir (string): Directory with all the images.\n",
    "            transform (callable, optional): Optional transform to be applied on a sample.\n",
    "        \"\"\"\n",
    "        self.df = df\n",
    "        self.image_dir = image_dir\n",
    "        self.transform = transform\n",
    "\n",
    "    def __len__(self):\n",
    "        \"\"\"Returns the total number of samples in the dataset.\"\"\"\n",
    "        return len(self.df)\n",
    "\n",
    "    def __getitem__(self, idx):\n",
    "        \"\"\"\n",
    "        Fetches the sample at the given index.\n",
    "\n",
    "        Args:\n",
    "            idx (int): The index of the sample.\n",
    "\n",
    "        Returns:\n",
    "            A dictionary with 'image', 'age', and 'gender' tensors.\n",
    "        \"\"\"\n",
    "        # 1. Get image path and labels from the dataframe\n",
    "        row = self.df.iloc[idx]\n",
    "        img_name = os.path.join(self.image_dir, row['filename'])\n",
    "        \n",
    "        # 2. Load the image\n",
    "        # Using .convert('RGB') is important to handle grayscale or other formats\n",
    "        image = Image.open(img_name).convert('RGB')\n",
    "        \n",
    "        # 3. Get labels and convert them to tensors\n",
    "        # Age is a continuous value, so a float tensor is appropriate.\n",
    "        age = torch.tensor(row['age'], dtype=torch.float32)\n",
    "        \n",
    "        # Gender is a class (e.g., 0 or 1), so a long tensor is appropriate for classification.\n",
    "        gender = torch.tensor(row['gender'], dtype=torch.long)\n",
    "\n",
    "        # 4. Apply transformations, if any\n",
    "        if self.transform:\n",
    "            image = self.transform(image)\n",
    "            \n",
    "        # 5. Return a dictionary containing the data\n",
    "        sample = {'image': image, 'age': age, 'gender': gender}\n",
    "        \n",
    "        return sample\n"
   ]
  },
  {
   "cell_type": "code",
   "execution_count": null,
   "id": "b8fb9ad7",
   "metadata": {},
   "outputs": [],
   "source": []
  }
 ],
 "metadata": {
  "kernelspec": {
   "display_name": "jupytorch",
   "language": "python",
   "name": "python3"
  },
  "language_info": {
   "codemirror_mode": {
    "name": "ipython",
    "version": 3
   },
   "file_extension": ".py",
   "mimetype": "text/x-python",
   "name": "python",
   "nbconvert_exporter": "python",
   "pygments_lexer": "ipython3",
   "version": "3.11.13"
  }
 },
 "nbformat": 4,
 "nbformat_minor": 5
}
