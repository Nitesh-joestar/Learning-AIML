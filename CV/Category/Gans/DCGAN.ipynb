{
 "cells": [
  {
   "cell_type": "code",
   "execution_count": 1,
   "id": "a63010df",
   "metadata": {},
   "outputs": [],
   "source": [
    "import torch\n",
    "import torch.nn as nn\n",
    "import torch.optim as optim\n",
    "import torchvision\n",
    "import torchvision.datasets as datasets\n",
    "import torchvision.transforms as transforms\n",
    "from torch.utils.data import DataLoader\n",
    "from torch.utils.tensorboard import SummaryWriter\n"
   ]
  },
  {
   "cell_type": "markdown",
   "id": "47ca65cb",
   "metadata": {},
   "source": [
    "ok i understand channels are how many channel the images has 3 or 1\n",
    "features d are how many features you want to create\n",
    "\n",
    "stride 2 causes the images to downsample"
   ]
  },
  {
   "cell_type": "code",
   "execution_count": 2,
   "id": "ba972f0c",
   "metadata": {},
   "outputs": [],
   "source": [
    "class Discriminator(nn.Module):\n",
    "    def __init__(self,channels,features_d):\n",
    "        super(Discriminator,self).__init__()\n",
    "        self.disc=nn.Sequential(#3,64,64 the image\n",
    "            nn.Conv2d(channels,features_d,kernel_size=4,stride=2,padding=1),#64,32,32, the 64 is the number of features map\n",
    "            nn.LeakyReLU(0.2),#the image size gets halved bcoz of stride 2 and padding 1\n",
    "            self._block(features_d,features_d*2,4,2,1),#128,16,16\n",
    "            self._block(features_d*2,features_d*4,4,2,1),#256,8,8\n",
    "            self._block(features_d*4,features_d*8,4,2,1),#512,4,4\n",
    "            nn.Conv2d(features_d*8,1,4,2,0),#1,1,1\n",
    "            nn.Sigmoid()\n",
    "        )\n",
    "\n",
    "        #FEATURES d specifies how many kernels there are, \n",
    "\n",
    "    def _block(self,in_channels,out_channels,kernel_size,stride,padding):\n",
    "        return nn.Sequential(\n",
    "            nn.Conv2d(in_channels,out_channels,kernel_size,stride,padding,bias=False),#bias false for batch norm\n",
    "            nn.BatchNorm2d(out_channels),\n",
    "            nn.LeakyReLU(0.2)\n",
    "        )\n",
    "    def forward(self,x):\n",
    "        return self.disc(x)"
   ]
  },
  {
   "cell_type": "code",
   "execution_count": 3,
   "id": "0c492beb",
   "metadata": {},
   "outputs": [],
   "source": [
    "class Generator(nn.Module):\n",
    "    def __init__(self,z_dim,channels_img,features_g):\n",
    "        super(Generator,self).__init__()\n",
    "        self.gen=nn.Sequential(#z_dim is like 100,1,1\n",
    "            self._block(z_dim,features_g*8,4,1,0),#img size get doubled, the zdim number gets converted to features*8->100 to 512\n",
    "            self._block(features_g*8,features_g*4,4,2,1),#512->256\n",
    "            self._block(features_g*4,features_g*2,4,2,1),\n",
    "            self._block(features_g*2,features_g*1,4,2,1),\n",
    "            nn.ConvTranspose2d(features_g*1,channels_img,4,2,1),\n",
    "            nn.Tanh()\n",
    "        )\n",
    "\n",
    "    def _block(self,in_channels,out_channels,kernel_size,stride,padding):\n",
    "        return nn.Sequential(\n",
    "            nn.ConvTranspose2d(in_channels,out_channels,kernel_size,stride,padding,bias=False),\n",
    "            nn.BatchNorm2d(out_channels),\n",
    "            nn.ReLU()\n",
    "        )\n",
    "    def forward(self,x):\n",
    "        return self.gen(x)"
   ]
  },
  {
   "cell_type": "code",
   "execution_count": 4,
   "id": "972dd379",
   "metadata": {},
   "outputs": [],
   "source": [
    "def initialize_weights(model):\n",
    "    for m in model.modules():\n",
    "        if isinstance(m,(nn.Conv2d,nn.ConvTranspose2d,nn.BatchNorm2d)):\n",
    "            nn.init.normal_(m.weight.data,0.0,0.02)"
   ]
  },
  {
   "cell_type": "code",
   "execution_count": 5,
   "id": "830227d7",
   "metadata": {},
   "outputs": [],
   "source": [
    "def test():\n",
    "    N,in_channels,H,W=8,3,64,64\n",
    "    z_dim=100\n",
    "    x=torch.randn((N,in_channels,H,W))\n",
    "    disc=Discriminator(in_channels,8)\n",
    "    initialize_weights(disc)\n",
    "    assert disc(x).shape==(N,1,1,1 )\n",
    "    gen=Generator(z_dim,in_channels,8)\n",
    "    initialize_weights(gen)\n",
    "    z=torch.randn((N,z_dim,1,1))\n",
    "    assert gen(z).shape==(N,in_channels,H,W)\n",
    "    print(\"Success\")"
   ]
  },
  {
   "cell_type": "code",
   "execution_count": 6,
   "id": "d64af29e",
   "metadata": {},
   "outputs": [
    {
     "name": "stdout",
     "output_type": "stream",
     "text": [
      "Success\n"
     ]
    }
   ],
   "source": [
    "test()"
   ]
  },
  {
   "cell_type": "code",
   "execution_count": 7,
   "id": "4e6589f8",
   "metadata": {},
   "outputs": [
    {
     "data": {
      "text/plain": [
       "'cuda'"
      ]
     },
     "execution_count": 7,
     "metadata": {},
     "output_type": "execute_result"
    }
   ],
   "source": [
    "device=\"cuda\" if torch.cuda.is_available() else \"cpu\"\n",
    "device"
   ]
  },
  {
   "cell_type": "code",
   "execution_count": 8,
   "id": "f96b78b1",
   "metadata": {},
   "outputs": [
    {
     "data": {
      "text/plain": [
       "0.0002"
      ]
     },
     "execution_count": 8,
     "metadata": {},
     "output_type": "execute_result"
    }
   ],
   "source": [
    "lr=2e-4\n",
    "lr"
   ]
  },
  {
   "cell_type": "code",
   "execution_count": 9,
   "id": "f37f2623",
   "metadata": {},
   "outputs": [],
   "source": [
    "batch_size=128\n",
    "img_size=64\n",
    "img_channels=1\n",
    "z_dim=100\n",
    "features_d=64\n",
    "features_g=64"
   ]
  },
  {
   "cell_type": "code",
   "execution_count": 10,
   "id": "7686ec24",
   "metadata": {},
   "outputs": [],
   "source": [
    "transform=transforms.Compose([\n",
    "    transforms.Resize((img_size,img_size)),\n",
    "    transforms.ToTensor(),\n",
    "    transforms.Normalize([0.5 for _ in range(img_channels)],[0.5 for _ in range(img_channels)])\n",
    "])"
   ]
  },
  {
   "cell_type": "code",
   "execution_count": 11,
   "id": "9b5157d3",
   "metadata": {},
   "outputs": [],
   "source": [
    "dataset=datasets.FashionMNIST(root='data/',transform=transform,download=True,train=True)"
   ]
  },
  {
   "cell_type": "code",
   "execution_count": 12,
   "id": "a013a240",
   "metadata": {},
   "outputs": [],
   "source": [
    "loader=DataLoader(dataset,batch_size,True)"
   ]
  },
  {
   "cell_type": "code",
   "execution_count": 13,
   "id": "f1f0a835",
   "metadata": {},
   "outputs": [],
   "source": [
    "gen=Generator(z_dim=z_dim,channels_img=img_channels,features_g=features_g).to(device)\n",
    "disc=Discriminator(channels=img_channels,features_d=features_d).to(device)"
   ]
  },
  {
   "cell_type": "code",
   "execution_count": 14,
   "id": "8ef8a9e5",
   "metadata": {},
   "outputs": [],
   "source": [
    "initialize_weights(gen)\n",
    "initialize_weights(disc)"
   ]
  },
  {
   "cell_type": "code",
   "execution_count": 15,
   "id": "605317eb",
   "metadata": {},
   "outputs": [],
   "source": [
    "opt_gen=optim.Adam(gen.parameters(),lr=lr,betas=(0.5,0.999))\n",
    "opt_disc=optim.Adam(disc.parameters(),lr=lr,betas=(0.5,0.999))"
   ]
  },
  {
   "cell_type": "code",
   "execution_count": 16,
   "id": "032093d5",
   "metadata": {},
   "outputs": [],
   "source": [
    "criterion=nn.BCELoss()"
   ]
  },
  {
   "cell_type": "code",
   "execution_count": 17,
   "id": "5328406e",
   "metadata": {},
   "outputs": [],
   "source": [
    "torch.manual_seed(42)\n",
    "fixed_noise=torch.randn(32,z_dim,1,1).to(device)#1 number in each dimension"
   ]
  },
  {
   "cell_type": "code",
   "execution_count": 18,
   "id": "1cc32e0c",
   "metadata": {},
   "outputs": [
    {
     "data": {
      "text/plain": [
       "tensor([[[[ 1.9269]],\n",
       "\n",
       "         [[ 1.4873]],\n",
       "\n",
       "         [[ 0.9007]],\n",
       "\n",
       "         ...,\n",
       "\n",
       "         [[ 0.4880]],\n",
       "\n",
       "         [[ 0.7846]],\n",
       "\n",
       "         [[ 0.0286]]],\n",
       "\n",
       "\n",
       "        [[[ 0.6408]],\n",
       "\n",
       "         [[ 0.5832]],\n",
       "\n",
       "         [[ 1.0669]],\n",
       "\n",
       "         ...,\n",
       "\n",
       "         [[ 0.3581]],\n",
       "\n",
       "         [[ 0.4788]],\n",
       "\n",
       "         [[ 1.3537]]],\n",
       "\n",
       "\n",
       "        [[[ 0.5261]],\n",
       "\n",
       "         [[ 2.1120]],\n",
       "\n",
       "         [[-0.5208]],\n",
       "\n",
       "         ...,\n",
       "\n",
       "         [[ 0.2539]],\n",
       "\n",
       "         [[ 0.9364]],\n",
       "\n",
       "         [[ 0.7122]]],\n",
       "\n",
       "\n",
       "        ...,\n",
       "\n",
       "\n",
       "        [[[ 0.1463]],\n",
       "\n",
       "         [[ 1.1357]],\n",
       "\n",
       "         [[-0.2689]],\n",
       "\n",
       "         ...,\n",
       "\n",
       "         [[-0.8678]],\n",
       "\n",
       "         [[-0.1043]],\n",
       "\n",
       "         [[ 0.9756]]],\n",
       "\n",
       "\n",
       "        [[[-0.8829]],\n",
       "\n",
       "         [[-0.7063]],\n",
       "\n",
       "         [[-1.2800]],\n",
       "\n",
       "         ...,\n",
       "\n",
       "         [[-1.4737]],\n",
       "\n",
       "         [[ 0.9128]],\n",
       "\n",
       "         [[-0.8139]]],\n",
       "\n",
       "\n",
       "        [[[-0.3281]],\n",
       "\n",
       "         [[-1.6034]],\n",
       "\n",
       "         [[ 0.1566]],\n",
       "\n",
       "         ...,\n",
       "\n",
       "         [[ 0.8407]],\n",
       "\n",
       "         [[-0.1939]],\n",
       "\n",
       "         [[-0.1404]]]], device='cuda:0')"
      ]
     },
     "execution_count": 18,
     "metadata": {},
     "output_type": "execute_result"
    }
   ],
   "source": [
    "fixed_noise"
   ]
  },
  {
   "cell_type": "code",
   "execution_count": 19,
   "id": "4d61e26c",
   "metadata": {},
   "outputs": [],
   "source": [
    "writer_real=SummaryWriter(f\"runs/DCGAN/real\")\n",
    "writer_fake=SummaryWriter(f\"runs/DCGAN/fake\")\n",
    "step=0"
   ]
  },
  {
   "cell_type": "code",
   "execution_count": 21,
   "id": "7e43e1ca",
   "metadata": {},
   "outputs": [
    {
     "name": "stdout",
     "output_type": "stream",
     "text": [
      "Epoch:0\n",
      "Loss Generator:2.7144083976745605\n",
      "Loss Discriminator0.15206554532051086\n",
      "Epoch:1\n",
      "Loss Generator:5.386463642120361\n",
      "Loss Discriminator0.058543860912323\n",
      "Epoch:2\n",
      "Loss Generator:3.821481943130493\n",
      "Loss Discriminator0.025911428034305573\n",
      "Epoch:3\n",
      "Loss Generator:4.866625785827637\n",
      "Loss Discriminator0.02715264819562435\n",
      "Epoch:4\n",
      "Loss Generator:2.2753100395202637\n",
      "Loss Discriminator0.17347268760204315\n",
      "Epoch:5\n",
      "Loss Generator:3.885794162750244\n",
      "Loss Discriminator0.020542679354548454\n",
      "Epoch:6\n",
      "Loss Generator:6.381095886230469\n",
      "Loss Discriminator0.0034781978465616703\n",
      "Epoch:7\n",
      "Loss Generator:7.132964134216309\n",
      "Loss Discriminator0.0019698443356901407\n",
      "Epoch:8\n",
      "Loss Generator:7.538364410400391\n",
      "Loss Discriminator0.0010883444920182228\n",
      "Epoch:9\n",
      "Loss Generator:6.461429595947266\n",
      "Loss Discriminator0.0034901979379355907\n"
     ]
    },
    {
     "ename": "KeyboardInterrupt",
     "evalue": "",
     "output_type": "error",
     "traceback": [
      "\u001b[31m---------------------------------------------------------------------------\u001b[39m",
      "\u001b[31mKeyboardInterrupt\u001b[39m                         Traceback (most recent call last)",
      "\u001b[36mCell\u001b[39m\u001b[36m \u001b[39m\u001b[32mIn[21]\u001b[39m\u001b[32m, line 5\u001b[39m\n\u001b[32m      3\u001b[39m \u001b[38;5;28;01mfor\u001b[39;00m epoch \u001b[38;5;129;01min\u001b[39;00m \u001b[38;5;28mrange\u001b[39m(\u001b[32m50\u001b[39m):\n\u001b[32m      4\u001b[39m     \u001b[38;5;28;01mfor\u001b[39;00m batch_idx,(real,_) \u001b[38;5;129;01min\u001b[39;00m \u001b[38;5;28menumerate\u001b[39m(loader):\n\u001b[32m----> \u001b[39m\u001b[32m5\u001b[39m         real=real.to(device)\n\u001b[32m      6\u001b[39m         noise=torch.randn((batch_size,z_dim,\u001b[32m1\u001b[39m,\u001b[32m1\u001b[39m)).to(device)\n\u001b[32m      7\u001b[39m         fake=gen(noise)\n",
      "\u001b[31mKeyboardInterrupt\u001b[39m: "
     ]
    }
   ],
   "source": [
    "gen.train()\n",
    "disc.train()\n",
    "for epoch in range(50):\n",
    "    for batch_idx,(real,_) in enumerate(loader):\n",
    "        real=real.to(device)\n",
    "        noise=torch.randn((batch_size,z_dim,1,1)).to(device)\n",
    "        fake=gen(noise)\n",
    "\n",
    "        #train disc log(d(x)) + log(1-d(g(z)))\n",
    "        disc_real=disc(real).reshape(-1)#from 32 dimnesions of 1 to 1d 32 values. it produces batch size32 1s\n",
    "        loss_disc_real=criterion(disc_real,torch.ones_like(disc_real))\n",
    "        disc_fake=disc(fake).reshape(-1)\n",
    "        loss_disc_fake=criterion(disc_fake,torch.zeros_like(disc_fake))\n",
    "        loss_disc=(loss_disc_fake+loss_disc_real)/2\n",
    "        disc.zero_grad()\n",
    "        loss_disc.backward(retain_graph=True)\n",
    "        opt_disc.step()\n",
    "\n",
    "        #maximize log(d(g(z)))\n",
    "        output=disc(fake).reshape(-1)\n",
    "        loss_gen=criterion(output,torch.ones_like(output))\n",
    "        gen.zero_grad()\n",
    "        loss_gen.backward()\n",
    "        opt_gen.step()\n",
    "\n",
    "        if batch_idx==0:\n",
    "            print(f\"Epoch:{epoch}\\nLoss Generator:{loss_gen}\\nLoss Discriminator{loss_disc}\")\n",
    "\n",
    "            with torch.no_grad():\n",
    "                fake=gen(fixed_noise)\n",
    "                img_grid_real=torchvision.utils.make_grid(real[:32],normalize=True)\n",
    "                img_grid_fake=torchvision.utils.make_grid(fake[:32],normalize=True)\n",
    "                writer_fake.add_image(\"Fake\",img_grid_fake,global_step=step)\n",
    "                writer_real.add_image(\"Real\",img_grid_real,global_step=step)\n",
    "            step+=1"
   ]
  }
 ],
 "metadata": {
  "kernelspec": {
   "display_name": "jupytorch",
   "language": "python",
   "name": "jupytorch"
  },
  "language_info": {
   "codemirror_mode": {
    "name": "ipython",
    "version": 3
   },
   "file_extension": ".py",
   "mimetype": "text/x-python",
   "name": "python",
   "nbconvert_exporter": "python",
   "pygments_lexer": "ipython3",
   "version": "3.11.13"
  }
 },
 "nbformat": 4,
 "nbformat_minor": 5
}
