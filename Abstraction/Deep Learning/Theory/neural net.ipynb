{
 "cells": [
  {
   "cell_type": "code",
   "execution_count": 6,
   "id": "5f59e71d",
   "metadata": {},
   "outputs": [],
   "source": [
    "import numpy as np\n",
    "import random\n",
    "import tensorflow"
   ]
  },
  {
   "cell_type": "code",
   "execution_count": 2,
   "id": "69c1499a",
   "metadata": {},
   "outputs": [],
   "source": [
    "class Network(object): \n",
    "    def __init__(self, sizes): \n",
    "        self.num_layers = len(sizes) \n",
    "        self.sizes = sizes \n",
    "        self.biases = [np.random.randn(y, 1) for y in sizes[1:]] \n",
    "        self.weights = [np.random.randn(y, x) for x, y in zip(sizes[:-1], sizes[1:])]"
   ]
  },
  {
   "cell_type": "code",
   "execution_count": 3,
   "id": "2b017e06",
   "metadata": {},
   "outputs": [],
   "source": [
    "net=Network([2,3,4])"
   ]
  },
  {
   "cell_type": "code",
   "execution_count": 5,
   "id": "a821ce6b",
   "metadata": {},
   "outputs": [
    {
     "data": {
      "text/plain": [
       "(array([[ 1.04394592],\n",
       "        [-0.12173356],\n",
       "        [ 0.03161153]]),\n",
       " array([[-1.23324519,  1.98440712],\n",
       "        [-1.67773776, -0.91265633],\n",
       "        [-0.05706997, -0.55824717]]))"
      ]
     },
     "execution_count": 5,
     "metadata": {},
     "output_type": "execute_result"
    }
   ],
   "source": [
    "#weights and biases between the first layer and second layer\n",
    "net.biases[0],net.weights[0]"
   ]
  },
  {
   "cell_type": "code",
   "execution_count": 6,
   "id": "972c2420",
   "metadata": {},
   "outputs": [
    {
     "data": {
      "text/plain": [
       "(array([[ 0.01539314],\n",
       "        [-0.1911856 ],\n",
       "        [ 1.05093934],\n",
       "        [ 0.20771322]]),\n",
       " array([[ 0.46469115, -0.55479091,  0.89856444],\n",
       "        [-0.15739892,  0.42872988,  0.13807433],\n",
       "        [-0.26352866, -2.14988164, -0.53246011],\n",
       "        [ 0.67310892,  1.27448871, -0.68321394]]))"
      ]
     },
     "execution_count": 6,
     "metadata": {},
     "output_type": "execute_result"
    }
   ],
   "source": [
    "#weights and biases between the second and third layer\n",
    "net.biases[1],net.weights[1]"
   ]
  },
  {
   "cell_type": "code",
   "execution_count": 7,
   "id": "8c439163",
   "metadata": {},
   "outputs": [
    {
     "ename": "IndexError",
     "evalue": "list index out of range",
     "output_type": "error",
     "traceback": [
      "\u001b[31m---------------------------------------------------------------------------\u001b[39m",
      "\u001b[31mIndexError\u001b[39m                                Traceback (most recent call last)",
      "\u001b[36mCell\u001b[39m\u001b[36m \u001b[39m\u001b[32mIn[7]\u001b[39m\u001b[32m, line 1\u001b[39m\n\u001b[32m----> \u001b[39m\u001b[32m1\u001b[39m net.weights[\u001b[32m2\u001b[39m]\n",
      "\u001b[31mIndexError\u001b[39m: list index out of range"
     ]
    }
   ],
   "source": [
    "net.weights[2]"
   ]
  },
  {
   "cell_type": "code",
   "execution_count": null,
   "id": "d09047d6",
   "metadata": {},
   "outputs": [],
   "source": [
    "def sigmoid(z):\n",
    "    return 1/(1.0+np.exp(z))"
   ]
  },
  {
   "cell_type": "code",
   "execution_count": null,
   "id": "14b03450",
   "metadata": {},
   "outputs": [],
   "source": [
    "def feedforward(self,a):\n",
    "    for b,w in zip(self.biases,self.weights):\n",
    "        a=sigmoid(np.dot(a,w)+b)\n",
    "    return a"
   ]
  },
  {
   "cell_type": "code",
   "execution_count": 10,
   "id": "e1469f61",
   "metadata": {},
   "outputs": [],
   "source": [
    "def SGD(self,training_data,epochs,mini_batch_size,eta,test_data=None):\n",
    "    if test_data:\n",
    "        n_test=len(test_data)\n",
    "    n=len(training_data)\n",
    "    for j in range(epochs):\n",
    "        random.shuffle(training_data)\n",
    "        mini_batches=[\n",
    "            training_data[k:k+mini_batch_size]\n",
    "            for k in range(0,n,mini_batch_size)\n",
    "        ]\n",
    "        for mini_batch in mini_batches:\n",
    "            self.update_mini_batch(mini_batch,eta)\n",
    "        if test_data:\n",
    "            print(\"Epoch {0}:{1}/{2}\".format(j,self.evaluate(test_data),n_test))\n",
    "        else:\n",
    "            print(\"Epoch {0} is complete\".format(j))"
   ]
  },
  {
   "cell_type": "code",
   "execution_count": 4,
   "id": "90e21b45",
   "metadata": {},
   "outputs": [],
   "source": [
    "\n",
    "def sigmoid_prime(z):\n",
    "    \"\"\"Derivative of the sigmoid function.\"\"\"\n",
    "    return sigmoid(z)*(1-sigmoid(z))"
   ]
  },
  {
   "cell_type": "code",
   "execution_count": 6,
   "id": "cd74f840",
   "metadata": {},
   "outputs": [],
   "source": [
    "def backprop(self, x, y):\n",
    "        \"\"\"Return a tuple ``(nabla_b, nabla_w)`` representing the\n",
    "        gradient for the cost function C_x.  ``nabla_b`` and\n",
    "        ``nabla_w`` are layer-by-layer lists of numpy arrays, similar\n",
    "        to ``self.biases`` and ``self.weights``.\"\"\"\n",
    "        nabla_b = [np.zeros(b.shape) for b in self.biases]\n",
    "        nabla_w = [np.zeros(w.shape) for w in self.weights]\n",
    "        # feedforward\n",
    "        activation = x\n",
    "        activations = [x] # list to store all the activations, layer by layer\n",
    "        zs = [] # list to store all the z vectors, layer by layer\n",
    "        for b, w in zip(self.biases, self.weights):\n",
    "            z = np.dot(w, activation)+b\n",
    "            zs.append(z)\n",
    "            activation = sigmoid(z)\n",
    "            activations.append(activation)\n",
    "        # backward pass\n",
    "        delta = self.cost_derivative(activations[-1], y) * \\\n",
    "            sigmoid_prime(zs[-1])\n",
    "        nabla_b[-1] = delta\n",
    "        nabla_w[-1] = np.dot(delta, activations[-2].transpose())\n",
    "        # Note that the variable l in the loop below is used a little\n",
    "        # differently to the notation in Chapter 2 of the book.  Here,\n",
    "        # l = 1 means the last layer of neurons, l = 2 is the\n",
    "        # second-last layer, and so on.  It's a renumbering of the\n",
    "        # scheme in the book, used here to take advantage of the fact\n",
    "        # that Python can use negative indices in lists.\n",
    "        for l in range(2, self.num_layers):\n",
    "            z = zs[-l]\n",
    "            sp = sigmoid_prime(z)\n",
    "            delta = np.dot(self.weights[-l+1].transpose(), delta) * sp\n",
    "            nabla_b[-l] = delta\n",
    "            nabla_w[-l] = np.dot(delta, activations[-l-1].transpose())\n",
    "        return (nabla_b, nabla_w)\n"
   ]
  },
  {
   "cell_type": "code",
   "execution_count": 7,
   "id": "c71a0e61",
   "metadata": {},
   "outputs": [],
   "source": [
    "def update_mini_batch(self,mini_batch,eta):\n",
    "    nabla_b=[np.zeros(b.shape) for b in self.biases]\n",
    "    nabla_w=[np.zeros(w.shape) for w in self.weights]#place the store the gradient ie the number you input where you multiply \n",
    "    # with n and subtract\n",
    "    for x,y in mini_batch:\n",
    "        delta_nabla_b, delta_nable_w=self.backprop(x,y)\n",
    "        nabla_b=[nb+dnb for nb,dnb in zip(nabla_b,delta_nabla_b)]\n",
    "        nabla_w=[nw+dnw for nw,dnw in zip(nabla_w,delta_nabla_w)]\n",
    "    self.weights=[w-(eta/len(mini_batch))*nw \n",
    "                  for w,nw in zip(self.weights,nabla_w)]\n",
    "    self.biases=[b-(eta/len(mini_batch))*nb \n",
    "                 for b,nb in zip(self.biases,nabla_b)]\n",
    "    "
   ]
  },
  {
   "cell_type": "markdown",
   "id": "486b971b",
   "metadata": {},
   "source": [
    "nabla_b = [0.0] (initial zero)\n",
    "\n",
    "First example → delta_nabla_b = [0.1]\n",
    "\n",
    "Second example → delta_nabla_b = [-0.05]\n",
    "\n",
    "gradient vector"
   ]
  },
  {
   "cell_type": "code",
   "execution_count": 12,
   "id": "6233c768",
   "metadata": {},
   "outputs": [],
   "source": [
    "class Neytwork(object):\n",
    "\n",
    "    def __init__(self, sizes):\n",
    "        \"\"\"The list ``sizes`` contains the number of neurons in the\n",
    "        respective layers of the network.  For example, if the list\n",
    "        was [2, 3, 1] then it would be a three-layer network, with the\n",
    "        first layer containing 2 neurons, the second layer 3 neurons,\n",
    "        and the third layer 1 neuron.  The biases and weights for the\n",
    "        network are initialized randomly, using a Gaussian\n",
    "        distribution with mean 0, and variance 1.  Note that the first\n",
    "        layer is assumed to be an input layer, and by convention we\n",
    "        won't set any biases for those neurons, since biases are only\n",
    "        ever used in computing the outputs from later layers.\"\"\"\n",
    "        self.num_layers = len(sizes)\n",
    "        self.sizes = sizes\n",
    "        self.biases = [np.random.randn(y, 1) for y in sizes[1:]]\n",
    "        self.weights = [np.random.randn(y, x)\n",
    "                        for x, y in zip(sizes[:-1], sizes[1:])]\n",
    "\n",
    "    def feedforward(self, a):\n",
    "        \"\"\"Return the output of the network if ``a`` is input.\"\"\"\n",
    "        for b, w in zip(self.biases, self.weights):\n",
    "            a = sigmoid(np.dot(w, a)+b)\n",
    "        return a\n",
    "\n",
    "    def SGD(self, training_data, epochs, mini_batch_size, eta,\n",
    "            test_data=None):\n",
    "        \"\"\"Train the neural network using mini-batch stochastic\n",
    "        gradient descent.  The ``training_data`` is a list of tuples\n",
    "        ``(x, y)`` representing the training inputs and the desired\n",
    "        outputs.  The other non-optional parameters are\n",
    "        self-explanatory.  If ``test_data`` is provided then the\n",
    "        network will be evaluated against the test data after each\n",
    "        epoch, and partial progress printed out.  This is useful for\n",
    "        tracking progress, but slows things down substantially.\"\"\"\n",
    "        if test_data: n_test = len(test_data)\n",
    "        n = len(training_data)\n",
    "        for j in range(epochs):\n",
    "            random.shuffle(training_data)\n",
    "            mini_batches = [\n",
    "                training_data[k:k+mini_batch_size]\n",
    "                for k in range(0, n, mini_batch_size)]\n",
    "            for mini_batch in mini_batches:\n",
    "                self.update_mini_batch(mini_batch, eta)\n",
    "            if test_data:\n",
    "                print(\"Epoch {0}: {1} / {2}\".format(\n",
    "                    j, self.evaluate(test_data), n_test))\n",
    "            else:\n",
    "                print(\"Epoch {0} complete\".format(j))\n",
    "\n",
    "    def update_mini_batch(self, mini_batch, eta):\n",
    "        \"\"\"Update the network's weights and biases by applying\n",
    "        gradient descent using backpropagation to a single mini batch.\n",
    "        The ``mini_batch`` is a list of tuples ``(x, y)``, and ``eta``\n",
    "        is the learning rate.\"\"\"\n",
    "        nabla_b = [np.zeros(b.shape) for b in self.biases]\n",
    "        nabla_w = [np.zeros(w.shape) for w in self.weights]\n",
    "        for x, y in mini_batch:\n",
    "            delta_nabla_b, delta_nabla_w = self.backprop(x, y)\n",
    "            nabla_b = [nb+dnb for nb, dnb in zip(nabla_b, delta_nabla_b)]\n",
    "            nabla_w = [nw+dnw for nw, dnw in zip(nabla_w, delta_nabla_w)]\n",
    "        self.weights = [w-(eta/len(mini_batch))*nw\n",
    "                        for w, nw in zip(self.weights, nabla_w)]\n",
    "        self.biases = [b-(eta/len(mini_batch))*nb\n",
    "                       for b, nb in zip(self.biases, nabla_b)]\n",
    "\n",
    "    def backprop(self, x, y):\n",
    "        \"\"\"Return a tuple ``(nabla_b, nabla_w)`` representing the\n",
    "        gradient for the cost function C_x.  ``nabla_b`` and\n",
    "        ``nabla_w`` are layer-by-layer lists of numpy arrays, similar\n",
    "        to ``self.biases`` and ``self.weights``.\"\"\"\n",
    "        nabla_b = [np.zeros(b.shape) for b in self.biases]\n",
    "        nabla_w = [np.zeros(w.shape) for w in self.weights]\n",
    "        # feedforward\n",
    "        activation = x\n",
    "        activations = [x] # list to store all the activations, layer by layer\n",
    "        zs = [] # list to store all the z vectors, layer by layer\n",
    "        for b, w in zip(self.biases, self.weights):\n",
    "            z = np.dot(w, activation)+b\n",
    "            zs.append(z)\n",
    "            activation = sigmoid(z)\n",
    "            activations.append(activation)\n",
    "        # backward pass\n",
    "        delta = self.cost_derivative(activations[-1], y) * \\\n",
    "            sigmoid_prime(zs[-1])\n",
    "        nabla_b[-1] = delta\n",
    "        nabla_w[-1] = np.dot(delta, activations[-2].transpose())\n",
    "        # Note that the variable l in the loop below is used a little\n",
    "        # differently to the notation in Chapter 2 of the book.  Here,\n",
    "        # l = 1 means the last layer of neurons, l = 2 is the\n",
    "        # second-last layer, and so on.  It's a renumbering of the\n",
    "        # scheme in the book, used here to take advantage of the fact\n",
    "        # that Python can use negative indices in lists.\n",
    "        for l in range(2, self.num_layers):\n",
    "            z = zs[-l]\n",
    "            sp = sigmoid_prime(z)\n",
    "            delta = np.dot(self.weights[-l+1].transpose(), delta) * sp\n",
    "            nabla_b[-l] = delta\n",
    "            nabla_w[-l] = np.dot(delta, activations[-l-1].transpose())\n",
    "        return (nabla_b, nabla_w)\n",
    "\n",
    "    def evaluate(self, test_data):\n",
    "        \"\"\"Return the number of test inputs for which the neural\n",
    "        network outputs the correct result. Note that the neural\n",
    "        network's output is assumed to be the index of whichever\n",
    "        neuron in the final layer has the highest activation.\"\"\"\n",
    "        test_results = [(np.argmax(self.feedforward(x)), y)\n",
    "                        for (x, y) in test_data]\n",
    "        return sum(int(x == y) for (x, y) in test_results)\n",
    "\n",
    "    def cost_derivative(self, output_activations, y):\n",
    "        \"\"\"Return the vector of partial derivatives \\partial C_x /\n",
    "        \\partial a for the output activations.\"\"\"\n",
    "        return (output_activations-y)"
   ]
  },
  {
   "cell_type": "code",
   "execution_count": 8,
   "id": "20024a7a",
   "metadata": {},
   "outputs": [],
   "source": [
    "#### Miscellaneous functions\n",
    "def sigmoid(z):\n",
    "    \"\"\"The sigmoid function.\"\"\"\n",
    "    return 1.0/(1.0+np.exp(-z))\n",
    "\n",
    "def sigmoid_prime(z):\n",
    "    \"\"\"Derivative of the sigmoid function.\"\"\"\n",
    "    return sigmoid(z)*(1-sigmoid(z))"
   ]
  },
  {
   "cell_type": "code",
   "execution_count": 7,
   "id": "3ef44993",
   "metadata": {},
   "outputs": [],
   "source": [
    "from tensorflow.keras.datasets import mnist\n",
    "import numpy as np\n",
    "\n",
    "def vectorized_result(j):\n",
    "    e = np.zeros((10,1))\n",
    "    e[j] = 1.0\n",
    "    return e\n",
    "\n",
    "(train_X, train_y), (test_X, test_y) = mnist.load_data()\n",
    "\n",
    "# Flatten images and normalize\n",
    "train_X = [np.reshape(x, (784,1))/255.0 for x in train_X]\n",
    "test_X = [np.reshape(x, (784,1))/255.0 for x in test_X]\n",
    "\n",
    "# Training data: vectorized output\n",
    "training_data = list(zip(train_X, [vectorized_result(y) for y in train_y]))\n",
    "\n",
    "# Split validation data from training\n",
    "validation_data = list(zip(train_X[:10000], train_y[:10000]))\n",
    "training_data = training_data[10000:]  # rest for training\n",
    "\n",
    "# Test data\n",
    "test_data = list(zip(test_X, test_y))\n"
   ]
  },
  {
   "cell_type": "code",
   "execution_count": 13,
   "id": "3b1053e1",
   "metadata": {},
   "outputs": [],
   "source": [
    "net=Neytwork([784,30,10])"
   ]
  },
  {
   "cell_type": "code",
   "execution_count": 14,
   "id": "452edf07",
   "metadata": {},
   "outputs": [
    {
     "name": "stdout",
     "output_type": "stream",
     "text": [
      "Epoch 0: 9012 / 10000\n",
      "Epoch 1: 9206 / 10000\n",
      "Epoch 2: 9275 / 10000\n",
      "Epoch 3: 9287 / 10000\n",
      "Epoch 4: 9335 / 10000\n",
      "Epoch 5: 9373 / 10000\n",
      "Epoch 6: 9396 / 10000\n",
      "Epoch 7: 9404 / 10000\n",
      "Epoch 8: 9396 / 10000\n",
      "Epoch 9: 9417 / 10000\n",
      "Epoch 10: 9432 / 10000\n",
      "Epoch 11: 9452 / 10000\n",
      "Epoch 12: 9475 / 10000\n",
      "Epoch 13: 9469 / 10000\n",
      "Epoch 14: 9453 / 10000\n",
      "Epoch 15: 9475 / 10000\n",
      "Epoch 16: 9457 / 10000\n",
      "Epoch 17: 9465 / 10000\n",
      "Epoch 18: 9485 / 10000\n",
      "Epoch 19: 9466 / 10000\n",
      "Epoch 20: 9503 / 10000\n",
      "Epoch 21: 9487 / 10000\n",
      "Epoch 22: 9482 / 10000\n",
      "Epoch 23: 9508 / 10000\n",
      "Epoch 24: 9503 / 10000\n",
      "Epoch 25: 9484 / 10000\n",
      "Epoch 26: 9488 / 10000\n",
      "Epoch 27: 9484 / 10000\n",
      "Epoch 28: 9497 / 10000\n",
      "Epoch 29: 9508 / 10000\n"
     ]
    }
   ],
   "source": [
    "net.SGD(training_data, 30, 10, 3.0, test_data=test_data)"
   ]
  },
  {
   "cell_type": "code",
   "execution_count": 15,
   "id": "4bae8331",
   "metadata": {},
   "outputs": [
    {
     "name": "stdout",
     "output_type": "stream",
     "text": [
      "Epoch 0: 5593 / 10000\n",
      "Epoch 1: 6431 / 10000\n",
      "Epoch 2: 6898 / 10000\n",
      "Epoch 3: 7693 / 10000\n",
      "Epoch 4: 7703 / 10000\n",
      "Epoch 5: 7749 / 10000\n",
      "Epoch 6: 7737 / 10000\n",
      "Epoch 7: 7733 / 10000\n",
      "Epoch 8: 7754 / 10000\n",
      "Epoch 9: 7764 / 10000\n",
      "Epoch 10: 7792 / 10000\n",
      "Epoch 11: 7818 / 10000\n",
      "Epoch 12: 8601 / 10000\n",
      "Epoch 13: 8654 / 10000\n",
      "Epoch 14: 8646 / 10000\n",
      "Epoch 15: 8655 / 10000\n",
      "Epoch 16: 8680 / 10000\n",
      "Epoch 17: 8699 / 10000\n",
      "Epoch 18: 8699 / 10000\n",
      "Epoch 19: 8699 / 10000\n",
      "Epoch 20: 8698 / 10000\n",
      "Epoch 21: 8697 / 10000\n",
      "Epoch 22: 8697 / 10000\n",
      "Epoch 23: 8699 / 10000\n",
      "Epoch 24: 8690 / 10000\n",
      "Epoch 25: 8700 / 10000\n",
      "Epoch 26: 8709 / 10000\n",
      "Epoch 27: 8722 / 10000\n",
      "Epoch 28: 8719 / 10000\n",
      "Epoch 29: 8723 / 10000\n"
     ]
    }
   ],
   "source": [
    "net=Neytwork([784,100,10])\n",
    "net.SGD(training_data, 30, 10, 3.0, test_data=test_data)"
   ]
  },
  {
   "cell_type": "code",
   "execution_count": 16,
   "id": "c9a2d5e9",
   "metadata": {},
   "outputs": [
    {
     "name": "stdout",
     "output_type": "stream",
     "text": [
      "Epoch 0: 7312 / 10000\n",
      "Epoch 1: 7382 / 10000\n",
      "Epoch 2: 7446 / 10000\n",
      "Epoch 3: 7469 / 10000\n",
      "Epoch 4: 7464 / 10000\n",
      "Epoch 5: 7499 / 10000\n",
      "Epoch 6: 7507 / 10000\n",
      "Epoch 7: 7515 / 10000\n",
      "Epoch 8: 7494 / 10000\n",
      "Epoch 9: 7493 / 10000\n",
      "Epoch 10: 7507 / 10000\n",
      "Epoch 11: 7504 / 10000\n",
      "Epoch 12: 7518 / 10000\n",
      "Epoch 13: 7519 / 10000\n",
      "Epoch 14: 7497 / 10000\n",
      "Epoch 15: 7515 / 10000\n",
      "Epoch 16: 7528 / 10000\n",
      "Epoch 17: 7508 / 10000\n",
      "Epoch 18: 7523 / 10000\n",
      "Epoch 19: 7519 / 10000\n",
      "Epoch 20: 7535 / 10000\n",
      "Epoch 21: 7505 / 10000\n",
      "Epoch 22: 7513 / 10000\n",
      "Epoch 23: 7533 / 10000\n",
      "Epoch 24: 7547 / 10000\n",
      "Epoch 25: 7523 / 10000\n",
      "Epoch 26: 7538 / 10000\n",
      "Epoch 27: 7529 / 10000\n",
      "Epoch 28: 7522 / 10000\n",
      "Epoch 29: 7538 / 10000\n"
     ]
    }
   ],
   "source": [
    "net=Neytwork([784,10])\n",
    "net.SGD(training_data, 30, 10, 3.0, test_data=test_data)"
   ]
  },
  {
   "cell_type": "code",
   "execution_count": null,
   "id": "253a246b",
   "metadata": {},
   "outputs": [],
   "source": []
  }
 ],
 "metadata": {
  "kernelspec": {
   "display_name": "jupytorch",
   "language": "python",
   "name": "jupytorch"
  },
  "language_info": {
   "codemirror_mode": {
    "name": "ipython",
    "version": 3
   },
   "file_extension": ".py",
   "mimetype": "text/x-python",
   "name": "python",
   "nbconvert_exporter": "python",
   "pygments_lexer": "ipython3",
   "version": "3.11.13"
  }
 },
 "nbformat": 4,
 "nbformat_minor": 5
}
